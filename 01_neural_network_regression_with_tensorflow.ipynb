{
 "cells": [
  {
   "cell_type": "markdown",
   "metadata": {},
   "source": [
    "# Introduction to regression with Neural Networks in TensorFlow\n",
    "\n",
    "Predicting a numerical variable based on some other combination of variables, even chorter... predicting a number."
   ]
  },
  {
   "cell_type": "code",
   "execution_count": 2,
   "metadata": {},
   "outputs": [
    {
     "name": "stdout",
     "output_type": "stream",
     "text": [
      "2.13.0\n"
     ]
    }
   ],
   "source": [
    "# Import TensorFlow\n",
    "import tensorflow as tf\n",
    "print(tf.__version__)"
   ]
  },
  {
   "cell_type": "markdown",
   "metadata": {},
   "source": [
    "## Creating data to view and fit"
   ]
  },
  {
   "cell_type": "code",
   "execution_count": 3,
   "metadata": {},
   "outputs": [
    {
     "data": {
      "text/plain": [
       "<matplotlib.collections.PathCollection at 0x253f267ae30>"
      ]
     },
     "execution_count": 3,
     "metadata": {},
     "output_type": "execute_result"
    },
    {
     "data": {
      "image/png": "[encoded data removed]",
      "text/plain": [
       "<Figure size 640x480 with 1 Axes>"
      ]
     },
     "metadata": {},
     "output_type": "display_data"
    }
   ],
   "source": [
    "import numpy as np\n",
    "import matplotlib.pyplot as plt\n",
    "\n",
    "# Create features\n",
    "X = np.array([-7.0, -4.0, -1.0, 2.0, 5.0, 8.0, 11.0, 14.0])\n",
    "\n",
    "# Create labels\n",
    "y = np.array([3.0, 6.0, 9.0, 12.0, 15.0, 18.0, 21.0, 24.0])\n",
    "\n",
    "# Visualize it\n",
    "plt.scatter(X, y)"
   ]
  },
  {
   "cell_type": "code",
   "execution_count": 4,
   "metadata": {},
   "outputs": [
    {
     "data": {
      "text/plain": [
       "array([ True,  True,  True,  True,  True,  True,  True,  True])"
      ]
     },
     "execution_count": 4,
     "metadata": {},
     "output_type": "execute_result"
    }
   ],
   "source": [
    "y == X + 10"
   ]
  },
  {
   "cell_type": "markdown",
   "metadata": {},
   "source": [
    "## Input and Output shapes"
   ]
  },
  {
   "cell_type": "code",
   "execution_count": 5,
   "metadata": {},
   "outputs": [
    {
     "data": {
      "text/plain": [
       "(<tf.Tensor: shape=(3,), dtype=string, numpy=array([b'bedroom', b'bathroom', b'garage'], dtype=object)>,\n",
       " <tf.Tensor: shape=(1,), dtype=int32, numpy=array([939700])>)"
      ]
     },
     "execution_count": 5,
     "metadata": {},
     "output_type": "execute_result"
    }
   ],
   "source": [
    "# Create a demo tensor for our housing price prediction problem\n",
    "house_info = tf.constant(['bedroom', 'bathroom', 'garage'])\n",
    "house_price = tf.constant([939700])\n",
    "house_info, house_price"
   ]
  },
  {
   "cell_type": "code",
   "execution_count": 6,
   "metadata": {},
   "outputs": [
    {
     "data": {
      "text/plain": [
       "(-7.0, 3.0)"
      ]
     },
     "execution_count": 6,
     "metadata": {},
     "output_type": "execute_result"
    }
   ],
   "source": [
    "X[0], y[0]"
   ]
  },
  {
   "cell_type": "code",
   "execution_count": 7,
   "metadata": {},
   "outputs": [
    {
     "data": {
      "text/plain": [
       "((), ())"
      ]
     },
     "execution_count": 7,
     "metadata": {},
     "output_type": "execute_result"
    }
   ],
   "source": [
    "input_shape = X[0].shape\n",
    "output_shape = y[0].shape\n",
    "input_shape, output_shape"
   ]
  },
  {
   "cell_type": "code",
   "execution_count": 8,
   "metadata": {},
   "outputs": [
    {
     "data": {
      "text/plain": [
       "0"
      ]
     },
     "execution_count": 8,
     "metadata": {},
     "output_type": "execute_result"
    }
   ],
   "source": [
    "X[0].ndim"
   ]
  },
  {
   "cell_type": "code",
   "execution_count": 9,
   "metadata": {},
   "outputs": [
    {
     "data": {
      "text/plain": [
       "(-7.0, 3.0)"
      ]
     },
     "execution_count": 9,
     "metadata": {},
     "output_type": "execute_result"
    }
   ],
   "source": [
    "X[0], y[0]"
   ]
  },
  {
   "cell_type": "code",
   "execution_count": 10,
   "metadata": {},
   "outputs": [
    {
     "data": {
      "text/plain": [
       "(<tf.Tensor: shape=(8,), dtype=float32, numpy=array([-7., -4., -1.,  2.,  5.,  8., 11., 14.], dtype=float32)>,\n",
       " <tf.Tensor: shape=(8,), dtype=float32, numpy=array([ 3.,  6.,  9., 12., 15., 18., 21., 24.], dtype=float32)>)"
      ]
     },
     "execution_count": 10,
     "metadata": {},
     "output_type": "execute_result"
    }
   ],
   "source": [
    "# Turn our NumPy arays into tensors\n",
    "X = tf.constant(X, dtype=tf.float32)\n",
    "y = tf.constant(y, dtype=tf.float32)\n",
    "X, y"
   ]
  },
  {
   "cell_type": "code",
   "execution_count": 11,
   "metadata": {},
   "outputs": [
    {
     "data": {
      "text/plain": [
       "(TensorShape([]), TensorShape([]))"
      ]
     },
     "execution_count": 11,
     "metadata": {},
     "output_type": "execute_result"
    }
   ],
   "source": [
    "input_shape = X[0].shape\n",
    "output_shape = y[0].shape\n",
    "input_shape, output_shape"
   ]
  },
  {
   "cell_type": "code",
   "execution_count": 12,
   "metadata": {},
   "outputs": [
    {
     "data": {
      "text/plain": [
       "<matplotlib.collections.PathCollection at 0x253f48572b0>"
      ]
     },
     "execution_count": 12,
     "metadata": {},
     "output_type": "execute_result"
    },
    {
     "data": {
      "image/png": "[encoded data removed]",
      "text/plain": [
       "<Figure size 640x480 with 1 Axes>"
      ]
     },
     "metadata": {},
     "output_type": "display_data"
    }
   ],
   "source": [
    "plt.scatter(X, y)"
   ]
  },
  {
   "cell_type": "markdown",
   "metadata": {},
   "source": [
    "## Steps in modelling with TensorFlow\n",
    "\n",
    "1. **Creating a model** - define the input and output layers, as well as the hidden layers of a deep learning model.\n",
    "2. **Compiling a model** - define the loss function (in other words, the function which tells our model how wrong it is) and the optimizer (tells our model how to improve the patterns its learning) and evaluation metrics (what we can use to interpret the performance of our model).\n",
    "3. **Fitting a model** - letting the model try to find patterns between X & y (features and labels)."
   ]
  },
  {
   "cell_type": "code",
   "execution_count": 13,
   "metadata": {},
   "outputs": [
    {
     "name": "stdout",
     "output_type": "stream",
     "text": [
      "Epoch 1/5\n",
      "1/1 [==============================] - 1s 725ms/step - loss: 18.0766 - mae: 18.0766\n",
      "Epoch 2/5\n",
      "1/1 [==============================] - 0s 12ms/step - loss: 17.7954 - mae: 17.7954\n",
      "Epoch 3/5\n",
      "1/1 [==============================] - 0s 13ms/step - loss: 17.5141 - mae: 17.5141\n",
      "Epoch 4/5\n",
      "1/1 [==============================] - 0s 13ms/step - loss: 17.2329 - mae: 17.2329\n",
      "Epoch 5/5\n",
      "1/1 [==============================] - 0s 12ms/step - loss: 16.9516 - mae: 16.9516\n"
     ]
    },
    {
     "data": {
      "text/plain": [
       "<keras.src.callbacks.History at 0x253f27abdc0>"
      ]
     },
     "execution_count": 13,
     "metadata": {},
     "output_type": "execute_result"
    }
   ],
   "source": [
    "# Set random seed\n",
    "tf.random.set_seed(42)\n",
    "\n",
    "# 1. Create a model using the Sequential API\n",
    "model = tf.keras.Sequential([tf.keras.layers.Dense(1)\n",
    "                             ])\n",
    "# 2. Compile the model\n",
    "model.compile(loss=tf.keras.losses.mae,             # mae -> mean absolute error\n",
    "              optimizer=tf.keras.optimizers.SGD(),\n",
    "              metrics=['mae'])    # sgd -> stochastic gradient descent\n",
    "\n",
    "# 3. Fit the model\n",
    "model.fit(tf.expand_dims(X, axis=-1), y, epochs=5)\n",
    "\n"
   ]
  },
  {
   "cell_type": "code",
   "execution_count": 14,
   "metadata": {},
   "outputs": [
    {
     "data": {
      "text/plain": [
       "(<tf.Tensor: shape=(8,), dtype=float32, numpy=array([-7., -4., -1.,  2.,  5.,  8., 11., 14.], dtype=float32)>,\n",
       " <tf.Tensor: shape=(8,), dtype=float32, numpy=array([ 3.,  6.,  9., 12., 15., 18., 21., 24.], dtype=float32)>)"
      ]
     },
     "execution_count": 14,
     "metadata": {},
     "output_type": "execute_result"
    }
   ],
   "source": [
    "# Check out X and y\n",
    "X, y"
   ]
  },
  {
   "cell_type": "code",
   "execution_count": 15,
   "metadata": {},
   "outputs": [
    {
     "name": "stdout",
     "output_type": "stream",
     "text": [
      "1/1 [==============================] - 0s 211ms/step\n"
     ]
    },
    {
     "data": {
      "text/plain": [
       "array([[-12.748179]], dtype=float32)"
      ]
     },
     "execution_count": 15,
     "metadata": {},
     "output_type": "execute_result"
    }
   ],
   "source": [
    "# Try and make a prediction using our model\n",
    "y_pred = model.predict([17.])\n",
    "y_pred"
   ]
  },
  {
   "cell_type": "code",
   "execution_count": 16,
   "metadata": {},
   "outputs": [
    {
     "data": {
      "text/plain": [
       "array([[-1.7481794]], dtype=float32)"
      ]
     },
     "execution_count": 16,
     "metadata": {},
     "output_type": "execute_result"
    }
   ],
   "source": [
    "y_pred + 11"
   ]
  },
  {
   "cell_type": "markdown",
   "metadata": {},
   "source": [
    "## Improving the model\n",
    "\n",
    "We can improve the model, by altering the steps we took to create a model.\n",
    "\n",
    "1. **Creating a model** - here we might add more layers, increase the number of hidden units (all called neurons) within each of the hidden layers, change the activation function of each layer.\n",
    "2. **Compiling a model** - here we might change the optimization function perhaps the **learning rate** of the optimization function.\n",
    "3. **Fitting a model** - here we might fit a model for more **epochs** (leave it trainning for longer) or on more data (give the model more examples to learn from)"
   ]
  },
  {
   "cell_type": "code",
   "execution_count": 17,
   "metadata": {},
   "outputs": [
    {
     "name": "stdout",
     "output_type": "stream",
     "text": [
      "Epoch 1/500\n",
      "1/1 [==============================] - 1s 540ms/step - loss: 7.8379 - mae: 7.8379\n",
      "Epoch 2/500\n",
      "1/1 [==============================] - 0s 7ms/step - loss: 7.7054 - mae: 7.7054\n",
      "Epoch 3/500\n",
      "1/1 [==============================] - 0s 13ms/step - loss: 7.5729 - mae: 7.5729\n",
      "Epoch 4/500\n",
      "1/1 [==============================] - 0s 12ms/step - loss: 7.4775 - mae: 7.4775\n",
      "Epoch 5/500\n",
      "1/1 [==============================] - 0s 10ms/step - loss: 7.4719 - mae: 7.4719\n",
      "Epoch 6/500\n",
      "1/1 [==============================] - 0s 12ms/step - loss: 7.4662 - mae: 7.4662\n",
      "Epoch 7/500\n",
      "1/1 [==============================] - 0s 11ms/step - loss: 7.4606 - mae: 7.4606\n",
      "Epoch 8/500\n",
      "1/1 [==============================] - 0s 10ms/step - loss: 7.4550 - mae: 7.4550\n",
      "Epoch 9/500\n",
      "1/1 [==============================] - 0s 6ms/step - loss: 7.4494 - mae: 7.4494\n",
      "Epoch 10/500\n",
      "1/1 [==============================] - 0s 7ms/step - loss: 7.4437 - mae: 7.4437\n",
      "Epoch 11/500\n",
      "1/1 [==============================] - 0s 12ms/step - loss: 7.4381 - mae: 7.4381\n",
      "Epoch 12/500\n",
      "1/1 [==============================] - 0s 11ms/step - loss: 7.4325 - mae: 7.4325\n",
      "Epoch 13/500\n",
      "1/1 [==============================] - 0s 15ms/step - loss: 7.4269 - mae: 7.4269\n",
      "Epoch 14/500\n",
      "1/1 [==============================] - 0s 11ms/step - loss: 7.4213 - mae: 7.4213\n",
      "Epoch 15/500\n",
      "1/1 [==============================] - 0s 12ms/step - loss: 7.4156 - mae: 7.4156\n",
      "Epoch 16/500\n",
      "1/1 [==============================] - 0s 13ms/step - loss: 7.4100 - mae: 7.4100\n",
      "Epoch 17/500\n",
      "1/1 [==============================] - 0s 13ms/step - loss: 7.4044 - mae: 7.4044\n",
      "Epoch 18/500\n",
      "1/1 [==============================] - 0s 17ms/step - loss: 7.3987 - mae: 7.3987\n",
      "Epoch 19/500\n",
      "1/1 [==============================] - 0s 11ms/step - loss: 7.3931 - mae: 7.3931\n",
      "Epoch 20/500\n",
      "1/1 [==============================] - 0s 22ms/step - loss: 7.3875 - mae: 7.3875\n",
      "Epoch 21/500\n",
      "1/1 [==============================] - 0s 11ms/step - loss: 7.3819 - mae: 7.3819\n",
      "Epoch 22/500\n",
      "1/1 [==============================] - 0s 13ms/step - loss: 7.3762 - mae: 7.3762\n",
      "Epoch 23/500\n",
      "1/1 [==============================] - 0s 13ms/step - loss: 7.3706 - mae: 7.3706\n",
      "Epoch 24/500\n",
      "1/1 [==============================] - 0s 10ms/step - loss: 7.3650 - mae: 7.3650\n",
      "Epoch 25/500\n",
      "1/1 [==============================] - 0s 11ms/step - loss: 7.3594 - mae: 7.3594\n",
      "Epoch 26/500\n",
      "1/1 [==============================] - 0s 11ms/step - loss: 7.3538 - mae: 7.3538\n",
      "Epoch 27/500\n",
      "1/1 [==============================] - 0s 6ms/step - loss: 7.3481 - mae: 7.3481\n",
      "Epoch 28/500\n",
      "1/1 [==============================] - 0s 7ms/step - loss: 7.3425 - mae: 7.3425\n",
      "Epoch 29/500\n",
      "1/1 [==============================] - 0s 7ms/step - loss: 7.3369 - mae: 7.3369\n",
      "Epoch 30/500\n",
      "1/1 [==============================] - 0s 11ms/step - loss: 7.3312 - mae: 7.3312\n",
      "Epoch 31/500\n",
      "1/1 [==============================] - 0s 14ms/step - loss: 7.3256 - mae: 7.3256\n",
      "Epoch 32/500\n",
      "1/1 [==============================] - 0s 12ms/step - loss: 7.3200 - mae: 7.3200\n",
      "Epoch 33/500\n",
      "1/1 [==============================] - 0s 10ms/step - loss: 7.3144 - mae: 7.3144\n",
      "Epoch 34/500\n",
      "1/1 [==============================] - 0s 5ms/step - loss: 7.3087 - mae: 7.3087\n",
      "Epoch 35/500\n",
      "1/1 [==============================] - 0s 12ms/step - loss: 7.3031 - mae: 7.3031\n",
      "Epoch 36/500\n",
      "1/1 [==============================] - 0s 8ms/step - loss: 7.2975 - mae: 7.2975\n",
      "Epoch 37/500\n",
      "1/1 [==============================] - 0s 12ms/step - loss: 7.2919 - mae: 7.2919\n",
      "Epoch 38/500\n",
      "1/1 [==============================] - 0s 12ms/step - loss: 7.2862 - mae: 7.2862\n",
      "Epoch 39/500\n",
      "1/1 [==============================] - 0s 11ms/step - loss: 7.2806 - mae: 7.2806\n",
      "Epoch 40/500\n",
      "1/1 [==============================] - 0s 6ms/step - loss: 7.2750 - mae: 7.2750\n",
      "Epoch 41/500\n",
      "1/1 [==============================] - 0s 6ms/step - loss: 7.2694 - mae: 7.2694\n",
      "Epoch 42/500\n",
      "1/1 [==============================] - 0s 12ms/step - loss: 7.2638 - mae: 7.2638\n",
      "Epoch 43/500\n",
      "1/1 [==============================] - 0s 11ms/step - loss: 7.2581 - mae: 7.2581\n",
      "Epoch 44/500\n",
      "1/1 [==============================] - 0s 10ms/step - loss: 7.2525 - mae: 7.2525\n",
      "Epoch 45/500\n",
      "1/1 [==============================] - 0s 9ms/step - loss: 7.2469 - mae: 7.2469\n",
      "Epoch 46/500\n",
      "1/1 [==============================] - 0s 40ms/step - loss: 7.2413 - mae: 7.2413\n",
      "Epoch 47/500\n",
      "1/1 [==============================] - 0s 52ms/step - loss: 7.2356 - mae: 7.2356\n",
      "Epoch 48/500\n",
      "1/1 [==============================] - 0s 11ms/step - loss: 7.2300 - mae: 7.2300\n",
      "Epoch 49/500\n",
      "1/1 [==============================] - 0s 13ms/step - loss: 7.2244 - mae: 7.2244\n",
      "Epoch 50/500\n",
      "1/1 [==============================] - 0s 19ms/step - loss: 7.2188 - mae: 7.2188\n",
      "Epoch 51/500\n",
      "1/1 [==============================] - 0s 11ms/step - loss: 7.2131 - mae: 7.2131\n",
      "Epoch 52/500\n",
      "1/1 [==============================] - 0s 10ms/step - loss: 7.2075 - mae: 7.2075\n",
      "Epoch 53/500\n",
      "1/1 [==============================] - 0s 7ms/step - loss: 7.2019 - mae: 7.2019\n",
      "Epoch 54/500\n",
      "1/1 [==============================] - 0s 8ms/step - loss: 7.1963 - mae: 7.1963\n",
      "Epoch 55/500\n",
      "1/1 [==============================] - 0s 8ms/step - loss: 7.1906 - mae: 7.1906\n",
      "Epoch 56/500\n",
      "1/1 [==============================] - 0s 9ms/step - loss: 7.1850 - mae: 7.1850\n",
      "Epoch 57/500\n",
      "1/1 [==============================] - 0s 7ms/step - loss: 7.1794 - mae: 7.1794\n",
      "Epoch 58/500\n",
      "1/1 [==============================] - 0s 6ms/step - loss: 7.1737 - mae: 7.1737\n",
      "Epoch 59/500\n",
      "1/1 [==============================] - 0s 11ms/step - loss: 7.1681 - mae: 7.1681\n",
      "Epoch 60/500\n",
      "1/1 [==============================] - 0s 9ms/step - loss: 7.1625 - mae: 7.1625\n",
      "Epoch 61/500\n",
      "1/1 [==============================] - 0s 7ms/step - loss: 7.1569 - mae: 7.1569\n",
      "Epoch 62/500\n",
      "1/1 [==============================] - 0s 6ms/step - loss: 7.1512 - mae: 7.1512\n",
      "Epoch 63/500\n",
      "1/1 [==============================] - 0s 11ms/step - loss: 7.1456 - mae: 7.1456\n",
      "Epoch 64/500\n",
      "1/1 [==============================] - 0s 16ms/step - loss: 7.1400 - mae: 7.1400\n",
      "Epoch 65/500\n",
      "1/1 [==============================] - 0s 18ms/step - loss: 7.1344 - mae: 7.1344\n",
      "Epoch 66/500\n",
      "1/1 [==============================] - 0s 18ms/step - loss: 7.1287 - mae: 7.1287\n",
      "Epoch 67/500\n",
      "1/1 [==============================] - 0s 58ms/step - loss: 7.1231 - mae: 7.1231\n",
      "Epoch 68/500\n",
      "1/1 [==============================] - 0s 36ms/step - loss: 7.1175 - mae: 7.1175\n",
      "Epoch 69/500\n",
      "1/1 [==============================] - 0s 13ms/step - loss: 7.1119 - mae: 7.1119\n",
      "Epoch 70/500\n",
      "1/1 [==============================] - 0s 11ms/step - loss: 7.1062 - mae: 7.1062\n",
      "Epoch 71/500\n",
      "1/1 [==============================] - 0s 14ms/step - loss: 7.1006 - mae: 7.1006\n",
      "Epoch 72/500\n",
      "1/1 [==============================] - 0s 11ms/step - loss: 7.0950 - mae: 7.0950\n",
      "Epoch 73/500\n",
      "1/1 [==============================] - 0s 10ms/step - loss: 7.0894 - mae: 7.0894\n",
      "Epoch 74/500\n",
      "1/1 [==============================] - 0s 20ms/step - loss: 7.0838 - mae: 7.0838\n",
      "Epoch 75/500\n",
      "1/1 [==============================] - 0s 13ms/step - loss: 7.0781 - mae: 7.0781\n",
      "Epoch 76/500\n",
      "1/1 [==============================] - 0s 15ms/step - loss: 7.0725 - mae: 7.0725\n",
      "Epoch 77/500\n",
      "1/1 [==============================] - 0s 20ms/step - loss: 7.0669 - mae: 7.0669\n",
      "Epoch 78/500\n",
      "1/1 [==============================] - 0s 12ms/step - loss: 7.0612 - mae: 7.0612\n",
      "Epoch 79/500\n",
      "1/1 [==============================] - 0s 11ms/step - loss: 7.0556 - mae: 7.0556\n",
      "Epoch 80/500\n",
      "1/1 [==============================] - 0s 7ms/step - loss: 7.0500 - mae: 7.0500\n",
      "Epoch 81/500\n",
      "1/1 [==============================] - 0s 8ms/step - loss: 7.0444 - mae: 7.0444\n",
      "Epoch 82/500\n",
      "1/1 [==============================] - 0s 8ms/step - loss: 7.0387 - mae: 7.0387\n",
      "Epoch 83/500\n",
      "1/1 [==============================] - 0s 10ms/step - loss: 7.0331 - mae: 7.0331\n",
      "Epoch 84/500\n",
      "1/1 [==============================] - 0s 7ms/step - loss: 7.0275 - mae: 7.0275\n",
      "Epoch 85/500\n",
      "1/1 [==============================] - 0s 5ms/step - loss: 7.0219 - mae: 7.0219\n",
      "Epoch 86/500\n",
      "1/1 [==============================] - 0s 12ms/step - loss: 7.0163 - mae: 7.0163\n",
      "Epoch 87/500\n",
      "1/1 [==============================] - 0s 11ms/step - loss: 7.0106 - mae: 7.0106\n",
      "Epoch 88/500\n",
      "1/1 [==============================] - 0s 11ms/step - loss: 7.0050 - mae: 7.0050\n",
      "Epoch 89/500\n",
      "1/1 [==============================] - 0s 5ms/step - loss: 6.9994 - mae: 6.9994\n",
      "Epoch 90/500\n",
      "1/1 [==============================] - 0s 5ms/step - loss: 6.9938 - mae: 6.9938\n",
      "Epoch 91/500\n",
      "1/1 [==============================] - 0s 13ms/step - loss: 6.9881 - mae: 6.9881\n",
      "Epoch 92/500\n",
      "1/1 [==============================] - 0s 11ms/step - loss: 6.9825 - mae: 6.9825\n",
      "Epoch 93/500\n",
      "1/1 [==============================] - 0s 7ms/step - loss: 6.9769 - mae: 6.9769\n",
      "Epoch 94/500\n",
      "1/1 [==============================] - 0s 6ms/step - loss: 6.9713 - mae: 6.9713\n",
      "Epoch 95/500\n",
      "1/1 [==============================] - 0s 8ms/step - loss: 6.9656 - mae: 6.9656\n",
      "Epoch 96/500\n",
      "1/1 [==============================] - 0s 9ms/step - loss: 6.9600 - mae: 6.9600\n",
      "Epoch 97/500\n",
      "1/1 [==============================] - 0s 7ms/step - loss: 6.9544 - mae: 6.9544\n",
      "Epoch 98/500\n",
      "1/1 [==============================] - 0s 9ms/step - loss: 6.9488 - mae: 6.9488\n",
      "Epoch 99/500\n",
      "1/1 [==============================] - 0s 5ms/step - loss: 6.9431 - mae: 6.9431\n",
      "Epoch 100/500\n",
      "1/1 [==============================] - 0s 6ms/step - loss: 6.9375 - mae: 6.9375\n",
      "Epoch 101/500\n",
      "1/1 [==============================] - 0s 9ms/step - loss: 6.9319 - mae: 6.9319\n",
      "Epoch 102/500\n",
      "1/1 [==============================] - 0s 6ms/step - loss: 6.9263 - mae: 6.9263\n",
      "Epoch 103/500\n",
      "1/1 [==============================] - 0s 6ms/step - loss: 6.9206 - mae: 6.9206\n",
      "Epoch 104/500\n",
      "1/1 [==============================] - 0s 7ms/step - loss: 6.9150 - mae: 6.9150\n",
      "Epoch 105/500\n",
      "1/1 [==============================] - 0s 6ms/step - loss: 6.9094 - mae: 6.9094\n",
      "Epoch 106/500\n",
      "1/1 [==============================] - 0s 8ms/step - loss: 6.9038 - mae: 6.9038\n",
      "Epoch 107/500\n",
      "1/1 [==============================] - 0s 15ms/step - loss: 6.8981 - mae: 6.8981\n",
      "Epoch 108/500\n",
      "1/1 [==============================] - 0s 7ms/step - loss: 6.8925 - mae: 6.8925\n",
      "Epoch 109/500\n",
      "1/1 [==============================] - 0s 8ms/step - loss: 6.8869 - mae: 6.8869\n",
      "Epoch 110/500\n",
      "1/1 [==============================] - 0s 7ms/step - loss: 6.8813 - mae: 6.8813\n",
      "Epoch 111/500\n",
      "1/1 [==============================] - 0s 6ms/step - loss: 6.8756 - mae: 6.8756\n",
      "Epoch 112/500\n",
      "1/1 [==============================] - 0s 7ms/step - loss: 6.8700 - mae: 6.8700\n",
      "Epoch 113/500\n",
      "1/1 [==============================] - 0s 6ms/step - loss: 6.8644 - mae: 6.8644\n",
      "Epoch 114/500\n",
      "1/1 [==============================] - 0s 7ms/step - loss: 6.8588 - mae: 6.8588\n",
      "Epoch 115/500\n",
      "1/1 [==============================] - 0s 6ms/step - loss: 6.8531 - mae: 6.8531\n",
      "Epoch 116/500\n",
      "1/1 [==============================] - 0s 6ms/step - loss: 6.8475 - mae: 6.8475\n",
      "Epoch 117/500\n",
      "1/1 [==============================] - 0s 6ms/step - loss: 6.8419 - mae: 6.8419\n",
      "Epoch 118/500\n",
      "1/1 [==============================] - 0s 8ms/step - loss: 6.8363 - mae: 6.8363\n",
      "Epoch 119/500\n",
      "1/1 [==============================] - 0s 9ms/step - loss: 6.8306 - mae: 6.8306\n",
      "Epoch 120/500\n",
      "1/1 [==============================] - 0s 5ms/step - loss: 6.8250 - mae: 6.8250\n",
      "Epoch 121/500\n",
      "1/1 [==============================] - 0s 7ms/step - loss: 6.8194 - mae: 6.8194\n",
      "Epoch 122/500\n",
      "1/1 [==============================] - 0s 7ms/step - loss: 6.8138 - mae: 6.8138\n",
      "Epoch 123/500\n",
      "1/1 [==============================] - 0s 6ms/step - loss: 6.8081 - mae: 6.8081\n",
      "Epoch 124/500\n",
      "1/1 [==============================] - 0s 9ms/step - loss: 6.8025 - mae: 6.8025\n",
      "Epoch 125/500\n",
      "1/1 [==============================] - 0s 8ms/step - loss: 6.7969 - mae: 6.7969\n",
      "Epoch 126/500\n",
      "1/1 [==============================] - 0s 6ms/step - loss: 6.7913 - mae: 6.7913\n",
      "Epoch 127/500\n",
      "1/1 [==============================] - 0s 7ms/step - loss: 6.7856 - mae: 6.7856\n",
      "Epoch 128/500\n",
      "1/1 [==============================] - 0s 6ms/step - loss: 6.7800 - mae: 6.7800\n",
      "Epoch 129/500\n",
      "1/1 [==============================] - 0s 6ms/step - loss: 6.7744 - mae: 6.7744\n",
      "Epoch 130/500\n",
      "1/1 [==============================] - 0s 9ms/step - loss: 6.7688 - mae: 6.7688\n",
      "Epoch 131/500\n",
      "1/1 [==============================] - 0s 7ms/step - loss: 6.7631 - mae: 6.7631\n",
      "Epoch 132/500\n",
      "1/1 [==============================] - 0s 6ms/step - loss: 6.7575 - mae: 6.7575\n",
      "Epoch 133/500\n",
      "1/1 [==============================] - 0s 7ms/step - loss: 6.7519 - mae: 6.7519\n",
      "Epoch 134/500\n",
      "1/1 [==============================] - 0s 8ms/step - loss: 6.7463 - mae: 6.7463\n",
      "Epoch 135/500\n",
      "1/1 [==============================] - 0s 7ms/step - loss: 6.7406 - mae: 6.7406\n",
      "Epoch 136/500\n",
      "1/1 [==============================] - 0s 6ms/step - loss: 6.7350 - mae: 6.7350\n",
      "Epoch 137/500\n",
      "1/1 [==============================] - 0s 8ms/step - loss: 6.7294 - mae: 6.7294\n",
      "Epoch 138/500\n",
      "1/1 [==============================] - 0s 31ms/step - loss: 6.7238 - mae: 6.7238\n",
      "Epoch 139/500\n",
      "1/1 [==============================] - 0s 6ms/step - loss: 6.7181 - mae: 6.7181\n",
      "Epoch 140/500\n",
      "1/1 [==============================] - 0s 13ms/step - loss: 6.7125 - mae: 6.7125\n",
      "Epoch 141/500\n",
      "1/1 [==============================] - 0s 19ms/step - loss: 6.7069 - mae: 6.7069\n",
      "Epoch 142/500\n",
      "1/1 [==============================] - 0s 17ms/step - loss: 6.7013 - mae: 6.7013\n",
      "Epoch 143/500\n",
      "1/1 [==============================] - 0s 12ms/step - loss: 6.6956 - mae: 6.6956\n",
      "Epoch 144/500\n",
      "1/1 [==============================] - 0s 13ms/step - loss: 6.6900 - mae: 6.6900\n",
      "Epoch 145/500\n",
      "1/1 [==============================] - 0s 45ms/step - loss: 6.6844 - mae: 6.6844\n",
      "Epoch 146/500\n",
      "1/1 [==============================] - 0s 13ms/step - loss: 6.6787 - mae: 6.6787\n",
      "Epoch 147/500\n",
      "1/1 [==============================] - 0s 11ms/step - loss: 6.6731 - mae: 6.6731\n",
      "Epoch 148/500\n",
      "1/1 [==============================] - 0s 8ms/step - loss: 6.6675 - mae: 6.6675\n",
      "Epoch 149/500\n",
      "1/1 [==============================] - 0s 8ms/step - loss: 6.6619 - mae: 6.6619\n",
      "Epoch 150/500\n",
      "1/1 [==============================] - 0s 9ms/step - loss: 6.6562 - mae: 6.6562\n",
      "Epoch 151/500\n",
      "1/1 [==============================] - 0s 23ms/step - loss: 6.6506 - mae: 6.6506\n",
      "Epoch 152/500\n",
      "1/1 [==============================] - 0s 10ms/step - loss: 6.6450 - mae: 6.6450\n",
      "Epoch 153/500\n",
      "1/1 [==============================] - 0s 7ms/step - loss: 6.6394 - mae: 6.6394\n",
      "Epoch 154/500\n",
      "1/1 [==============================] - 0s 7ms/step - loss: 6.6337 - mae: 6.6337\n",
      "Epoch 155/500\n",
      "1/1 [==============================] - 0s 9ms/step - loss: 6.6281 - mae: 6.6281\n",
      "Epoch 156/500\n",
      "1/1 [==============================] - 0s 7ms/step - loss: 6.6225 - mae: 6.6225\n",
      "Epoch 157/500\n",
      "1/1 [==============================] - 0s 5ms/step - loss: 6.6169 - mae: 6.6169\n",
      "Epoch 158/500\n",
      "1/1 [==============================] - 0s 8ms/step - loss: 6.6112 - mae: 6.6112\n",
      "Epoch 159/500\n",
      "1/1 [==============================] - 0s 7ms/step - loss: 6.6056 - mae: 6.6056\n",
      "Epoch 160/500\n",
      "1/1 [==============================] - 0s 6ms/step - loss: 6.6000 - mae: 6.6000\n",
      "Epoch 161/500\n",
      "1/1 [==============================] - 0s 8ms/step - loss: 6.5944 - mae: 6.5944\n",
      "Epoch 162/500\n",
      "1/1 [==============================] - 0s 6ms/step - loss: 6.5887 - mae: 6.5887\n",
      "Epoch 163/500\n",
      "1/1 [==============================] - 0s 7ms/step - loss: 6.5831 - mae: 6.5831\n",
      "Epoch 164/500\n",
      "1/1 [==============================] - 0s 7ms/step - loss: 6.5775 - mae: 6.5775\n",
      "Epoch 165/500\n",
      "1/1 [==============================] - 0s 7ms/step - loss: 6.5719 - mae: 6.5719\n",
      "Epoch 166/500\n",
      "1/1 [==============================] - 0s 7ms/step - loss: 6.5662 - mae: 6.5662\n",
      "Epoch 167/500\n",
      "1/1 [==============================] - 0s 5ms/step - loss: 6.5606 - mae: 6.5606\n",
      "Epoch 168/500\n",
      "1/1 [==============================] - 0s 7ms/step - loss: 6.5550 - mae: 6.5550\n",
      "Epoch 169/500\n",
      "1/1 [==============================] - 0s 7ms/step - loss: 6.5494 - mae: 6.5494\n",
      "Epoch 170/500\n",
      "1/1 [==============================] - 0s 6ms/step - loss: 6.5437 - mae: 6.5437\n",
      "Epoch 171/500\n",
      "1/1 [==============================] - 0s 8ms/step - loss: 6.5381 - mae: 6.5381\n",
      "Epoch 172/500\n",
      "1/1 [==============================] - 0s 6ms/step - loss: 6.5325 - mae: 6.5325\n",
      "Epoch 173/500\n",
      "1/1 [==============================] - 0s 8ms/step - loss: 6.5269 - mae: 6.5269\n",
      "Epoch 174/500\n",
      "1/1 [==============================] - 0s 8ms/step - loss: 6.5212 - mae: 6.5212\n",
      "Epoch 175/500\n",
      "1/1 [==============================] - 0s 6ms/step - loss: 6.5156 - mae: 6.5156\n",
      "Epoch 176/500\n",
      "1/1 [==============================] - 0s 8ms/step - loss: 6.5100 - mae: 6.5100\n",
      "Epoch 177/500\n",
      "1/1 [==============================] - 0s 7ms/step - loss: 6.5044 - mae: 6.5044\n",
      "Epoch 178/500\n",
      "1/1 [==============================] - 0s 6ms/step - loss: 6.4987 - mae: 6.4987\n",
      "Epoch 179/500\n",
      "1/1 [==============================] - 0s 7ms/step - loss: 6.4931 - mae: 6.4931\n",
      "Epoch 180/500\n",
      "1/1 [==============================] - 0s 9ms/step - loss: 6.4875 - mae: 6.4875\n",
      "Epoch 181/500\n",
      "1/1 [==============================] - 0s 7ms/step - loss: 6.4819 - mae: 6.4819\n",
      "Epoch 182/500\n",
      "1/1 [==============================] - 0s 7ms/step - loss: 6.4762 - mae: 6.4762\n",
      "Epoch 183/500\n",
      "1/1 [==============================] - 0s 8ms/step - loss: 6.4706 - mae: 6.4706\n",
      "Epoch 184/500\n",
      "1/1 [==============================] - 0s 8ms/step - loss: 6.4650 - mae: 6.4650\n",
      "Epoch 185/500\n",
      "1/1 [==============================] - 0s 8ms/step - loss: 6.4594 - mae: 6.4594\n",
      "Epoch 186/500\n",
      "1/1 [==============================] - 0s 8ms/step - loss: 6.4537 - mae: 6.4537\n",
      "Epoch 187/500\n",
      "1/1 [==============================] - 0s 6ms/step - loss: 6.4481 - mae: 6.4481\n",
      "Epoch 188/500\n",
      "1/1 [==============================] - 0s 8ms/step - loss: 6.4425 - mae: 6.4425\n",
      "Epoch 189/500\n",
      "1/1 [==============================] - 0s 5ms/step - loss: 6.4369 - mae: 6.4369\n",
      "Epoch 190/500\n",
      "1/1 [==============================] - 0s 8ms/step - loss: 6.4312 - mae: 6.4312\n",
      "Epoch 191/500\n",
      "1/1 [==============================] - 0s 7ms/step - loss: 6.4256 - mae: 6.4256\n",
      "Epoch 192/500\n",
      "1/1 [==============================] - 0s 7ms/step - loss: 6.4200 - mae: 6.4200\n",
      "Epoch 193/500\n",
      "1/1 [==============================] - 0s 6ms/step - loss: 6.4144 - mae: 6.4144\n",
      "Epoch 194/500\n",
      "1/1 [==============================] - 0s 7ms/step - loss: 6.4087 - mae: 6.4087\n",
      "Epoch 195/500\n",
      "1/1 [==============================] - 0s 6ms/step - loss: 6.4031 - mae: 6.4031\n",
      "Epoch 196/500\n",
      "1/1 [==============================] - 0s 8ms/step - loss: 6.3975 - mae: 6.3975\n",
      "Epoch 197/500\n",
      "1/1 [==============================] - 0s 6ms/step - loss: 6.3919 - mae: 6.3919\n",
      "Epoch 198/500\n",
      "1/1 [==============================] - 0s 6ms/step - loss: 6.3862 - mae: 6.3862\n",
      "Epoch 199/500\n",
      "1/1 [==============================] - 0s 9ms/step - loss: 6.3806 - mae: 6.3806\n",
      "Epoch 200/500\n",
      "1/1 [==============================] - 0s 7ms/step - loss: 6.3750 - mae: 6.3750\n",
      "Epoch 201/500\n",
      "1/1 [==============================] - 0s 7ms/step - loss: 6.3694 - mae: 6.3694\n",
      "Epoch 202/500\n",
      "1/1 [==============================] - 0s 7ms/step - loss: 6.3637 - mae: 6.3637\n",
      "Epoch 203/500\n",
      "1/1 [==============================] - 0s 8ms/step - loss: 6.3581 - mae: 6.3581\n",
      "Epoch 204/500\n",
      "1/1 [==============================] - 0s 7ms/step - loss: 6.3525 - mae: 6.3525\n",
      "Epoch 205/500\n",
      "1/1 [==============================] - 0s 7ms/step - loss: 6.3469 - mae: 6.3469\n",
      "Epoch 206/500\n",
      "1/1 [==============================] - 0s 8ms/step - loss: 6.3412 - mae: 6.3412\n",
      "Epoch 207/500\n",
      "1/1 [==============================] - 0s 5ms/step - loss: 6.3356 - mae: 6.3356\n",
      "Epoch 208/500\n",
      "1/1 [==============================] - 0s 8ms/step - loss: 6.3300 - mae: 6.3300\n",
      "Epoch 209/500\n",
      "1/1 [==============================] - 0s 7ms/step - loss: 6.3244 - mae: 6.3244\n",
      "Epoch 210/500\n",
      "1/1 [==============================] - 0s 7ms/step - loss: 6.3187 - mae: 6.3187\n",
      "Epoch 211/500\n",
      "1/1 [==============================] - 0s 8ms/step - loss: 6.3131 - mae: 6.3131\n",
      "Epoch 212/500\n",
      "1/1 [==============================] - 0s 5ms/step - loss: 6.3075 - mae: 6.3075\n",
      "Epoch 213/500\n",
      "1/1 [==============================] - 0s 6ms/step - loss: 6.3019 - mae: 6.3019\n",
      "Epoch 214/500\n",
      "1/1 [==============================] - 0s 8ms/step - loss: 6.2962 - mae: 6.2962\n",
      "Epoch 215/500\n",
      "1/1 [==============================] - 0s 6ms/step - loss: 6.2906 - mae: 6.2906\n",
      "Epoch 216/500\n",
      "1/1 [==============================] - 0s 9ms/step - loss: 6.2850 - mae: 6.2850\n",
      "Epoch 217/500\n",
      "1/1 [==============================] - 0s 7ms/step - loss: 6.2794 - mae: 6.2794\n",
      "Epoch 218/500\n",
      "1/1 [==============================] - 0s 7ms/step - loss: 6.2737 - mae: 6.2737\n",
      "Epoch 219/500\n",
      "1/1 [==============================] - 0s 9ms/step - loss: 6.2681 - mae: 6.2681\n",
      "Epoch 220/500\n",
      "1/1 [==============================] - 0s 8ms/step - loss: 6.2625 - mae: 6.2625\n",
      "Epoch 221/500\n",
      "1/1 [==============================] - 0s 9ms/step - loss: 6.2569 - mae: 6.2569\n",
      "Epoch 222/500\n",
      "1/1 [==============================] - 0s 9ms/step - loss: 6.2512 - mae: 6.2512\n",
      "Epoch 223/500\n",
      "1/1 [==============================] - 0s 9ms/step - loss: 6.2456 - mae: 6.2456\n",
      "Epoch 224/500\n",
      "1/1 [==============================] - 0s 8ms/step - loss: 6.2400 - mae: 6.2400\n",
      "Epoch 225/500\n",
      "1/1 [==============================] - 0s 9ms/step - loss: 6.2344 - mae: 6.2344\n",
      "Epoch 226/500\n",
      "1/1 [==============================] - 0s 10ms/step - loss: 6.2287 - mae: 6.2287\n",
      "Epoch 227/500\n",
      "1/1 [==============================] - 0s 7ms/step - loss: 6.2231 - mae: 6.2231\n",
      "Epoch 228/500\n",
      "1/1 [==============================] - 0s 6ms/step - loss: 6.2175 - mae: 6.2175\n",
      "Epoch 229/500\n",
      "1/1 [==============================] - 0s 9ms/step - loss: 6.2119 - mae: 6.2119\n",
      "Epoch 230/500\n",
      "1/1 [==============================] - 0s 7ms/step - loss: 6.2062 - mae: 6.2062\n",
      "Epoch 231/500\n",
      "1/1 [==============================] - 0s 6ms/step - loss: 6.2006 - mae: 6.2006\n",
      "Epoch 232/500\n",
      "1/1 [==============================] - 0s 5ms/step - loss: 6.1950 - mae: 6.1950\n",
      "Epoch 233/500\n",
      "1/1 [==============================] - 0s 9ms/step - loss: 6.1894 - mae: 6.1894\n",
      "Epoch 234/500\n",
      "1/1 [==============================] - 0s 10ms/step - loss: 6.1837 - mae: 6.1837\n",
      "Epoch 235/500\n",
      "1/1 [==============================] - 0s 10ms/step - loss: 6.1781 - mae: 6.1781\n",
      "Epoch 236/500\n",
      "1/1 [==============================] - 0s 7ms/step - loss: 6.1725 - mae: 6.1725\n",
      "Epoch 237/500\n",
      "1/1 [==============================] - 0s 6ms/step - loss: 6.1669 - mae: 6.1669\n",
      "Epoch 238/500\n",
      "1/1 [==============================] - 0s 7ms/step - loss: 6.1612 - mae: 6.1612\n",
      "Epoch 239/500\n",
      "1/1 [==============================] - 0s 6ms/step - loss: 6.1556 - mae: 6.1556\n",
      "Epoch 240/500\n",
      "1/1 [==============================] - 0s 9ms/step - loss: 6.1500 - mae: 6.1500\n",
      "Epoch 241/500\n",
      "1/1 [==============================] - 0s 6ms/step - loss: 6.1444 - mae: 6.1444\n",
      "Epoch 242/500\n",
      "1/1 [==============================] - 0s 6ms/step - loss: 6.1387 - mae: 6.1387\n",
      "Epoch 243/500\n",
      "1/1 [==============================] - 0s 11ms/step - loss: 6.1331 - mae: 6.1331\n",
      "Epoch 244/500\n",
      "1/1 [==============================] - 0s 10ms/step - loss: 6.1275 - mae: 6.1275\n",
      "Epoch 245/500\n",
      "1/1 [==============================] - 0s 9ms/step - loss: 6.1219 - mae: 6.1219\n",
      "Epoch 246/500\n",
      "1/1 [==============================] - 0s 6ms/step - loss: 6.1162 - mae: 6.1162\n",
      "Epoch 247/500\n",
      "1/1 [==============================] - 0s 7ms/step - loss: 6.1106 - mae: 6.1106\n",
      "Epoch 248/500\n",
      "1/1 [==============================] - 0s 11ms/step - loss: 6.1050 - mae: 6.1050\n",
      "Epoch 249/500\n",
      "1/1 [==============================] - 0s 10ms/step - loss: 6.0994 - mae: 6.0994\n",
      "Epoch 250/500\n",
      "1/1 [==============================] - 0s 12ms/step - loss: 6.0937 - mae: 6.0937\n",
      "Epoch 251/500\n",
      "1/1 [==============================] - 0s 6ms/step - loss: 6.0881 - mae: 6.0881\n",
      "Epoch 252/500\n",
      "1/1 [==============================] - 0s 7ms/step - loss: 6.0825 - mae: 6.0825\n",
      "Epoch 253/500\n",
      "1/1 [==============================] - 0s 12ms/step - loss: 6.0769 - mae: 6.0769\n",
      "Epoch 254/500\n",
      "1/1 [==============================] - 0s 16ms/step - loss: 6.0712 - mae: 6.0712\n",
      "Epoch 255/500\n",
      "1/1 [==============================] - 0s 9ms/step - loss: 6.0656 - mae: 6.0656\n",
      "Epoch 256/500\n",
      "1/1 [==============================] - 0s 7ms/step - loss: 6.0600 - mae: 6.0600\n",
      "Epoch 257/500\n",
      "1/1 [==============================] - 0s 12ms/step - loss: 6.0544 - mae: 6.0544\n",
      "Epoch 258/500\n",
      "1/1 [==============================] - 0s 11ms/step - loss: 6.0487 - mae: 6.0487\n",
      "Epoch 259/500\n",
      "1/1 [==============================] - 0s 10ms/step - loss: 6.0431 - mae: 6.0431\n",
      "Epoch 260/500\n",
      "1/1 [==============================] - 0s 14ms/step - loss: 6.0375 - mae: 6.0375\n",
      "Epoch 261/500\n",
      "1/1 [==============================] - 0s 6ms/step - loss: 6.0319 - mae: 6.0319\n",
      "Epoch 262/500\n",
      "1/1 [==============================] - 0s 8ms/step - loss: 6.0262 - mae: 6.0262\n",
      "Epoch 263/500\n",
      "1/1 [==============================] - 0s 6ms/step - loss: 6.0206 - mae: 6.0206\n",
      "Epoch 264/500\n",
      "1/1 [==============================] - 0s 13ms/step - loss: 6.0150 - mae: 6.0150\n",
      "Epoch 265/500\n",
      "1/1 [==============================] - 0s 12ms/step - loss: 6.0094 - mae: 6.0094\n",
      "Epoch 266/500\n",
      "1/1 [==============================] - 0s 17ms/step - loss: 6.0037 - mae: 6.0037\n",
      "Epoch 267/500\n",
      "1/1 [==============================] - 0s 16ms/step - loss: 5.9981 - mae: 5.9981\n",
      "Epoch 268/500\n",
      "1/1 [==============================] - 0s 11ms/step - loss: 5.9925 - mae: 5.9925\n",
      "Epoch 269/500\n",
      "1/1 [==============================] - 0s 12ms/step - loss: 5.9869 - mae: 5.9869\n",
      "Epoch 270/500\n",
      "1/1 [==============================] - 0s 17ms/step - loss: 5.9812 - mae: 5.9812\n",
      "Epoch 271/500\n",
      "1/1 [==============================] - 0s 24ms/step - loss: 5.9756 - mae: 5.9756\n",
      "Epoch 272/500\n",
      "1/1 [==============================] - 0s 26ms/step - loss: 5.9700 - mae: 5.9700\n",
      "Epoch 273/500\n",
      "1/1 [==============================] - 0s 9ms/step - loss: 5.9644 - mae: 5.9644\n",
      "Epoch 274/500\n",
      "1/1 [==============================] - 0s 10ms/step - loss: 5.9600 - mae: 5.9600\n",
      "Epoch 275/500\n",
      "1/1 [==============================] - 0s 17ms/step - loss: 5.9550 - mae: 5.9550\n",
      "Epoch 276/500\n",
      "1/1 [==============================] - 0s 14ms/step - loss: 5.9494 - mae: 5.9494\n",
      "Epoch 277/500\n",
      "1/1 [==============================] - 0s 13ms/step - loss: 5.9437 - mae: 5.9437\n",
      "Epoch 278/500\n",
      "1/1 [==============================] - 0s 11ms/step - loss: 5.9381 - mae: 5.9381\n",
      "Epoch 279/500\n",
      "1/1 [==============================] - 0s 11ms/step - loss: 5.9325 - mae: 5.9325\n",
      "Epoch 280/500\n",
      "1/1 [==============================] - 0s 12ms/step - loss: 5.9269 - mae: 5.9269\n",
      "Epoch 281/500\n",
      "1/1 [==============================] - 0s 9ms/step - loss: 5.9212 - mae: 5.9212\n",
      "Epoch 282/500\n",
      "1/1 [==============================] - 0s 9ms/step - loss: 5.9156 - mae: 5.9156\n",
      "Epoch 283/500\n",
      "1/1 [==============================] - 0s 9ms/step - loss: 5.9100 - mae: 5.9100\n",
      "Epoch 284/500\n",
      "1/1 [==============================] - 0s 9ms/step - loss: 5.9044 - mae: 5.9044\n",
      "Epoch 285/500\n",
      "1/1 [==============================] - 0s 15ms/step - loss: 5.8987 - mae: 5.8987\n",
      "Epoch 286/500\n",
      "1/1 [==============================] - 0s 13ms/step - loss: 5.8931 - mae: 5.8931\n",
      "Epoch 287/500\n",
      "1/1 [==============================] - 0s 11ms/step - loss: 5.8875 - mae: 5.8875\n",
      "Epoch 288/500\n",
      "1/1 [==============================] - 0s 17ms/step - loss: 5.8819 - mae: 5.8819\n",
      "Epoch 289/500\n",
      "1/1 [==============================] - 0s 13ms/step - loss: 5.8762 - mae: 5.8762\n",
      "Epoch 290/500\n",
      "1/1 [==============================] - 0s 12ms/step - loss: 5.8706 - mae: 5.8706\n",
      "Epoch 291/500\n",
      "1/1 [==============================] - 0s 16ms/step - loss: 5.8650 - mae: 5.8650\n",
      "Epoch 292/500\n",
      "1/1 [==============================] - 0s 9ms/step - loss: 5.8594 - mae: 5.8594\n",
      "Epoch 293/500\n",
      "1/1 [==============================] - 0s 8ms/step - loss: 5.8537 - mae: 5.8537\n",
      "Epoch 294/500\n",
      "1/1 [==============================] - 0s 14ms/step - loss: 5.8481 - mae: 5.8481\n",
      "Epoch 295/500\n",
      "1/1 [==============================] - 0s 10ms/step - loss: 5.8425 - mae: 5.8425\n",
      "Epoch 296/500\n",
      "1/1 [==============================] - 0s 8ms/step - loss: 5.8369 - mae: 5.8369\n",
      "Epoch 297/500\n",
      "1/1 [==============================] - 0s 8ms/step - loss: 5.8312 - mae: 5.8312\n",
      "Epoch 298/500\n",
      "1/1 [==============================] - 0s 9ms/step - loss: 5.8256 - mae: 5.8256\n",
      "Epoch 299/500\n",
      "1/1 [==============================] - 0s 9ms/step - loss: 5.8200 - mae: 5.8200\n",
      "Epoch 300/500\n",
      "1/1 [==============================] - 0s 9ms/step - loss: 5.8144 - mae: 5.8144\n",
      "Epoch 301/500\n",
      "1/1 [==============================] - 0s 13ms/step - loss: 5.8087 - mae: 5.8087\n",
      "Epoch 302/500\n",
      "1/1 [==============================] - 0s 9ms/step - loss: 5.8031 - mae: 5.8031\n",
      "Epoch 303/500\n",
      "1/1 [==============================] - 0s 8ms/step - loss: 5.7975 - mae: 5.7975\n",
      "Epoch 304/500\n",
      "1/1 [==============================] - 0s 10ms/step - loss: 5.7919 - mae: 5.7919\n",
      "Epoch 305/500\n",
      "1/1 [==============================] - 0s 8ms/step - loss: 5.7862 - mae: 5.7862\n",
      "Epoch 306/500\n",
      "1/1 [==============================] - 0s 14ms/step - loss: 5.7806 - mae: 5.7806\n",
      "Epoch 307/500\n",
      "1/1 [==============================] - 0s 9ms/step - loss: 5.7750 - mae: 5.7750\n",
      "Epoch 308/500\n",
      "1/1 [==============================] - 0s 11ms/step - loss: 5.7694 - mae: 5.7694\n",
      "Epoch 309/500\n",
      "1/1 [==============================] - 0s 33ms/step - loss: 5.7637 - mae: 5.7637\n",
      "Epoch 310/500\n",
      "1/1 [==============================] - 0s 10ms/step - loss: 5.7581 - mae: 5.7581\n",
      "Epoch 311/500\n",
      "1/1 [==============================] - 0s 10ms/step - loss: 5.7525 - mae: 5.7525\n",
      "Epoch 312/500\n",
      "1/1 [==============================] - 0s 11ms/step - loss: 5.7469 - mae: 5.7469\n",
      "Epoch 313/500\n",
      "1/1 [==============================] - 0s 18ms/step - loss: 5.7412 - mae: 5.7412\n",
      "Epoch 314/500\n",
      "1/1 [==============================] - 0s 9ms/step - loss: 5.7357 - mae: 5.7357\n",
      "Epoch 315/500\n",
      "1/1 [==============================] - 0s 9ms/step - loss: 5.7319 - mae: 5.7319\n",
      "Epoch 316/500\n",
      "1/1 [==============================] - 0s 10ms/step - loss: 5.7262 - mae: 5.7262\n",
      "Epoch 317/500\n",
      "1/1 [==============================] - 0s 9ms/step - loss: 5.7206 - mae: 5.7206\n",
      "Epoch 318/500\n",
      "1/1 [==============================] - 0s 11ms/step - loss: 5.7150 - mae: 5.7150\n",
      "Epoch 319/500\n",
      "1/1 [==============================] - 0s 9ms/step - loss: 5.7094 - mae: 5.7094\n",
      "Epoch 320/500\n",
      "1/1 [==============================] - 0s 11ms/step - loss: 5.7037 - mae: 5.7037\n",
      "Epoch 321/500\n",
      "1/1 [==============================] - 0s 11ms/step - loss: 5.6981 - mae: 5.6981\n",
      "Epoch 322/500\n",
      "1/1 [==============================] - 0s 9ms/step - loss: 5.6925 - mae: 5.6925\n",
      "Epoch 323/500\n",
      "1/1 [==============================] - 0s 7ms/step - loss: 5.6869 - mae: 5.6869\n",
      "Epoch 324/500\n",
      "1/1 [==============================] - 0s 9ms/step - loss: 5.6812 - mae: 5.6812\n",
      "Epoch 325/500\n",
      "1/1 [==============================] - 0s 9ms/step - loss: 5.6756 - mae: 5.6756\n",
      "Epoch 326/500\n",
      "1/1 [==============================] - 0s 9ms/step - loss: 5.6700 - mae: 5.6700\n",
      "Epoch 327/500\n",
      "1/1 [==============================] - 0s 11ms/step - loss: 5.6644 - mae: 5.6644\n",
      "Epoch 328/500\n",
      "1/1 [==============================] - 0s 8ms/step - loss: 5.6587 - mae: 5.6587\n",
      "Epoch 329/500\n",
      "1/1 [==============================] - 0s 9ms/step - loss: 5.6531 - mae: 5.6531\n",
      "Epoch 330/500\n",
      "1/1 [==============================] - 0s 11ms/step - loss: 5.6475 - mae: 5.6475\n",
      "Epoch 331/500\n",
      "1/1 [==============================] - 0s 6ms/step - loss: 5.6419 - mae: 5.6419\n",
      "Epoch 332/500\n",
      "1/1 [==============================] - 0s 11ms/step - loss: 5.6362 - mae: 5.6362\n",
      "Epoch 333/500\n",
      "1/1 [==============================] - 0s 6ms/step - loss: 5.6306 - mae: 5.6306\n",
      "Epoch 334/500\n",
      "1/1 [==============================] - 0s 10ms/step - loss: 5.6250 - mae: 5.6250\n",
      "Epoch 335/500\n",
      "1/1 [==============================] - 0s 9ms/step - loss: 5.6194 - mae: 5.6194\n",
      "Epoch 336/500\n",
      "1/1 [==============================] - 0s 6ms/step - loss: 5.6137 - mae: 5.6137\n",
      "Epoch 337/500\n",
      "1/1 [==============================] - 0s 7ms/step - loss: 5.6081 - mae: 5.6081\n",
      "Epoch 338/500\n",
      "1/1 [==============================] - 0s 9ms/step - loss: 5.6025 - mae: 5.6025\n",
      "Epoch 339/500\n",
      "1/1 [==============================] - 0s 6ms/step - loss: 5.5969 - mae: 5.5969\n",
      "Epoch 340/500\n",
      "1/1 [==============================] - 0s 8ms/step - loss: 5.5912 - mae: 5.5912\n",
      "Epoch 341/500\n",
      "1/1 [==============================] - 0s 8ms/step - loss: 5.5856 - mae: 5.5856\n",
      "Epoch 342/500\n",
      "1/1 [==============================] - 0s 5ms/step - loss: 5.5800 - mae: 5.5800\n",
      "Epoch 343/500\n",
      "1/1 [==============================] - 0s 8ms/step - loss: 5.5744 - mae: 5.5744\n",
      "Epoch 344/500\n",
      "1/1 [==============================] - 0s 10ms/step - loss: 5.5687 - mae: 5.5687\n",
      "Epoch 345/500\n",
      "1/1 [==============================] - 0s 8ms/step - loss: 5.5631 - mae: 5.5631\n",
      "Epoch 346/500\n",
      "1/1 [==============================] - 0s 8ms/step - loss: 5.5575 - mae: 5.5575\n",
      "Epoch 347/500\n",
      "1/1 [==============================] - 0s 6ms/step - loss: 5.5519 - mae: 5.5519\n",
      "Epoch 348/500\n",
      "1/1 [==============================] - 0s 7ms/step - loss: 5.5462 - mae: 5.5462\n",
      "Epoch 349/500\n",
      "1/1 [==============================] - 0s 11ms/step - loss: 5.5406 - mae: 5.5406\n",
      "Epoch 350/500\n",
      "1/1 [==============================] - 0s 10ms/step - loss: 5.5350 - mae: 5.5350\n",
      "Epoch 351/500\n",
      "1/1 [==============================] - 0s 6ms/step - loss: 5.5294 - mae: 5.5294\n",
      "Epoch 352/500\n",
      "1/1 [==============================] - 0s 6ms/step - loss: 5.5237 - mae: 5.5237\n",
      "Epoch 353/500\n",
      "1/1 [==============================] - 0s 9ms/step - loss: 5.5181 - mae: 5.5181\n",
      "Epoch 354/500\n",
      "1/1 [==============================] - 0s 6ms/step - loss: 5.5125 - mae: 5.5125\n",
      "Epoch 355/500\n",
      "1/1 [==============================] - 0s 25ms/step - loss: 5.5076 - mae: 5.5076\n",
      "Epoch 356/500\n",
      "1/1 [==============================] - 0s 10ms/step - loss: 5.5031 - mae: 5.5031\n",
      "Epoch 357/500\n",
      "1/1 [==============================] - 0s 8ms/step - loss: 5.4975 - mae: 5.4975\n",
      "Epoch 358/500\n",
      "1/1 [==============================] - 0s 9ms/step - loss: 5.4919 - mae: 5.4919\n",
      "Epoch 359/500\n",
      "1/1 [==============================] - 0s 9ms/step - loss: 5.4862 - mae: 5.4862\n",
      "Epoch 360/500\n",
      "1/1 [==============================] - 0s 8ms/step - loss: 5.4806 - mae: 5.4806\n",
      "Epoch 361/500\n",
      "1/1 [==============================] - 0s 12ms/step - loss: 5.4750 - mae: 5.4750\n",
      "Epoch 362/500\n",
      "1/1 [==============================] - 0s 9ms/step - loss: 5.4694 - mae: 5.4694\n",
      "Epoch 363/500\n",
      "1/1 [==============================] - 0s 7ms/step - loss: 5.4637 - mae: 5.4637\n",
      "Epoch 364/500\n",
      "1/1 [==============================] - 0s 10ms/step - loss: 5.4581 - mae: 5.4581\n",
      "Epoch 365/500\n",
      "1/1 [==============================] - 0s 7ms/step - loss: 5.4525 - mae: 5.4525\n",
      "Epoch 366/500\n",
      "1/1 [==============================] - 0s 10ms/step - loss: 5.4469 - mae: 5.4469\n",
      "Epoch 367/500\n",
      "1/1 [==============================] - 0s 6ms/step - loss: 5.4413 - mae: 5.4413\n",
      "Epoch 368/500\n",
      "1/1 [==============================] - 0s 6ms/step - loss: 5.4356 - mae: 5.4356\n",
      "Epoch 369/500\n",
      "1/1 [==============================] - 0s 7ms/step - loss: 5.4300 - mae: 5.4300\n",
      "Epoch 370/500\n",
      "1/1 [==============================] - 0s 7ms/step - loss: 5.4244 - mae: 5.4244\n",
      "Epoch 371/500\n",
      "1/1 [==============================] - 0s 6ms/step - loss: 5.4188 - mae: 5.4188\n",
      "Epoch 372/500\n",
      "1/1 [==============================] - 0s 9ms/step - loss: 5.4131 - mae: 5.4131\n",
      "Epoch 373/500\n",
      "1/1 [==============================] - 0s 7ms/step - loss: 5.4075 - mae: 5.4075\n",
      "Epoch 374/500\n",
      "1/1 [==============================] - 0s 7ms/step - loss: 5.4019 - mae: 5.4019\n",
      "Epoch 375/500\n",
      "1/1 [==============================] - 0s 6ms/step - loss: 5.3963 - mae: 5.3963\n",
      "Epoch 376/500\n",
      "1/1 [==============================] - 0s 7ms/step - loss: 5.3906 - mae: 5.3906\n",
      "Epoch 377/500\n",
      "1/1 [==============================] - 0s 6ms/step - loss: 5.3850 - mae: 5.3850\n",
      "Epoch 378/500\n",
      "1/1 [==============================] - 0s 7ms/step - loss: 5.3794 - mae: 5.3794\n",
      "Epoch 379/500\n",
      "1/1 [==============================] - 0s 8ms/step - loss: 5.3738 - mae: 5.3738\n",
      "Epoch 380/500\n",
      "1/1 [==============================] - 0s 5ms/step - loss: 5.3681 - mae: 5.3681\n",
      "Epoch 381/500\n",
      "1/1 [==============================] - 0s 8ms/step - loss: 5.3625 - mae: 5.3625\n",
      "Epoch 382/500\n",
      "1/1 [==============================] - 0s 7ms/step - loss: 5.3569 - mae: 5.3569\n",
      "Epoch 383/500\n",
      "1/1 [==============================] - 0s 6ms/step - loss: 5.3513 - mae: 5.3513\n",
      "Epoch 384/500\n",
      "1/1 [==============================] - 0s 10ms/step - loss: 5.3456 - mae: 5.3456\n",
      "Epoch 385/500\n",
      "1/1 [==============================] - 0s 9ms/step - loss: 5.3400 - mae: 5.3400\n",
      "Epoch 386/500\n",
      "1/1 [==============================] - 0s 7ms/step - loss: 5.3344 - mae: 5.3344\n",
      "Epoch 387/500\n",
      "1/1 [==============================] - 0s 6ms/step - loss: 5.3288 - mae: 5.3288\n",
      "Epoch 388/500\n",
      "1/1 [==============================] - 0s 8ms/step - loss: 5.3231 - mae: 5.3231\n",
      "Epoch 389/500\n",
      "1/1 [==============================] - 0s 22ms/step - loss: 5.3175 - mae: 5.3175\n",
      "Epoch 390/500\n",
      "1/1 [==============================] - 0s 10ms/step - loss: 5.3119 - mae: 5.3119\n",
      "Epoch 391/500\n",
      "1/1 [==============================] - 0s 8ms/step - loss: 5.3063 - mae: 5.3063\n",
      "Epoch 392/500\n",
      "1/1 [==============================] - 0s 31ms/step - loss: 5.3006 - mae: 5.3006\n",
      "Epoch 393/500\n",
      "1/1 [==============================] - 0s 11ms/step - loss: 5.2950 - mae: 5.2950\n",
      "Epoch 394/500\n",
      "1/1 [==============================] - 0s 11ms/step - loss: 5.2894 - mae: 5.2894\n",
      "Epoch 395/500\n",
      "1/1 [==============================] - 0s 10ms/step - loss: 5.2838 - mae: 5.2838\n",
      "Epoch 396/500\n",
      "1/1 [==============================] - 0s 14ms/step - loss: 5.2794 - mae: 5.2794\n",
      "Epoch 397/500\n",
      "1/1 [==============================] - 0s 10ms/step - loss: 5.2744 - mae: 5.2744\n",
      "Epoch 398/500\n",
      "1/1 [==============================] - 0s 5ms/step - loss: 5.2688 - mae: 5.2688\n",
      "Epoch 399/500\n",
      "1/1 [==============================] - 0s 14ms/step - loss: 5.2631 - mae: 5.2631\n",
      "Epoch 400/500\n",
      "1/1 [==============================] - 0s 28ms/step - loss: 5.2575 - mae: 5.2575\n",
      "Epoch 401/500\n",
      "1/1 [==============================] - 0s 10ms/step - loss: 5.2519 - mae: 5.2519\n",
      "Epoch 402/500\n",
      "1/1 [==============================] - 0s 6ms/step - loss: 5.2463 - mae: 5.2463\n",
      "Epoch 403/500\n",
      "1/1 [==============================] - 0s 9ms/step - loss: 5.2406 - mae: 5.2406\n",
      "Epoch 404/500\n",
      "1/1 [==============================] - 0s 11ms/step - loss: 5.2350 - mae: 5.2350\n",
      "Epoch 405/500\n",
      "1/1 [==============================] - 0s 11ms/step - loss: 5.2294 - mae: 5.2294\n",
      "Epoch 406/500\n",
      "1/1 [==============================] - 0s 10ms/step - loss: 5.2238 - mae: 5.2238\n",
      "Epoch 407/500\n",
      "1/1 [==============================] - 0s 12ms/step - loss: 5.2181 - mae: 5.2181\n",
      "Epoch 408/500\n",
      "1/1 [==============================] - 0s 10ms/step - loss: 5.2125 - mae: 5.2125\n",
      "Epoch 409/500\n",
      "1/1 [==============================] - 0s 10ms/step - loss: 5.2069 - mae: 5.2069\n",
      "Epoch 410/500\n",
      "1/1 [==============================] - 0s 9ms/step - loss: 5.2013 - mae: 5.2013\n",
      "Epoch 411/500\n",
      "1/1 [==============================] - 0s 8ms/step - loss: 5.1956 - mae: 5.1956\n",
      "Epoch 412/500\n",
      "1/1 [==============================] - 0s 8ms/step - loss: 5.1900 - mae: 5.1900\n",
      "Epoch 413/500\n",
      "1/1 [==============================] - 0s 8ms/step - loss: 5.1844 - mae: 5.1844\n",
      "Epoch 414/500\n",
      "1/1 [==============================] - 0s 10ms/step - loss: 5.1788 - mae: 5.1788\n",
      "Epoch 415/500\n",
      "1/1 [==============================] - 0s 8ms/step - loss: 5.1731 - mae: 5.1731\n",
      "Epoch 416/500\n",
      "1/1 [==============================] - 0s 8ms/step - loss: 5.1675 - mae: 5.1675\n",
      "Epoch 417/500\n",
      "1/1 [==============================] - 0s 8ms/step - loss: 5.1619 - mae: 5.1619\n",
      "Epoch 418/500\n",
      "1/1 [==============================] - 0s 6ms/step - loss: 5.1563 - mae: 5.1563\n",
      "Epoch 419/500\n",
      "1/1 [==============================] - 0s 8ms/step - loss: 5.1506 - mae: 5.1506\n",
      "Epoch 420/500\n",
      "1/1 [==============================] - 0s 8ms/step - loss: 5.1450 - mae: 5.1450\n",
      "Epoch 421/500\n",
      "1/1 [==============================] - 0s 7ms/step - loss: 5.1394 - mae: 5.1394\n",
      "Epoch 422/500\n",
      "1/1 [==============================] - 0s 9ms/step - loss: 5.1338 - mae: 5.1338\n",
      "Epoch 423/500\n",
      "1/1 [==============================] - 0s 12ms/step - loss: 5.1281 - mae: 5.1281\n",
      "Epoch 424/500\n",
      "1/1 [==============================] - 0s 8ms/step - loss: 5.1225 - mae: 5.1225\n",
      "Epoch 425/500\n",
      "1/1 [==============================] - 0s 9ms/step - loss: 5.1169 - mae: 5.1169\n",
      "Epoch 426/500\n",
      "1/1 [==============================] - 0s 6ms/step - loss: 5.1113 - mae: 5.1113\n",
      "Epoch 427/500\n",
      "1/1 [==============================] - 0s 9ms/step - loss: 5.1056 - mae: 5.1056\n",
      "Epoch 428/500\n",
      "1/1 [==============================] - 0s 12ms/step - loss: 5.1000 - mae: 5.1000\n",
      "Epoch 429/500\n",
      "1/1 [==============================] - 0s 7ms/step - loss: 5.0944 - mae: 5.0944\n",
      "Epoch 430/500\n",
      "1/1 [==============================] - 0s 7ms/step - loss: 5.0888 - mae: 5.0888\n",
      "Epoch 431/500\n",
      "1/1 [==============================] - 0s 10ms/step - loss: 5.0831 - mae: 5.0831\n",
      "Epoch 432/500\n",
      "1/1 [==============================] - 0s 8ms/step - loss: 5.0775 - mae: 5.0775\n",
      "Epoch 433/500\n",
      "1/1 [==============================] - 0s 7ms/step - loss: 5.0719 - mae: 5.0719\n",
      "Epoch 434/500\n",
      "1/1 [==============================] - 0s 8ms/step - loss: 5.0663 - mae: 5.0663\n",
      "Epoch 435/500\n",
      "1/1 [==============================] - 0s 5ms/step - loss: 5.0606 - mae: 5.0606\n",
      "Epoch 436/500\n",
      "1/1 [==============================] - 0s 6ms/step - loss: 5.0551 - mae: 5.0551\n",
      "Epoch 437/500\n",
      "1/1 [==============================] - 0s 7ms/step - loss: 5.0513 - mae: 5.0513\n",
      "Epoch 438/500\n",
      "1/1 [==============================] - 0s 7ms/step - loss: 5.0456 - mae: 5.0456\n",
      "Epoch 439/500\n",
      "1/1 [==============================] - 0s 5ms/step - loss: 5.0400 - mae: 5.0400\n",
      "Epoch 440/500\n",
      "1/1 [==============================] - 0s 6ms/step - loss: 5.0344 - mae: 5.0344\n",
      "Epoch 441/500\n",
      "1/1 [==============================] - 0s 6ms/step - loss: 5.0288 - mae: 5.0288\n",
      "Epoch 442/500\n",
      "1/1 [==============================] - 0s 15ms/step - loss: 5.0231 - mae: 5.0231\n",
      "Epoch 443/500\n",
      "1/1 [==============================] - 0s 9ms/step - loss: 5.0175 - mae: 5.0175\n",
      "Epoch 444/500\n",
      "1/1 [==============================] - 0s 13ms/step - loss: 5.0119 - mae: 5.0119\n",
      "Epoch 445/500\n",
      "1/1 [==============================] - 0s 10ms/step - loss: 5.0063 - mae: 5.0063\n",
      "Epoch 446/500\n",
      "1/1 [==============================] - 0s 9ms/step - loss: 5.0006 - mae: 5.0006\n",
      "Epoch 447/500\n",
      "1/1 [==============================] - 0s 10ms/step - loss: 4.9950 - mae: 4.9950\n",
      "Epoch 448/500\n",
      "1/1 [==============================] - 0s 8ms/step - loss: 4.9894 - mae: 4.9894\n",
      "Epoch 449/500\n",
      "1/1 [==============================] - 0s 7ms/step - loss: 4.9838 - mae: 4.9838\n",
      "Epoch 450/500\n",
      "1/1 [==============================] - 0s 9ms/step - loss: 4.9781 - mae: 4.9781\n",
      "Epoch 451/500\n",
      "1/1 [==============================] - 0s 10ms/step - loss: 4.9725 - mae: 4.9725\n",
      "Epoch 452/500\n",
      "1/1 [==============================] - 0s 16ms/step - loss: 4.9669 - mae: 4.9669\n",
      "Epoch 453/500\n",
      "1/1 [==============================] - 0s 21ms/step - loss: 4.9613 - mae: 4.9613\n",
      "Epoch 454/500\n",
      "1/1 [==============================] - 0s 8ms/step - loss: 4.9556 - mae: 4.9556\n",
      "Epoch 455/500\n",
      "1/1 [==============================] - 0s 8ms/step - loss: 4.9500 - mae: 4.9500\n",
      "Epoch 456/500\n",
      "1/1 [==============================] - 0s 9ms/step - loss: 4.9444 - mae: 4.9444\n",
      "Epoch 457/500\n",
      "1/1 [==============================] - 0s 22ms/step - loss: 4.9388 - mae: 4.9388\n",
      "Epoch 458/500\n",
      "1/1 [==============================] - 0s 8ms/step - loss: 4.9331 - mae: 4.9331\n",
      "Epoch 459/500\n",
      "1/1 [==============================] - 0s 9ms/step - loss: 4.9275 - mae: 4.9275\n",
      "Epoch 460/500\n",
      "1/1 [==============================] - 0s 15ms/step - loss: 4.9219 - mae: 4.9219\n",
      "Epoch 461/500\n",
      "1/1 [==============================] - 0s 15ms/step - loss: 4.9163 - mae: 4.9163\n",
      "Epoch 462/500\n",
      "1/1 [==============================] - 0s 11ms/step - loss: 4.9106 - mae: 4.9106\n",
      "Epoch 463/500\n",
      "1/1 [==============================] - 0s 11ms/step - loss: 4.9050 - mae: 4.9050\n",
      "Epoch 464/500\n",
      "1/1 [==============================] - 0s 23ms/step - loss: 4.8994 - mae: 4.8994\n",
      "Epoch 465/500\n",
      "1/1 [==============================] - 0s 9ms/step - loss: 4.8938 - mae: 4.8938\n",
      "Epoch 466/500\n",
      "1/1 [==============================] - 0s 8ms/step - loss: 4.8881 - mae: 4.8881\n",
      "Epoch 467/500\n",
      "1/1 [==============================] - 0s 9ms/step - loss: 4.8825 - mae: 4.8825\n",
      "Epoch 468/500\n",
      "1/1 [==============================] - 0s 8ms/step - loss: 4.8769 - mae: 4.8769\n",
      "Epoch 469/500\n",
      "1/1 [==============================] - 0s 10ms/step - loss: 4.8713 - mae: 4.8713\n",
      "Epoch 470/500\n",
      "1/1 [==============================] - 0s 10ms/step - loss: 4.8656 - mae: 4.8656\n",
      "Epoch 471/500\n",
      "1/1 [==============================] - 0s 25ms/step - loss: 4.8600 - mae: 4.8600\n",
      "Epoch 472/500\n",
      "1/1 [==============================] - 0s 8ms/step - loss: 4.8544 - mae: 4.8544\n",
      "Epoch 473/500\n",
      "1/1 [==============================] - 0s 9ms/step - loss: 4.8488 - mae: 4.8488\n",
      "Epoch 474/500\n",
      "1/1 [==============================] - 0s 9ms/step - loss: 4.8431 - mae: 4.8431\n",
      "Epoch 475/500\n",
      "1/1 [==============================] - 0s 19ms/step - loss: 4.8375 - mae: 4.8375\n",
      "Epoch 476/500\n",
      "1/1 [==============================] - 0s 11ms/step - loss: 4.8319 - mae: 4.8319\n",
      "Epoch 477/500\n",
      "1/1 [==============================] - 0s 10ms/step - loss: 4.8269 - mae: 4.8269\n",
      "Epoch 478/500\n",
      "1/1 [==============================] - 0s 8ms/step - loss: 4.8225 - mae: 4.8225\n",
      "Epoch 479/500\n",
      "1/1 [==============================] - 0s 9ms/step - loss: 4.8169 - mae: 4.8169\n",
      "Epoch 480/500\n",
      "1/1 [==============================] - 0s 12ms/step - loss: 4.8113 - mae: 4.8113\n",
      "Epoch 481/500\n",
      "1/1 [==============================] - 0s 12ms/step - loss: 4.8056 - mae: 4.8056\n",
      "Epoch 482/500\n",
      "1/1 [==============================] - 0s 8ms/step - loss: 4.8000 - mae: 4.8000\n",
      "Epoch 483/500\n",
      "1/1 [==============================] - 0s 9ms/step - loss: 4.7944 - mae: 4.7944\n",
      "Epoch 484/500\n",
      "1/1 [==============================] - 0s 8ms/step - loss: 4.7888 - mae: 4.7888\n",
      "Epoch 485/500\n",
      "1/1 [==============================] - 0s 9ms/step - loss: 4.7831 - mae: 4.7831\n",
      "Epoch 486/500\n",
      "1/1 [==============================] - 0s 10ms/step - loss: 4.7775 - mae: 4.7775\n",
      "Epoch 487/500\n",
      "1/1 [==============================] - 0s 9ms/step - loss: 4.7719 - mae: 4.7719\n",
      "Epoch 488/500\n",
      "1/1 [==============================] - 0s 8ms/step - loss: 4.7663 - mae: 4.7663\n",
      "Epoch 489/500\n",
      "1/1 [==============================] - 0s 7ms/step - loss: 4.7606 - mae: 4.7606\n",
      "Epoch 490/500\n",
      "1/1 [==============================] - 0s 9ms/step - loss: 4.7550 - mae: 4.7550\n",
      "Epoch 491/500\n",
      "1/1 [==============================] - 0s 13ms/step - loss: 4.7494 - mae: 4.7494\n",
      "Epoch 492/500\n",
      "1/1 [==============================] - 0s 13ms/step - loss: 4.7438 - mae: 4.7438\n",
      "Epoch 493/500\n",
      "1/1 [==============================] - 0s 12ms/step - loss: 4.7381 - mae: 4.7381\n",
      "Epoch 494/500\n",
      "1/1 [==============================] - 0s 12ms/step - loss: 4.7325 - mae: 4.7325\n",
      "Epoch 495/500\n",
      "1/1 [==============================] - 0s 9ms/step - loss: 4.7269 - mae: 4.7269\n",
      "Epoch 496/500\n",
      "1/1 [==============================] - 0s 8ms/step - loss: 4.7213 - mae: 4.7213\n",
      "Epoch 497/500\n",
      "1/1 [==============================] - 0s 11ms/step - loss: 4.7156 - mae: 4.7156\n",
      "Epoch 498/500\n",
      "1/1 [==============================] - 0s 9ms/step - loss: 4.7100 - mae: 4.7100\n",
      "Epoch 499/500\n",
      "1/1 [==============================] - 0s 11ms/step - loss: 4.7044 - mae: 4.7044\n",
      "Epoch 500/500\n",
      "1/1 [==============================] - 0s 12ms/step - loss: 4.6988 - mae: 4.6988\n"
     ]
    },
    {
     "data": {
      "text/plain": [
       "<keras.src.callbacks.History at 0x253f5b758d0>"
      ]
     },
     "execution_count": 17,
     "metadata": {},
     "output_type": "execute_result"
    }
   ],
   "source": [
    "# Let's rebuild the model\n",
    "\n",
    "# 1. Create the model\n",
    "model = tf.keras.Sequential([tf.keras.layers.Dense(1)\n",
    "                             ])\n",
    "\n",
    "# 2. Compile the model\n",
    "model.compile(loss=tf.keras.losses.mae,\n",
    "              optimizer=tf.keras.optimizers.SGD(),\n",
    "              metrics=['mae'])\n",
    "\n",
    "# 3. Fit the model (this time we'll train for longer)\n",
    "model.fit(tf.expand_dims(X, -1), y, epochs=500)"
   ]
  },
  {
   "cell_type": "code",
   "execution_count": 18,
   "metadata": {},
   "outputs": [
    {
     "data": {
      "text/plain": [
       "(<tf.Tensor: shape=(8,), dtype=float32, numpy=array([-7., -4., -1.,  2.,  5.,  8., 11., 14.], dtype=float32)>,\n",
       " <tf.Tensor: shape=(8,), dtype=float32, numpy=array([ 3.,  6.,  9., 12., 15., 18., 21., 24.], dtype=float32)>)"
      ]
     },
     "execution_count": 18,
     "metadata": {},
     "output_type": "execute_result"
    }
   ],
   "source": [
    "# Remind ourselves of the data\n",
    "X, y"
   ]
  },
  {
   "cell_type": "code",
   "execution_count": 19,
   "metadata": {},
   "outputs": [
    {
     "name": "stdout",
     "output_type": "stream",
     "text": [
      "1/1 [==============================] - 0s 226ms/step\n"
     ]
    },
    {
     "data": {
      "text/plain": [
       "array([[30.224163]], dtype=float32)"
      ]
     },
     "execution_count": 19,
     "metadata": {},
     "output_type": "execute_result"
    }
   ],
   "source": [
    "# Let's see if our model's prediction has improved...\n",
    "model.predict([17.0])"
   ]
  },
  {
   "cell_type": "code",
   "execution_count": 20,
   "metadata": {},
   "outputs": [
    {
     "name": "stdout",
     "output_type": "stream",
     "text": [
      "Epoch 1/100\n",
      "1/1 [==============================] - 1s 1s/step - loss: 12.9166 - mae: 12.9166\n",
      "Epoch 2/100\n",
      "1/1 [==============================] - 0s 10ms/step - loss: 12.2646 - mae: 12.2646\n",
      "Epoch 3/100\n",
      "1/1 [==============================] - 0s 12ms/step - loss: 11.6114 - mae: 11.6114\n",
      "Epoch 4/100\n",
      "1/1 [==============================] - 0s 12ms/step - loss: 10.9557 - mae: 10.9557\n",
      "Epoch 5/100\n",
      "1/1 [==============================] - 0s 13ms/step - loss: 10.2949 - mae: 10.2949\n",
      "Epoch 6/100\n",
      "1/1 [==============================] - 0s 13ms/step - loss: 9.6261 - mae: 9.6261\n",
      "Epoch 7/100\n",
      "1/1 [==============================] - 0s 13ms/step - loss: 8.9463 - mae: 8.9463\n",
      "Epoch 8/100\n",
      "1/1 [==============================] - 0s 11ms/step - loss: 8.2523 - mae: 8.2523\n",
      "Epoch 9/100\n",
      "1/1 [==============================] - 0s 9ms/step - loss: 7.5407 - mae: 7.5407\n",
      "Epoch 10/100\n",
      "1/1 [==============================] - 0s 7ms/step - loss: 6.8585 - mae: 6.8585\n",
      "Epoch 11/100\n",
      "1/1 [==============================] - 0s 9ms/step - loss: 6.8003 - mae: 6.8003\n",
      "Epoch 12/100\n",
      "1/1 [==============================] - 0s 11ms/step - loss: 7.0663 - mae: 7.0663\n",
      "Epoch 13/100\n",
      "1/1 [==============================] - 0s 12ms/step - loss: 7.2229 - mae: 7.2229\n",
      "Epoch 14/100\n",
      "1/1 [==============================] - 0s 14ms/step - loss: 7.2865 - mae: 7.2865\n",
      "Epoch 15/100\n",
      "1/1 [==============================] - 0s 12ms/step - loss: 7.2720 - mae: 7.2720\n",
      "Epoch 16/100\n",
      "1/1 [==============================] - 0s 14ms/step - loss: 7.1928 - mae: 7.1928\n",
      "Epoch 17/100\n",
      "1/1 [==============================] - 0s 14ms/step - loss: 7.0606 - mae: 7.0606\n",
      "Epoch 18/100\n",
      "1/1 [==============================] - 0s 10ms/step - loss: 6.8854 - mae: 6.8854\n",
      "Epoch 19/100\n",
      "1/1 [==============================] - 0s 12ms/step - loss: 6.6759 - mae: 6.6759\n",
      "Epoch 20/100\n",
      "1/1 [==============================] - 0s 14ms/step - loss: 6.4395 - mae: 6.4395\n",
      "Epoch 21/100\n",
      "1/1 [==============================] - 0s 15ms/step - loss: 6.1826 - mae: 6.1826\n",
      "Epoch 22/100\n",
      "1/1 [==============================] - 0s 9ms/step - loss: 6.1117 - mae: 6.1117\n",
      "Epoch 23/100\n",
      "1/1 [==============================] - 0s 9ms/step - loss: 6.0660 - mae: 6.0660\n",
      "Epoch 24/100\n",
      "1/1 [==============================] - 0s 13ms/step - loss: 6.1924 - mae: 6.1924\n",
      "Epoch 25/100\n",
      "1/1 [==============================] - 0s 11ms/step - loss: 6.2315 - mae: 6.2315\n",
      "Epoch 26/100\n",
      "1/1 [==============================] - 0s 8ms/step - loss: 6.1619 - mae: 6.1619\n",
      "Epoch 27/100\n",
      "1/1 [==============================] - 0s 7ms/step - loss: 5.9985 - mae: 5.9985\n",
      "Epoch 28/100\n",
      "1/1 [==============================] - 0s 8ms/step - loss: 5.7514 - mae: 5.7514\n",
      "Epoch 29/100\n",
      "1/1 [==============================] - 0s 9ms/step - loss: 5.5839 - mae: 5.5839\n",
      "Epoch 30/100\n",
      "1/1 [==============================] - 0s 24ms/step - loss: 5.4734 - mae: 5.4734\n",
      "Epoch 31/100\n",
      "1/1 [==============================] - 0s 10ms/step - loss: 5.4231 - mae: 5.4231\n",
      "Epoch 32/100\n",
      "1/1 [==============================] - 0s 13ms/step - loss: 5.4258 - mae: 5.4258\n",
      "Epoch 33/100\n",
      "1/1 [==============================] - 0s 13ms/step - loss: 5.3809 - mae: 5.3809\n",
      "Epoch 34/100\n",
      "1/1 [==============================] - 0s 9ms/step - loss: 5.2920 - mae: 5.2920\n",
      "Epoch 35/100\n",
      "1/1 [==============================] - 0s 10ms/step - loss: 5.1630 - mae: 5.1630\n",
      "Epoch 36/100\n",
      "1/1 [==============================] - 0s 11ms/step - loss: 4.9974 - mae: 4.9974\n",
      "Epoch 37/100\n",
      "1/1 [==============================] - 0s 7ms/step - loss: 4.7987 - mae: 4.7987\n",
      "Epoch 38/100\n",
      "1/1 [==============================] - 0s 7ms/step - loss: 4.6930 - mae: 4.6930\n",
      "Epoch 39/100\n",
      "1/1 [==============================] - 0s 9ms/step - loss: 4.5998 - mae: 4.5998\n",
      "Epoch 40/100\n",
      "1/1 [==============================] - 0s 9ms/step - loss: 4.5315 - mae: 4.5315\n",
      "Epoch 41/100\n",
      "1/1 [==============================] - 0s 7ms/step - loss: 4.4384 - mae: 4.4384\n",
      "Epoch 42/100\n",
      "1/1 [==============================] - 0s 9ms/step - loss: 4.2384 - mae: 4.2384\n",
      "Epoch 43/100\n",
      "1/1 [==============================] - 0s 9ms/step - loss: 4.0923 - mae: 4.0923\n",
      "Epoch 44/100\n",
      "1/1 [==============================] - 0s 8ms/step - loss: 3.9387 - mae: 3.9387\n",
      "Epoch 45/100\n",
      "1/1 [==============================] - 0s 12ms/step - loss: 3.7772 - mae: 3.7772\n",
      "Epoch 46/100\n",
      "1/1 [==============================] - 0s 13ms/step - loss: 3.6329 - mae: 3.6329\n",
      "Epoch 47/100\n",
      "1/1 [==============================] - 0s 11ms/step - loss: 3.4937 - mae: 3.4937\n",
      "Epoch 48/100\n",
      "1/1 [==============================] - 0s 8ms/step - loss: 3.3001 - mae: 3.3001\n",
      "Epoch 49/100\n",
      "1/1 [==============================] - 0s 10ms/step - loss: 3.1160 - mae: 3.1160\n",
      "Epoch 50/100\n",
      "1/1 [==============================] - 0s 10ms/step - loss: 2.9427 - mae: 2.9427\n",
      "Epoch 51/100\n",
      "1/1 [==============================] - 0s 19ms/step - loss: 2.7577 - mae: 2.7577\n",
      "Epoch 52/100\n",
      "1/1 [==============================] - 0s 9ms/step - loss: 2.6025 - mae: 2.6025\n",
      "Epoch 53/100\n",
      "1/1 [==============================] - 0s 11ms/step - loss: 2.3404 - mae: 2.3404\n",
      "Epoch 54/100\n",
      "1/1 [==============================] - 0s 12ms/step - loss: 2.1089 - mae: 2.1089\n",
      "Epoch 55/100\n",
      "1/1 [==============================] - 0s 18ms/step - loss: 1.8991 - mae: 1.8991\n",
      "Epoch 56/100\n",
      "1/1 [==============================] - 0s 10ms/step - loss: 1.6686 - mae: 1.6686\n",
      "Epoch 57/100\n",
      "1/1 [==============================] - 0s 11ms/step - loss: 1.3847 - mae: 1.3847\n",
      "Epoch 58/100\n",
      "1/1 [==============================] - 0s 9ms/step - loss: 1.1303 - mae: 1.1303\n",
      "Epoch 59/100\n",
      "1/1 [==============================] - 0s 9ms/step - loss: 0.9109 - mae: 0.9109\n",
      "Epoch 60/100\n",
      "1/1 [==============================] - 0s 10ms/step - loss: 0.5729 - mae: 0.5729\n",
      "Epoch 61/100\n",
      "1/1 [==============================] - 0s 5ms/step - loss: 0.2939 - mae: 0.2939\n",
      "Epoch 62/100\n",
      "1/1 [==============================] - 0s 6ms/step - loss: 0.1239 - mae: 0.1239\n",
      "Epoch 63/100\n",
      "1/1 [==============================] - 0s 12ms/step - loss: 0.4302 - mae: 0.4302\n",
      "Epoch 64/100\n",
      "1/1 [==============================] - 0s 10ms/step - loss: 0.6250 - mae: 0.6250\n",
      "Epoch 65/100\n",
      "1/1 [==============================] - 0s 13ms/step - loss: 0.6236 - mae: 0.6236\n",
      "Epoch 66/100\n",
      "1/1 [==============================] - 0s 12ms/step - loss: 0.8326 - mae: 0.8326\n",
      "Epoch 67/100\n",
      "1/1 [==============================] - 0s 10ms/step - loss: 0.8161 - mae: 0.8161\n",
      "Epoch 68/100\n",
      "1/1 [==============================] - 0s 11ms/step - loss: 0.7719 - mae: 0.7719\n",
      "Epoch 69/100\n",
      "1/1 [==============================] - 0s 10ms/step - loss: 0.7643 - mae: 0.7643\n",
      "Epoch 70/100\n",
      "1/1 [==============================] - 0s 7ms/step - loss: 0.6308 - mae: 0.6308\n",
      "Epoch 71/100\n",
      "1/1 [==============================] - 0s 9ms/step - loss: 0.5488 - mae: 0.5488\n",
      "Epoch 72/100\n",
      "1/1 [==============================] - 0s 9ms/step - loss: 0.3955 - mae: 0.3955\n",
      "Epoch 73/100\n",
      "1/1 [==============================] - 0s 11ms/step - loss: 0.2689 - mae: 0.2689\n",
      "Epoch 74/100\n",
      "1/1 [==============================] - 0s 7ms/step - loss: 0.1809 - mae: 0.1809\n",
      "Epoch 75/100\n",
      "1/1 [==============================] - 0s 7ms/step - loss: 0.0921 - mae: 0.0921\n",
      "Epoch 76/100\n",
      "1/1 [==============================] - 0s 7ms/step - loss: 0.2100 - mae: 0.2100\n",
      "Epoch 77/100\n",
      "1/1 [==============================] - 0s 11ms/step - loss: 0.3164 - mae: 0.3164\n",
      "Epoch 78/100\n",
      "1/1 [==============================] - 0s 15ms/step - loss: 0.3142 - mae: 0.3142\n",
      "Epoch 79/100\n",
      "1/1 [==============================] - 0s 13ms/step - loss: 0.3091 - mae: 0.3091\n",
      "Epoch 80/100\n",
      "1/1 [==============================] - 0s 11ms/step - loss: 0.2818 - mae: 0.2818\n",
      "Epoch 81/100\n",
      "1/1 [==============================] - 0s 11ms/step - loss: 0.2602 - mae: 0.2602\n",
      "Epoch 82/100\n",
      "1/1 [==============================] - 0s 8ms/step - loss: 0.1465 - mae: 0.1465\n",
      "Epoch 83/100\n",
      "1/1 [==============================] - 0s 8ms/step - loss: 0.0430 - mae: 0.0430\n",
      "Epoch 84/100\n",
      "1/1 [==============================] - 0s 10ms/step - loss: 0.3413 - mae: 0.3413\n",
      "Epoch 85/100\n",
      "1/1 [==============================] - 0s 9ms/step - loss: 0.3446 - mae: 0.3446\n",
      "Epoch 86/100\n",
      "1/1 [==============================] - 0s 10ms/step - loss: 0.3091 - mae: 0.3091\n",
      "Epoch 87/100\n",
      "1/1 [==============================] - 0s 9ms/step - loss: 0.3980 - mae: 0.3980\n",
      "Epoch 88/100\n",
      "1/1 [==============================] - 0s 7ms/step - loss: 0.3054 - mae: 0.3054\n",
      "Epoch 89/100\n",
      "1/1 [==============================] - 0s 8ms/step - loss: 0.3629 - mae: 0.3629\n",
      "Epoch 90/100\n",
      "1/1 [==============================] - 0s 10ms/step - loss: 0.3205 - mae: 0.3205\n",
      "Epoch 91/100\n",
      "1/1 [==============================] - 0s 10ms/step - loss: 0.1175 - mae: 0.1175\n",
      "Epoch 92/100\n",
      "1/1 [==============================] - 0s 10ms/step - loss: 0.1080 - mae: 0.1080\n",
      "Epoch 93/100\n",
      "1/1 [==============================] - 0s 8ms/step - loss: 0.1802 - mae: 0.1802\n",
      "Epoch 94/100\n",
      "1/1 [==============================] - 0s 9ms/step - loss: 0.2397 - mae: 0.2397\n",
      "Epoch 95/100\n",
      "1/1 [==============================] - 0s 12ms/step - loss: 0.1401 - mae: 0.1401\n",
      "Epoch 96/100\n",
      "1/1 [==============================] - 0s 9ms/step - loss: 0.3412 - mae: 0.3412\n",
      "Epoch 97/100\n",
      "1/1 [==============================] - 0s 13ms/step - loss: 0.3312 - mae: 0.3312\n",
      "Epoch 98/100\n",
      "1/1 [==============================] - 0s 24ms/step - loss: 0.0312 - mae: 0.0312\n",
      "Epoch 99/100\n",
      "1/1 [==============================] - 0s 9ms/step - loss: 0.4582 - mae: 0.4582\n",
      "Epoch 100/100\n",
      "1/1 [==============================] - 0s 16ms/step - loss: 0.5942 - mae: 0.5942\n"
     ]
    },
    {
     "data": {
      "text/plain": [
       "<keras.src.callbacks.History at 0x253f5ca3790>"
      ]
     },
     "execution_count": 20,
     "metadata": {},
     "output_type": "execute_result"
    }
   ],
   "source": [
    "# Let's see if we can make another to improve our model\n",
    "\n",
    "# 1. Create the model (this time with an extra hidden layer with 100 hidden units)\n",
    "model = tf.keras.Sequential([\n",
    "    tf.keras.layers.Dense(50, activation=None),\n",
    "    tf.keras.layers.Dense(1)\n",
    "])\n",
    "\n",
    "# 2. Compile the model\n",
    "model.compile(loss='mae',\n",
    "              optimizer=tf.keras.optimizers.Adam(learning_rate=0.01),\n",
    "              metrics=['mae'])\n",
    "\n",
    "# 3. Fit the model\n",
    "model.fit(tf.expand_dims(X, -1), y, epochs=100)"
   ]
  },
  {
   "cell_type": "code",
   "execution_count": 21,
   "metadata": {},
   "outputs": [
    {
     "data": {
      "text/plain": [
       "(<tf.Tensor: shape=(8,), dtype=float32, numpy=array([-7., -4., -1.,  2.,  5.,  8., 11., 14.], dtype=float32)>,\n",
       " <tf.Tensor: shape=(8,), dtype=float32, numpy=array([ 3.,  6.,  9., 12., 15., 18., 21., 24.], dtype=float32)>)"
      ]
     },
     "execution_count": 21,
     "metadata": {},
     "output_type": "execute_result"
    }
   ],
   "source": [
    "# Let's remind ourselves of the data\n",
    "X, y"
   ]
  },
  {
   "cell_type": "code",
   "execution_count": 22,
   "metadata": {},
   "outputs": [
    {
     "name": "stdout",
     "output_type": "stream",
     "text": [
      "1/1 [==============================] - 0s 152ms/step\n"
     ]
    },
    {
     "data": {
      "text/plain": [
       "array([[25.917984]], dtype=float32)"
      ]
     },
     "execution_count": 22,
     "metadata": {},
     "output_type": "execute_result"
    }
   ],
   "source": [
    "# Let's try to make a prediction\n",
    "model.predict([17.0])"
   ]
  },
  {
   "cell_type": "markdown",
   "metadata": {},
   "source": [
    "## Evaluating a model\n",
    "\n",
    "In practice, a typical worflow you'll go through when building neural networks is:\n",
    "\n",
    "```\n",
    "Build a model -> fit it -> evaluate it -> tweak a model -> fit it -> evaluate it -> tweak a model -> fit it -> evaluate it ...\n",
    "```"
   ]
  },
  {
   "cell_type": "markdown",
   "metadata": {},
   "source": [
    "When it comes to evaluations ... there are 3 words you should memorize:\n",
    "\n",
    "> 'Visualize, Visualize, Visualize\n",
    "\n",
    "It's a good idea to visualize:\n",
    "* The data - what data are we working with? What does it look like?\n",
    "* The model itself - what does our model look like?\n",
    "* The training of a model - how does a model perform while it learns?\n",
    "* The predictions of the model - how do the predictions of a model line up against the ground truth (the original labels)?"
   ]
  },
  {
   "cell_type": "code",
   "execution_count": 23,
   "metadata": {},
   "outputs": [
    {
     "data": {
      "text/plain": [
       "<tf.Tensor: shape=(50,), dtype=int32, numpy=\n",
       "array([-100,  -96,  -92,  -88,  -84,  -80,  -76,  -72,  -68,  -64,  -60,\n",
       "        -56,  -52,  -48,  -44,  -40,  -36,  -32,  -28,  -24,  -20,  -16,\n",
       "        -12,   -8,   -4,    0,    4,    8,   12,   16,   20,   24,   28,\n",
       "         32,   36,   40,   44,   48,   52,   56,   60,   64,   68,   72,\n",
       "         76,   80,   84,   88,   92,   96])>"
      ]
     },
     "execution_count": 23,
     "metadata": {},
     "output_type": "execute_result"
    }
   ],
   "source": [
    "# Make a bigger dataset\n",
    "X = tf.range(-100, 100, 4)\n",
    "X"
   ]
  },
  {
   "cell_type": "code",
   "execution_count": 24,
   "metadata": {},
   "outputs": [
    {
     "data": {
      "text/plain": [
       "<tf.Tensor: shape=(50,), dtype=int32, numpy=\n",
       "array([-90, -86, -82, -78, -74, -70, -66, -62, -58, -54, -50, -46, -42,\n",
       "       -38, -34, -30, -26, -22, -18, -14, -10,  -6,  -2,   2,   6,  10,\n",
       "        14,  18,  22,  26,  30,  34,  38,  42,  46,  50,  54,  58,  62,\n",
       "        66,  70,  74,  78,  82,  86,  90,  94,  98, 102, 106])>"
      ]
     },
     "execution_count": 24,
     "metadata": {},
     "output_type": "execute_result"
    }
   ],
   "source": [
    "# Make labels for the dataset\n",
    "y = X + 10\n",
    "y"
   ]
  },
  {
   "cell_type": "code",
   "execution_count": 25,
   "metadata": {},
   "outputs": [
    {
     "data": {
      "text/plain": [
       "<matplotlib.collections.PathCollection at 0x253f6e0e1d0>"
      ]
     },
     "execution_count": 25,
     "metadata": {},
     "output_type": "execute_result"
    },
    {
     "data": {
      "image/png": "[encoded data removed]",
      "text/plain": [
       "<Figure size 640x480 with 1 Axes>"
      ]
     },
     "metadata": {},
     "output_type": "display_data"
    }
   ],
   "source": [
    "# Visualize the data\n",
    "plt.scatter(X, y)"
   ]
  },
  {
   "cell_type": "markdown",
   "metadata": {},
   "source": [
    "### The 3 sets...\n",
    "* **Train set** - the model learns from this data, which is tipically 70 - 80% of the total data you have available.\n",
    "* **Validation set** - the model gets tuned on this data, which is tipically 10 - 15%.\n",
    "* **Test set** - the model gets evaluated on this data to test what iy has learned, this set is tipically 10 - 15% of the total data available."
   ]
  },
  {
   "cell_type": "code",
   "execution_count": 26,
   "metadata": {},
   "outputs": [
    {
     "data": {
      "text/plain": [
       "50"
      ]
     },
     "execution_count": 26,
     "metadata": {},
     "output_type": "execute_result"
    }
   ],
   "source": [
    "# Check the length of how many samples we have\n",
    "len(X)"
   ]
  },
  {
   "cell_type": "code",
   "execution_count": 27,
   "metadata": {},
   "outputs": [
    {
     "data": {
      "text/plain": [
       "(40, 10, 40, 10)"
      ]
     },
     "execution_count": 27,
     "metadata": {},
     "output_type": "execute_result"
    }
   ],
   "source": [
    "# Split the data into train and test sets\n",
    "X_train = X[:40] # first 40 are training samples (80% of the data)\n",
    "y_train = y[:40]\n",
    "\n",
    "X_test = X[40:] # last 10 are testing samples (20% of the data)\n",
    "y_test = y[40:]\n",
    "\n",
    "len(X_train), len(X_test), len(y_train), len(y_test)"
   ]
  },
  {
   "cell_type": "markdown",
   "metadata": {},
   "source": [
    "### Visualizing the data\n",
    " \n",
    " ow we've got our data in training and test sets... let's visualize it again!"
   ]
  },
  {
   "cell_type": "code",
   "execution_count": 28,
   "metadata": {},
   "outputs": [
    {
     "data": {
      "text/plain": [
       "<matplotlib.legend.Legend at 0x253f6ed4130>"
      ]
     },
     "execution_count": 28,
     "metadata": {},
     "output_type": "execute_result"
    },
    {
     "data": {
      "image/png": "[encoded data removed]",
      "text/plain": [
       "<Figure size 1000x700 with 1 Axes>"
      ]
     },
     "metadata": {},
     "output_type": "display_data"
    }
   ],
   "source": [
    "plt.figure(figsize=(10, 7))\n",
    "# Plot training data in blue\n",
    "plt.scatter(X_train, y_train, c='b', label='Training data')\n",
    "# Plot test data in green\n",
    "plt.scatter(X_test, y_test, c='g', label='Training data')\n",
    "# Show a legend\n",
    "plt.legend()"
   ]
  },
  {
   "cell_type": "code",
   "execution_count": 32,
   "metadata": {},
   "outputs": [],
   "source": [
    "# Let's have look at how to build a neural network for our data\n",
    "\n",
    "# 1.  Create a model\n",
    "model = tf.keras.Sequential([\n",
    "    tf.keras.layers.Dense(1)\n",
    "])\n",
    "\n",
    "# 2. Compile the model\n",
    "model.compile(loss=tf.keras.losses.mae,\n",
    "              optimizer=tf.keras.optimizers.SGD(),\n",
    "              metrics=['mae'])\n",
    "\n",
    "# 3. Fit the model\n",
    "# model.fit(X_train, y_train, epochs=100)"
   ]
  },
  {
   "cell_type": "markdown",
   "metadata": {},
   "source": [
    "### Visualizing the model"
   ]
  },
  {
   "cell_type": "code",
   "execution_count": 34,
   "metadata": {},
   "outputs": [
    {
     "ename": "ValueError",
     "evalue": "This model has not yet been built. Build the model first by calling `build()` or by calling the model on a batch of data.",
     "output_type": "error",
     "traceback": [
      "\u001b[1;31m---------------------------------------------------------------------------\u001b[0m",
      "\u001b[1;31mValueError\u001b[0m                                Traceback (most recent call last)",
      "Cell \u001b[1;32mIn[34], line 1\u001b[0m\n\u001b[1;32m----> 1\u001b[0m model\u001b[39m.\u001b[39;49msummary()\n",
      "File \u001b[1;32mc:\\Users\\Ricardo Jaramillo\\Documents\\3_Personal\\1_Courses\\Python-Tensorflow\\tensorflow\\lib\\site-packages\\keras\\src\\engine\\training.py:3403\u001b[0m, in \u001b[0;36mModel.summary\u001b[1;34m(self, line_length, positions, print_fn, expand_nested, show_trainable, layer_range)\u001b[0m\n\u001b[0;32m   3372\u001b[0m \u001b[39m\u001b[39m\u001b[39m\"\"\"Prints a string summary of the network.\u001b[39;00m\n\u001b[0;32m   3373\u001b[0m \n\u001b[0;32m   3374\u001b[0m \u001b[39mArgs:\u001b[39;00m\n\u001b[1;32m   (...)\u001b[0m\n\u001b[0;32m   3400\u001b[0m \u001b[39m    ValueError: if `summary()` is called before the model is built.\u001b[39;00m\n\u001b[0;32m   3401\u001b[0m \u001b[39m\"\"\"\u001b[39;00m\n\u001b[0;32m   3402\u001b[0m \u001b[39mif\u001b[39;00m \u001b[39mnot\u001b[39;00m \u001b[39mself\u001b[39m\u001b[39m.\u001b[39mbuilt:\n\u001b[1;32m-> 3403\u001b[0m     \u001b[39mraise\u001b[39;00m \u001b[39mValueError\u001b[39;00m(\n\u001b[0;32m   3404\u001b[0m         \u001b[39m\"\u001b[39m\u001b[39mThis model has not yet been built. \u001b[39m\u001b[39m\"\u001b[39m\n\u001b[0;32m   3405\u001b[0m         \u001b[39m\"\u001b[39m\u001b[39mBuild the model first by calling `build()` or by calling \u001b[39m\u001b[39m\"\u001b[39m\n\u001b[0;32m   3406\u001b[0m         \u001b[39m\"\u001b[39m\u001b[39mthe model on a batch of data.\u001b[39m\u001b[39m\"\u001b[39m\n\u001b[0;32m   3407\u001b[0m     )\n\u001b[0;32m   3408\u001b[0m layer_utils\u001b[39m.\u001b[39mprint_summary(\n\u001b[0;32m   3409\u001b[0m     \u001b[39mself\u001b[39m,\n\u001b[0;32m   3410\u001b[0m     line_length\u001b[39m=\u001b[39mline_length,\n\u001b[1;32m   (...)\u001b[0m\n\u001b[0;32m   3415\u001b[0m     layer_range\u001b[39m=\u001b[39mlayer_range,\n\u001b[0;32m   3416\u001b[0m )\n",
      "\u001b[1;31mValueError\u001b[0m: This model has not yet been built. Build the model first by calling `build()` or by calling the model on a batch of data."
     ]
    }
   ],
   "source": [
    "model.summary()"
   ]
  },
  {
   "cell_type": "code",
   "execution_count": 37,
   "metadata": {},
   "outputs": [
    {
     "data": {
      "text/plain": [
       "(TensorShape([]), <tf.Tensor: shape=(), dtype=int32, numpy=-90>)"
      ]
     },
     "execution_count": 37,
     "metadata": {},
     "output_type": "execute_result"
    }
   ],
   "source": [
    "X[0].shape, y[0]"
   ]
  },
  {
   "cell_type": "code",
   "execution_count": 65,
   "metadata": {},
   "outputs": [],
   "source": [
    "# Let's create a model which builds automatically by defining the input_shape argument in the first layer\n",
    "tf.random.set_seed(42)\n",
    "\n",
    "# 1. Create the model\n",
    "model = tf.keras.Sequential([\n",
    "    tf.keras.layers.Dense(1, input_shape=[1])\n",
    "])\n",
    "\n",
    "# 2. Compile the model\n",
    "model.compile(loss=tf.keras.losses.mae,\n",
    "              optimizer=tf.keras.optimizers.SGD(),\n",
    "              metrics=['mae'])\n",
    "\n"
   ]
  },
  {
   "cell_type": "code",
   "execution_count": 66,
   "metadata": {},
   "outputs": [
    {
     "name": "stdout",
     "output_type": "stream",
     "text": [
      "Model: \"sequential_17\"\n",
      "_________________________________________________________________\n",
      " Layer (type)                Output Shape              Param #   \n",
      "=================================================================\n",
      " dense_18 (Dense)            (None, 1)                 2         \n",
      "                                                                 \n",
      "=================================================================\n",
      "Total params: 2 (8.00 Byte)\n",
      "Trainable params: 2 (8.00 Byte)\n",
      "Non-trainable params: 0 (0.00 Byte)\n",
      "_________________________________________________________________\n"
     ]
    }
   ],
   "source": [
    "model.summary()"
   ]
  },
  {
   "cell_type": "markdown",
   "metadata": {},
   "source": [
    "* Total params - total number of parameters in the model.\n",
    "* Trainable parameters - these are the parameters (patterns) the model can update as it trains.\n",
    "* Non-trainable params . these parameters aren't updated during training (this is typical when you bring in already learn patterns or patameters from other models during **transfer learning**)"
   ]
  },
  {
   "cell_type": "code",
   "execution_count": 67,
   "metadata": {},
   "outputs": [
    {
     "data": {
      "text/plain": [
       "<keras.src.callbacks.History at 0x253f8ce14e0>"
      ]
     },
     "execution_count": 67,
     "metadata": {},
     "output_type": "execute_result"
    }
   ],
   "source": [
    "# Let's fit our model to the training data\n",
    "model.fit(X_train, y_train, epochs=100, verbose=0)"
   ]
  },
  {
   "cell_type": "code",
   "execution_count": null,
   "metadata": {},
   "outputs": [],
   "source": []
  }
 ],
 "metadata": {
  "kernelspec": {
   "display_name": "tensorflow",
   "language": "python",
   "name": "python3"
  },
  "language_info": {
   "codemirror_mode": {
    "name": "ipython",
    "version": 3
   },
   "file_extension": ".py",
   "mimetype": "text/x-python",
   "name": "python",
   "nbconvert_exporter": "python",
   "pygments_lexer": "ipython3",
   "version": "3.10.8"
  },
  "orig_nbformat": 4
 },
 "nbformat": 4,
 "nbformat_minor": 2
}
