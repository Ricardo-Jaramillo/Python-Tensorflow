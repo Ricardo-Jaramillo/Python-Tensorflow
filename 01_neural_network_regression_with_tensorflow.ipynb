{
  "cells": [
    {
      "cell_type": "markdown",
      "metadata": {
        "id": "view-in-github",
        "colab_type": "text"
      },
      "source": [
        "<a href=\"https://colab.research.google.com/github/Ricardo-Jaramillo/Python-Tensorflow/blob/main/01_neural_network_regression_with_tensorflow.ipynb\" target=\"_parent\"><img src=\"https://colab.research.google.com/assets/colab-badge.svg\" alt=\"Open In Colab\"/></a>"
      ]
    },
    {
      "cell_type": "markdown",
      "metadata": {
        "id": "p5abFw3aRp0m"
      },
      "source": [
        "# Introduction to regression with Neural Networks in TensorFlow\n",
        "\n",
        "Predicting a numerical variable based on some other combination of variables, even chorter... predicting a number."
      ]
    },
    {
      "cell_type": "code",
      "execution_count": 1,
      "metadata": {
        "colab": {
          "base_uri": "https://localhost:8080/"
        },
        "id": "oMbl-G3ARp0p",
        "outputId": "c6c65981-7af9-482e-f156-f999c402294b"
      },
      "outputs": [
        {
          "output_type": "stream",
          "name": "stdout",
          "text": [
            "2.13.0\n"
          ]
        }
      ],
      "source": [
        "# Import TensorFlow\n",
        "import tensorflow as tf\n",
        "print(tf.__version__)"
      ]
    },
    {
      "cell_type": "markdown",
      "metadata": {
        "id": "RhGKSXX-Rp0r"
      },
      "source": [
        "## Creating data to view and fit"
      ]
    },
    {
      "cell_type": "code",
      "execution_count": 2,
      "metadata": {
        "colab": {
          "base_uri": "https://localhost:8080/",
          "height": 452
        },
        "id": "yNmrXNqiRp0r",
        "outputId": "da76bde6-aaec-420a-fb81-5c36a89e8fb1"
      },
      "outputs": [
        {
          "output_type": "execute_result",
          "data": {
            "text/plain": [
              "<matplotlib.collections.PathCollection at 0x79fc20f1b610>"
            ]
          },
          "metadata": {},
          "execution_count": 2
        },
        {
          "output_type": "display_data",
          "data": {
            "text/plain": [
              "<Figure size 640x480 with 1 Axes>"
            ],
            "image/png": "[encoded data removed]"
          },
          "metadata": {}
        }
      ],
      "source": [
        "import numpy as np\n",
        "import matplotlib.pyplot as plt\n",
        "\n",
        "# Create features\n",
        "X = np.array([-7.0, -4.0, -1.0, 2.0, 5.0, 8.0, 11.0, 14.0])\n",
        "\n",
        "# Create labels\n",
        "y = np.array([3.0, 6.0, 9.0, 12.0, 15.0, 18.0, 21.0, 24.0])\n",
        "\n",
        "# Visualize it\n",
        "plt.scatter(X, y)"
      ]
    },
    {
      "cell_type": "code",
      "execution_count": 3,
      "metadata": {
        "colab": {
          "base_uri": "https://localhost:8080/"
        },
        "id": "O_4YfxrlRp0r",
        "outputId": "a5bf069b-683c-4948-a617-15fb23a8e1b0"
      },
      "outputs": [
        {
          "output_type": "execute_result",
          "data": {
            "text/plain": [
              "array([ True,  True,  True,  True,  True,  True,  True,  True])"
            ]
          },
          "metadata": {},
          "execution_count": 3
        }
      ],
      "source": [
        "y == X + 10"
      ]
    },
    {
      "cell_type": "markdown",
      "metadata": {
        "id": "IvgzaQTiRp0r"
      },
      "source": [
        "## Input and Output shapes"
      ]
    },
    {
      "cell_type": "code",
      "execution_count": 4,
      "metadata": {
        "colab": {
          "base_uri": "https://localhost:8080/"
        },
        "id": "pIKDw-DMRp0s",
        "outputId": "d727cbee-b2c0-4409-c723-3d6ee1af540c"
      },
      "outputs": [
        {
          "output_type": "execute_result",
          "data": {
            "text/plain": [
              "(<tf.Tensor: shape=(3,), dtype=string, numpy=array([b'bedroom', b'bathroom', b'garage'], dtype=object)>,\n",
              " <tf.Tensor: shape=(1,), dtype=int32, numpy=array([939700], dtype=int32)>)"
            ]
          },
          "metadata": {},
          "execution_count": 4
        }
      ],
      "source": [
        "# Create a demo tensor for our housing price prediction problem\n",
        "house_info = tf.constant(['bedroom', 'bathroom', 'garage'])\n",
        "house_price = tf.constant([939700])\n",
        "house_info, house_price"
      ]
    },
    {
      "cell_type": "code",
      "execution_count": 5,
      "metadata": {
        "colab": {
          "base_uri": "https://localhost:8080/"
        },
        "id": "BspVdkAzRp0s",
        "outputId": "50c07315-f150-442e-9708-130d238f3698"
      },
      "outputs": [
        {
          "output_type": "execute_result",
          "data": {
            "text/plain": [
              "(-7.0, 3.0)"
            ]
          },
          "metadata": {},
          "execution_count": 5
        }
      ],
      "source": [
        "X[0], y[0]"
      ]
    },
    {
      "cell_type": "code",
      "execution_count": 6,
      "metadata": {
        "colab": {
          "base_uri": "https://localhost:8080/"
        },
        "id": "5EA7GvKSRp0s",
        "outputId": "aeec4bbf-fa76-43aa-abd5-d82bbc7b39f0"
      },
      "outputs": [
        {
          "output_type": "execute_result",
          "data": {
            "text/plain": [
              "((), ())"
            ]
          },
          "metadata": {},
          "execution_count": 6
        }
      ],
      "source": [
        "input_shape = X[0].shape\n",
        "output_shape = y[0].shape\n",
        "input_shape, output_shape"
      ]
    },
    {
      "cell_type": "code",
      "execution_count": 7,
      "metadata": {
        "colab": {
          "base_uri": "https://localhost:8080/"
        },
        "id": "VSijuy2kRp0t",
        "outputId": "49ecff52-582d-479c-9e24-37014b701e7d"
      },
      "outputs": [
        {
          "output_type": "execute_result",
          "data": {
            "text/plain": [
              "0"
            ]
          },
          "metadata": {},
          "execution_count": 7
        }
      ],
      "source": [
        "X[0].ndim"
      ]
    },
    {
      "cell_type": "code",
      "execution_count": 8,
      "metadata": {
        "colab": {
          "base_uri": "https://localhost:8080/"
        },
        "id": "MIlpXv2PRp0u",
        "outputId": "bb30bf53-e2c1-4800-d63c-7bd42ab1f03f"
      },
      "outputs": [
        {
          "output_type": "execute_result",
          "data": {
            "text/plain": [
              "(-7.0, 3.0)"
            ]
          },
          "metadata": {},
          "execution_count": 8
        }
      ],
      "source": [
        "X[0], y[0]"
      ]
    },
    {
      "cell_type": "code",
      "execution_count": 9,
      "metadata": {
        "colab": {
          "base_uri": "https://localhost:8080/"
        },
        "id": "BQMxeuWNRp0u",
        "outputId": "c5ade997-6856-48eb-d2c6-fd89a872cc3a"
      },
      "outputs": [
        {
          "output_type": "execute_result",
          "data": {
            "text/plain": [
              "(<tf.Tensor: shape=(8,), dtype=float32, numpy=array([-7., -4., -1.,  2.,  5.,  8., 11., 14.], dtype=float32)>,\n",
              " <tf.Tensor: shape=(8,), dtype=float32, numpy=array([ 3.,  6.,  9., 12., 15., 18., 21., 24.], dtype=float32)>)"
            ]
          },
          "metadata": {},
          "execution_count": 9
        }
      ],
      "source": [
        "# Turn our NumPy arays into tensors\n",
        "X = tf.constant(X, dtype=tf.float32)\n",
        "y = tf.constant(y, dtype=tf.float32)\n",
        "X, y"
      ]
    },
    {
      "cell_type": "code",
      "execution_count": 10,
      "metadata": {
        "colab": {
          "base_uri": "https://localhost:8080/"
        },
        "id": "UZAJBLjBRp0u",
        "outputId": "c2b23bd7-8e01-4346-b55a-f1b3e79e5733"
      },
      "outputs": [
        {
          "output_type": "execute_result",
          "data": {
            "text/plain": [
              "(TensorShape([]), TensorShape([]))"
            ]
          },
          "metadata": {},
          "execution_count": 10
        }
      ],
      "source": [
        "input_shape = X[0].shape\n",
        "output_shape = y[0].shape\n",
        "input_shape, output_shape"
      ]
    },
    {
      "cell_type": "code",
      "execution_count": 11,
      "metadata": {
        "colab": {
          "base_uri": "https://localhost:8080/",
          "height": 452
        },
        "id": "8tn5sgP-Rp0v",
        "outputId": "0348caf1-97cf-42bd-df39-f4fc4632307b"
      },
      "outputs": [
        {
          "output_type": "execute_result",
          "data": {
            "text/plain": [
              "<matplotlib.collections.PathCollection at 0x79fc1eb7a980>"
            ]
          },
          "metadata": {},
          "execution_count": 11
        },
        {
          "output_type": "display_data",
          "data": {
            "text/plain": [
              "<Figure size 640x480 with 1 Axes>"
            ],
            "image/png": "[encoded data removed]"
          },
          "metadata": {}
        }
      ],
      "source": [
        "plt.scatter(X, y)"
      ]
    },
    {
      "cell_type": "markdown",
      "metadata": {
        "id": "7T7l0WJ9Rp0v"
      },
      "source": [
        "## Steps in modelling with TensorFlow\n",
        "\n",
        "1. **Creating a model** - define the input and output layers, as well as the hidden layers of a deep learning model.\n",
        "2. **Compiling a model** - define the loss function (in other words, the function which tells our model how wrong it is) and the optimizer (tells our model how to improve the patterns its learning) and evaluation metrics (what we can use to interpret the performance of our model).\n",
        "3. **Fitting a model** - letting the model try to find patterns between X & y (features and labels)."
      ]
    },
    {
      "cell_type": "code",
      "execution_count": 12,
      "metadata": {
        "colab": {
          "base_uri": "https://localhost:8080/"
        },
        "id": "p8MvT7W_Rp0v",
        "outputId": "54934b78-b1d0-4ffb-9805-6ff20e69e75e"
      },
      "outputs": [
        {
          "output_type": "stream",
          "name": "stdout",
          "text": [
            "Epoch 1/5\n",
            "1/1 [==============================] - 2s 2s/step - loss: 9.0947 - mae: 9.0947\n",
            "Epoch 2/5\n",
            "1/1 [==============================] - 0s 23ms/step - loss: 8.9622 - mae: 8.9622\n",
            "Epoch 3/5\n",
            "1/1 [==============================] - 0s 30ms/step - loss: 8.8297 - mae: 8.8297\n",
            "Epoch 4/5\n",
            "1/1 [==============================] - 0s 43ms/step - loss: 8.6972 - mae: 8.6972\n",
            "Epoch 5/5\n",
            "1/1 [==============================] - 0s 34ms/step - loss: 8.5647 - mae: 8.5647\n"
          ]
        },
        {
          "output_type": "execute_result",
          "data": {
            "text/plain": [
              "<keras.src.callbacks.History at 0x79fc1c302980>"
            ]
          },
          "metadata": {},
          "execution_count": 12
        }
      ],
      "source": [
        "# Set random seed\n",
        "tf.random.set_seed(42)\n",
        "\n",
        "# 1. Create a model using the Sequential API\n",
        "model = tf.keras.Sequential([tf.keras.layers.Dense(1)\n",
        "                             ])\n",
        "# 2. Compile the model\n",
        "model.compile(loss=tf.keras.losses.mae,             # mae -> mean absolute error\n",
        "              optimizer=tf.keras.optimizers.SGD(),\n",
        "              metrics=['mae'])    # sgd -> stochastic gradient descent\n",
        "\n",
        "# 3. Fit the model\n",
        "model.fit(tf.expand_dims(X, axis=-1), y, epochs=5)"
      ]
    },
    {
      "cell_type": "code",
      "execution_count": 13,
      "metadata": {
        "colab": {
          "base_uri": "https://localhost:8080/"
        },
        "id": "qZk4ch52Rp0w",
        "outputId": "d7b3baac-9f78-42f6-f534-836d499df7f0"
      },
      "outputs": [
        {
          "output_type": "execute_result",
          "data": {
            "text/plain": [
              "(<tf.Tensor: shape=(8,), dtype=float32, numpy=array([-7., -4., -1.,  2.,  5.,  8., 11., 14.], dtype=float32)>,\n",
              " <tf.Tensor: shape=(8,), dtype=float32, numpy=array([ 3.,  6.,  9., 12., 15., 18., 21., 24.], dtype=float32)>)"
            ]
          },
          "metadata": {},
          "execution_count": 13
        }
      ],
      "source": [
        "# Check out X and y\n",
        "X, y"
      ]
    },
    {
      "cell_type": "code",
      "execution_count": 14,
      "metadata": {
        "colab": {
          "base_uri": "https://localhost:8080/"
        },
        "id": "snZM_2ZXRp0w",
        "outputId": "cbd2d686-b06a-4db8-85d6-85d7e9a303a1"
      },
      "outputs": [
        {
          "output_type": "stream",
          "name": "stdout",
          "text": [
            "1/1 [==============================] - 1s 600ms/step\n"
          ]
        },
        {
          "output_type": "execute_result",
          "data": {
            "text/plain": [
              "array([[24.422054]], dtype=float32)"
            ]
          },
          "metadata": {},
          "execution_count": 14
        }
      ],
      "source": [
        "# Try and make a prediction using our model\n",
        "y_pred = model.predict([17.])\n",
        "y_pred"
      ]
    },
    {
      "cell_type": "code",
      "execution_count": 15,
      "metadata": {
        "colab": {
          "base_uri": "https://localhost:8080/"
        },
        "id": "GzUdRDuORp0w",
        "outputId": "f11f5369-4823-4645-819a-2019833ff64c"
      },
      "outputs": [
        {
          "output_type": "execute_result",
          "data": {
            "text/plain": [
              "array([[35.422054]], dtype=float32)"
            ]
          },
          "metadata": {},
          "execution_count": 15
        }
      ],
      "source": [
        "y_pred + 11"
      ]
    },
    {
      "cell_type": "markdown",
      "metadata": {
        "id": "bpjallKnRp0w"
      },
      "source": [
        "## Improving the model\n",
        "\n",
        "We can improve the model, by altering the steps we took to create a model.\n",
        "\n",
        "1. **Creating a model** - here we might add more layers, increase the number of hidden units (all called neurons) within each of the hidden layers, change the activation function of each layer.\n",
        "2. **Compiling a model** - here we might change the optimization function perhaps the **learning rate** of the optimization function.\n",
        "3. **Fitting a model** - here we might fit a model for more **epochs** (leave it trainning for longer) or on more data (give the model more examples to learn from)"
      ]
    },
    {
      "cell_type": "code",
      "execution_count": 16,
      "metadata": {
        "colab": {
          "base_uri": "https://localhost:8080/"
        },
        "id": "CqjmgQSfRp0w",
        "outputId": "2f87fea4-e2a5-44eb-aa5e-d08bf3a9fc98"
      },
      "outputs": [
        {
          "output_type": "stream",
          "name": "stdout",
          "text": [
            "Epoch 1/500\n",
            "1/1 [==============================] - 2s 2s/step - loss: 8.3488 - mae: 8.3488\n",
            "Epoch 2/500\n",
            "1/1 [==============================] - 0s 26ms/step - loss: 8.2163 - mae: 8.2163\n",
            "Epoch 3/500\n",
            "1/1 [==============================] - 0s 29ms/step - loss: 8.0838 - mae: 8.0838\n",
            "Epoch 4/500\n",
            "1/1 [==============================] - 0s 42ms/step - loss: 7.9513 - mae: 7.9513\n",
            "Epoch 5/500\n",
            "1/1 [==============================] - 0s 19ms/step - loss: 7.8188 - mae: 7.8188\n",
            "Epoch 6/500\n",
            "1/1 [==============================] - 0s 28ms/step - loss: 7.6863 - mae: 7.6863\n",
            "Epoch 7/500\n",
            "1/1 [==============================] - 0s 20ms/step - loss: 7.5538 - mae: 7.5538\n",
            "Epoch 8/500\n",
            "1/1 [==============================] - 0s 18ms/step - loss: 7.4475 - mae: 7.4475\n",
            "Epoch 9/500\n",
            "1/1 [==============================] - 0s 31ms/step - loss: 7.4419 - mae: 7.4419\n",
            "Epoch 10/500\n",
            "1/1 [==============================] - 0s 30ms/step - loss: 7.4362 - mae: 7.4362\n",
            "Epoch 11/500\n",
            "1/1 [==============================] - 0s 33ms/step - loss: 7.4306 - mae: 7.4306\n",
            "Epoch 12/500\n",
            "1/1 [==============================] - 0s 34ms/step - loss: 7.4250 - mae: 7.4250\n",
            "Epoch 13/500\n",
            "1/1 [==============================] - 0s 37ms/step - loss: 7.4194 - mae: 7.4194\n",
            "Epoch 14/500\n",
            "1/1 [==============================] - 0s 25ms/step - loss: 7.4138 - mae: 7.4138\n",
            "Epoch 15/500\n",
            "1/1 [==============================] - 0s 23ms/step - loss: 7.4081 - mae: 7.4081\n",
            "Epoch 16/500\n",
            "1/1 [==============================] - 0s 38ms/step - loss: 7.4025 - mae: 7.4025\n",
            "Epoch 17/500\n",
            "1/1 [==============================] - 0s 11ms/step - loss: 7.3969 - mae: 7.3969\n",
            "Epoch 18/500\n",
            "1/1 [==============================] - 0s 34ms/step - loss: 7.3913 - mae: 7.3913\n",
            "Epoch 19/500\n",
            "1/1 [==============================] - 0s 27ms/step - loss: 7.3856 - mae: 7.3856\n",
            "Epoch 20/500\n",
            "1/1 [==============================] - 0s 19ms/step - loss: 7.3800 - mae: 7.3800\n",
            "Epoch 21/500\n",
            "1/1 [==============================] - 0s 25ms/step - loss: 7.3744 - mae: 7.3744\n",
            "Epoch 22/500\n",
            "1/1 [==============================] - 0s 24ms/step - loss: 7.3687 - mae: 7.3687\n",
            "Epoch 23/500\n",
            "1/1 [==============================] - 0s 34ms/step - loss: 7.3631 - mae: 7.3631\n",
            "Epoch 24/500\n",
            "1/1 [==============================] - 0s 31ms/step - loss: 7.3575 - mae: 7.3575\n",
            "Epoch 25/500\n",
            "1/1 [==============================] - 0s 22ms/step - loss: 7.3519 - mae: 7.3519\n",
            "Epoch 26/500\n",
            "1/1 [==============================] - 0s 25ms/step - loss: 7.3463 - mae: 7.3463\n",
            "Epoch 27/500\n",
            "1/1 [==============================] - 0s 25ms/step - loss: 7.3406 - mae: 7.3406\n",
            "Epoch 28/500\n",
            "1/1 [==============================] - 0s 18ms/step - loss: 7.3350 - mae: 7.3350\n",
            "Epoch 29/500\n",
            "1/1 [==============================] - 0s 26ms/step - loss: 7.3294 - mae: 7.3294\n",
            "Epoch 30/500\n",
            "1/1 [==============================] - 0s 28ms/step - loss: 7.3238 - mae: 7.3238\n",
            "Epoch 31/500\n",
            "1/1 [==============================] - 0s 21ms/step - loss: 7.3181 - mae: 7.3181\n",
            "Epoch 32/500\n",
            "1/1 [==============================] - 0s 17ms/step - loss: 7.3125 - mae: 7.3125\n",
            "Epoch 33/500\n",
            "1/1 [==============================] - 0s 29ms/step - loss: 7.3069 - mae: 7.3069\n",
            "Epoch 34/500\n",
            "1/1 [==============================] - 0s 20ms/step - loss: 7.3013 - mae: 7.3013\n",
            "Epoch 35/500\n",
            "1/1 [==============================] - 0s 15ms/step - loss: 7.2956 - mae: 7.2956\n",
            "Epoch 36/500\n",
            "1/1 [==============================] - 0s 16ms/step - loss: 7.2900 - mae: 7.2900\n",
            "Epoch 37/500\n",
            "1/1 [==============================] - 0s 16ms/step - loss: 7.2844 - mae: 7.2844\n",
            "Epoch 38/500\n",
            "1/1 [==============================] - 0s 16ms/step - loss: 7.2788 - mae: 7.2788\n",
            "Epoch 39/500\n",
            "1/1 [==============================] - 0s 22ms/step - loss: 7.2731 - mae: 7.2731\n",
            "Epoch 40/500\n",
            "1/1 [==============================] - 0s 16ms/step - loss: 7.2675 - mae: 7.2675\n",
            "Epoch 41/500\n",
            "1/1 [==============================] - 0s 23ms/step - loss: 7.2619 - mae: 7.2619\n",
            "Epoch 42/500\n",
            "1/1 [==============================] - 0s 25ms/step - loss: 7.2562 - mae: 7.2562\n",
            "Epoch 43/500\n",
            "1/1 [==============================] - 0s 17ms/step - loss: 7.2506 - mae: 7.2506\n",
            "Epoch 44/500\n",
            "1/1 [==============================] - 0s 20ms/step - loss: 7.2450 - mae: 7.2450\n",
            "Epoch 45/500\n",
            "1/1 [==============================] - 0s 15ms/step - loss: 7.2394 - mae: 7.2394\n",
            "Epoch 46/500\n",
            "1/1 [==============================] - 0s 17ms/step - loss: 7.2338 - mae: 7.2338\n",
            "Epoch 47/500\n",
            "1/1 [==============================] - 0s 23ms/step - loss: 7.2281 - mae: 7.2281\n",
            "Epoch 48/500\n",
            "1/1 [==============================] - 0s 19ms/step - loss: 7.2225 - mae: 7.2225\n",
            "Epoch 49/500\n",
            "1/1 [==============================] - 0s 16ms/step - loss: 7.2169 - mae: 7.2169\n",
            "Epoch 50/500\n",
            "1/1 [==============================] - 0s 16ms/step - loss: 7.2113 - mae: 7.2113\n",
            "Epoch 51/500\n",
            "1/1 [==============================] - 0s 20ms/step - loss: 7.2056 - mae: 7.2056\n",
            "Epoch 52/500\n",
            "1/1 [==============================] - 0s 21ms/step - loss: 7.2000 - mae: 7.2000\n",
            "Epoch 53/500\n",
            "1/1 [==============================] - 0s 13ms/step - loss: 7.1944 - mae: 7.1944\n",
            "Epoch 54/500\n",
            "1/1 [==============================] - 0s 14ms/step - loss: 7.1888 - mae: 7.1888\n",
            "Epoch 55/500\n",
            "1/1 [==============================] - 0s 20ms/step - loss: 7.1831 - mae: 7.1831\n",
            "Epoch 56/500\n",
            "1/1 [==============================] - 0s 26ms/step - loss: 7.1775 - mae: 7.1775\n",
            "Epoch 57/500\n",
            "1/1 [==============================] - 0s 14ms/step - loss: 7.1719 - mae: 7.1719\n",
            "Epoch 58/500\n",
            "1/1 [==============================] - 0s 20ms/step - loss: 7.1663 - mae: 7.1663\n",
            "Epoch 59/500\n",
            "1/1 [==============================] - 0s 14ms/step - loss: 7.1606 - mae: 7.1606\n",
            "Epoch 60/500\n",
            "1/1 [==============================] - 0s 17ms/step - loss: 7.1550 - mae: 7.1550\n",
            "Epoch 61/500\n",
            "1/1 [==============================] - 0s 21ms/step - loss: 7.1494 - mae: 7.1494\n",
            "Epoch 62/500\n",
            "1/1 [==============================] - 0s 17ms/step - loss: 7.1438 - mae: 7.1438\n",
            "Epoch 63/500\n",
            "1/1 [==============================] - 0s 12ms/step - loss: 7.1381 - mae: 7.1381\n",
            "Epoch 64/500\n",
            "1/1 [==============================] - 0s 15ms/step - loss: 7.1325 - mae: 7.1325\n",
            "Epoch 65/500\n",
            "1/1 [==============================] - 0s 19ms/step - loss: 7.1269 - mae: 7.1269\n",
            "Epoch 66/500\n",
            "1/1 [==============================] - 0s 17ms/step - loss: 7.1213 - mae: 7.1213\n",
            "Epoch 67/500\n",
            "1/1 [==============================] - 0s 12ms/step - loss: 7.1156 - mae: 7.1156\n",
            "Epoch 68/500\n",
            "1/1 [==============================] - 0s 14ms/step - loss: 7.1100 - mae: 7.1100\n",
            "Epoch 69/500\n",
            "1/1 [==============================] - 0s 21ms/step - loss: 7.1044 - mae: 7.1044\n",
            "Epoch 70/500\n",
            "1/1 [==============================] - 0s 32ms/step - loss: 7.0988 - mae: 7.0988\n",
            "Epoch 71/500\n",
            "1/1 [==============================] - 0s 12ms/step - loss: 7.0931 - mae: 7.0931\n",
            "Epoch 72/500\n",
            "1/1 [==============================] - 0s 31ms/step - loss: 7.0875 - mae: 7.0875\n",
            "Epoch 73/500\n",
            "1/1 [==============================] - 0s 22ms/step - loss: 7.0819 - mae: 7.0819\n",
            "Epoch 74/500\n",
            "1/1 [==============================] - 0s 18ms/step - loss: 7.0763 - mae: 7.0763\n",
            "Epoch 75/500\n",
            "1/1 [==============================] - 0s 10ms/step - loss: 7.0706 - mae: 7.0706\n",
            "Epoch 76/500\n",
            "1/1 [==============================] - 0s 19ms/step - loss: 7.0650 - mae: 7.0650\n",
            "Epoch 77/500\n",
            "1/1 [==============================] - 0s 22ms/step - loss: 7.0594 - mae: 7.0594\n",
            "Epoch 78/500\n",
            "1/1 [==============================] - 0s 23ms/step - loss: 7.0538 - mae: 7.0538\n",
            "Epoch 79/500\n",
            "1/1 [==============================] - 0s 22ms/step - loss: 7.0481 - mae: 7.0481\n",
            "Epoch 80/500\n",
            "1/1 [==============================] - 0s 21ms/step - loss: 7.0425 - mae: 7.0425\n",
            "Epoch 81/500\n",
            "1/1 [==============================] - 0s 26ms/step - loss: 7.0369 - mae: 7.0369\n",
            "Epoch 82/500\n",
            "1/1 [==============================] - 0s 26ms/step - loss: 7.0313 - mae: 7.0313\n",
            "Epoch 83/500\n",
            "1/1 [==============================] - 0s 22ms/step - loss: 7.0256 - mae: 7.0256\n",
            "Epoch 84/500\n",
            "1/1 [==============================] - 0s 20ms/step - loss: 7.0200 - mae: 7.0200\n",
            "Epoch 85/500\n",
            "1/1 [==============================] - 0s 24ms/step - loss: 7.0144 - mae: 7.0144\n",
            "Epoch 86/500\n",
            "1/1 [==============================] - 0s 25ms/step - loss: 7.0088 - mae: 7.0088\n",
            "Epoch 87/500\n",
            "1/1 [==============================] - 0s 18ms/step - loss: 7.0031 - mae: 7.0031\n",
            "Epoch 88/500\n",
            "1/1 [==============================] - 0s 24ms/step - loss: 6.9975 - mae: 6.9975\n",
            "Epoch 89/500\n",
            "1/1 [==============================] - 0s 30ms/step - loss: 6.9919 - mae: 6.9919\n",
            "Epoch 90/500\n",
            "1/1 [==============================] - 0s 26ms/step - loss: 6.9863 - mae: 6.9863\n",
            "Epoch 91/500\n",
            "1/1 [==============================] - 0s 18ms/step - loss: 6.9806 - mae: 6.9806\n",
            "Epoch 92/500\n",
            "1/1 [==============================] - 0s 23ms/step - loss: 6.9750 - mae: 6.9750\n",
            "Epoch 93/500\n",
            "1/1 [==============================] - 0s 15ms/step - loss: 6.9694 - mae: 6.9694\n",
            "Epoch 94/500\n",
            "1/1 [==============================] - 0s 22ms/step - loss: 6.9638 - mae: 6.9638\n",
            "Epoch 95/500\n",
            "1/1 [==============================] - 0s 11ms/step - loss: 6.9581 - mae: 6.9581\n",
            "Epoch 96/500\n",
            "1/1 [==============================] - 0s 23ms/step - loss: 6.9525 - mae: 6.9525\n",
            "Epoch 97/500\n",
            "1/1 [==============================] - 0s 30ms/step - loss: 6.9469 - mae: 6.9469\n",
            "Epoch 98/500\n",
            "1/1 [==============================] - 0s 26ms/step - loss: 6.9413 - mae: 6.9413\n",
            "Epoch 99/500\n",
            "1/1 [==============================] - 0s 22ms/step - loss: 6.9356 - mae: 6.9356\n",
            "Epoch 100/500\n",
            "1/1 [==============================] - 0s 15ms/step - loss: 6.9300 - mae: 6.9300\n",
            "Epoch 101/500\n",
            "1/1 [==============================] - 0s 10ms/step - loss: 6.9244 - mae: 6.9244\n",
            "Epoch 102/500\n",
            "1/1 [==============================] - 0s 16ms/step - loss: 6.9188 - mae: 6.9188\n",
            "Epoch 103/500\n",
            "1/1 [==============================] - 0s 27ms/step - loss: 6.9131 - mae: 6.9131\n",
            "Epoch 104/500\n",
            "1/1 [==============================] - 0s 41ms/step - loss: 6.9075 - mae: 6.9075\n",
            "Epoch 105/500\n",
            "1/1 [==============================] - 0s 17ms/step - loss: 6.9019 - mae: 6.9019\n",
            "Epoch 106/500\n",
            "1/1 [==============================] - 0s 27ms/step - loss: 6.8963 - mae: 6.8963\n",
            "Epoch 107/500\n",
            "1/1 [==============================] - 0s 15ms/step - loss: 6.8906 - mae: 6.8906\n",
            "Epoch 108/500\n",
            "1/1 [==============================] - 0s 17ms/step - loss: 6.8850 - mae: 6.8850\n",
            "Epoch 109/500\n",
            "1/1 [==============================] - 0s 15ms/step - loss: 6.8794 - mae: 6.8794\n",
            "Epoch 110/500\n",
            "1/1 [==============================] - 0s 12ms/step - loss: 6.8738 - mae: 6.8738\n",
            "Epoch 111/500\n",
            "1/1 [==============================] - 0s 11ms/step - loss: 6.8681 - mae: 6.8681\n",
            "Epoch 112/500\n",
            "1/1 [==============================] - 0s 11ms/step - loss: 6.8625 - mae: 6.8625\n",
            "Epoch 113/500\n",
            "1/1 [==============================] - 0s 11ms/step - loss: 6.8569 - mae: 6.8569\n",
            "Epoch 114/500\n",
            "1/1 [==============================] - 0s 10ms/step - loss: 6.8513 - mae: 6.8513\n",
            "Epoch 115/500\n",
            "1/1 [==============================] - 0s 10ms/step - loss: 6.8456 - mae: 6.8456\n",
            "Epoch 116/500\n",
            "1/1 [==============================] - 0s 11ms/step - loss: 6.8400 - mae: 6.8400\n",
            "Epoch 117/500\n",
            "1/1 [==============================] - 0s 11ms/step - loss: 6.8344 - mae: 6.8344\n",
            "Epoch 118/500\n",
            "1/1 [==============================] - 0s 12ms/step - loss: 6.8288 - mae: 6.8288\n",
            "Epoch 119/500\n",
            "1/1 [==============================] - 0s 10ms/step - loss: 6.8231 - mae: 6.8231\n",
            "Epoch 120/500\n",
            "1/1 [==============================] - 0s 13ms/step - loss: 6.8175 - mae: 6.8175\n",
            "Epoch 121/500\n",
            "1/1 [==============================] - 0s 9ms/step - loss: 6.8119 - mae: 6.8119\n",
            "Epoch 122/500\n",
            "1/1 [==============================] - 0s 8ms/step - loss: 6.8063 - mae: 6.8063\n",
            "Epoch 123/500\n",
            "1/1 [==============================] - 0s 13ms/step - loss: 6.8006 - mae: 6.8006\n",
            "Epoch 124/500\n",
            "1/1 [==============================] - 0s 13ms/step - loss: 6.7950 - mae: 6.7950\n",
            "Epoch 125/500\n",
            "1/1 [==============================] - 0s 15ms/step - loss: 6.7894 - mae: 6.7894\n",
            "Epoch 126/500\n",
            "1/1 [==============================] - 0s 12ms/step - loss: 6.7838 - mae: 6.7838\n",
            "Epoch 127/500\n",
            "1/1 [==============================] - 0s 12ms/step - loss: 6.7781 - mae: 6.7781\n",
            "Epoch 128/500\n",
            "1/1 [==============================] - 0s 12ms/step - loss: 6.7725 - mae: 6.7725\n",
            "Epoch 129/500\n",
            "1/1 [==============================] - 0s 12ms/step - loss: 6.7669 - mae: 6.7669\n",
            "Epoch 130/500\n",
            "1/1 [==============================] - 0s 10ms/step - loss: 6.7613 - mae: 6.7613\n",
            "Epoch 131/500\n",
            "1/1 [==============================] - 0s 13ms/step - loss: 6.7556 - mae: 6.7556\n",
            "Epoch 132/500\n",
            "1/1 [==============================] - 0s 11ms/step - loss: 6.7500 - mae: 6.7500\n",
            "Epoch 133/500\n",
            "1/1 [==============================] - 0s 13ms/step - loss: 6.7444 - mae: 6.7444\n",
            "Epoch 134/500\n",
            "1/1 [==============================] - 0s 11ms/step - loss: 6.7388 - mae: 6.7388\n",
            "Epoch 135/500\n",
            "1/1 [==============================] - 0s 13ms/step - loss: 6.7331 - mae: 6.7331\n",
            "Epoch 136/500\n",
            "1/1 [==============================] - 0s 11ms/step - loss: 6.7275 - mae: 6.7275\n",
            "Epoch 137/500\n",
            "1/1 [==============================] - 0s 11ms/step - loss: 6.7219 - mae: 6.7219\n",
            "Epoch 138/500\n",
            "1/1 [==============================] - 0s 10ms/step - loss: 6.7163 - mae: 6.7163\n",
            "Epoch 139/500\n",
            "1/1 [==============================] - 0s 11ms/step - loss: 6.7106 - mae: 6.7106\n",
            "Epoch 140/500\n",
            "1/1 [==============================] - 0s 9ms/step - loss: 6.7050 - mae: 6.7050\n",
            "Epoch 141/500\n",
            "1/1 [==============================] - 0s 9ms/step - loss: 6.6994 - mae: 6.6994\n",
            "Epoch 142/500\n",
            "1/1 [==============================] - 0s 10ms/step - loss: 6.6937 - mae: 6.6937\n",
            "Epoch 143/500\n",
            "1/1 [==============================] - 0s 10ms/step - loss: 6.6881 - mae: 6.6881\n",
            "Epoch 144/500\n",
            "1/1 [==============================] - 0s 10ms/step - loss: 6.6825 - mae: 6.6825\n",
            "Epoch 145/500\n",
            "1/1 [==============================] - 0s 10ms/step - loss: 6.6769 - mae: 6.6769\n",
            "Epoch 146/500\n",
            "1/1 [==============================] - 0s 10ms/step - loss: 6.6713 - mae: 6.6713\n",
            "Epoch 147/500\n",
            "1/1 [==============================] - 0s 10ms/step - loss: 6.6656 - mae: 6.6656\n",
            "Epoch 148/500\n",
            "1/1 [==============================] - 0s 10ms/step - loss: 6.6600 - mae: 6.6600\n",
            "Epoch 149/500\n",
            "1/1 [==============================] - 0s 13ms/step - loss: 6.6544 - mae: 6.6544\n",
            "Epoch 150/500\n",
            "1/1 [==============================] - 0s 14ms/step - loss: 6.6487 - mae: 6.6487\n",
            "Epoch 151/500\n",
            "1/1 [==============================] - 0s 14ms/step - loss: 6.6431 - mae: 6.6431\n",
            "Epoch 152/500\n",
            "1/1 [==============================] - 0s 15ms/step - loss: 6.6375 - mae: 6.6375\n",
            "Epoch 153/500\n",
            "1/1 [==============================] - 0s 12ms/step - loss: 6.6319 - mae: 6.6319\n",
            "Epoch 154/500\n",
            "1/1 [==============================] - 0s 14ms/step - loss: 6.6262 - mae: 6.6262\n",
            "Epoch 155/500\n",
            "1/1 [==============================] - 0s 13ms/step - loss: 6.6206 - mae: 6.6206\n",
            "Epoch 156/500\n",
            "1/1 [==============================] - 0s 11ms/step - loss: 6.6150 - mae: 6.6150\n",
            "Epoch 157/500\n",
            "1/1 [==============================] - 0s 10ms/step - loss: 6.6094 - mae: 6.6094\n",
            "Epoch 158/500\n",
            "1/1 [==============================] - 0s 10ms/step - loss: 6.6037 - mae: 6.6037\n",
            "Epoch 159/500\n",
            "1/1 [==============================] - 0s 10ms/step - loss: 6.5981 - mae: 6.5981\n",
            "Epoch 160/500\n",
            "1/1 [==============================] - 0s 10ms/step - loss: 6.5925 - mae: 6.5925\n",
            "Epoch 161/500\n",
            "1/1 [==============================] - 0s 10ms/step - loss: 6.5869 - mae: 6.5869\n",
            "Epoch 162/500\n",
            "1/1 [==============================] - 0s 11ms/step - loss: 6.5812 - mae: 6.5812\n",
            "Epoch 163/500\n",
            "1/1 [==============================] - 0s 11ms/step - loss: 6.5756 - mae: 6.5756\n",
            "Epoch 164/500\n",
            "1/1 [==============================] - 0s 14ms/step - loss: 6.5700 - mae: 6.5700\n",
            "Epoch 165/500\n",
            "1/1 [==============================] - 0s 14ms/step - loss: 6.5644 - mae: 6.5644\n",
            "Epoch 166/500\n",
            "1/1 [==============================] - 0s 12ms/step - loss: 6.5587 - mae: 6.5587\n",
            "Epoch 167/500\n",
            "1/1 [==============================] - 0s 15ms/step - loss: 6.5531 - mae: 6.5531\n",
            "Epoch 168/500\n",
            "1/1 [==============================] - 0s 10ms/step - loss: 6.5475 - mae: 6.5475\n",
            "Epoch 169/500\n",
            "1/1 [==============================] - 0s 10ms/step - loss: 6.5419 - mae: 6.5419\n",
            "Epoch 170/500\n",
            "1/1 [==============================] - 0s 12ms/step - loss: 6.5362 - mae: 6.5362\n",
            "Epoch 171/500\n",
            "1/1 [==============================] - 0s 10ms/step - loss: 6.5306 - mae: 6.5306\n",
            "Epoch 172/500\n",
            "1/1 [==============================] - 0s 10ms/step - loss: 6.5250 - mae: 6.5250\n",
            "Epoch 173/500\n",
            "1/1 [==============================] - 0s 9ms/step - loss: 6.5194 - mae: 6.5194\n",
            "Epoch 174/500\n",
            "1/1 [==============================] - 0s 9ms/step - loss: 6.5137 - mae: 6.5137\n",
            "Epoch 175/500\n",
            "1/1 [==============================] - 0s 9ms/step - loss: 6.5081 - mae: 6.5081\n",
            "Epoch 176/500\n",
            "1/1 [==============================] - 0s 10ms/step - loss: 6.5025 - mae: 6.5025\n",
            "Epoch 177/500\n",
            "1/1 [==============================] - 0s 9ms/step - loss: 6.4969 - mae: 6.4969\n",
            "Epoch 178/500\n",
            "1/1 [==============================] - 0s 9ms/step - loss: 6.4912 - mae: 6.4912\n",
            "Epoch 179/500\n",
            "1/1 [==============================] - 0s 9ms/step - loss: 6.4856 - mae: 6.4856\n",
            "Epoch 180/500\n",
            "1/1 [==============================] - 0s 10ms/step - loss: 6.4800 - mae: 6.4800\n",
            "Epoch 181/500\n",
            "1/1 [==============================] - 0s 9ms/step - loss: 6.4744 - mae: 6.4744\n",
            "Epoch 182/500\n",
            "1/1 [==============================] - 0s 17ms/step - loss: 6.4687 - mae: 6.4687\n",
            "Epoch 183/500\n",
            "1/1 [==============================] - 0s 12ms/step - loss: 6.4631 - mae: 6.4631\n",
            "Epoch 184/500\n",
            "1/1 [==============================] - 0s 11ms/step - loss: 6.4575 - mae: 6.4575\n",
            "Epoch 185/500\n",
            "1/1 [==============================] - 0s 9ms/step - loss: 6.4519 - mae: 6.4519\n",
            "Epoch 186/500\n",
            "1/1 [==============================] - 0s 14ms/step - loss: 6.4462 - mae: 6.4462\n",
            "Epoch 187/500\n",
            "1/1 [==============================] - 0s 15ms/step - loss: 6.4406 - mae: 6.4406\n",
            "Epoch 188/500\n",
            "1/1 [==============================] - 0s 11ms/step - loss: 6.4350 - mae: 6.4350\n",
            "Epoch 189/500\n",
            "1/1 [==============================] - 0s 11ms/step - loss: 6.4294 - mae: 6.4294\n",
            "Epoch 190/500\n",
            "1/1 [==============================] - 0s 14ms/step - loss: 6.4237 - mae: 6.4237\n",
            "Epoch 191/500\n",
            "1/1 [==============================] - 0s 11ms/step - loss: 6.4181 - mae: 6.4181\n",
            "Epoch 192/500\n",
            "1/1 [==============================] - 0s 10ms/step - loss: 6.4125 - mae: 6.4125\n",
            "Epoch 193/500\n",
            "1/1 [==============================] - 0s 10ms/step - loss: 6.4069 - mae: 6.4069\n",
            "Epoch 194/500\n",
            "1/1 [==============================] - 0s 17ms/step - loss: 6.4012 - mae: 6.4012\n",
            "Epoch 195/500\n",
            "1/1 [==============================] - 0s 16ms/step - loss: 6.3956 - mae: 6.3956\n",
            "Epoch 196/500\n",
            "1/1 [==============================] - 0s 14ms/step - loss: 6.3900 - mae: 6.3900\n",
            "Epoch 197/500\n",
            "1/1 [==============================] - 0s 14ms/step - loss: 6.3844 - mae: 6.3844\n",
            "Epoch 198/500\n",
            "1/1 [==============================] - 0s 14ms/step - loss: 6.3787 - mae: 6.3787\n",
            "Epoch 199/500\n",
            "1/1 [==============================] - 0s 10ms/step - loss: 6.3731 - mae: 6.3731\n",
            "Epoch 200/500\n",
            "1/1 [==============================] - 0s 9ms/step - loss: 6.3675 - mae: 6.3675\n",
            "Epoch 201/500\n",
            "1/1 [==============================] - 0s 9ms/step - loss: 6.3619 - mae: 6.3619\n",
            "Epoch 202/500\n",
            "1/1 [==============================] - 0s 9ms/step - loss: 6.3562 - mae: 6.3562\n",
            "Epoch 203/500\n",
            "1/1 [==============================] - 0s 9ms/step - loss: 6.3506 - mae: 6.3506\n",
            "Epoch 204/500\n",
            "1/1 [==============================] - 0s 10ms/step - loss: 6.3450 - mae: 6.3450\n",
            "Epoch 205/500\n",
            "1/1 [==============================] - 0s 10ms/step - loss: 6.3394 - mae: 6.3394\n",
            "Epoch 206/500\n",
            "1/1 [==============================] - 0s 14ms/step - loss: 6.3337 - mae: 6.3337\n",
            "Epoch 207/500\n",
            "1/1 [==============================] - 0s 12ms/step - loss: 6.3281 - mae: 6.3281\n",
            "Epoch 208/500\n",
            "1/1 [==============================] - 0s 11ms/step - loss: 6.3225 - mae: 6.3225\n",
            "Epoch 209/500\n",
            "1/1 [==============================] - 0s 11ms/step - loss: 6.3169 - mae: 6.3169\n",
            "Epoch 210/500\n",
            "1/1 [==============================] - 0s 9ms/step - loss: 6.3112 - mae: 6.3112\n",
            "Epoch 211/500\n",
            "1/1 [==============================] - 0s 10ms/step - loss: 6.3056 - mae: 6.3056\n",
            "Epoch 212/500\n",
            "1/1 [==============================] - 0s 14ms/step - loss: 6.3000 - mae: 6.3000\n",
            "Epoch 213/500\n",
            "1/1 [==============================] - 0s 13ms/step - loss: 6.2944 - mae: 6.2944\n",
            "Epoch 214/500\n",
            "1/1 [==============================] - 0s 12ms/step - loss: 6.2887 - mae: 6.2887\n",
            "Epoch 215/500\n",
            "1/1 [==============================] - 0s 10ms/step - loss: 6.2831 - mae: 6.2831\n",
            "Epoch 216/500\n",
            "1/1 [==============================] - 0s 13ms/step - loss: 6.2775 - mae: 6.2775\n",
            "Epoch 217/500\n",
            "1/1 [==============================] - 0s 12ms/step - loss: 6.2719 - mae: 6.2719\n",
            "Epoch 218/500\n",
            "1/1 [==============================] - 0s 13ms/step - loss: 6.2662 - mae: 6.2662\n",
            "Epoch 219/500\n",
            "1/1 [==============================] - 0s 14ms/step - loss: 6.2606 - mae: 6.2606\n",
            "Epoch 220/500\n",
            "1/1 [==============================] - 0s 11ms/step - loss: 6.2550 - mae: 6.2550\n",
            "Epoch 221/500\n",
            "1/1 [==============================] - 0s 11ms/step - loss: 6.2494 - mae: 6.2494\n",
            "Epoch 222/500\n",
            "1/1 [==============================] - 0s 10ms/step - loss: 6.2437 - mae: 6.2437\n",
            "Epoch 223/500\n",
            "1/1 [==============================] - 0s 11ms/step - loss: 6.2381 - mae: 6.2381\n",
            "Epoch 224/500\n",
            "1/1 [==============================] - 0s 11ms/step - loss: 6.2325 - mae: 6.2325\n",
            "Epoch 225/500\n",
            "1/1 [==============================] - 0s 10ms/step - loss: 6.2269 - mae: 6.2269\n",
            "Epoch 226/500\n",
            "1/1 [==============================] - 0s 11ms/step - loss: 6.2212 - mae: 6.2212\n",
            "Epoch 227/500\n",
            "1/1 [==============================] - 0s 11ms/step - loss: 6.2156 - mae: 6.2156\n",
            "Epoch 228/500\n",
            "1/1 [==============================] - 0s 14ms/step - loss: 6.2100 - mae: 6.2100\n",
            "Epoch 229/500\n",
            "1/1 [==============================] - 0s 11ms/step - loss: 6.2044 - mae: 6.2044\n",
            "Epoch 230/500\n",
            "1/1 [==============================] - 0s 15ms/step - loss: 6.1987 - mae: 6.1987\n",
            "Epoch 231/500\n",
            "1/1 [==============================] - 0s 11ms/step - loss: 6.1931 - mae: 6.1931\n",
            "Epoch 232/500\n",
            "1/1 [==============================] - 0s 9ms/step - loss: 6.1875 - mae: 6.1875\n",
            "Epoch 233/500\n",
            "1/1 [==============================] - 0s 19ms/step - loss: 6.1819 - mae: 6.1819\n",
            "Epoch 234/500\n",
            "1/1 [==============================] - 0s 13ms/step - loss: 6.1762 - mae: 6.1762\n",
            "Epoch 235/500\n",
            "1/1 [==============================] - 0s 11ms/step - loss: 6.1706 - mae: 6.1706\n",
            "Epoch 236/500\n",
            "1/1 [==============================] - 0s 17ms/step - loss: 6.1650 - mae: 6.1650\n",
            "Epoch 237/500\n",
            "1/1 [==============================] - 0s 11ms/step - loss: 6.1594 - mae: 6.1594\n",
            "Epoch 238/500\n",
            "1/1 [==============================] - 0s 10ms/step - loss: 6.1537 - mae: 6.1537\n",
            "Epoch 239/500\n",
            "1/1 [==============================] - 0s 9ms/step - loss: 6.1481 - mae: 6.1481\n",
            "Epoch 240/500\n",
            "1/1 [==============================] - 0s 11ms/step - loss: 6.1425 - mae: 6.1425\n",
            "Epoch 241/500\n",
            "1/1 [==============================] - 0s 11ms/step - loss: 6.1369 - mae: 6.1369\n",
            "Epoch 242/500\n",
            "1/1 [==============================] - 0s 10ms/step - loss: 6.1312 - mae: 6.1312\n",
            "Epoch 243/500\n",
            "1/1 [==============================] - 0s 13ms/step - loss: 6.1256 - mae: 6.1256\n",
            "Epoch 244/500\n",
            "1/1 [==============================] - 0s 9ms/step - loss: 6.1200 - mae: 6.1200\n",
            "Epoch 245/500\n",
            "1/1 [==============================] - 0s 10ms/step - loss: 6.1144 - mae: 6.1144\n",
            "Epoch 246/500\n",
            "1/1 [==============================] - 0s 13ms/step - loss: 6.1087 - mae: 6.1087\n",
            "Epoch 247/500\n",
            "1/1 [==============================] - 0s 10ms/step - loss: 6.1031 - mae: 6.1031\n",
            "Epoch 248/500\n",
            "1/1 [==============================] - 0s 11ms/step - loss: 6.0975 - mae: 6.0975\n",
            "Epoch 249/500\n",
            "1/1 [==============================] - 0s 12ms/step - loss: 6.0919 - mae: 6.0919\n",
            "Epoch 250/500\n",
            "1/1 [==============================] - 0s 9ms/step - loss: 6.0862 - mae: 6.0862\n",
            "Epoch 251/500\n",
            "1/1 [==============================] - 0s 11ms/step - loss: 6.0806 - mae: 6.0806\n",
            "Epoch 252/500\n",
            "1/1 [==============================] - 0s 10ms/step - loss: 6.0750 - mae: 6.0750\n",
            "Epoch 253/500\n",
            "1/1 [==============================] - 0s 9ms/step - loss: 6.0694 - mae: 6.0694\n",
            "Epoch 254/500\n",
            "1/1 [==============================] - 0s 10ms/step - loss: 6.0637 - mae: 6.0637\n",
            "Epoch 255/500\n",
            "1/1 [==============================] - 0s 10ms/step - loss: 6.0581 - mae: 6.0581\n",
            "Epoch 256/500\n",
            "1/1 [==============================] - 0s 11ms/step - loss: 6.0525 - mae: 6.0525\n",
            "Epoch 257/500\n",
            "1/1 [==============================] - 0s 11ms/step - loss: 6.0469 - mae: 6.0469\n",
            "Epoch 258/500\n",
            "1/1 [==============================] - 0s 11ms/step - loss: 6.0412 - mae: 6.0412\n",
            "Epoch 259/500\n",
            "1/1 [==============================] - 0s 10ms/step - loss: 6.0356 - mae: 6.0356\n",
            "Epoch 260/500\n",
            "1/1 [==============================] - 0s 9ms/step - loss: 6.0300 - mae: 6.0300\n",
            "Epoch 261/500\n",
            "1/1 [==============================] - 0s 10ms/step - loss: 6.0244 - mae: 6.0244\n",
            "Epoch 262/500\n",
            "1/1 [==============================] - 0s 10ms/step - loss: 6.0187 - mae: 6.0187\n",
            "Epoch 263/500\n",
            "1/1 [==============================] - 0s 10ms/step - loss: 6.0131 - mae: 6.0131\n",
            "Epoch 264/500\n",
            "1/1 [==============================] - 0s 10ms/step - loss: 6.0075 - mae: 6.0075\n",
            "Epoch 265/500\n",
            "1/1 [==============================] - 0s 9ms/step - loss: 6.0019 - mae: 6.0019\n",
            "Epoch 266/500\n",
            "1/1 [==============================] - 0s 10ms/step - loss: 5.9962 - mae: 5.9962\n",
            "Epoch 267/500\n",
            "1/1 [==============================] - 0s 11ms/step - loss: 5.9906 - mae: 5.9906\n",
            "Epoch 268/500\n",
            "1/1 [==============================] - 0s 11ms/step - loss: 5.9850 - mae: 5.9850\n",
            "Epoch 269/500\n",
            "1/1 [==============================] - 0s 11ms/step - loss: 5.9794 - mae: 5.9794\n",
            "Epoch 270/500\n",
            "1/1 [==============================] - 0s 10ms/step - loss: 5.9737 - mae: 5.9737\n",
            "Epoch 271/500\n",
            "1/1 [==============================] - 0s 10ms/step - loss: 5.9681 - mae: 5.9681\n",
            "Epoch 272/500\n",
            "1/1 [==============================] - 0s 10ms/step - loss: 5.9625 - mae: 5.9625\n",
            "Epoch 273/500\n",
            "1/1 [==============================] - 0s 12ms/step - loss: 5.9569 - mae: 5.9569\n",
            "Epoch 274/500\n",
            "1/1 [==============================] - 0s 12ms/step - loss: 5.9512 - mae: 5.9512\n",
            "Epoch 275/500\n",
            "1/1 [==============================] - 0s 11ms/step - loss: 5.9456 - mae: 5.9456\n",
            "Epoch 276/500\n",
            "1/1 [==============================] - 0s 16ms/step - loss: 5.9400 - mae: 5.9400\n",
            "Epoch 277/500\n",
            "1/1 [==============================] - 0s 10ms/step - loss: 5.9344 - mae: 5.9344\n",
            "Epoch 278/500\n",
            "1/1 [==============================] - 0s 10ms/step - loss: 5.9287 - mae: 5.9287\n",
            "Epoch 279/500\n",
            "1/1 [==============================] - 0s 11ms/step - loss: 5.9231 - mae: 5.9231\n",
            "Epoch 280/500\n",
            "1/1 [==============================] - 0s 10ms/step - loss: 5.9175 - mae: 5.9175\n",
            "Epoch 281/500\n",
            "1/1 [==============================] - 0s 10ms/step - loss: 5.9123 - mae: 5.9123\n",
            "Epoch 282/500\n",
            "1/1 [==============================] - 0s 10ms/step - loss: 5.9081 - mae: 5.9081\n",
            "Epoch 283/500\n",
            "1/1 [==============================] - 0s 12ms/step - loss: 5.9025 - mae: 5.9025\n",
            "Epoch 284/500\n",
            "1/1 [==============================] - 0s 9ms/step - loss: 5.8969 - mae: 5.8969\n",
            "Epoch 285/500\n",
            "1/1 [==============================] - 0s 11ms/step - loss: 5.8912 - mae: 5.8912\n",
            "Epoch 286/500\n",
            "1/1 [==============================] - 0s 13ms/step - loss: 5.8856 - mae: 5.8856\n",
            "Epoch 287/500\n",
            "1/1 [==============================] - 0s 10ms/step - loss: 5.8800 - mae: 5.8800\n",
            "Epoch 288/500\n",
            "1/1 [==============================] - 0s 9ms/step - loss: 5.8744 - mae: 5.8744\n",
            "Epoch 289/500\n",
            "1/1 [==============================] - 0s 13ms/step - loss: 5.8687 - mae: 5.8687\n",
            "Epoch 290/500\n",
            "1/1 [==============================] - 0s 11ms/step - loss: 5.8631 - mae: 5.8631\n",
            "Epoch 291/500\n",
            "1/1 [==============================] - 0s 10ms/step - loss: 5.8575 - mae: 5.8575\n",
            "Epoch 292/500\n",
            "1/1 [==============================] - 0s 10ms/step - loss: 5.8519 - mae: 5.8519\n",
            "Epoch 293/500\n",
            "1/1 [==============================] - 0s 9ms/step - loss: 5.8462 - mae: 5.8462\n",
            "Epoch 294/500\n",
            "1/1 [==============================] - 0s 10ms/step - loss: 5.8406 - mae: 5.8406\n",
            "Epoch 295/500\n",
            "1/1 [==============================] - 0s 9ms/step - loss: 5.8350 - mae: 5.8350\n",
            "Epoch 296/500\n",
            "1/1 [==============================] - 0s 10ms/step - loss: 5.8294 - mae: 5.8294\n",
            "Epoch 297/500\n",
            "1/1 [==============================] - 0s 11ms/step - loss: 5.8237 - mae: 5.8237\n",
            "Epoch 298/500\n",
            "1/1 [==============================] - 0s 10ms/step - loss: 5.8181 - mae: 5.8181\n",
            "Epoch 299/500\n",
            "1/1 [==============================] - 0s 9ms/step - loss: 5.8125 - mae: 5.8125\n",
            "Epoch 300/500\n",
            "1/1 [==============================] - 0s 13ms/step - loss: 5.8069 - mae: 5.8069\n",
            "Epoch 301/500\n",
            "1/1 [==============================] - 0s 10ms/step - loss: 5.8012 - mae: 5.8012\n",
            "Epoch 302/500\n",
            "1/1 [==============================] - 0s 11ms/step - loss: 5.7956 - mae: 5.7956\n",
            "Epoch 303/500\n",
            "1/1 [==============================] - 0s 9ms/step - loss: 5.7900 - mae: 5.7900\n",
            "Epoch 304/500\n",
            "1/1 [==============================] - 0s 16ms/step - loss: 5.7844 - mae: 5.7844\n",
            "Epoch 305/500\n",
            "1/1 [==============================] - 0s 18ms/step - loss: 5.7787 - mae: 5.7787\n",
            "Epoch 306/500\n",
            "1/1 [==============================] - 0s 9ms/step - loss: 5.7731 - mae: 5.7731\n",
            "Epoch 307/500\n",
            "1/1 [==============================] - 0s 8ms/step - loss: 5.7675 - mae: 5.7675\n",
            "Epoch 308/500\n",
            "1/1 [==============================] - 0s 8ms/step - loss: 5.7619 - mae: 5.7619\n",
            "Epoch 309/500\n",
            "1/1 [==============================] - 0s 8ms/step - loss: 5.7562 - mae: 5.7562\n",
            "Epoch 310/500\n",
            "1/1 [==============================] - 0s 8ms/step - loss: 5.7506 - mae: 5.7506\n",
            "Epoch 311/500\n",
            "1/1 [==============================] - 0s 8ms/step - loss: 5.7450 - mae: 5.7450\n",
            "Epoch 312/500\n",
            "1/1 [==============================] - 0s 9ms/step - loss: 5.7394 - mae: 5.7394\n",
            "Epoch 313/500\n",
            "1/1 [==============================] - 0s 13ms/step - loss: 5.7337 - mae: 5.7337\n",
            "Epoch 314/500\n",
            "1/1 [==============================] - 0s 13ms/step - loss: 5.7281 - mae: 5.7281\n",
            "Epoch 315/500\n",
            "1/1 [==============================] - 0s 9ms/step - loss: 5.7225 - mae: 5.7225\n",
            "Epoch 316/500\n",
            "1/1 [==============================] - 0s 9ms/step - loss: 5.7169 - mae: 5.7169\n",
            "Epoch 317/500\n",
            "1/1 [==============================] - 0s 9ms/step - loss: 5.7112 - mae: 5.7112\n",
            "Epoch 318/500\n",
            "1/1 [==============================] - 0s 9ms/step - loss: 5.7056 - mae: 5.7056\n",
            "Epoch 319/500\n",
            "1/1 [==============================] - 0s 8ms/step - loss: 5.7000 - mae: 5.7000\n",
            "Epoch 320/500\n",
            "1/1 [==============================] - 0s 9ms/step - loss: 5.6944 - mae: 5.6944\n",
            "Epoch 321/500\n",
            "1/1 [==============================] - 0s 11ms/step - loss: 5.6887 - mae: 5.6887\n",
            "Epoch 322/500\n",
            "1/1 [==============================] - 0s 9ms/step - loss: 5.6842 - mae: 5.6842\n",
            "Epoch 323/500\n",
            "1/1 [==============================] - 0s 8ms/step - loss: 5.6794 - mae: 5.6794\n",
            "Epoch 324/500\n",
            "1/1 [==============================] - 0s 14ms/step - loss: 5.6737 - mae: 5.6737\n",
            "Epoch 325/500\n",
            "1/1 [==============================] - 0s 14ms/step - loss: 5.6681 - mae: 5.6681\n",
            "Epoch 326/500\n",
            "1/1 [==============================] - 0s 9ms/step - loss: 5.6625 - mae: 5.6625\n",
            "Epoch 327/500\n",
            "1/1 [==============================] - 0s 9ms/step - loss: 5.6569 - mae: 5.6569\n",
            "Epoch 328/500\n",
            "1/1 [==============================] - 0s 13ms/step - loss: 5.6512 - mae: 5.6512\n",
            "Epoch 329/500\n",
            "1/1 [==============================] - 0s 9ms/step - loss: 5.6456 - mae: 5.6456\n",
            "Epoch 330/500\n",
            "1/1 [==============================] - 0s 13ms/step - loss: 5.6400 - mae: 5.6400\n",
            "Epoch 331/500\n",
            "1/1 [==============================] - 0s 11ms/step - loss: 5.6344 - mae: 5.6344\n",
            "Epoch 332/500\n",
            "1/1 [==============================] - 0s 11ms/step - loss: 5.6287 - mae: 5.6287\n",
            "Epoch 333/500\n",
            "1/1 [==============================] - 0s 11ms/step - loss: 5.6231 - mae: 5.6231\n",
            "Epoch 334/500\n",
            "1/1 [==============================] - 0s 11ms/step - loss: 5.6175 - mae: 5.6175\n",
            "Epoch 335/500\n",
            "1/1 [==============================] - 0s 12ms/step - loss: 5.6119 - mae: 5.6119\n",
            "Epoch 336/500\n",
            "1/1 [==============================] - 0s 8ms/step - loss: 5.6062 - mae: 5.6062\n",
            "Epoch 337/500\n",
            "1/1 [==============================] - 0s 15ms/step - loss: 5.6006 - mae: 5.6006\n",
            "Epoch 338/500\n",
            "1/1 [==============================] - 0s 12ms/step - loss: 5.5950 - mae: 5.5950\n",
            "Epoch 339/500\n",
            "1/1 [==============================] - 0s 10ms/step - loss: 5.5894 - mae: 5.5894\n",
            "Epoch 340/500\n",
            "1/1 [==============================] - 0s 11ms/step - loss: 5.5837 - mae: 5.5837\n",
            "Epoch 341/500\n",
            "1/1 [==============================] - 0s 9ms/step - loss: 5.5781 - mae: 5.5781\n",
            "Epoch 342/500\n",
            "1/1 [==============================] - 0s 8ms/step - loss: 5.5725 - mae: 5.5725\n",
            "Epoch 343/500\n",
            "1/1 [==============================] - 0s 14ms/step - loss: 5.5669 - mae: 5.5669\n",
            "Epoch 344/500\n",
            "1/1 [==============================] - 0s 9ms/step - loss: 5.5612 - mae: 5.5612\n",
            "Epoch 345/500\n",
            "1/1 [==============================] - 0s 9ms/step - loss: 5.5556 - mae: 5.5556\n",
            "Epoch 346/500\n",
            "1/1 [==============================] - 0s 10ms/step - loss: 5.5500 - mae: 5.5500\n",
            "Epoch 347/500\n",
            "1/1 [==============================] - 0s 13ms/step - loss: 5.5444 - mae: 5.5444\n",
            "Epoch 348/500\n",
            "1/1 [==============================] - 0s 9ms/step - loss: 5.5387 - mae: 5.5387\n",
            "Epoch 349/500\n",
            "1/1 [==============================] - 0s 13ms/step - loss: 5.5331 - mae: 5.5331\n",
            "Epoch 350/500\n",
            "1/1 [==============================] - 0s 9ms/step - loss: 5.5275 - mae: 5.5275\n",
            "Epoch 351/500\n",
            "1/1 [==============================] - 0s 8ms/step - loss: 5.5219 - mae: 5.5219\n",
            "Epoch 352/500\n",
            "1/1 [==============================] - 0s 10ms/step - loss: 5.5162 - mae: 5.5162\n",
            "Epoch 353/500\n",
            "1/1 [==============================] - 0s 10ms/step - loss: 5.5106 - mae: 5.5106\n",
            "Epoch 354/500\n",
            "1/1 [==============================] - 0s 10ms/step - loss: 5.5050 - mae: 5.5050\n",
            "Epoch 355/500\n",
            "1/1 [==============================] - 0s 12ms/step - loss: 5.4994 - mae: 5.4994\n",
            "Epoch 356/500\n",
            "1/1 [==============================] - 0s 12ms/step - loss: 5.4937 - mae: 5.4937\n",
            "Epoch 357/500\n",
            "1/1 [==============================] - 0s 8ms/step - loss: 5.4881 - mae: 5.4881\n",
            "Epoch 358/500\n",
            "1/1 [==============================] - 0s 10ms/step - loss: 5.4825 - mae: 5.4825\n",
            "Epoch 359/500\n",
            "1/1 [==============================] - 0s 10ms/step - loss: 5.4769 - mae: 5.4769\n",
            "Epoch 360/500\n",
            "1/1 [==============================] - 0s 10ms/step - loss: 5.4712 - mae: 5.4712\n",
            "Epoch 361/500\n",
            "1/1 [==============================] - 0s 9ms/step - loss: 5.4656 - mae: 5.4656\n",
            "Epoch 362/500\n",
            "1/1 [==============================] - 0s 10ms/step - loss: 5.4600 - mae: 5.4600\n",
            "Epoch 363/500\n",
            "1/1 [==============================] - 0s 10ms/step - loss: 5.4561 - mae: 5.4561\n",
            "Epoch 364/500\n",
            "1/1 [==============================] - 0s 13ms/step - loss: 5.4506 - mae: 5.4506\n",
            "Epoch 365/500\n",
            "1/1 [==============================] - 0s 12ms/step - loss: 5.4450 - mae: 5.4450\n",
            "Epoch 366/500\n",
            "1/1 [==============================] - 0s 10ms/step - loss: 5.4394 - mae: 5.4394\n",
            "Epoch 367/500\n",
            "1/1 [==============================] - 0s 11ms/step - loss: 5.4338 - mae: 5.4338\n",
            "Epoch 368/500\n",
            "1/1 [==============================] - 0s 11ms/step - loss: 5.4281 - mae: 5.4281\n",
            "Epoch 369/500\n",
            "1/1 [==============================] - 0s 10ms/step - loss: 5.4225 - mae: 5.4225\n",
            "Epoch 370/500\n",
            "1/1 [==============================] - 0s 9ms/step - loss: 5.4169 - mae: 5.4169\n",
            "Epoch 371/500\n",
            "1/1 [==============================] - 0s 11ms/step - loss: 5.4113 - mae: 5.4113\n",
            "Epoch 372/500\n",
            "1/1 [==============================] - 0s 11ms/step - loss: 5.4056 - mae: 5.4056\n",
            "Epoch 373/500\n",
            "1/1 [==============================] - 0s 11ms/step - loss: 5.4000 - mae: 5.4000\n",
            "Epoch 374/500\n",
            "1/1 [==============================] - 0s 10ms/step - loss: 5.3944 - mae: 5.3944\n",
            "Epoch 375/500\n",
            "1/1 [==============================] - 0s 10ms/step - loss: 5.3888 - mae: 5.3888\n",
            "Epoch 376/500\n",
            "1/1 [==============================] - 0s 11ms/step - loss: 5.3831 - mae: 5.3831\n",
            "Epoch 377/500\n",
            "1/1 [==============================] - 0s 11ms/step - loss: 5.3775 - mae: 5.3775\n",
            "Epoch 378/500\n",
            "1/1 [==============================] - 0s 10ms/step - loss: 5.3719 - mae: 5.3719\n",
            "Epoch 379/500\n",
            "1/1 [==============================] - 0s 11ms/step - loss: 5.3663 - mae: 5.3663\n",
            "Epoch 380/500\n",
            "1/1 [==============================] - 0s 9ms/step - loss: 5.3606 - mae: 5.3606\n",
            "Epoch 381/500\n",
            "1/1 [==============================] - 0s 11ms/step - loss: 5.3550 - mae: 5.3550\n",
            "Epoch 382/500\n",
            "1/1 [==============================] - 0s 9ms/step - loss: 5.3494 - mae: 5.3494\n",
            "Epoch 383/500\n",
            "1/1 [==============================] - 0s 10ms/step - loss: 5.3438 - mae: 5.3438\n",
            "Epoch 384/500\n",
            "1/1 [==============================] - 0s 13ms/step - loss: 5.3381 - mae: 5.3381\n",
            "Epoch 385/500\n",
            "1/1 [==============================] - 0s 12ms/step - loss: 5.3325 - mae: 5.3325\n",
            "Epoch 386/500\n",
            "1/1 [==============================] - 0s 10ms/step - loss: 5.3269 - mae: 5.3269\n",
            "Epoch 387/500\n",
            "1/1 [==============================] - 0s 9ms/step - loss: 5.3213 - mae: 5.3213\n",
            "Epoch 388/500\n",
            "1/1 [==============================] - 0s 9ms/step - loss: 5.3156 - mae: 5.3156\n",
            "Epoch 389/500\n",
            "1/1 [==============================] - 0s 10ms/step - loss: 5.3100 - mae: 5.3100\n",
            "Epoch 390/500\n",
            "1/1 [==============================] - 0s 10ms/step - loss: 5.3044 - mae: 5.3044\n",
            "Epoch 391/500\n",
            "1/1 [==============================] - 0s 10ms/step - loss: 5.2988 - mae: 5.2988\n",
            "Epoch 392/500\n",
            "1/1 [==============================] - 0s 9ms/step - loss: 5.2931 - mae: 5.2931\n",
            "Epoch 393/500\n",
            "1/1 [==============================] - 0s 9ms/step - loss: 5.2875 - mae: 5.2875\n",
            "Epoch 394/500\n",
            "1/1 [==============================] - 0s 9ms/step - loss: 5.2819 - mae: 5.2819\n",
            "Epoch 395/500\n",
            "1/1 [==============================] - 0s 9ms/step - loss: 5.2763 - mae: 5.2763\n",
            "Epoch 396/500\n",
            "1/1 [==============================] - 0s 10ms/step - loss: 5.2706 - mae: 5.2706\n",
            "Epoch 397/500\n",
            "1/1 [==============================] - 0s 9ms/step - loss: 5.2650 - mae: 5.2650\n",
            "Epoch 398/500\n",
            "1/1 [==============================] - 0s 9ms/step - loss: 5.2594 - mae: 5.2594\n",
            "Epoch 399/500\n",
            "1/1 [==============================] - 0s 9ms/step - loss: 5.2538 - mae: 5.2538\n",
            "Epoch 400/500\n",
            "1/1 [==============================] - 0s 9ms/step - loss: 5.2481 - mae: 5.2481\n",
            "Epoch 401/500\n",
            "1/1 [==============================] - 0s 9ms/step - loss: 5.2425 - mae: 5.2425\n",
            "Epoch 402/500\n",
            "1/1 [==============================] - 0s 15ms/step - loss: 5.2369 - mae: 5.2369\n",
            "Epoch 403/500\n",
            "1/1 [==============================] - 0s 9ms/step - loss: 5.2317 - mae: 5.2317\n",
            "Epoch 404/500\n",
            "1/1 [==============================] - 0s 8ms/step - loss: 5.2275 - mae: 5.2275\n",
            "Epoch 405/500\n",
            "1/1 [==============================] - 0s 9ms/step - loss: 5.2219 - mae: 5.2219\n",
            "Epoch 406/500\n",
            "1/1 [==============================] - 0s 13ms/step - loss: 5.2163 - mae: 5.2163\n",
            "Epoch 407/500\n",
            "1/1 [==============================] - 0s 12ms/step - loss: 5.2106 - mae: 5.2106\n",
            "Epoch 408/500\n",
            "1/1 [==============================] - 0s 11ms/step - loss: 5.2050 - mae: 5.2050\n",
            "Epoch 409/500\n",
            "1/1 [==============================] - 0s 12ms/step - loss: 5.1994 - mae: 5.1994\n",
            "Epoch 410/500\n",
            "1/1 [==============================] - 0s 13ms/step - loss: 5.1938 - mae: 5.1938\n",
            "Epoch 411/500\n",
            "1/1 [==============================] - 0s 10ms/step - loss: 5.1881 - mae: 5.1881\n",
            "Epoch 412/500\n",
            "1/1 [==============================] - 0s 9ms/step - loss: 5.1825 - mae: 5.1825\n",
            "Epoch 413/500\n",
            "1/1 [==============================] - 0s 9ms/step - loss: 5.1769 - mae: 5.1769\n",
            "Epoch 414/500\n",
            "1/1 [==============================] - 0s 9ms/step - loss: 5.1713 - mae: 5.1713\n",
            "Epoch 415/500\n",
            "1/1 [==============================] - 0s 10ms/step - loss: 5.1656 - mae: 5.1656\n",
            "Epoch 416/500\n",
            "1/1 [==============================] - 0s 9ms/step - loss: 5.1600 - mae: 5.1600\n",
            "Epoch 417/500\n",
            "1/1 [==============================] - 0s 11ms/step - loss: 5.1544 - mae: 5.1544\n",
            "Epoch 418/500\n",
            "1/1 [==============================] - 0s 10ms/step - loss: 5.1488 - mae: 5.1488\n",
            "Epoch 419/500\n",
            "1/1 [==============================] - 0s 10ms/step - loss: 5.1431 - mae: 5.1431\n",
            "Epoch 420/500\n",
            "1/1 [==============================] - 0s 9ms/step - loss: 5.1375 - mae: 5.1375\n",
            "Epoch 421/500\n",
            "1/1 [==============================] - 0s 9ms/step - loss: 5.1319 - mae: 5.1319\n",
            "Epoch 422/500\n",
            "1/1 [==============================] - 0s 9ms/step - loss: 5.1263 - mae: 5.1263\n",
            "Epoch 423/500\n",
            "1/1 [==============================] - 0s 9ms/step - loss: 5.1206 - mae: 5.1206\n",
            "Epoch 424/500\n",
            "1/1 [==============================] - 0s 11ms/step - loss: 5.1150 - mae: 5.1150\n",
            "Epoch 425/500\n",
            "1/1 [==============================] - 0s 10ms/step - loss: 5.1094 - mae: 5.1094\n",
            "Epoch 426/500\n",
            "1/1 [==============================] - 0s 10ms/step - loss: 5.1038 - mae: 5.1038\n",
            "Epoch 427/500\n",
            "1/1 [==============================] - 0s 13ms/step - loss: 5.0981 - mae: 5.0981\n",
            "Epoch 428/500\n",
            "1/1 [==============================] - 0s 12ms/step - loss: 5.0925 - mae: 5.0925\n",
            "Epoch 429/500\n",
            "1/1 [==============================] - 0s 10ms/step - loss: 5.0869 - mae: 5.0869\n",
            "Epoch 430/500\n",
            "1/1 [==============================] - 0s 10ms/step - loss: 5.0813 - mae: 5.0813\n",
            "Epoch 431/500\n",
            "1/1 [==============================] - 0s 9ms/step - loss: 5.0756 - mae: 5.0756\n",
            "Epoch 432/500\n",
            "1/1 [==============================] - 0s 9ms/step - loss: 5.0700 - mae: 5.0700\n",
            "Epoch 433/500\n",
            "1/1 [==============================] - 0s 9ms/step - loss: 5.0644 - mae: 5.0644\n",
            "Epoch 434/500\n",
            "1/1 [==============================] - 0s 9ms/step - loss: 5.0588 - mae: 5.0588\n",
            "Epoch 435/500\n",
            "1/1 [==============================] - 0s 11ms/step - loss: 5.0531 - mae: 5.0531\n",
            "Epoch 436/500\n",
            "1/1 [==============================] - 0s 15ms/step - loss: 5.0475 - mae: 5.0475\n",
            "Epoch 437/500\n",
            "1/1 [==============================] - 0s 13ms/step - loss: 5.0419 - mae: 5.0419\n",
            "Epoch 438/500\n",
            "1/1 [==============================] - 0s 15ms/step - loss: 5.0363 - mae: 5.0363\n",
            "Epoch 439/500\n",
            "1/1 [==============================] - 0s 8ms/step - loss: 5.0306 - mae: 5.0306\n",
            "Epoch 440/500\n",
            "1/1 [==============================] - 0s 10ms/step - loss: 5.0250 - mae: 5.0250\n",
            "Epoch 441/500\n",
            "1/1 [==============================] - 0s 14ms/step - loss: 5.0194 - mae: 5.0194\n",
            "Epoch 442/500\n",
            "1/1 [==============================] - 0s 18ms/step - loss: 5.0138 - mae: 5.0138\n",
            "Epoch 443/500\n",
            "1/1 [==============================] - 0s 19ms/step - loss: 5.0081 - mae: 5.0081\n",
            "Epoch 444/500\n",
            "1/1 [==============================] - 0s 23ms/step - loss: 5.0036 - mae: 5.0036\n",
            "Epoch 445/500\n",
            "1/1 [==============================] - 0s 14ms/step - loss: 4.9988 - mae: 4.9988\n",
            "Epoch 446/500\n",
            "1/1 [==============================] - 0s 15ms/step - loss: 4.9931 - mae: 4.9931\n",
            "Epoch 447/500\n",
            "1/1 [==============================] - 0s 15ms/step - loss: 4.9875 - mae: 4.9875\n",
            "Epoch 448/500\n",
            "1/1 [==============================] - 0s 13ms/step - loss: 4.9819 - mae: 4.9819\n",
            "Epoch 449/500\n",
            "1/1 [==============================] - 0s 15ms/step - loss: 4.9763 - mae: 4.9763\n",
            "Epoch 450/500\n",
            "1/1 [==============================] - 0s 11ms/step - loss: 4.9706 - mae: 4.9706\n",
            "Epoch 451/500\n",
            "1/1 [==============================] - 0s 10ms/step - loss: 4.9650 - mae: 4.9650\n",
            "Epoch 452/500\n",
            "1/1 [==============================] - 0s 10ms/step - loss: 4.9594 - mae: 4.9594\n",
            "Epoch 453/500\n",
            "1/1 [==============================] - 0s 13ms/step - loss: 4.9538 - mae: 4.9538\n",
            "Epoch 454/500\n",
            "1/1 [==============================] - 0s 9ms/step - loss: 4.9481 - mae: 4.9481\n",
            "Epoch 455/500\n",
            "1/1 [==============================] - 0s 9ms/step - loss: 4.9425 - mae: 4.9425\n",
            "Epoch 456/500\n",
            "1/1 [==============================] - 0s 9ms/step - loss: 4.9369 - mae: 4.9369\n",
            "Epoch 457/500\n",
            "1/1 [==============================] - 0s 11ms/step - loss: 4.9313 - mae: 4.9313\n",
            "Epoch 458/500\n",
            "1/1 [==============================] - 0s 8ms/step - loss: 4.9256 - mae: 4.9256\n",
            "Epoch 459/500\n",
            "1/1 [==============================] - 0s 11ms/step - loss: 4.9200 - mae: 4.9200\n",
            "Epoch 460/500\n",
            "1/1 [==============================] - 0s 9ms/step - loss: 4.9144 - mae: 4.9144\n",
            "Epoch 461/500\n",
            "1/1 [==============================] - 0s 10ms/step - loss: 4.9088 - mae: 4.9088\n",
            "Epoch 462/500\n",
            "1/1 [==============================] - 0s 10ms/step - loss: 4.9031 - mae: 4.9031\n",
            "Epoch 463/500\n",
            "1/1 [==============================] - 0s 10ms/step - loss: 4.8975 - mae: 4.8975\n",
            "Epoch 464/500\n",
            "1/1 [==============================] - 0s 12ms/step - loss: 4.8919 - mae: 4.8919\n",
            "Epoch 465/500\n",
            "1/1 [==============================] - 0s 8ms/step - loss: 4.8863 - mae: 4.8863\n",
            "Epoch 466/500\n",
            "1/1 [==============================] - 0s 9ms/step - loss: 4.8806 - mae: 4.8806\n",
            "Epoch 467/500\n",
            "1/1 [==============================] - 0s 9ms/step - loss: 4.8750 - mae: 4.8750\n",
            "Epoch 468/500\n",
            "1/1 [==============================] - 0s 10ms/step - loss: 4.8694 - mae: 4.8694\n",
            "Epoch 469/500\n",
            "1/1 [==============================] - 0s 8ms/step - loss: 4.8638 - mae: 4.8638\n",
            "Epoch 470/500\n",
            "1/1 [==============================] - 0s 9ms/step - loss: 4.8581 - mae: 4.8581\n",
            "Epoch 471/500\n",
            "1/1 [==============================] - 0s 10ms/step - loss: 4.8525 - mae: 4.8525\n",
            "Epoch 472/500\n",
            "1/1 [==============================] - 0s 10ms/step - loss: 4.8469 - mae: 4.8469\n",
            "Epoch 473/500\n",
            "1/1 [==============================] - 0s 9ms/step - loss: 4.8413 - mae: 4.8413\n",
            "Epoch 474/500\n",
            "1/1 [==============================] - 0s 10ms/step - loss: 4.8356 - mae: 4.8356\n",
            "Epoch 475/500\n",
            "1/1 [==============================] - 0s 7ms/step - loss: 4.8300 - mae: 4.8300\n",
            "Epoch 476/500\n",
            "1/1 [==============================] - 0s 11ms/step - loss: 4.8244 - mae: 4.8244\n",
            "Epoch 477/500\n",
            "1/1 [==============================] - 0s 8ms/step - loss: 4.8188 - mae: 4.8188\n",
            "Epoch 478/500\n",
            "1/1 [==============================] - 0s 12ms/step - loss: 4.8131 - mae: 4.8131\n",
            "Epoch 479/500\n",
            "1/1 [==============================] - 0s 14ms/step - loss: 4.8075 - mae: 4.8075\n",
            "Epoch 480/500\n",
            "1/1 [==============================] - 0s 13ms/step - loss: 4.8019 - mae: 4.8019\n",
            "Epoch 481/500\n",
            "1/1 [==============================] - 0s 11ms/step - loss: 4.7963 - mae: 4.7963\n",
            "Epoch 482/500\n",
            "1/1 [==============================] - 0s 9ms/step - loss: 4.7906 - mae: 4.7906\n",
            "Epoch 483/500\n",
            "1/1 [==============================] - 0s 11ms/step - loss: 4.7850 - mae: 4.7850\n",
            "Epoch 484/500\n",
            "1/1 [==============================] - 0s 18ms/step - loss: 4.7794 - mae: 4.7794\n",
            "Epoch 485/500\n",
            "1/1 [==============================] - 0s 10ms/step - loss: 4.7755 - mae: 4.7755\n",
            "Epoch 486/500\n",
            "1/1 [==============================] - 0s 10ms/step - loss: 4.7700 - mae: 4.7700\n",
            "Epoch 487/500\n",
            "1/1 [==============================] - 0s 13ms/step - loss: 4.7644 - mae: 4.7644\n",
            "Epoch 488/500\n",
            "1/1 [==============================] - 0s 9ms/step - loss: 4.7588 - mae: 4.7588\n",
            "Epoch 489/500\n",
            "1/1 [==============================] - 0s 13ms/step - loss: 4.7531 - mae: 4.7531\n",
            "Epoch 490/500\n",
            "1/1 [==============================] - 0s 11ms/step - loss: 4.7475 - mae: 4.7475\n",
            "Epoch 491/500\n",
            "1/1 [==============================] - 0s 12ms/step - loss: 4.7419 - mae: 4.7419\n",
            "Epoch 492/500\n",
            "1/1 [==============================] - 0s 10ms/step - loss: 4.7363 - mae: 4.7363\n",
            "Epoch 493/500\n",
            "1/1 [==============================] - 0s 9ms/step - loss: 4.7306 - mae: 4.7306\n",
            "Epoch 494/500\n",
            "1/1 [==============================] - 0s 10ms/step - loss: 4.7250 - mae: 4.7250\n",
            "Epoch 495/500\n",
            "1/1 [==============================] - 0s 9ms/step - loss: 4.7194 - mae: 4.7194\n",
            "Epoch 496/500\n",
            "1/1 [==============================] - 0s 11ms/step - loss: 4.7138 - mae: 4.7138\n",
            "Epoch 497/500\n",
            "1/1 [==============================] - 0s 11ms/step - loss: 4.7081 - mae: 4.7081\n",
            "Epoch 498/500\n",
            "1/1 [==============================] - 0s 11ms/step - loss: 4.7025 - mae: 4.7025\n",
            "Epoch 499/500\n",
            "1/1 [==============================] - 0s 12ms/step - loss: 4.6969 - mae: 4.6969\n",
            "Epoch 500/500\n",
            "1/1 [==============================] - 0s 10ms/step - loss: 4.6913 - mae: 4.6913\n"
          ]
        },
        {
          "output_type": "execute_result",
          "data": {
            "text/plain": [
              "<keras.src.callbacks.History at 0x79fc0ef44f70>"
            ]
          },
          "metadata": {},
          "execution_count": 16
        }
      ],
      "source": [
        "# Let's rebuild the model\n",
        "\n",
        "# 1. Create the model\n",
        "model = tf.keras.Sequential([tf.keras.layers.Dense(1)\n",
        "                             ])\n",
        "\n",
        "# 2. Compile the model\n",
        "model.compile(loss=tf.keras.losses.mae,\n",
        "              optimizer=tf.keras.optimizers.SGD(),\n",
        "              metrics=['mae'])\n",
        "\n",
        "# 3. Fit the model (this time we'll train for longer)\n",
        "model.fit(tf.expand_dims(X, -1), y, epochs=500)"
      ]
    },
    {
      "cell_type": "code",
      "execution_count": 17,
      "metadata": {
        "colab": {
          "base_uri": "https://localhost:8080/"
        },
        "id": "-TOE4kunRp0x",
        "outputId": "1951c9b7-5151-428a-eade-afcbcf48eb28"
      },
      "outputs": [
        {
          "output_type": "execute_result",
          "data": {
            "text/plain": [
              "(<tf.Tensor: shape=(8,), dtype=float32, numpy=array([-7., -4., -1.,  2.,  5.,  8., 11., 14.], dtype=float32)>,\n",
              " <tf.Tensor: shape=(8,), dtype=float32, numpy=array([ 3.,  6.,  9., 12., 15., 18., 21., 24.], dtype=float32)>)"
            ]
          },
          "metadata": {},
          "execution_count": 17
        }
      ],
      "source": [
        "# Remind ourselves of the data\n",
        "X, y"
      ]
    },
    {
      "cell_type": "code",
      "execution_count": 18,
      "metadata": {
        "colab": {
          "base_uri": "https://localhost:8080/"
        },
        "id": "IrRa88M7Rp0x",
        "outputId": "d090bb8d-e350-46aa-e640-8a270fe8854e"
      },
      "outputs": [
        {
          "output_type": "stream",
          "name": "stdout",
          "text": [
            "1/1 [==============================] - 0s 118ms/step\n"
          ]
        },
        {
          "output_type": "execute_result",
          "data": {
            "text/plain": [
              "array([[30.132471]], dtype=float32)"
            ]
          },
          "metadata": {},
          "execution_count": 18
        }
      ],
      "source": [
        "# Let's see if our model's prediction has improved...\n",
        "model.predict([17.0])"
      ]
    },
    {
      "cell_type": "code",
      "execution_count": 19,
      "metadata": {
        "colab": {
          "base_uri": "https://localhost:8080/"
        },
        "id": "jjye-c8jRp0x",
        "outputId": "ec294eda-8aca-4bfe-f6f6-9048d44a34e8"
      },
      "outputs": [
        {
          "output_type": "stream",
          "name": "stdout",
          "text": [
            "Epoch 1/100\n",
            "1/1 [==============================] - 1s 1s/step - loss: 12.8458 - mae: 12.8458\n",
            "Epoch 2/100\n",
            "1/1 [==============================] - 0s 15ms/step - loss: 12.1487 - mae: 12.1487\n",
            "Epoch 3/100\n",
            "1/1 [==============================] - 0s 15ms/step - loss: 11.4543 - mae: 11.4543\n",
            "Epoch 4/100\n",
            "1/1 [==============================] - 0s 17ms/step - loss: 10.7596 - mae: 10.7596\n",
            "Epoch 5/100\n",
            "1/1 [==============================] - 0s 18ms/step - loss: 10.0595 - mae: 10.0595\n",
            "Epoch 6/100\n",
            "1/1 [==============================] - 0s 18ms/step - loss: 9.3496 - mae: 9.3496\n",
            "Epoch 7/100\n",
            "1/1 [==============================] - 0s 11ms/step - loss: 8.6268 - mae: 8.6268\n",
            "Epoch 8/100\n",
            "1/1 [==============================] - 0s 11ms/step - loss: 7.8884 - mae: 7.8884\n",
            "Epoch 9/100\n",
            "1/1 [==============================] - 0s 11ms/step - loss: 7.1320 - mae: 7.1320\n",
            "Epoch 10/100\n",
            "1/1 [==============================] - 0s 10ms/step - loss: 6.8120 - mae: 6.8120\n",
            "Epoch 11/100\n",
            "1/1 [==============================] - 0s 12ms/step - loss: 7.0993 - mae: 7.0993\n",
            "Epoch 12/100\n",
            "1/1 [==============================] - 0s 13ms/step - loss: 7.3826 - mae: 7.3826\n",
            "Epoch 13/100\n",
            "1/1 [==============================] - 0s 14ms/step - loss: 7.6803 - mae: 7.6803\n",
            "Epoch 14/100\n",
            "1/1 [==============================] - 0s 11ms/step - loss: 7.7694 - mae: 7.7694\n",
            "Epoch 15/100\n",
            "1/1 [==============================] - 0s 11ms/step - loss: 7.6606 - mae: 7.6606\n",
            "Epoch 16/100\n",
            "1/1 [==============================] - 0s 9ms/step - loss: 7.4039 - mae: 7.4039\n",
            "Epoch 17/100\n",
            "1/1 [==============================] - 0s 13ms/step - loss: 7.0714 - mae: 7.0714\n",
            "Epoch 18/100\n",
            "1/1 [==============================] - 0s 12ms/step - loss: 6.8163 - mae: 6.8163\n",
            "Epoch 19/100\n",
            "1/1 [==============================] - 0s 12ms/step - loss: 6.5445 - mae: 6.5445\n",
            "Epoch 20/100\n",
            "1/1 [==============================] - 0s 9ms/step - loss: 6.2597 - mae: 6.2597\n",
            "Epoch 21/100\n",
            "1/1 [==============================] - 0s 9ms/step - loss: 6.1690 - mae: 6.1690\n",
            "Epoch 22/100\n",
            "1/1 [==============================] - 0s 11ms/step - loss: 6.1269 - mae: 6.1269\n",
            "Epoch 23/100\n",
            "1/1 [==============================] - 0s 10ms/step - loss: 6.3206 - mae: 6.3206\n",
            "Epoch 24/100\n",
            "1/1 [==============================] - 0s 12ms/step - loss: 6.4040 - mae: 6.4040\n",
            "Epoch 25/100\n",
            "1/1 [==============================] - 0s 12ms/step - loss: 6.3835 - mae: 6.3835\n",
            "Epoch 26/100\n",
            "1/1 [==============================] - 0s 13ms/step - loss: 6.2725 - mae: 6.2725\n",
            "Epoch 27/100\n",
            "1/1 [==============================] - 0s 9ms/step - loss: 6.0809 - mae: 6.0809\n",
            "Epoch 28/100\n",
            "1/1 [==============================] - 0s 12ms/step - loss: 5.8160 - mae: 5.8160\n",
            "Epoch 29/100\n",
            "1/1 [==============================] - 0s 11ms/step - loss: 5.5819 - mae: 5.5819\n",
            "Epoch 30/100\n",
            "1/1 [==============================] - 0s 12ms/step - loss: 5.4724 - mae: 5.4724\n",
            "Epoch 31/100\n",
            "1/1 [==============================] - 0s 11ms/step - loss: 5.3888 - mae: 5.3888\n",
            "Epoch 32/100\n",
            "1/1 [==============================] - 0s 12ms/step - loss: 5.3983 - mae: 5.3983\n",
            "Epoch 33/100\n",
            "1/1 [==============================] - 0s 15ms/step - loss: 5.3614 - mae: 5.3614\n",
            "Epoch 34/100\n",
            "1/1 [==============================] - 0s 11ms/step - loss: 5.2817 - mae: 5.2817\n",
            "Epoch 35/100\n",
            "1/1 [==============================] - 0s 11ms/step - loss: 5.1622 - mae: 5.1622\n",
            "Epoch 36/100\n",
            "1/1 [==============================] - 0s 12ms/step - loss: 5.0059 - mae: 5.0059\n",
            "Epoch 37/100\n",
            "1/1 [==============================] - 0s 14ms/step - loss: 4.8157 - mae: 4.8157\n",
            "Epoch 38/100\n",
            "1/1 [==============================] - 0s 13ms/step - loss: 4.6643 - mae: 4.6643\n",
            "Epoch 39/100\n",
            "1/1 [==============================] - 0s 13ms/step - loss: 4.5636 - mae: 4.5636\n",
            "Epoch 40/100\n",
            "1/1 [==============================] - 0s 10ms/step - loss: 4.4545 - mae: 4.4545\n",
            "Epoch 41/100\n",
            "1/1 [==============================] - 0s 11ms/step - loss: 4.3875 - mae: 4.3875\n",
            "Epoch 42/100\n",
            "1/1 [==============================] - 0s 14ms/step - loss: 4.2532 - mae: 4.2532\n",
            "Epoch 43/100\n",
            "1/1 [==============================] - 0s 10ms/step - loss: 4.0479 - mae: 4.0479\n",
            "Epoch 44/100\n",
            "1/1 [==============================] - 0s 12ms/step - loss: 3.8871 - mae: 3.8871\n",
            "Epoch 45/100\n",
            "1/1 [==============================] - 0s 13ms/step - loss: 3.7183 - mae: 3.7183\n",
            "Epoch 46/100\n",
            "1/1 [==============================] - 0s 14ms/step - loss: 3.5690 - mae: 3.5690\n",
            "Epoch 47/100\n",
            "1/1 [==============================] - 0s 9ms/step - loss: 3.4315 - mae: 3.4315\n",
            "Epoch 48/100\n",
            "1/1 [==============================] - 0s 9ms/step - loss: 3.2381 - mae: 3.2381\n",
            "Epoch 49/100\n",
            "1/1 [==============================] - 0s 9ms/step - loss: 3.0213 - mae: 3.0213\n",
            "Epoch 50/100\n",
            "1/1 [==============================] - 0s 16ms/step - loss: 2.8375 - mae: 2.8375\n",
            "Epoch 51/100\n",
            "1/1 [==============================] - 0s 11ms/step - loss: 2.6420 - mae: 2.6420\n",
            "Epoch 52/100\n",
            "1/1 [==============================] - 0s 9ms/step - loss: 2.4348 - mae: 2.4348\n",
            "Epoch 53/100\n",
            "1/1 [==============================] - 0s 14ms/step - loss: 2.2501 - mae: 2.2501\n",
            "Epoch 54/100\n",
            "1/1 [==============================] - 0s 13ms/step - loss: 1.9730 - mae: 1.9730\n",
            "Epoch 55/100\n",
            "1/1 [==============================] - 0s 10ms/step - loss: 1.7329 - mae: 1.7329\n",
            "Epoch 56/100\n",
            "1/1 [==============================] - 0s 9ms/step - loss: 1.5015 - mae: 1.5015\n",
            "Epoch 57/100\n",
            "1/1 [==============================] - 0s 13ms/step - loss: 1.2135 - mae: 1.2135\n",
            "Epoch 58/100\n",
            "1/1 [==============================] - 0s 15ms/step - loss: 0.9467 - mae: 0.9467\n",
            "Epoch 59/100\n",
            "1/1 [==============================] - 0s 13ms/step - loss: 0.7138 - mae: 0.7138\n",
            "Epoch 60/100\n",
            "1/1 [==============================] - 0s 11ms/step - loss: 0.3877 - mae: 0.3877\n",
            "Epoch 61/100\n",
            "1/1 [==============================] - 0s 12ms/step - loss: 0.1457 - mae: 0.1457\n",
            "Epoch 62/100\n",
            "1/1 [==============================] - 0s 13ms/step - loss: 0.4245 - mae: 0.4245\n",
            "Epoch 63/100\n",
            "1/1 [==============================] - 0s 8ms/step - loss: 0.5656 - mae: 0.5656\n",
            "Epoch 64/100\n",
            "1/1 [==============================] - 0s 11ms/step - loss: 0.7797 - mae: 0.7797\n",
            "Epoch 65/100\n",
            "1/1 [==============================] - 0s 11ms/step - loss: 0.9447 - mae: 0.9447\n",
            "Epoch 66/100\n",
            "1/1 [==============================] - 0s 8ms/step - loss: 0.8932 - mae: 0.8932\n",
            "Epoch 67/100\n",
            "1/1 [==============================] - 0s 9ms/step - loss: 0.9546 - mae: 0.9546\n",
            "Epoch 68/100\n",
            "1/1 [==============================] - 0s 10ms/step - loss: 0.9502 - mae: 0.9502\n",
            "Epoch 69/100\n",
            "1/1 [==============================] - 0s 8ms/step - loss: 0.8462 - mae: 0.8462\n",
            "Epoch 70/100\n",
            "1/1 [==============================] - 0s 8ms/step - loss: 0.8013 - mae: 0.8013\n",
            "Epoch 71/100\n",
            "1/1 [==============================] - 0s 15ms/step - loss: 0.6672 - mae: 0.6672\n",
            "Epoch 72/100\n",
            "1/1 [==============================] - 0s 12ms/step - loss: 0.5229 - mae: 0.5229\n",
            "Epoch 73/100\n",
            "1/1 [==============================] - 0s 12ms/step - loss: 0.4611 - mae: 0.4611\n",
            "Epoch 74/100\n",
            "1/1 [==============================] - 0s 12ms/step - loss: 0.1920 - mae: 0.1920\n",
            "Epoch 75/100\n",
            "1/1 [==============================] - 0s 12ms/step - loss: 0.3251 - mae: 0.3251\n",
            "Epoch 76/100\n",
            "1/1 [==============================] - 0s 11ms/step - loss: 0.3865 - mae: 0.3865\n",
            "Epoch 77/100\n",
            "1/1 [==============================] - 0s 13ms/step - loss: 0.3242 - mae: 0.3242\n",
            "Epoch 78/100\n",
            "1/1 [==============================] - 0s 10ms/step - loss: 0.4391 - mae: 0.4391\n",
            "Epoch 79/100\n",
            "1/1 [==============================] - 0s 14ms/step - loss: 0.4071 - mae: 0.4071\n",
            "Epoch 80/100\n",
            "1/1 [==============================] - 0s 12ms/step - loss: 0.4716 - mae: 0.4716\n",
            "Epoch 81/100\n",
            "1/1 [==============================] - 0s 9ms/step - loss: 0.3980 - mae: 0.3980\n",
            "Epoch 82/100\n",
            "1/1 [==============================] - 0s 12ms/step - loss: 0.3632 - mae: 0.3632\n",
            "Epoch 83/100\n",
            "1/1 [==============================] - 0s 9ms/step - loss: 0.2604 - mae: 0.2604\n",
            "Epoch 84/100\n",
            "1/1 [==============================] - 0s 8ms/step - loss: 0.2592 - mae: 0.2592\n",
            "Epoch 85/100\n",
            "1/1 [==============================] - 0s 13ms/step - loss: 0.1204 - mae: 0.1204\n",
            "Epoch 86/100\n",
            "1/1 [==============================] - 0s 9ms/step - loss: 0.3271 - mae: 0.3271\n",
            "Epoch 87/100\n",
            "1/1 [==============================] - 0s 9ms/step - loss: 0.4110 - mae: 0.4110\n",
            "Epoch 88/100\n",
            "1/1 [==============================] - 0s 9ms/step - loss: 0.2648 - mae: 0.2648\n",
            "Epoch 89/100\n",
            "1/1 [==============================] - 0s 9ms/step - loss: 0.4660 - mae: 0.4660\n",
            "Epoch 90/100\n",
            "1/1 [==============================] - 0s 9ms/step - loss: 0.5245 - mae: 0.5245\n",
            "Epoch 91/100\n",
            "1/1 [==============================] - 0s 10ms/step - loss: 0.4107 - mae: 0.4107\n",
            "Epoch 92/100\n",
            "1/1 [==============================] - 0s 10ms/step - loss: 0.1521 - mae: 0.1521\n",
            "Epoch 93/100\n",
            "1/1 [==============================] - 0s 9ms/step - loss: 0.3222 - mae: 0.3222\n",
            "Epoch 94/100\n",
            "1/1 [==============================] - 0s 10ms/step - loss: 0.2541 - mae: 0.2541\n",
            "Epoch 95/100\n",
            "1/1 [==============================] - 0s 9ms/step - loss: 0.1658 - mae: 0.1658\n",
            "Epoch 96/100\n",
            "1/1 [==============================] - 0s 9ms/step - loss: 0.2797 - mae: 0.2797\n",
            "Epoch 97/100\n",
            "1/1 [==============================] - 0s 9ms/step - loss: 0.2093 - mae: 0.2093\n",
            "Epoch 98/100\n",
            "1/1 [==============================] - 0s 10ms/step - loss: 0.2788 - mae: 0.2788\n",
            "Epoch 99/100\n",
            "1/1 [==============================] - 0s 9ms/step - loss: 0.2003 - mae: 0.2003\n",
            "Epoch 100/100\n",
            "1/1 [==============================] - 0s 10ms/step - loss: 0.2428 - mae: 0.2428\n"
          ]
        },
        {
          "output_type": "execute_result",
          "data": {
            "text/plain": [
              "<keras.src.callbacks.History at 0x79fc0e67fc70>"
            ]
          },
          "metadata": {},
          "execution_count": 19
        }
      ],
      "source": [
        "# Let's see if we can make another to improve our model\n",
        "\n",
        "# 1. Create the model (this time with an extra hidden layer with 100 hidden units)\n",
        "model = tf.keras.Sequential([\n",
        "    tf.keras.layers.Dense(50, activation=None),\n",
        "    tf.keras.layers.Dense(1)\n",
        "])\n",
        "\n",
        "# 2. Compile the model\n",
        "model.compile(loss='mae',\n",
        "              optimizer=tf.keras.optimizers.Adam(learning_rate=0.01),\n",
        "              metrics=['mae'])\n",
        "\n",
        "# 3. Fit the model\n",
        "model.fit(tf.expand_dims(X, -1), y, epochs=100)"
      ]
    },
    {
      "cell_type": "code",
      "execution_count": 20,
      "metadata": {
        "colab": {
          "base_uri": "https://localhost:8080/"
        },
        "id": "wRpc0XlMRp0x",
        "outputId": "ac1775d0-2f86-49e4-fd86-1e37c9982923"
      },
      "outputs": [
        {
          "output_type": "execute_result",
          "data": {
            "text/plain": [
              "(<tf.Tensor: shape=(8,), dtype=float32, numpy=array([-7., -4., -1.,  2.,  5.,  8., 11., 14.], dtype=float32)>,\n",
              " <tf.Tensor: shape=(8,), dtype=float32, numpy=array([ 3.,  6.,  9., 12., 15., 18., 21., 24.], dtype=float32)>)"
            ]
          },
          "metadata": {},
          "execution_count": 20
        }
      ],
      "source": [
        "# Let's remind ourselves of the data\n",
        "X, y"
      ]
    },
    {
      "cell_type": "code",
      "execution_count": 21,
      "metadata": {
        "colab": {
          "base_uri": "https://localhost:8080/"
        },
        "id": "FPRLCxSVRp0x",
        "outputId": "f14d8f06-1e34-470b-9193-4dc653b7b2d8"
      },
      "outputs": [
        {
          "output_type": "stream",
          "name": "stdout",
          "text": [
            "1/1 [==============================] - 0s 117ms/step\n"
          ]
        },
        {
          "output_type": "execute_result",
          "data": {
            "text/plain": [
              "array([[27.432775]], dtype=float32)"
            ]
          },
          "metadata": {},
          "execution_count": 21
        }
      ],
      "source": [
        "# Let's try to make a prediction\n",
        "model.predict([17.0])"
      ]
    },
    {
      "cell_type": "markdown",
      "metadata": {
        "id": "EByV0hBjRp0y"
      },
      "source": [
        "## Evaluating a model\n",
        "\n",
        "In practice, a typical workflow you'll go through when building neural networks is:\n",
        "\n",
        "```\n",
        "Build a model -> fit it -> evaluate it -> tweak a model -> fit it -> evaluate it -> tweak a model -> fit it -> evaluate it ...\n",
        "```"
      ]
    },
    {
      "cell_type": "markdown",
      "metadata": {
        "id": "yts1NfRqRp0y"
      },
      "source": [
        "When it comes to evaluations ... there are 3 words you should memorize:\n",
        "\n",
        "> 'Visualize, Visualize, Visualize\n",
        "\n",
        "It's a good idea to visualize:\n",
        "* The data - what data are we working with? What does it look like?\n",
        "* The model itself - what does our model look like?\n",
        "* The training of a model - how does a model perform while it learns?\n",
        "* The predictions of the model - how do the predictions of a model line up against the ground truth (the original labels)?"
      ]
    },
    {
      "cell_type": "code",
      "execution_count": 22,
      "metadata": {
        "colab": {
          "base_uri": "https://localhost:8080/"
        },
        "id": "om1OaW2DRp0y",
        "outputId": "578c8953-5e4b-4f49-e278-ebd14ea95971"
      },
      "outputs": [
        {
          "output_type": "execute_result",
          "data": {
            "text/plain": [
              "<tf.Tensor: shape=(50,), dtype=int32, numpy=\n",
              "array([-100,  -96,  -92,  -88,  -84,  -80,  -76,  -72,  -68,  -64,  -60,\n",
              "        -56,  -52,  -48,  -44,  -40,  -36,  -32,  -28,  -24,  -20,  -16,\n",
              "        -12,   -8,   -4,    0,    4,    8,   12,   16,   20,   24,   28,\n",
              "         32,   36,   40,   44,   48,   52,   56,   60,   64,   68,   72,\n",
              "         76,   80,   84,   88,   92,   96], dtype=int32)>"
            ]
          },
          "metadata": {},
          "execution_count": 22
        }
      ],
      "source": [
        "# Make a bigger dataset\n",
        "X = tf.range(-100, 100, 4)\n",
        "X"
      ]
    },
    {
      "cell_type": "code",
      "execution_count": 23,
      "metadata": {
        "colab": {
          "base_uri": "https://localhost:8080/"
        },
        "id": "q3TV7kmzRp0y",
        "outputId": "c1affdb6-79ec-47e4-c06b-32bffca60e36"
      },
      "outputs": [
        {
          "output_type": "execute_result",
          "data": {
            "text/plain": [
              "<tf.Tensor: shape=(50,), dtype=int32, numpy=\n",
              "array([-90, -86, -82, -78, -74, -70, -66, -62, -58, -54, -50, -46, -42,\n",
              "       -38, -34, -30, -26, -22, -18, -14, -10,  -6,  -2,   2,   6,  10,\n",
              "        14,  18,  22,  26,  30,  34,  38,  42,  46,  50,  54,  58,  62,\n",
              "        66,  70,  74,  78,  82,  86,  90,  94,  98, 102, 106], dtype=int32)>"
            ]
          },
          "metadata": {},
          "execution_count": 23
        }
      ],
      "source": [
        "# Make labels for the dataset\n",
        "y = X + 10\n",
        "y"
      ]
    },
    {
      "cell_type": "code",
      "execution_count": 24,
      "metadata": {
        "colab": {
          "base_uri": "https://localhost:8080/",
          "height": 447
        },
        "id": "WFWL-2ZrRp0z",
        "outputId": "61c32203-9abe-4d5e-b693-152b153dd798"
      },
      "outputs": [
        {
          "output_type": "execute_result",
          "data": {
            "text/plain": [
              "<matplotlib.collections.PathCollection at 0x79fc0d754ee0>"
            ]
          },
          "metadata": {},
          "execution_count": 24
        },
        {
          "output_type": "display_data",
          "data": {
            "text/plain": [
              "<Figure size 640x480 with 1 Axes>"
            ],
            "image/png": "[encoded data removed]"
          },
          "metadata": {}
        }
      ],
      "source": [
        "# Visualize the data\n",
        "plt.scatter(X, y)"
      ]
    },
    {
      "cell_type": "markdown",
      "metadata": {
        "id": "ZpYnLz39Rp0z"
      },
      "source": [
        "### The 3 sets... Split data into training/test set\n",
        "* **Train set** - the model learns from this data, which is tipically 70 - 80% of the total data you have available.\n",
        "* **Validation set** - the model gets tuned on this data, which is tipically 10 - 15%.\n",
        "* **Test set** - the model gets evaluated on this data to test what it has learned, this set is tipically 10 - 15% of the total data available."
      ]
    },
    {
      "cell_type": "code",
      "execution_count": 25,
      "metadata": {
        "colab": {
          "base_uri": "https://localhost:8080/"
        },
        "id": "M-gwA2rpRp00",
        "outputId": "fe6662c2-f83a-4111-b612-52a3d0b9391f"
      },
      "outputs": [
        {
          "output_type": "execute_result",
          "data": {
            "text/plain": [
              "50"
            ]
          },
          "metadata": {},
          "execution_count": 25
        }
      ],
      "source": [
        "# Check the length of how many samples we have\n",
        "len(X)"
      ]
    },
    {
      "cell_type": "code",
      "execution_count": 26,
      "metadata": {
        "colab": {
          "base_uri": "https://localhost:8080/"
        },
        "id": "SFZE_tAERp00",
        "outputId": "f54cadb8-6132-4898-b12d-ab05e3bb3a1a"
      },
      "outputs": [
        {
          "output_type": "execute_result",
          "data": {
            "text/plain": [
              "(40, 10, 40, 10)"
            ]
          },
          "metadata": {},
          "execution_count": 26
        }
      ],
      "source": [
        "# Split the data into train and test sets\n",
        "X_train = X[:40] # first 40 are training samples (80% of the data)\n",
        "y_train = y[:40]\n",
        "\n",
        "X_test = X[40:] # last 10 are testing samples (20% of the data)\n",
        "y_test = y[40:]\n",
        "\n",
        "len(X_train), len(X_test), len(y_train), len(y_test)"
      ]
    },
    {
      "cell_type": "markdown",
      "metadata": {
        "id": "yz4ATDdVRp00"
      },
      "source": [
        "### Visualizing the data\n",
        "\n",
        " ow we've got our data in training and test sets... let's visualize it again!"
      ]
    },
    {
      "cell_type": "code",
      "execution_count": 27,
      "metadata": {
        "colab": {
          "base_uri": "https://localhost:8080/",
          "height": 616
        },
        "id": "XrDcUa5NRp01",
        "outputId": "da954b02-0f17-4be5-f2b7-86ac35b32b06"
      },
      "outputs": [
        {
          "output_type": "execute_result",
          "data": {
            "text/plain": [
              "<matplotlib.legend.Legend at 0x79fc0d720100>"
            ]
          },
          "metadata": {},
          "execution_count": 27
        },
        {
          "output_type": "display_data",
          "data": {
            "text/plain": [
              "<Figure size 1000x700 with 1 Axes>"
            ],
            "image/png": "[encoded data removed]"
          },
          "metadata": {}
        }
      ],
      "source": [
        "plt.figure(figsize=(10, 7))\n",
        "# Plot training data in blue\n",
        "plt.scatter(X_train, y_train, c='b', label='Training data')\n",
        "# Plot test data in green\n",
        "plt.scatter(X_test, y_test, c='g', label='Test data')\n",
        "# Show a legend\n",
        "plt.legend()"
      ]
    },
    {
      "cell_type": "code",
      "execution_count": 28,
      "metadata": {
        "id": "3V9FEBD3Rp01"
      },
      "outputs": [],
      "source": [
        "# Let's have look at how to build a neural network for our data\n",
        "\n",
        "# 1.  Create a model\n",
        "model = tf.keras.Sequential([\n",
        "    tf.keras.layers.Dense(1)\n",
        "])\n",
        "\n",
        "# 2. Compile the model\n",
        "model.compile(loss=tf.keras.losses.mae,\n",
        "              optimizer=tf.keras.optimizers.SGD(),\n",
        "              metrics=['mae'])\n",
        "\n",
        "# 3. Fit the model\n",
        "# model.fit(X_train, y_train, epochs=100)"
      ]
    },
    {
      "cell_type": "markdown",
      "metadata": {
        "id": "fD92R3W9Rp01"
      },
      "source": [
        "### Visualizing the model"
      ]
    },
    {
      "cell_type": "code",
      "execution_count": 29,
      "metadata": {
        "colab": {
          "base_uri": "https://localhost:8080/",
          "height": 314
        },
        "id": "BQ2ORvzqRp02",
        "outputId": "81776ee0-67bd-4368-8559-b298acb46c3e"
      },
      "outputs": [
        {
          "output_type": "error",
          "ename": "ValueError",
          "evalue": "ignored",
          "traceback": [
            "\u001b[0;31m---------------------------------------------------------------------------\u001b[0m",
            "\u001b[0;31mValueError\u001b[0m                                Traceback (most recent call last)",
            "\u001b[0;32m<ipython-input-29-5f15418b3570>\u001b[0m in \u001b[0;36m<cell line: 1>\u001b[0;34m()\u001b[0m\n\u001b[0;32m----> 1\u001b[0;31m \u001b[0mmodel\u001b[0m\u001b[0;34m.\u001b[0m\u001b[0msummary\u001b[0m\u001b[0;34m(\u001b[0m\u001b[0;34m)\u001b[0m\u001b[0;34m\u001b[0m\u001b[0;34m\u001b[0m\u001b[0m\n\u001b[0m",
            "\u001b[0;32m/usr/local/lib/python3.10/dist-packages/keras/src/engine/training.py\u001b[0m in \u001b[0;36msummary\u001b[0;34m(self, line_length, positions, print_fn, expand_nested, show_trainable, layer_range)\u001b[0m\n\u001b[1;32m   3401\u001b[0m         \"\"\"\n\u001b[1;32m   3402\u001b[0m         \u001b[0;32mif\u001b[0m \u001b[0;32mnot\u001b[0m \u001b[0mself\u001b[0m\u001b[0;34m.\u001b[0m\u001b[0mbuilt\u001b[0m\u001b[0;34m:\u001b[0m\u001b[0;34m\u001b[0m\u001b[0;34m\u001b[0m\u001b[0m\n\u001b[0;32m-> 3403\u001b[0;31m             raise ValueError(\n\u001b[0m\u001b[1;32m   3404\u001b[0m                 \u001b[0;34m\"This model has not yet been built. \"\u001b[0m\u001b[0;34m\u001b[0m\u001b[0;34m\u001b[0m\u001b[0m\n\u001b[1;32m   3405\u001b[0m                 \u001b[0;34m\"Build the model first by calling `build()` or by calling \"\u001b[0m\u001b[0;34m\u001b[0m\u001b[0;34m\u001b[0m\u001b[0m\n",
            "\u001b[0;31mValueError\u001b[0m: This model has not yet been built. Build the model first by calling `build()` or by calling the model on a batch of data."
          ]
        }
      ],
      "source": [
        "model.summary()"
      ]
    },
    {
      "cell_type": "code",
      "execution_count": 30,
      "metadata": {
        "colab": {
          "base_uri": "https://localhost:8080/"
        },
        "id": "K2rG4gEPRp02",
        "outputId": "ac3a3993-2ac8-46d9-e1ed-c4404aeb9dc4"
      },
      "outputs": [
        {
          "output_type": "execute_result",
          "data": {
            "text/plain": [
              "(TensorShape([]), <tf.Tensor: shape=(), dtype=int32, numpy=-90>)"
            ]
          },
          "metadata": {},
          "execution_count": 30
        }
      ],
      "source": [
        "X[0].shape, y[0]"
      ]
    },
    {
      "cell_type": "code",
      "execution_count": 34,
      "metadata": {
        "id": "y5jAZJu_Rp02"
      },
      "outputs": [],
      "source": [
        "# Let's create a model which builds automatically by defining the input_shape argument in the first layer\n",
        "tf.random.set_seed(42)\n",
        "\n",
        "# 1. Create the model\n",
        "model = tf.keras.Sequential([\n",
        "    tf.keras.layers.Dense(10, input_shape=[1], name='input_layer'),\n",
        "    tf.keras.layers.Dense(1, name='output_layer')\n",
        "], name=\"model_1\")\n",
        "\n",
        "# 2. Compile the model\n",
        "model.compile(loss=tf.keras.losses.mae,\n",
        "              optimizer=tf.keras.optimizers.Adam(learning_rate=0.01),\n",
        "              metrics=['mae'])\n",
        "\n"
      ]
    },
    {
      "cell_type": "code",
      "execution_count": 35,
      "metadata": {
        "colab": {
          "base_uri": "https://localhost:8080/"
        },
        "id": "fL4W9AirRp03",
        "outputId": "408c3e5f-1737-4c42-decf-8798d42adf0f"
      },
      "outputs": [
        {
          "output_type": "stream",
          "name": "stdout",
          "text": [
            "Model: \"model_1\"\n",
            "_________________________________________________________________\n",
            " Layer (type)                Output Shape              Param #   \n",
            "=================================================================\n",
            " input_layer (Dense)         (None, 10)                20        \n",
            "                                                                 \n",
            " output_layer (Dense)        (None, 1)                 11        \n",
            "                                                                 \n",
            "=================================================================\n",
            "Total params: 31 (124.00 Byte)\n",
            "Trainable params: 31 (124.00 Byte)\n",
            "Non-trainable params: 0 (0.00 Byte)\n",
            "_________________________________________________________________\n"
          ]
        }
      ],
      "source": [
        "model.summary()"
      ]
    },
    {
      "cell_type": "markdown",
      "metadata": {
        "id": "hUgQc2OrRp03"
      },
      "source": [
        "* Total params - total number of parameters in the model.\n",
        "* Trainable parameters - these are the parameters (patterns) the model can update as it trains.\n",
        "* Non-trainable params . these parameters aren't updated during training (this is typical when you bring in already learn patterns or patameters from other models during **transfer learning**)"
      ]
    },
    {
      "cell_type": "code",
      "execution_count": 36,
      "metadata": {
        "colab": {
          "base_uri": "https://localhost:8080/"
        },
        "id": "MjGNe-MpRp03",
        "outputId": "337d4284-cf0c-489e-8f92-66159e503b12"
      },
      "outputs": [
        {
          "output_type": "stream",
          "name": "stdout",
          "text": [
            "Epoch 1/100\n",
            "2/2 [==============================] - 1s 11ms/step - loss: 49.2774 - mae: 49.2774\n",
            "Epoch 2/100\n",
            "2/2 [==============================] - 0s 6ms/step - loss: 43.0593 - mae: 43.0593\n",
            "Epoch 3/100\n",
            "2/2 [==============================] - 0s 7ms/step - loss: 37.0225 - mae: 37.0225\n",
            "Epoch 4/100\n",
            "2/2 [==============================] - 0s 7ms/step - loss: 30.8083 - mae: 30.8083\n",
            "Epoch 5/100\n",
            "2/2 [==============================] - 0s 10ms/step - loss: 24.7300 - mae: 24.7300\n",
            "Epoch 6/100\n",
            "2/2 [==============================] - 0s 9ms/step - loss: 18.7089 - mae: 18.7089\n",
            "Epoch 7/100\n",
            "2/2 [==============================] - 0s 8ms/step - loss: 12.9565 - mae: 12.9565\n",
            "Epoch 8/100\n",
            "2/2 [==============================] - 0s 7ms/step - loss: 8.1979 - mae: 8.1979\n",
            "Epoch 9/100\n",
            "2/2 [==============================] - 0s 11ms/step - loss: 9.2807 - mae: 9.2807\n",
            "Epoch 10/100\n",
            "2/2 [==============================] - 0s 8ms/step - loss: 10.9477 - mae: 10.9477\n",
            "Epoch 11/100\n",
            "2/2 [==============================] - 0s 8ms/step - loss: 12.1249 - mae: 12.1249\n",
            "Epoch 12/100\n",
            "2/2 [==============================] - 0s 10ms/step - loss: 12.2294 - mae: 12.2294\n",
            "Epoch 13/100\n",
            "2/2 [==============================] - 0s 11ms/step - loss: 11.6889 - mae: 11.6889\n",
            "Epoch 14/100\n",
            "2/2 [==============================] - 0s 7ms/step - loss: 10.7266 - mae: 10.7266\n",
            "Epoch 15/100\n",
            "2/2 [==============================] - 0s 8ms/step - loss: 9.4426 - mae: 9.4426\n",
            "Epoch 16/100\n",
            "2/2 [==============================] - 0s 7ms/step - loss: 7.8042 - mae: 7.8042\n",
            "Epoch 17/100\n",
            "2/2 [==============================] - 0s 7ms/step - loss: 7.5310 - mae: 7.5310\n",
            "Epoch 18/100\n",
            "2/2 [==============================] - 0s 7ms/step - loss: 8.4819 - mae: 8.4819\n",
            "Epoch 19/100\n",
            "2/2 [==============================] - 0s 5ms/step - loss: 8.9176 - mae: 8.9176\n",
            "Epoch 20/100\n",
            "2/2 [==============================] - 0s 6ms/step - loss: 8.6181 - mae: 8.6181\n",
            "Epoch 21/100\n",
            "2/2 [==============================] - 0s 9ms/step - loss: 7.7196 - mae: 7.7196\n",
            "Epoch 22/100\n",
            "2/2 [==============================] - 0s 7ms/step - loss: 6.7352 - mae: 6.7352\n",
            "Epoch 23/100\n",
            "2/2 [==============================] - 0s 9ms/step - loss: 7.3816 - mae: 7.3816\n",
            "Epoch 24/100\n",
            "2/2 [==============================] - 0s 8ms/step - loss: 7.8870 - mae: 7.8870\n",
            "Epoch 25/100\n",
            "2/2 [==============================] - 0s 8ms/step - loss: 7.7892 - mae: 7.7892\n",
            "Epoch 26/100\n",
            "2/2 [==============================] - 0s 7ms/step - loss: 7.1732 - mae: 7.1732\n",
            "Epoch 27/100\n",
            "2/2 [==============================] - 0s 8ms/step - loss: 6.3503 - mae: 6.3503\n",
            "Epoch 28/100\n",
            "2/2 [==============================] - 0s 6ms/step - loss: 6.6061 - mae: 6.6061\n",
            "Epoch 29/100\n",
            "2/2 [==============================] - 0s 9ms/step - loss: 7.0707 - mae: 7.0707\n",
            "Epoch 30/100\n",
            "2/2 [==============================] - 0s 9ms/step - loss: 6.8124 - mae: 6.8124\n",
            "Epoch 31/100\n",
            "2/2 [==============================] - 0s 7ms/step - loss: 6.2632 - mae: 6.2632\n",
            "Epoch 32/100\n",
            "2/2 [==============================] - 0s 7ms/step - loss: 6.3081 - mae: 6.3081\n",
            "Epoch 33/100\n",
            "2/2 [==============================] - 0s 8ms/step - loss: 6.4609 - mae: 6.4609\n",
            "Epoch 34/100\n",
            "2/2 [==============================] - 0s 7ms/step - loss: 6.0951 - mae: 6.0951\n",
            "Epoch 35/100\n",
            "2/2 [==============================] - 0s 8ms/step - loss: 5.6354 - mae: 5.6354\n",
            "Epoch 36/100\n",
            "2/2 [==============================] - 0s 7ms/step - loss: 5.8842 - mae: 5.8842\n",
            "Epoch 37/100\n",
            "2/2 [==============================] - 0s 7ms/step - loss: 5.9533 - mae: 5.9533\n",
            "Epoch 38/100\n",
            "2/2 [==============================] - 0s 7ms/step - loss: 5.6187 - mae: 5.6187\n",
            "Epoch 39/100\n",
            "2/2 [==============================] - 0s 9ms/step - loss: 5.4267 - mae: 5.4267\n",
            "Epoch 40/100\n",
            "2/2 [==============================] - 0s 8ms/step - loss: 5.5363 - mae: 5.5363\n",
            "Epoch 41/100\n",
            "2/2 [==============================] - 0s 9ms/step - loss: 5.2368 - mae: 5.2368\n",
            "Epoch 42/100\n",
            "2/2 [==============================] - 0s 8ms/step - loss: 5.1540 - mae: 5.1540\n",
            "Epoch 43/100\n",
            "2/2 [==============================] - 0s 7ms/step - loss: 5.2159 - mae: 5.2159\n",
            "Epoch 44/100\n",
            "2/2 [==============================] - 0s 7ms/step - loss: 5.0866 - mae: 5.0866\n",
            "Epoch 45/100\n",
            "2/2 [==============================] - 0s 7ms/step - loss: 4.8428 - mae: 4.8428\n",
            "Epoch 46/100\n",
            "2/2 [==============================] - 0s 7ms/step - loss: 4.7196 - mae: 4.7196\n",
            "Epoch 47/100\n",
            "2/2 [==============================] - 0s 7ms/step - loss: 4.6251 - mae: 4.6251\n",
            "Epoch 48/100\n",
            "2/2 [==============================] - 0s 7ms/step - loss: 4.5358 - mae: 4.5358\n",
            "Epoch 49/100\n",
            "2/2 [==============================] - 0s 7ms/step - loss: 4.4745 - mae: 4.4745\n",
            "Epoch 50/100\n",
            "2/2 [==============================] - 0s 7ms/step - loss: 4.3627 - mae: 4.3627\n",
            "Epoch 51/100\n",
            "2/2 [==============================] - 0s 7ms/step - loss: 4.2270 - mae: 4.2270\n",
            "Epoch 52/100\n",
            "2/2 [==============================] - 0s 8ms/step - loss: 4.2163 - mae: 4.2163\n",
            "Epoch 53/100\n",
            "2/2 [==============================] - 0s 7ms/step - loss: 4.0333 - mae: 4.0333\n",
            "Epoch 54/100\n",
            "2/2 [==============================] - 0s 6ms/step - loss: 4.1908 - mae: 4.1908\n",
            "Epoch 55/100\n",
            "2/2 [==============================] - 0s 10ms/step - loss: 4.4384 - mae: 4.4384\n",
            "Epoch 56/100\n",
            "2/2 [==============================] - 0s 10ms/step - loss: 3.9301 - mae: 3.9301\n",
            "Epoch 57/100\n",
            "2/2 [==============================] - 0s 9ms/step - loss: 3.7501 - mae: 3.7501\n",
            "Epoch 58/100\n",
            "2/2 [==============================] - 0s 9ms/step - loss: 4.1821 - mae: 4.1821\n",
            "Epoch 59/100\n",
            "2/2 [==============================] - 0s 11ms/step - loss: 3.9691 - mae: 3.9691\n",
            "Epoch 60/100\n",
            "2/2 [==============================] - 0s 10ms/step - loss: 3.3423 - mae: 3.3423\n",
            "Epoch 61/100\n",
            "2/2 [==============================] - 0s 10ms/step - loss: 3.4697 - mae: 3.4697\n",
            "Epoch 62/100\n",
            "2/2 [==============================] - 0s 12ms/step - loss: 3.2451 - mae: 3.2451\n",
            "Epoch 63/100\n",
            "2/2 [==============================] - 0s 10ms/step - loss: 3.0794 - mae: 3.0794\n",
            "Epoch 64/100\n",
            "2/2 [==============================] - 0s 9ms/step - loss: 2.9615 - mae: 2.9615\n",
            "Epoch 65/100\n",
            "2/2 [==============================] - 0s 7ms/step - loss: 2.7724 - mae: 2.7724\n",
            "Epoch 66/100\n",
            "2/2 [==============================] - 0s 8ms/step - loss: 2.6293 - mae: 2.6293\n",
            "Epoch 67/100\n",
            "2/2 [==============================] - 0s 8ms/step - loss: 2.5042 - mae: 2.5042\n",
            "Epoch 68/100\n",
            "2/2 [==============================] - 0s 11ms/step - loss: 2.3919 - mae: 2.3919\n",
            "Epoch 69/100\n",
            "2/2 [==============================] - 0s 8ms/step - loss: 2.2795 - mae: 2.2795\n",
            "Epoch 70/100\n",
            "2/2 [==============================] - 0s 7ms/step - loss: 2.2186 - mae: 2.2186\n",
            "Epoch 71/100\n",
            "2/2 [==============================] - 0s 10ms/step - loss: 1.9960 - mae: 1.9960\n",
            "Epoch 72/100\n",
            "2/2 [==============================] - 0s 8ms/step - loss: 2.0130 - mae: 2.0130\n",
            "Epoch 73/100\n",
            "2/2 [==============================] - 0s 7ms/step - loss: 1.8240 - mae: 1.8240\n",
            "Epoch 74/100\n",
            "2/2 [==============================] - 0s 8ms/step - loss: 1.6503 - mae: 1.6503\n",
            "Epoch 75/100\n",
            "2/2 [==============================] - 0s 7ms/step - loss: 1.6575 - mae: 1.6575\n",
            "Epoch 76/100\n",
            "2/2 [==============================] - 0s 8ms/step - loss: 1.3505 - mae: 1.3505\n",
            "Epoch 77/100\n",
            "2/2 [==============================] - 0s 8ms/step - loss: 1.1926 - mae: 1.1926\n",
            "Epoch 78/100\n",
            "2/2 [==============================] - 0s 7ms/step - loss: 1.0893 - mae: 1.0893\n",
            "Epoch 79/100\n",
            "2/2 [==============================] - 0s 8ms/step - loss: 1.2023 - mae: 1.2023\n",
            "Epoch 80/100\n",
            "2/2 [==============================] - 0s 11ms/step - loss: 0.7741 - mae: 0.7741\n",
            "Epoch 81/100\n",
            "2/2 [==============================] - 0s 10ms/step - loss: 1.0089 - mae: 1.0089\n",
            "Epoch 82/100\n",
            "2/2 [==============================] - 0s 7ms/step - loss: 0.6764 - mae: 0.6764\n",
            "Epoch 83/100\n",
            "2/2 [==============================] - 0s 7ms/step - loss: 0.4835 - mae: 0.4835\n",
            "Epoch 84/100\n",
            "2/2 [==============================] - 0s 7ms/step - loss: 0.2233 - mae: 0.2233\n",
            "Epoch 85/100\n",
            "2/2 [==============================] - 0s 7ms/step - loss: 0.3767 - mae: 0.3767\n",
            "Epoch 86/100\n",
            "2/2 [==============================] - 0s 7ms/step - loss: 0.7976 - mae: 0.7976\n",
            "Epoch 87/100\n",
            "2/2 [==============================] - 0s 8ms/step - loss: 0.5213 - mae: 0.5213\n",
            "Epoch 88/100\n",
            "2/2 [==============================] - 0s 6ms/step - loss: 0.5883 - mae: 0.5883\n",
            "Epoch 89/100\n",
            "2/2 [==============================] - 0s 7ms/step - loss: 0.4251 - mae: 0.4251\n",
            "Epoch 90/100\n",
            "2/2 [==============================] - 0s 7ms/step - loss: 0.5630 - mae: 0.5630\n",
            "Epoch 91/100\n",
            "2/2 [==============================] - 0s 7ms/step - loss: 0.4275 - mae: 0.4275\n",
            "Epoch 92/100\n",
            "2/2 [==============================] - 0s 7ms/step - loss: 0.3347 - mae: 0.3347\n",
            "Epoch 93/100\n",
            "2/2 [==============================] - 0s 8ms/step - loss: 0.8679 - mae: 0.8679\n",
            "Epoch 94/100\n",
            "2/2 [==============================] - 0s 9ms/step - loss: 0.6585 - mae: 0.6585\n",
            "Epoch 95/100\n",
            "2/2 [==============================] - 0s 9ms/step - loss: 0.4932 - mae: 0.4932\n",
            "Epoch 96/100\n",
            "2/2 [==============================] - 0s 11ms/step - loss: 0.7449 - mae: 0.7449\n",
            "Epoch 97/100\n",
            "2/2 [==============================] - 0s 7ms/step - loss: 0.4797 - mae: 0.4797\n",
            "Epoch 98/100\n",
            "2/2 [==============================] - 0s 7ms/step - loss: 0.3995 - mae: 0.3995\n",
            "Epoch 99/100\n",
            "2/2 [==============================] - 0s 7ms/step - loss: 0.5701 - mae: 0.5701\n",
            "Epoch 100/100\n",
            "2/2 [==============================] - 0s 6ms/step - loss: 0.7668 - mae: 0.7668\n"
          ]
        },
        {
          "output_type": "execute_result",
          "data": {
            "text/plain": [
              "<keras.src.callbacks.History at 0x79fc0e4400d0>"
            ]
          },
          "metadata": {},
          "execution_count": 36
        }
      ],
      "source": [
        "# Let's fit our model to the training data\n",
        "model.fit(X_train, y_train, epochs=100, verbose=1)"
      ]
    },
    {
      "cell_type": "code",
      "execution_count": 37,
      "metadata": {
        "colab": {
          "base_uri": "https://localhost:8080/",
          "height": 312
        },
        "id": "yIVMdT8vRp04",
        "outputId": "1ab50f67-5ba4-46e9-954a-575d7c7eeda3"
      },
      "outputs": [
        {
          "output_type": "execute_result",
          "data": {
            "image/png": "[encoded data removed]",
            "text/plain": [
              "<IPython.core.display.Image object>"
            ]
          },
          "metadata": {},
          "execution_count": 37
        }
      ],
      "source": [
        "from tensorflow.keras.utils import plot_model\n",
        "\n",
        "plot_model(model, show_shapes=True)"
      ]
    },
    {
      "cell_type": "markdown",
      "metadata": {
        "id": "41LDGGhfRp04"
      },
      "source": [
        "### Visualizing our model's predictions\n",
        "\n",
        "To visualize predictions, it's a good idea to plot them against the ground truth labels.\n",
        "\n",
        "Often you'll see this in the form of y_test or y_true versus y_pred (ground truth versus your model's predictions)."
      ]
    },
    {
      "cell_type": "code",
      "execution_count": 38,
      "metadata": {
        "colab": {
          "base_uri": "https://localhost:8080/"
        },
        "id": "xsEltBFtRp04",
        "outputId": "1e3ba850-d3cd-408a-8626-be091d7b3199"
      },
      "outputs": [
        {
          "output_type": "stream",
          "name": "stdout",
          "text": [
            "1/1 [==============================] - 0s 57ms/step\n"
          ]
        },
        {
          "output_type": "execute_result",
          "data": {
            "text/plain": [
              "array([[ 68.8544  ],\n",
              "       [ 72.78823 ],\n",
              "       [ 76.72207 ],\n",
              "       [ 80.6559  ],\n",
              "       [ 84.58973 ],\n",
              "       [ 88.52356 ],\n",
              "       [ 92.45739 ],\n",
              "       [ 96.39123 ],\n",
              "       [100.325066],\n",
              "       [104.258896]], dtype=float32)"
            ]
          },
          "metadata": {},
          "execution_count": 38
        }
      ],
      "source": [
        "# Make some predictions\n",
        "y_pred = model.predict(X_test)\n",
        "y_pred"
      ]
    },
    {
      "cell_type": "code",
      "execution_count": 39,
      "metadata": {
        "colab": {
          "base_uri": "https://localhost:8080/"
        },
        "id": "FmmoSHWaRp04",
        "outputId": "fec8c6b3-fbd2-40e9-b0d1-014e52e0e755"
      },
      "outputs": [
        {
          "output_type": "execute_result",
          "data": {
            "text/plain": [
              "<tf.Tensor: shape=(10,), dtype=int32, numpy=array([ 70,  74,  78,  82,  86,  90,  94,  98, 102, 106], dtype=int32)>"
            ]
          },
          "metadata": {},
          "execution_count": 39
        }
      ],
      "source": [
        "y_test"
      ]
    },
    {
      "cell_type": "code",
      "execution_count": 40,
      "metadata": {
        "id": "dC3BpjntRp04"
      },
      "outputs": [],
      "source": [
        "# Let's create a plotting function\n",
        "def plot_predictions(train_data=X_train, train_labels=y_train, test_data=X_test, test_labels=y_test, predictions=y_pred):\n",
        "    '''\n",
        "    Plots training data, test data and compares predictions to ground truth labels.\n",
        "    '''\n",
        "\n",
        "    plt.figure(figsize=(10, 7))\n",
        "\n",
        "    # Plot training data in blue\n",
        "    plt.scatter(train_data, train_labels, c='b', label='Training data')\n",
        "\n",
        "    # Plot test data in green\n",
        "    plt.scatter(test_data, test_labels, c='g', label='Test data')\n",
        "\n",
        "    # Plot model's predictions in red\n",
        "    plt.scatter(test_data, predictions, c='r', label='Predictions')\n",
        "\n",
        "    # Show the legend\n",
        "    plt.legend()"
      ]
    },
    {
      "cell_type": "code",
      "execution_count": 41,
      "metadata": {
        "colab": {
          "base_uri": "https://localhost:8080/",
          "height": 599
        },
        "id": "_ndl3JjfRp05",
        "outputId": "3d56b010-d710-48fa-9cfd-d1ab51032e48"
      },
      "outputs": [
        {
          "output_type": "display_data",
          "data": {
            "text/plain": [
              "<Figure size 1000x700 with 1 Axes>"
            ],
            "image/png": "[encoded data removed]"
          },
          "metadata": {}
        }
      ],
      "source": [
        "plot_predictions(train_data=X_train, train_labels=y_train, test_data=X_test, test_labels=y_test, predictions=y_pred)"
      ]
    },
    {
      "cell_type": "markdown",
      "metadata": {
        "id": "sp01YWFMRp05"
      },
      "source": [
        "### Evaluating our model's predictions with regression evaluation metrics\n",
        "\n",
        "Depending on the problem you're working on, there will be different evaluation metrics to evaluate your model's performance.\n",
        "\n",
        "Since we're working on a regression, two of the main metrics are:\n",
        "* MAE - mean absolute error, 'on average, how wrong is each of my model's predictions'\n",
        "* MSE - mean square error, 'square the average errors'"
      ]
    },
    {
      "cell_type": "code",
      "execution_count": 42,
      "metadata": {
        "colab": {
          "base_uri": "https://localhost:8080/"
        },
        "id": "SU-uMQJHRp05",
        "outputId": "5db10d79-ced7-4a8d-f977-1dcff40980ad"
      },
      "outputs": [
        {
          "output_type": "stream",
          "name": "stdout",
          "text": [
            "1/1 [==============================] - 0s 147ms/step - loss: 1.4434 - mae: 1.4434\n"
          ]
        },
        {
          "output_type": "execute_result",
          "data": {
            "text/plain": [
              "[1.443352460861206, 1.443352460861206]"
            ]
          },
          "metadata": {},
          "execution_count": 42
        }
      ],
      "source": [
        "# Evaluate the model on the test\n",
        "model.evaluate(X_test, y_test)"
      ]
    },
    {
      "cell_type": "code",
      "execution_count": 43,
      "metadata": {
        "colab": {
          "base_uri": "https://localhost:8080/"
        },
        "id": "WxB00rBeRp06",
        "outputId": "09b99e34-e061-42ee-e2e7-6dc9c4d51cfe"
      },
      "outputs": [
        {
          "output_type": "execute_result",
          "data": {
            "text/plain": [
              "<tf.Tensor: shape=(10, 1), dtype=float32, numpy=\n",
              "array([[ 68.8544  ],\n",
              "       [ 72.78823 ],\n",
              "       [ 76.72207 ],\n",
              "       [ 80.6559  ],\n",
              "       [ 84.58973 ],\n",
              "       [ 88.52356 ],\n",
              "       [ 92.45739 ],\n",
              "       [ 96.39123 ],\n",
              "       [100.325066],\n",
              "       [104.258896]], dtype=float32)>"
            ]
          },
          "metadata": {},
          "execution_count": 43
        }
      ],
      "source": [
        "y_pred = tf.constant(y_pred)\n",
        "y_pred"
      ]
    },
    {
      "cell_type": "code",
      "execution_count": 44,
      "metadata": {
        "colab": {
          "base_uri": "https://localhost:8080/"
        },
        "id": "CosaEAmURp06",
        "outputId": "c4be4dc7-e184-4b51-c9bc-20043f121d06"
      },
      "outputs": [
        {
          "output_type": "execute_result",
          "data": {
            "text/plain": [
              "<tf.Tensor: shape=(10,), dtype=int32, numpy=array([ 70,  74,  78,  82,  86,  90,  94,  98, 102, 106], dtype=int32)>"
            ]
          },
          "metadata": {},
          "execution_count": 44
        }
      ],
      "source": [
        "y_test"
      ]
    },
    {
      "cell_type": "code",
      "execution_count": 47,
      "metadata": {
        "colab": {
          "base_uri": "https://localhost:8080/"
        },
        "id": "1UweI_KDRp07",
        "outputId": "568898f0-afcf-4b10-f34e-a47f407b2829"
      },
      "outputs": [
        {
          "output_type": "execute_result",
          "data": {
            "text/plain": [
              "<tf.Tensor: shape=(), dtype=float32, numpy=1.4433533>"
            ]
          },
          "metadata": {},
          "execution_count": 47
        }
      ],
      "source": [
        "# Calculate the mean absolute error\n",
        "mae = tf.metrics.mean_absolute_error(y_true= y_test, y_pred=tf.squeeze(y_pred))\n",
        "mae"
      ]
    },
    {
      "cell_type": "code",
      "execution_count": 48,
      "metadata": {
        "colab": {
          "base_uri": "https://localhost:8080/"
        },
        "id": "eDZDkAjaRp07",
        "outputId": "a0b70b77-beec-4838-990d-10c080743fd3"
      },
      "outputs": [
        {
          "output_type": "execute_result",
          "data": {
            "text/plain": [
              "<tf.Tensor: shape=(), dtype=float32, numpy=2.119388>"
            ]
          },
          "metadata": {},
          "execution_count": 48
        }
      ],
      "source": [
        "# Calculate the mean square error\n",
        "mse = tf.metrics.mean_squared_error(y_true=y_test, y_pred=tf.squeeze(y_pred))\n",
        "mse"
      ]
    },
    {
      "cell_type": "code",
      "execution_count": 49,
      "metadata": {
        "id": "2x7gp2P6Rp07"
      },
      "outputs": [],
      "source": [
        "# Make some functions to reuse MAE and MSE\n",
        "def mae(y_true, y_pred):\n",
        "    return tf.metrics.mean_absolute_error(y_true=y_true, y_pred=tf.squeeze(y_pred))\n",
        "\n",
        "def mse(y_true, y_pred):\n",
        "    return tf.metrics.mean_squared_error(y_true=y_true, y_pred=tf.squeeze(y_pred))"
      ]
    },
    {
      "cell_type": "markdown",
      "metadata": {
        "id": "ZJNN8pnyRp08"
      },
      "source": [
        "### Running experiments to improve our model\n",
        "\n",
        "```\n",
        "Build a model -> fit it -> evualuate it -> tweak it -> fit it -> evaluate it -> tweak it -> fit it -> evaluate it ...\n",
        "```\n",
        "\n",
        "1. Get more data - get more examples for your model to train on (more oportunities to learn patterns or relationships between features and labels).\n",
        "2. Make your model larger (using a more complex model) - this might come in the form of more layers or more hidden units in each layer.\n",
        "3. Train for longer - give your model more of a chance to find patterns in the data\n",
        "\n",
        "Let's do 3 modelling experiments:\n",
        "\n",
        "1. `model_1` - same as the original model, 1 layer, trained for 100 epochs.\n",
        "1. `model_2` - 2 layers, trained for 100 epochs.\n",
        "1. `model_3` - 3 layers, trained for 500 epochs.\n",
        "\n",
        "**Build `model_1`**"
      ]
    },
    {
      "cell_type": "code",
      "execution_count": 50,
      "metadata": {
        "colab": {
          "base_uri": "https://localhost:8080/"
        },
        "id": "DDyTDAzQRp08",
        "outputId": "e7706235-6528-4c49-9dd1-36f5672aa841"
      },
      "outputs": [
        {
          "output_type": "stream",
          "name": "stdout",
          "text": [
            "Epoch 1/100\n",
            "2/2 [==============================] - 0s 11ms/step - loss: 27.0316 - mae: 27.0316\n",
            "Epoch 2/100\n",
            "2/2 [==============================] - 0s 7ms/step - loss: 8.6878 - mae: 8.6878\n",
            "Epoch 3/100\n",
            "2/2 [==============================] - 0s 7ms/step - loss: 11.0094 - mae: 11.0094\n",
            "Epoch 4/100\n",
            "2/2 [==============================] - 0s 9ms/step - loss: 9.4294 - mae: 9.4294\n",
            "Epoch 5/100\n",
            "2/2 [==============================] - 0s 12ms/step - loss: 10.3191 - mae: 10.3191\n",
            "Epoch 6/100\n",
            "2/2 [==============================] - 0s 9ms/step - loss: 9.5626 - mae: 9.5626\n",
            "Epoch 7/100\n",
            "2/2 [==============================] - 0s 8ms/step - loss: 8.6801 - mae: 8.6801\n",
            "Epoch 8/100\n",
            "2/2 [==============================] - 0s 9ms/step - loss: 9.0476 - mae: 9.0476\n",
            "Epoch 9/100\n",
            "2/2 [==============================] - 0s 7ms/step - loss: 19.0378 - mae: 19.0378\n",
            "Epoch 10/100\n",
            "2/2 [==============================] - 0s 7ms/step - loss: 10.2691 - mae: 10.2691\n",
            "Epoch 11/100\n",
            "2/2 [==============================] - 0s 7ms/step - loss: 8.4546 - mae: 8.4546\n",
            "Epoch 12/100\n",
            "2/2 [==============================] - 0s 10ms/step - loss: 10.7866 - mae: 10.7866\n",
            "Epoch 13/100\n",
            "2/2 [==============================] - 0s 8ms/step - loss: 9.8511 - mae: 9.8511\n",
            "Epoch 14/100\n",
            "2/2 [==============================] - 0s 7ms/step - loss: 12.0167 - mae: 12.0167\n",
            "Epoch 15/100\n",
            "2/2 [==============================] - 0s 6ms/step - loss: 12.4667 - mae: 12.4667\n",
            "Epoch 16/100\n",
            "2/2 [==============================] - 0s 7ms/step - loss: 7.9034 - mae: 7.9034\n",
            "Epoch 17/100\n",
            "2/2 [==============================] - 0s 7ms/step - loss: 12.8208 - mae: 12.8208\n",
            "Epoch 18/100\n",
            "2/2 [==============================] - 0s 7ms/step - loss: 10.4483 - mae: 10.4483\n",
            "Epoch 19/100\n",
            "2/2 [==============================] - 0s 8ms/step - loss: 19.2526 - mae: 19.2526\n",
            "Epoch 20/100\n",
            "2/2 [==============================] - 0s 9ms/step - loss: 15.9161 - mae: 15.9161\n",
            "Epoch 21/100\n",
            "2/2 [==============================] - 0s 8ms/step - loss: 11.8397 - mae: 11.8397\n",
            "Epoch 22/100\n",
            "2/2 [==============================] - 0s 7ms/step - loss: 8.4472 - mae: 8.4472\n",
            "Epoch 23/100\n",
            "2/2 [==============================] - 0s 7ms/step - loss: 9.8116 - mae: 9.8116\n",
            "Epoch 24/100\n",
            "2/2 [==============================] - 0s 9ms/step - loss: 10.8079 - mae: 10.8079\n",
            "Epoch 25/100\n",
            "2/2 [==============================] - 0s 10ms/step - loss: 9.0926 - mae: 9.0926\n",
            "Epoch 26/100\n",
            "2/2 [==============================] - 0s 7ms/step - loss: 13.0353 - mae: 13.0353\n",
            "Epoch 27/100\n",
            "2/2 [==============================] - 0s 8ms/step - loss: 10.3774 - mae: 10.3774\n",
            "Epoch 28/100\n",
            "2/2 [==============================] - 0s 6ms/step - loss: 13.3723 - mae: 13.3723\n",
            "Epoch 29/100\n",
            "2/2 [==============================] - 0s 7ms/step - loss: 9.5970 - mae: 9.5970\n",
            "Epoch 30/100\n",
            "2/2 [==============================] - 0s 7ms/step - loss: 17.1799 - mae: 17.1799\n",
            "Epoch 31/100\n",
            "2/2 [==============================] - 0s 7ms/step - loss: 22.8728 - mae: 22.8728\n",
            "Epoch 32/100\n",
            "2/2 [==============================] - 0s 7ms/step - loss: 7.9040 - mae: 7.9040\n",
            "Epoch 33/100\n",
            "2/2 [==============================] - 0s 7ms/step - loss: 14.1254 - mae: 14.1254\n",
            "Epoch 34/100\n",
            "2/2 [==============================] - 0s 7ms/step - loss: 12.3694 - mae: 12.3694\n",
            "Epoch 35/100\n",
            "2/2 [==============================] - 0s 7ms/step - loss: 8.2502 - mae: 8.2502\n",
            "Epoch 36/100\n",
            "2/2 [==============================] - 0s 6ms/step - loss: 10.4700 - mae: 10.4700\n",
            "Epoch 37/100\n",
            "2/2 [==============================] - 0s 7ms/step - loss: 10.1156 - mae: 10.1156\n",
            "Epoch 38/100\n",
            "2/2 [==============================] - 0s 7ms/step - loss: 11.3083 - mae: 11.3083\n",
            "Epoch 39/100\n",
            "2/2 [==============================] - 0s 7ms/step - loss: 14.7472 - mae: 14.7472\n",
            "Epoch 40/100\n",
            "2/2 [==============================] - 0s 7ms/step - loss: 12.8775 - mae: 12.8775\n",
            "Epoch 41/100\n",
            "2/2 [==============================] - 0s 9ms/step - loss: 9.2668 - mae: 9.2668\n",
            "Epoch 42/100\n",
            "2/2 [==============================] - 0s 5ms/step - loss: 10.9899 - mae: 10.9899\n",
            "Epoch 43/100\n",
            "2/2 [==============================] - 0s 9ms/step - loss: 8.3219 - mae: 8.3219\n",
            "Epoch 44/100\n",
            "2/2 [==============================] - 0s 8ms/step - loss: 13.0373 - mae: 13.0373\n",
            "Epoch 45/100\n",
            "2/2 [==============================] - 0s 7ms/step - loss: 13.6684 - mae: 13.6684\n",
            "Epoch 46/100\n",
            "2/2 [==============================] - 0s 9ms/step - loss: 8.2751 - mae: 8.2751\n",
            "Epoch 47/100\n",
            "2/2 [==============================] - 0s 8ms/step - loss: 8.7118 - mae: 8.7118\n",
            "Epoch 48/100\n",
            "2/2 [==============================] - 0s 6ms/step - loss: 10.0115 - mae: 10.0115\n",
            "Epoch 49/100\n",
            "2/2 [==============================] - 0s 9ms/step - loss: 8.4968 - mae: 8.4968\n",
            "Epoch 50/100\n",
            "2/2 [==============================] - 0s 8ms/step - loss: 9.0025 - mae: 9.0025\n",
            "Epoch 51/100\n",
            "2/2 [==============================] - 0s 7ms/step - loss: 9.3609 - mae: 9.3609\n",
            "Epoch 52/100\n",
            "2/2 [==============================] - 0s 5ms/step - loss: 13.9994 - mae: 13.9994\n",
            "Epoch 53/100\n",
            "2/2 [==============================] - 0s 6ms/step - loss: 15.4277 - mae: 15.4277\n",
            "Epoch 54/100\n",
            "2/2 [==============================] - 0s 8ms/step - loss: 8.2909 - mae: 8.2909\n",
            "Epoch 55/100\n",
            "2/2 [==============================] - 0s 7ms/step - loss: 17.0744 - mae: 17.0744\n",
            "Epoch 56/100\n",
            "2/2 [==============================] - 0s 7ms/step - loss: 9.8165 - mae: 9.8165\n",
            "Epoch 57/100\n",
            "2/2 [==============================] - 0s 6ms/step - loss: 9.6692 - mae: 9.6692\n",
            "Epoch 58/100\n",
            "2/2 [==============================] - 0s 6ms/step - loss: 8.9814 - mae: 8.9814\n",
            "Epoch 59/100\n",
            "2/2 [==============================] - 0s 7ms/step - loss: 10.2038 - mae: 10.2038\n",
            "Epoch 60/100\n",
            "2/2 [==============================] - 0s 7ms/step - loss: 8.3861 - mae: 8.3861\n",
            "Epoch 61/100\n",
            "2/2 [==============================] - 0s 7ms/step - loss: 9.2138 - mae: 9.2138\n",
            "Epoch 62/100\n",
            "2/2 [==============================] - 0s 7ms/step - loss: 7.2665 - mae: 7.2665\n",
            "Epoch 63/100\n",
            "2/2 [==============================] - 0s 7ms/step - loss: 8.1740 - mae: 8.1740\n",
            "Epoch 64/100\n",
            "2/2 [==============================] - 0s 7ms/step - loss: 12.5525 - mae: 12.5525\n",
            "Epoch 65/100\n",
            "2/2 [==============================] - 0s 7ms/step - loss: 10.6311 - mae: 10.6311\n",
            "Epoch 66/100\n",
            "2/2 [==============================] - 0s 7ms/step - loss: 15.4343 - mae: 15.4343\n",
            "Epoch 67/100\n",
            "2/2 [==============================] - 0s 7ms/step - loss: 9.8806 - mae: 9.8806\n",
            "Epoch 68/100\n",
            "2/2 [==============================] - 0s 10ms/step - loss: 8.6603 - mae: 8.6603\n",
            "Epoch 69/100\n",
            "2/2 [==============================] - 0s 13ms/step - loss: 13.3071 - mae: 13.3071\n",
            "Epoch 70/100\n",
            "2/2 [==============================] - 0s 8ms/step - loss: 7.8463 - mae: 7.8463\n",
            "Epoch 71/100\n",
            "2/2 [==============================] - 0s 7ms/step - loss: 11.3512 - mae: 11.3512\n",
            "Epoch 72/100\n",
            "2/2 [==============================] - 0s 7ms/step - loss: 9.5433 - mae: 9.5433\n",
            "Epoch 73/100\n",
            "2/2 [==============================] - 0s 7ms/step - loss: 11.6458 - mae: 11.6458\n",
            "Epoch 74/100\n",
            "2/2 [==============================] - 0s 9ms/step - loss: 10.7404 - mae: 10.7404\n",
            "Epoch 75/100\n",
            "2/2 [==============================] - 0s 12ms/step - loss: 9.5418 - mae: 9.5418\n",
            "Epoch 76/100\n",
            "2/2 [==============================] - 0s 9ms/step - loss: 10.9890 - mae: 10.9890\n",
            "Epoch 77/100\n",
            "2/2 [==============================] - 0s 10ms/step - loss: 11.0554 - mae: 11.0554\n",
            "Epoch 78/100\n",
            "2/2 [==============================] - 0s 7ms/step - loss: 11.5770 - mae: 11.5770\n",
            "Epoch 79/100\n",
            "2/2 [==============================] - 0s 7ms/step - loss: 15.6368 - mae: 15.6368\n",
            "Epoch 80/100\n",
            "2/2 [==============================] - 0s 8ms/step - loss: 11.5533 - mae: 11.5533\n",
            "Epoch 81/100\n",
            "2/2 [==============================] - 0s 7ms/step - loss: 9.4900 - mae: 9.4900\n",
            "Epoch 82/100\n",
            "2/2 [==============================] - 0s 7ms/step - loss: 12.5451 - mae: 12.5451\n",
            "Epoch 83/100\n",
            "2/2 [==============================] - 0s 7ms/step - loss: 8.1470 - mae: 8.1470\n",
            "Epoch 84/100\n",
            "2/2 [==============================] - 0s 6ms/step - loss: 7.5407 - mae: 7.5407\n",
            "Epoch 85/100\n",
            "2/2 [==============================] - 0s 7ms/step - loss: 9.7352 - mae: 9.7352\n",
            "Epoch 86/100\n",
            "2/2 [==============================] - 0s 9ms/step - loss: 9.0387 - mae: 9.0387\n",
            "Epoch 87/100\n",
            "2/2 [==============================] - 0s 6ms/step - loss: 11.6812 - mae: 11.6812\n",
            "Epoch 88/100\n",
            "2/2 [==============================] - 0s 7ms/step - loss: 10.2802 - mae: 10.2802\n",
            "Epoch 89/100\n",
            "2/2 [==============================] - 0s 7ms/step - loss: 6.7365 - mae: 6.7365\n",
            "Epoch 90/100\n",
            "2/2 [==============================] - 0s 7ms/step - loss: 8.1076 - mae: 8.1076\n",
            "Epoch 91/100\n",
            "2/2 [==============================] - 0s 8ms/step - loss: 6.8840 - mae: 6.8840\n",
            "Epoch 92/100\n",
            "2/2 [==============================] - 0s 7ms/step - loss: 8.9787 - mae: 8.9787\n",
            "Epoch 93/100\n",
            "2/2 [==============================] - 0s 9ms/step - loss: 7.4847 - mae: 7.4847\n",
            "Epoch 94/100\n",
            "2/2 [==============================] - 0s 9ms/step - loss: 9.1028 - mae: 9.1028\n",
            "Epoch 95/100\n",
            "2/2 [==============================] - 0s 7ms/step - loss: 10.5660 - mae: 10.5660\n",
            "Epoch 96/100\n",
            "2/2 [==============================] - 0s 7ms/step - loss: 10.5702 - mae: 10.5702\n",
            "Epoch 97/100\n",
            "2/2 [==============================] - 0s 7ms/step - loss: 6.9906 - mae: 6.9906\n",
            "Epoch 98/100\n",
            "2/2 [==============================] - 0s 7ms/step - loss: 9.1379 - mae: 9.1379\n",
            "Epoch 99/100\n",
            "2/2 [==============================] - 0s 6ms/step - loss: 8.9410 - mae: 8.9410\n",
            "Epoch 100/100\n",
            "2/2 [==============================] - 0s 6ms/step - loss: 13.0860 - mae: 13.0860\n"
          ]
        },
        {
          "output_type": "execute_result",
          "data": {
            "text/plain": [
              "<keras.src.callbacks.History at 0x79fc0e67ea40>"
            ]
          },
          "metadata": {},
          "execution_count": 50
        }
      ],
      "source": [
        "# Set random seed\n",
        "tf.random.set_seed(42)\n",
        "\n",
        "# 1. Create the model\n",
        "model_1 = tf.keras.Sequential([\n",
        "    tf.keras.layers.Dense(1)\n",
        "])\n",
        "\n",
        "# 2. Compile the model\n",
        "model_1.compile(loss=tf.keras.losses.mae,\n",
        "                optimizer=tf.keras.optimizers.SGD(),\n",
        "                metrics=['mae'])\n",
        "\n",
        "# 3. Fit the model\n",
        "model_1.fit(tf.expand_dims(X_train, -1), y_train, epochs=100)"
      ]
    },
    {
      "cell_type": "code",
      "execution_count": 51,
      "metadata": {
        "colab": {
          "base_uri": "https://localhost:8080/"
        },
        "id": "y0UvWp5wRp08",
        "outputId": "889f8062-a6d5-4168-b9bb-3f29756f997c"
      },
      "outputs": [
        {
          "output_type": "execute_result",
          "data": {
            "text/plain": [
              "(<tf.Tensor: shape=(40,), dtype=int32, numpy=\n",
              " array([-100,  -96,  -92,  -88,  -84,  -80,  -76,  -72,  -68,  -64,  -60,\n",
              "         -56,  -52,  -48,  -44,  -40,  -36,  -32,  -28,  -24,  -20,  -16,\n",
              "         -12,   -8,   -4,    0,    4,    8,   12,   16,   20,   24,   28,\n",
              "          32,   36,   40,   44,   48,   52,   56], dtype=int32)>,\n",
              " <tf.Tensor: shape=(40,), dtype=int32, numpy=\n",
              " array([-90, -86, -82, -78, -74, -70, -66, -62, -58, -54, -50, -46, -42,\n",
              "        -38, -34, -30, -26, -22, -18, -14, -10,  -6,  -2,   2,   6,  10,\n",
              "         14,  18,  22,  26,  30,  34,  38,  42,  46,  50,  54,  58,  62,\n",
              "         66], dtype=int32)>)"
            ]
          },
          "metadata": {},
          "execution_count": 51
        }
      ],
      "source": [
        "X_train, y_train"
      ]
    },
    {
      "cell_type": "code",
      "execution_count": 52,
      "metadata": {
        "colab": {
          "base_uri": "https://localhost:8080/",
          "height": 654
        },
        "id": "WVXRKXubRp08",
        "outputId": "70ab2b9c-d061-42ca-f294-4f5e370add94"
      },
      "outputs": [
        {
          "output_type": "stream",
          "name": "stderr",
          "text": [
            "WARNING:tensorflow:5 out of the last 5 calls to <function Model.make_predict_function.<locals>.predict_function at 0x79fc0f78ad40> triggered tf.function retracing. Tracing is expensive and the excessive number of tracings could be due to (1) creating @tf.function repeatedly in a loop, (2) passing tensors with different shapes, (3) passing Python objects instead of tensors. For (1), please define your @tf.function outside of the loop. For (2), @tf.function has reduce_retracing=True option that can avoid unnecessary retracing. For (3), please refer to https://www.tensorflow.org/guide/function#controlling_retracing and https://www.tensorflow.org/api_docs/python/tf/function for  more details.\n"
          ]
        },
        {
          "output_type": "stream",
          "name": "stdout",
          "text": [
            "1/1 [==============================] - 0s 47ms/step\n"
          ]
        },
        {
          "output_type": "display_data",
          "data": {
            "text/plain": [
              "<Figure size 1000x700 with 1 Axes>"
            ],
            "image/png": "[encoded data removed]"
          },
          "metadata": {}
        }
      ],
      "source": [
        "# Make and plot predictions for model_1\n",
        "y_preds_1 = model_1.predict(X_test)\n",
        "plot_predictions(predictions=y_preds_1)"
      ]
    },
    {
      "cell_type": "code",
      "execution_count": 53,
      "metadata": {
        "colab": {
          "base_uri": "https://localhost:8080/"
        },
        "id": "7Px2jXbERp08",
        "outputId": "6601da6b-6a64-4b7a-9324-f76673c309f9"
      },
      "outputs": [
        {
          "output_type": "execute_result",
          "data": {
            "text/plain": [
              "(<tf.Tensor: shape=(), dtype=float32, numpy=32.593895>,\n",
              " <tf.Tensor: shape=(), dtype=float32, numpy=1074.7728>)"
            ]
          },
          "metadata": {},
          "execution_count": 53
        }
      ],
      "source": [
        "# Caluculate model_1 evaluation metrics\n",
        "mae_1 = mae(y_test, y_preds_1)\n",
        "mse_1 = mse(y_test, y_preds_1)\n",
        "mae_1, mse_1"
      ]
    },
    {
      "cell_type": "markdown",
      "metadata": {
        "id": "dfJEpWSIRp09"
      },
      "source": [
        "**Build `model_2`**\n",
        "\n",
        "* 2 dense layers, trained for 100 epochs"
      ]
    },
    {
      "cell_type": "code",
      "execution_count": 54,
      "metadata": {
        "colab": {
          "base_uri": "https://localhost:8080/"
        },
        "id": "Vv68tEvwRp09",
        "outputId": "46bd7170-5a00-47e4-bb91-4cd1f33b228f"
      },
      "outputs": [
        {
          "output_type": "stream",
          "name": "stdout",
          "text": [
            "Epoch 1/100\n",
            "2/2 [==============================] - 0s 11ms/step - loss: 65.8086 - mae: 65.8086\n",
            "Epoch 2/100\n",
            "2/2 [==============================] - 0s 8ms/step - loss: 15.9965 - mae: 15.9965\n",
            "Epoch 3/100\n",
            "2/2 [==============================] - 0s 7ms/step - loss: 23.7725 - mae: 23.7725\n",
            "Epoch 4/100\n",
            "2/2 [==============================] - 0s 7ms/step - loss: 11.8972 - mae: 11.8972\n",
            "Epoch 5/100\n",
            "2/2 [==============================] - 0s 7ms/step - loss: 12.9285 - mae: 12.9285\n",
            "Epoch 6/100\n",
            "2/2 [==============================] - 0s 6ms/step - loss: 10.4626 - mae: 10.4626\n",
            "Epoch 7/100\n",
            "2/2 [==============================] - 0s 7ms/step - loss: 11.3921 - mae: 11.3921\n",
            "Epoch 8/100\n",
            "2/2 [==============================] - 0s 6ms/step - loss: 11.1299 - mae: 11.1299\n",
            "Epoch 9/100\n",
            "2/2 [==============================] - 0s 6ms/step - loss: 41.1456 - mae: 41.1456\n",
            "Epoch 10/100\n",
            "2/2 [==============================] - 0s 7ms/step - loss: 28.4517 - mae: 28.4517\n",
            "Epoch 11/100\n",
            "2/2 [==============================] - 0s 8ms/step - loss: 9.3876 - mae: 9.3876\n",
            "Epoch 12/100\n",
            "2/2 [==============================] - 0s 8ms/step - loss: 26.2811 - mae: 26.2811\n",
            "Epoch 13/100\n",
            "2/2 [==============================] - 0s 7ms/step - loss: 14.4132 - mae: 14.4132\n",
            "Epoch 14/100\n",
            "2/2 [==============================] - 0s 7ms/step - loss: 29.7524 - mae: 29.7524\n",
            "Epoch 15/100\n",
            "2/2 [==============================] - 0s 7ms/step - loss: 19.6337 - mae: 19.6337\n",
            "Epoch 16/100\n",
            "2/2 [==============================] - 0s 7ms/step - loss: 9.8166 - mae: 9.8166\n",
            "Epoch 17/100\n",
            "2/2 [==============================] - 0s 8ms/step - loss: 17.5910 - mae: 17.5910\n",
            "Epoch 18/100\n",
            "2/2 [==============================] - 0s 7ms/step - loss: 14.0659 - mae: 14.0659\n",
            "Epoch 19/100\n",
            "2/2 [==============================] - 0s 6ms/step - loss: 13.9029 - mae: 13.9029\n",
            "Epoch 20/100\n",
            "2/2 [==============================] - 0s 7ms/step - loss: 11.1837 - mae: 11.1837\n",
            "Epoch 21/100\n",
            "2/2 [==============================] - 0s 6ms/step - loss: 17.2172 - mae: 17.2172\n",
            "Epoch 22/100\n",
            "2/2 [==============================] - 0s 7ms/step - loss: 15.4545 - mae: 15.4545\n",
            "Epoch 23/100\n",
            "2/2 [==============================] - 0s 6ms/step - loss: 9.2447 - mae: 9.2447\n",
            "Epoch 24/100\n",
            "2/2 [==============================] - 0s 7ms/step - loss: 17.2904 - mae: 17.2904\n",
            "Epoch 25/100\n",
            "2/2 [==============================] - 0s 8ms/step - loss: 15.9572 - mae: 15.9572\n",
            "Epoch 26/100\n",
            "2/2 [==============================] - 0s 8ms/step - loss: 20.9742 - mae: 20.9742\n",
            "Epoch 27/100\n",
            "2/2 [==============================] - 0s 7ms/step - loss: 25.8667 - mae: 25.8667\n",
            "Epoch 28/100\n",
            "2/2 [==============================] - 0s 7ms/step - loss: 18.3772 - mae: 18.3772\n",
            "Epoch 29/100\n",
            "2/2 [==============================] - 0s 11ms/step - loss: 9.2410 - mae: 9.2410\n",
            "Epoch 30/100\n",
            "2/2 [==============================] - 0s 10ms/step - loss: 28.9853 - mae: 28.9853\n",
            "Epoch 31/100\n",
            "2/2 [==============================] - 0s 11ms/step - loss: 52.4868 - mae: 52.4868\n",
            "Epoch 32/100\n",
            "2/2 [==============================] - 0s 8ms/step - loss: 11.8873 - mae: 11.8873\n",
            "Epoch 33/100\n",
            "2/2 [==============================] - 0s 8ms/step - loss: 15.4526 - mae: 15.4526\n",
            "Epoch 34/100\n",
            "2/2 [==============================] - 0s 8ms/step - loss: 12.5653 - mae: 12.5653\n",
            "Epoch 35/100\n",
            "2/2 [==============================] - 0s 8ms/step - loss: 9.1825 - mae: 9.1825\n",
            "Epoch 36/100\n",
            "2/2 [==============================] - 0s 9ms/step - loss: 16.4200 - mae: 16.4200\n",
            "Epoch 37/100\n",
            "2/2 [==============================] - 0s 11ms/step - loss: 11.1010 - mae: 11.1010\n",
            "Epoch 38/100\n",
            "2/2 [==============================] - 0s 12ms/step - loss: 18.2322 - mae: 18.2322\n",
            "Epoch 39/100\n",
            "2/2 [==============================] - 0s 8ms/step - loss: 19.1625 - mae: 19.1625\n",
            "Epoch 40/100\n",
            "2/2 [==============================] - 0s 8ms/step - loss: 20.5441 - mae: 20.5441\n",
            "Epoch 41/100\n",
            "2/2 [==============================] - 0s 7ms/step - loss: 14.7693 - mae: 14.7693\n",
            "Epoch 42/100\n",
            "2/2 [==============================] - 0s 8ms/step - loss: 12.1742 - mae: 12.1742\n",
            "Epoch 43/100\n",
            "2/2 [==============================] - 0s 9ms/step - loss: 10.6829 - mae: 10.6829\n",
            "Epoch 44/100\n",
            "2/2 [==============================] - 0s 10ms/step - loss: 32.1709 - mae: 32.1709\n",
            "Epoch 45/100\n",
            "2/2 [==============================] - 0s 11ms/step - loss: 12.4415 - mae: 12.4415\n",
            "Epoch 46/100\n",
            "2/2 [==============================] - 0s 8ms/step - loss: 17.4399 - mae: 17.4399\n",
            "Epoch 47/100\n",
            "2/2 [==============================] - 0s 7ms/step - loss: 15.7842 - mae: 15.7842\n",
            "Epoch 48/100\n",
            "2/2 [==============================] - 0s 8ms/step - loss: 8.3924 - mae: 8.3924\n",
            "Epoch 49/100\n",
            "2/2 [==============================] - 0s 7ms/step - loss: 14.2437 - mae: 14.2437\n",
            "Epoch 50/100\n",
            "2/2 [==============================] - 0s 6ms/step - loss: 15.1748 - mae: 15.1748\n",
            "Epoch 51/100\n",
            "2/2 [==============================] - 0s 6ms/step - loss: 13.6902 - mae: 13.6902\n",
            "Epoch 52/100\n",
            "2/2 [==============================] - 0s 7ms/step - loss: 18.1054 - mae: 18.1054\n",
            "Epoch 53/100\n",
            "2/2 [==============================] - 0s 6ms/step - loss: 22.7655 - mae: 22.7655\n",
            "Epoch 54/100\n",
            "2/2 [==============================] - 0s 8ms/step - loss: 26.8155 - mae: 26.8155\n",
            "Epoch 55/100\n",
            "2/2 [==============================] - 0s 6ms/step - loss: 26.4507 - mae: 26.4507\n",
            "Epoch 56/100\n",
            "2/2 [==============================] - 0s 6ms/step - loss: 11.3629 - mae: 11.3629\n",
            "Epoch 57/100\n",
            "2/2 [==============================] - 0s 7ms/step - loss: 13.3867 - mae: 13.3867\n",
            "Epoch 58/100\n",
            "2/2 [==============================] - 0s 6ms/step - loss: 9.9635 - mae: 9.9635\n",
            "Epoch 59/100\n",
            "2/2 [==============================] - 0s 7ms/step - loss: 13.9419 - mae: 13.9419\n",
            "Epoch 60/100\n",
            "2/2 [==============================] - 0s 7ms/step - loss: 10.0045 - mae: 10.0045\n",
            "Epoch 61/100\n",
            "2/2 [==============================] - 0s 7ms/step - loss: 14.9951 - mae: 14.9951\n",
            "Epoch 62/100\n",
            "2/2 [==============================] - 0s 7ms/step - loss: 11.9420 - mae: 11.9420\n",
            "Epoch 63/100\n",
            "2/2 [==============================] - 0s 7ms/step - loss: 10.2973 - mae: 10.2973\n",
            "Epoch 64/100\n",
            "2/2 [==============================] - 0s 7ms/step - loss: 23.9159 - mae: 23.9159\n",
            "Epoch 65/100\n",
            "2/2 [==============================] - 0s 7ms/step - loss: 10.4735 - mae: 10.4735\n",
            "Epoch 66/100\n",
            "2/2 [==============================] - 0s 7ms/step - loss: 20.9560 - mae: 20.9560\n",
            "Epoch 67/100\n",
            "2/2 [==============================] - 0s 8ms/step - loss: 10.4518 - mae: 10.4518\n",
            "Epoch 68/100\n",
            "2/2 [==============================] - 0s 8ms/step - loss: 14.1912 - mae: 14.1912\n",
            "Epoch 69/100\n",
            "2/2 [==============================] - 0s 7ms/step - loss: 10.5226 - mae: 10.5226\n",
            "Epoch 70/100\n",
            "2/2 [==============================] - 0s 7ms/step - loss: 12.5941 - mae: 12.5941\n",
            "Epoch 71/100\n",
            "2/2 [==============================] - 0s 8ms/step - loss: 13.0223 - mae: 13.0223\n",
            "Epoch 72/100\n",
            "2/2 [==============================] - 0s 8ms/step - loss: 19.3700 - mae: 19.3700\n",
            "Epoch 73/100\n",
            "2/2 [==============================] - 0s 7ms/step - loss: 11.1338 - mae: 11.1338\n",
            "Epoch 74/100\n",
            "2/2 [==============================] - 0s 7ms/step - loss: 21.4533 - mae: 21.4533\n",
            "Epoch 75/100\n",
            "2/2 [==============================] - 0s 7ms/step - loss: 9.4640 - mae: 9.4640\n",
            "Epoch 76/100\n",
            "2/2 [==============================] - 0s 7ms/step - loss: 12.2870 - mae: 12.2870\n",
            "Epoch 77/100\n",
            "2/2 [==============================] - 0s 7ms/step - loss: 16.3230 - mae: 16.3230\n",
            "Epoch 78/100\n",
            "2/2 [==============================] - 0s 7ms/step - loss: 9.0118 - mae: 9.0118\n",
            "Epoch 79/100\n",
            "2/2 [==============================] - 0s 7ms/step - loss: 23.5672 - mae: 23.5672\n",
            "Epoch 80/100\n",
            "2/2 [==============================] - 0s 9ms/step - loss: 26.2631 - mae: 26.2631\n",
            "Epoch 81/100\n",
            "2/2 [==============================] - 0s 7ms/step - loss: 11.4430 - mae: 11.4430\n",
            "Epoch 82/100\n",
            "2/2 [==============================] - 0s 7ms/step - loss: 12.4444 - mae: 12.4444\n",
            "Epoch 83/100\n",
            "2/2 [==============================] - 0s 13ms/step - loss: 17.1117 - mae: 17.1117\n",
            "Epoch 84/100\n",
            "2/2 [==============================] - 0s 7ms/step - loss: 7.2608 - mae: 7.2608\n",
            "Epoch 85/100\n",
            "2/2 [==============================] - 0s 9ms/step - loss: 37.1592 - mae: 37.1592\n",
            "Epoch 86/100\n",
            "2/2 [==============================] - 0s 7ms/step - loss: 21.1820 - mae: 21.1820\n",
            "Epoch 87/100\n",
            "2/2 [==============================] - 0s 7ms/step - loss: 11.0200 - mae: 11.0200\n",
            "Epoch 88/100\n",
            "2/2 [==============================] - 0s 7ms/step - loss: 24.9084 - mae: 24.9084\n",
            "Epoch 89/100\n",
            "2/2 [==============================] - 0s 7ms/step - loss: 9.6614 - mae: 9.6614\n",
            "Epoch 90/100\n",
            "2/2 [==============================] - 0s 7ms/step - loss: 18.9031 - mae: 18.9031\n",
            "Epoch 91/100\n",
            "2/2 [==============================] - 0s 7ms/step - loss: 10.5129 - mae: 10.5129\n",
            "Epoch 92/100\n",
            "2/2 [==============================] - 0s 8ms/step - loss: 18.1376 - mae: 18.1376\n",
            "Epoch 93/100\n",
            "2/2 [==============================] - 0s 7ms/step - loss: 6.5502 - mae: 6.5502\n",
            "Epoch 94/100\n",
            "2/2 [==============================] - 0s 7ms/step - loss: 11.1692 - mae: 11.1692\n",
            "Epoch 95/100\n",
            "2/2 [==============================] - 0s 8ms/step - loss: 24.5668 - mae: 24.5668\n",
            "Epoch 96/100\n",
            "2/2 [==============================] - 0s 7ms/step - loss: 10.7775 - mae: 10.7775\n",
            "Epoch 97/100\n",
            "2/2 [==============================] - 0s 6ms/step - loss: 15.4870 - mae: 15.4870\n",
            "Epoch 98/100\n",
            "2/2 [==============================] - 0s 7ms/step - loss: 9.0448 - mae: 9.0448\n",
            "Epoch 99/100\n",
            "2/2 [==============================] - 0s 7ms/step - loss: 10.8636 - mae: 10.8636\n",
            "Epoch 100/100\n",
            "2/2 [==============================] - 0s 7ms/step - loss: 27.0744 - mae: 27.0744\n"
          ]
        },
        {
          "output_type": "execute_result",
          "data": {
            "text/plain": [
              "<keras.src.callbacks.History at 0x79fc0f5d6d70>"
            ]
          },
          "metadata": {},
          "execution_count": 54
        }
      ],
      "source": [
        "# Set random seed\n",
        "tf.random.set_seed(42)\n",
        "\n",
        "# 1. Create the model\n",
        "model_2 = tf.keras.Sequential([\n",
        "    tf.keras.layers.Dense(10),\n",
        "    tf.keras.layers.Dense(1)\n",
        "])\n",
        "\n",
        "# 2. Compile the model\n",
        "model_2.compile(loss=tf.keras.losses.mae,\n",
        "                optimizer=tf.keras.optimizers.SGD(),\n",
        "                metrics=['mae'])\n",
        "\n",
        "# 3. Fit the model\n",
        "model_2.fit(tf.expand_dims(X_train, -1), y_train, epochs=100)"
      ]
    },
    {
      "cell_type": "code",
      "execution_count": 55,
      "metadata": {
        "colab": {
          "base_uri": "https://localhost:8080/",
          "height": 654
        },
        "id": "-3TeuJbPRp09",
        "outputId": "77c709d0-db8d-42bb-fa61-1605f7ff3c36"
      },
      "outputs": [
        {
          "output_type": "stream",
          "name": "stderr",
          "text": [
            "WARNING:tensorflow:6 out of the last 6 calls to <function Model.make_predict_function.<locals>.predict_function at 0x79fc0f78e200> triggered tf.function retracing. Tracing is expensive and the excessive number of tracings could be due to (1) creating @tf.function repeatedly in a loop, (2) passing tensors with different shapes, (3) passing Python objects instead of tensors. For (1), please define your @tf.function outside of the loop. For (2), @tf.function has reduce_retracing=True option that can avoid unnecessary retracing. For (3), please refer to https://www.tensorflow.org/guide/function#controlling_retracing and https://www.tensorflow.org/api_docs/python/tf/function for  more details.\n"
          ]
        },
        {
          "output_type": "stream",
          "name": "stdout",
          "text": [
            "1/1 [==============================] - 0s 54ms/step\n"
          ]
        },
        {
          "output_type": "display_data",
          "data": {
            "text/plain": [
              "<Figure size 1000x700 with 1 Axes>"
            ],
            "image/png": "[encoded data removed]"
          },
          "metadata": {}
        }
      ],
      "source": [
        "# Make and plot predictions of model_2\n",
        "y_preds_2 = model_2.predict(X_test)\n",
        "plot_predictions(predictions=y_preds_2)"
      ]
    },
    {
      "cell_type": "code",
      "execution_count": 56,
      "metadata": {
        "colab": {
          "base_uri": "https://localhost:8080/"
        },
        "id": "X9J8weDLRp1C",
        "outputId": "cb52a67b-df94-4664-9a14-a379ae072c38"
      },
      "outputs": [
        {
          "output_type": "execute_result",
          "data": {
            "text/plain": [
              "(<tf.Tensor: shape=(), dtype=float32, numpy=10.04883>,\n",
              " <tf.Tensor: shape=(), dtype=float32, numpy=108.25327>)"
            ]
          },
          "metadata": {},
          "execution_count": 56
        }
      ],
      "source": [
        "# Calculate model_2 evaluation metrics\n",
        "mae_2 = mae(y_test, y_preds_2)\n",
        "mse_2 = mse(y_test, y_preds_2)\n",
        "mae_2, mse_2"
      ]
    },
    {
      "cell_type": "code",
      "execution_count": 57,
      "metadata": {
        "colab": {
          "base_uri": "https://localhost:8080/"
        },
        "id": "zHRehyIERp1D",
        "outputId": "39c05ae7-f0c8-4c93-9eaf-78b82723b29c"
      },
      "outputs": [
        {
          "output_type": "stream",
          "name": "stdout",
          "text": [
            "tf.Tensor(32.593895, shape=(), dtype=float32) tf.Tensor(10.04883, shape=(), dtype=float32)\n",
            "tf.Tensor(1074.7728, shape=(), dtype=float32) tf.Tensor(108.25327, shape=(), dtype=float32)\n"
          ]
        }
      ],
      "source": [
        "print(mae_1, mae_2)\n",
        "print(mse_1, mse_2)"
      ]
    },
    {
      "cell_type": "markdown",
      "metadata": {
        "id": "Mmh2HYicRp1D"
      },
      "source": [
        "**Build `model_3`**\n",
        "\n",
        "* 2 layers, trained for 500 epochs"
      ]
    },
    {
      "cell_type": "code",
      "execution_count": 58,
      "metadata": {
        "colab": {
          "base_uri": "https://localhost:8080/"
        },
        "id": "YKULK_MRRp1D",
        "outputId": "6b4834fc-3cbb-4137-e924-ad76ff27efe5"
      },
      "outputs": [
        {
          "output_type": "stream",
          "name": "stdout",
          "text": [
            "Epoch 1/500\n",
            "2/2 [==============================] - 1s 11ms/step - loss: 43.5288 - mae: 43.5288\n",
            "Epoch 2/500\n",
            "2/2 [==============================] - 0s 10ms/step - loss: 29.4520 - mae: 29.4520\n",
            "Epoch 3/500\n",
            "2/2 [==============================] - 0s 9ms/step - loss: 34.1265 - mae: 34.1265\n",
            "Epoch 4/500\n",
            "2/2 [==============================] - 0s 8ms/step - loss: 29.2938 - mae: 29.2938\n",
            "Epoch 5/500\n",
            "2/2 [==============================] - 0s 8ms/step - loss: 15.8535 - mae: 15.8535\n",
            "Epoch 6/500\n",
            "2/2 [==============================] - 0s 8ms/step - loss: 12.5592 - mae: 12.5592\n",
            "Epoch 7/500\n",
            "2/2 [==============================] - 0s 8ms/step - loss: 11.8123 - mae: 11.8123\n",
            "Epoch 8/500\n",
            "2/2 [==============================] - 0s 8ms/step - loss: 12.8522 - mae: 12.8522\n",
            "Epoch 9/500\n",
            "2/2 [==============================] - 0s 7ms/step - loss: 33.7154 - mae: 33.7154\n",
            "Epoch 10/500\n",
            "2/2 [==============================] - 0s 9ms/step - loss: 23.0498 - mae: 23.0498\n",
            "Epoch 11/500\n",
            "2/2 [==============================] - 0s 7ms/step - loss: 10.2533 - mae: 10.2533\n",
            "Epoch 12/500\n",
            "2/2 [==============================] - 0s 9ms/step - loss: 25.2976 - mae: 25.2976\n",
            "Epoch 13/500\n",
            "2/2 [==============================] - 0s 8ms/step - loss: 17.0196 - mae: 17.0196\n",
            "Epoch 14/500\n",
            "2/2 [==============================] - 0s 7ms/step - loss: 25.9737 - mae: 25.9737\n",
            "Epoch 15/500\n",
            "2/2 [==============================] - 0s 8ms/step - loss: 18.0366 - mae: 18.0366\n",
            "Epoch 16/500\n",
            "2/2 [==============================] - 0s 8ms/step - loss: 7.3556 - mae: 7.3556\n",
            "Epoch 17/500\n",
            "2/2 [==============================] - 0s 8ms/step - loss: 10.8546 - mae: 10.8546\n",
            "Epoch 18/500\n",
            "2/2 [==============================] - 0s 7ms/step - loss: 19.5165 - mae: 19.5165\n",
            "Epoch 19/500\n",
            "2/2 [==============================] - 0s 7ms/step - loss: 10.3426 - mae: 10.3426\n",
            "Epoch 20/500\n",
            "2/2 [==============================] - 0s 6ms/step - loss: 17.6884 - mae: 17.6884\n",
            "Epoch 21/500\n",
            "2/2 [==============================] - 0s 7ms/step - loss: 15.8880 - mae: 15.8880\n",
            "Epoch 22/500\n",
            "2/2 [==============================] - 0s 7ms/step - loss: 14.1851 - mae: 14.1851\n",
            "Epoch 23/500\n",
            "2/2 [==============================] - 0s 7ms/step - loss: 8.7820 - mae: 8.7820\n",
            "Epoch 24/500\n",
            "2/2 [==============================] - 0s 7ms/step - loss: 11.0674 - mae: 11.0674\n",
            "Epoch 25/500\n",
            "2/2 [==============================] - 0s 7ms/step - loss: 12.6961 - mae: 12.6961\n",
            "Epoch 26/500\n",
            "2/2 [==============================] - 0s 8ms/step - loss: 26.2185 - mae: 26.2185\n",
            "Epoch 27/500\n",
            "2/2 [==============================] - 0s 7ms/step - loss: 11.7518 - mae: 11.7518\n",
            "Epoch 28/500\n",
            "2/2 [==============================] - 0s 7ms/step - loss: 22.9003 - mae: 22.9003\n",
            "Epoch 29/500\n",
            "2/2 [==============================] - 0s 7ms/step - loss: 9.2478 - mae: 9.2478\n",
            "Epoch 30/500\n",
            "2/2 [==============================] - 0s 7ms/step - loss: 29.2872 - mae: 29.2872\n",
            "Epoch 31/500\n",
            "2/2 [==============================] - 0s 7ms/step - loss: 53.0667 - mae: 53.0667\n",
            "Epoch 32/500\n",
            "2/2 [==============================] - 0s 7ms/step - loss: 12.0050 - mae: 12.0050\n",
            "Epoch 33/500\n",
            "2/2 [==============================] - 0s 8ms/step - loss: 15.6500 - mae: 15.6500\n",
            "Epoch 34/500\n",
            "2/2 [==============================] - 0s 7ms/step - loss: 12.7024 - mae: 12.7024\n",
            "Epoch 35/500\n",
            "2/2 [==============================] - 0s 7ms/step - loss: 9.2444 - mae: 9.2444\n",
            "Epoch 36/500\n",
            "2/2 [==============================] - 0s 7ms/step - loss: 16.6625 - mae: 16.6625\n",
            "Epoch 37/500\n",
            "2/2 [==============================] - 0s 8ms/step - loss: 11.0360 - mae: 11.0360\n",
            "Epoch 38/500\n",
            "2/2 [==============================] - 0s 7ms/step - loss: 18.1613 - mae: 18.1613\n",
            "Epoch 39/500\n",
            "2/2 [==============================] - 0s 8ms/step - loss: 19.0999 - mae: 19.0999\n",
            "Epoch 40/500\n",
            "2/2 [==============================] - 0s 8ms/step - loss: 20.4306 - mae: 20.4306\n",
            "Epoch 41/500\n",
            "2/2 [==============================] - 0s 8ms/step - loss: 14.9139 - mae: 14.9139\n",
            "Epoch 42/500\n",
            "2/2 [==============================] - 0s 7ms/step - loss: 12.2829 - mae: 12.2829\n",
            "Epoch 43/500\n",
            "2/2 [==============================] - 0s 7ms/step - loss: 10.7347 - mae: 10.7347\n",
            "Epoch 44/500\n",
            "2/2 [==============================] - 0s 8ms/step - loss: 23.0234 - mae: 23.0234\n",
            "Epoch 45/500\n",
            "2/2 [==============================] - 0s 8ms/step - loss: 10.3899 - mae: 10.3899\n",
            "Epoch 46/500\n",
            "2/2 [==============================] - 0s 9ms/step - loss: 11.7891 - mae: 11.7891\n",
            "Epoch 47/500\n",
            "2/2 [==============================] - 0s 10ms/step - loss: 9.6459 - mae: 9.6459\n",
            "Epoch 48/500\n",
            "2/2 [==============================] - 0s 10ms/step - loss: 17.2382 - mae: 17.2382\n",
            "Epoch 49/500\n",
            "2/2 [==============================] - 0s 10ms/step - loss: 9.5709 - mae: 9.5709\n",
            "Epoch 50/500\n",
            "2/2 [==============================] - 0s 10ms/step - loss: 13.8132 - mae: 13.8132\n",
            "Epoch 51/500\n",
            "2/2 [==============================] - 0s 12ms/step - loss: 11.5943 - mae: 11.5943\n",
            "Epoch 52/500\n",
            "2/2 [==============================] - 0s 9ms/step - loss: 30.5316 - mae: 30.5316\n",
            "Epoch 53/500\n",
            "2/2 [==============================] - 0s 10ms/step - loss: 14.3452 - mae: 14.3452\n",
            "Epoch 54/500\n",
            "2/2 [==============================] - 0s 10ms/step - loss: 23.9542 - mae: 23.9542\n",
            "Epoch 55/500\n",
            "2/2 [==============================] - 0s 11ms/step - loss: 23.1752 - mae: 23.1752\n",
            "Epoch 56/500\n",
            "2/2 [==============================] - 0s 10ms/step - loss: 10.8784 - mae: 10.8784\n",
            "Epoch 57/500\n",
            "2/2 [==============================] - 0s 8ms/step - loss: 12.7357 - mae: 12.7357\n",
            "Epoch 58/500\n",
            "2/2 [==============================] - 0s 8ms/step - loss: 9.5943 - mae: 9.5943\n",
            "Epoch 59/500\n",
            "2/2 [==============================] - 0s 7ms/step - loss: 12.5071 - mae: 12.5071\n",
            "Epoch 60/500\n",
            "2/2 [==============================] - 0s 8ms/step - loss: 12.3100 - mae: 12.3100\n",
            "Epoch 61/500\n",
            "2/2 [==============================] - 0s 8ms/step - loss: 17.4374 - mae: 17.4374\n",
            "Epoch 62/500\n",
            "2/2 [==============================] - 0s 7ms/step - loss: 10.5957 - mae: 10.5957\n",
            "Epoch 63/500\n",
            "2/2 [==============================] - 0s 6ms/step - loss: 10.4832 - mae: 10.4832\n",
            "Epoch 64/500\n",
            "2/2 [==============================] - 0s 9ms/step - loss: 24.8078 - mae: 24.8078\n",
            "Epoch 65/500\n",
            "2/2 [==============================] - 0s 9ms/step - loss: 10.6689 - mae: 10.6689\n",
            "Epoch 66/500\n",
            "2/2 [==============================] - 0s 7ms/step - loss: 21.7455 - mae: 21.7455\n",
            "Epoch 67/500\n",
            "2/2 [==============================] - 0s 7ms/step - loss: 10.7021 - mae: 10.7021\n",
            "Epoch 68/500\n",
            "2/2 [==============================] - 0s 7ms/step - loss: 10.6312 - mae: 10.6312\n",
            "Epoch 69/500\n",
            "2/2 [==============================] - 0s 8ms/step - loss: 22.6427 - mae: 22.6427\n",
            "Epoch 70/500\n",
            "2/2 [==============================] - 0s 7ms/step - loss: 9.3419 - mae: 9.3419\n",
            "Epoch 71/500\n",
            "2/2 [==============================] - 0s 7ms/step - loss: 15.4531 - mae: 15.4531\n",
            "Epoch 72/500\n",
            "2/2 [==============================] - 0s 7ms/step - loss: 7.0166 - mae: 7.0166\n",
            "Epoch 73/500\n",
            "2/2 [==============================] - 0s 7ms/step - loss: 12.2161 - mae: 12.2161\n",
            "Epoch 74/500\n",
            "2/2 [==============================] - 0s 7ms/step - loss: 17.3593 - mae: 17.3593\n",
            "Epoch 75/500\n",
            "2/2 [==============================] - 0s 7ms/step - loss: 7.2191 - mae: 7.2191\n",
            "Epoch 76/500\n",
            "2/2 [==============================] - 0s 7ms/step - loss: 9.4584 - mae: 9.4584\n",
            "Epoch 77/500\n",
            "2/2 [==============================] - 0s 10ms/step - loss: 22.1895 - mae: 22.1895\n",
            "Epoch 78/500\n",
            "2/2 [==============================] - 0s 6ms/step - loss: 17.4480 - mae: 17.4480\n",
            "Epoch 79/500\n",
            "2/2 [==============================] - 0s 7ms/step - loss: 14.6912 - mae: 14.6912\n",
            "Epoch 80/500\n",
            "2/2 [==============================] - 0s 9ms/step - loss: 24.6945 - mae: 24.6945\n",
            "Epoch 81/500\n",
            "2/2 [==============================] - 0s 7ms/step - loss: 11.5350 - mae: 11.5350\n",
            "Epoch 82/500\n",
            "2/2 [==============================] - 0s 7ms/step - loss: 12.3975 - mae: 12.3975\n",
            "Epoch 83/500\n",
            "2/2 [==============================] - 0s 8ms/step - loss: 17.0497 - mae: 17.0497\n",
            "Epoch 84/500\n",
            "2/2 [==============================] - 0s 7ms/step - loss: 7.2444 - mae: 7.2444\n",
            "Epoch 85/500\n",
            "2/2 [==============================] - 0s 7ms/step - loss: 37.3657 - mae: 37.3657\n",
            "Epoch 86/500\n",
            "2/2 [==============================] - 0s 7ms/step - loss: 21.3333 - mae: 21.3333\n",
            "Epoch 87/500\n",
            "2/2 [==============================] - 0s 7ms/step - loss: 11.0595 - mae: 11.0595\n",
            "Epoch 88/500\n",
            "2/2 [==============================] - 0s 8ms/step - loss: 25.2055 - mae: 25.2055\n",
            "Epoch 89/500\n",
            "2/2 [==============================] - 0s 7ms/step - loss: 9.3864 - mae: 9.3864\n",
            "Epoch 90/500\n",
            "2/2 [==============================] - 0s 12ms/step - loss: 17.4653 - mae: 17.4653\n",
            "Epoch 91/500\n",
            "2/2 [==============================] - 0s 10ms/step - loss: 10.8344 - mae: 10.8344\n",
            "Epoch 92/500\n",
            "2/2 [==============================] - 0s 8ms/step - loss: 19.1537 - mae: 19.1537\n",
            "Epoch 93/500\n",
            "2/2 [==============================] - 0s 7ms/step - loss: 8.3443 - mae: 8.3443\n",
            "Epoch 94/500\n",
            "2/2 [==============================] - 0s 7ms/step - loss: 11.5888 - mae: 11.5888\n",
            "Epoch 95/500\n",
            "2/2 [==============================] - 0s 9ms/step - loss: 26.1987 - mae: 26.1987\n",
            "Epoch 96/500\n",
            "2/2 [==============================] - 0s 6ms/step - loss: 11.2167 - mae: 11.2167\n",
            "Epoch 97/500\n",
            "2/2 [==============================] - 0s 7ms/step - loss: 16.8419 - mae: 16.8419\n",
            "Epoch 98/500\n",
            "2/2 [==============================] - 0s 7ms/step - loss: 6.5952 - mae: 6.5952\n",
            "Epoch 99/500\n",
            "2/2 [==============================] - 0s 7ms/step - loss: 12.5959 - mae: 12.5959\n",
            "Epoch 100/500\n",
            "2/2 [==============================] - 0s 9ms/step - loss: 19.3987 - mae: 19.3987\n",
            "Epoch 101/500\n",
            "2/2 [==============================] - 0s 7ms/step - loss: 16.0946 - mae: 16.0946\n",
            "Epoch 102/500\n",
            "2/2 [==============================] - 0s 7ms/step - loss: 11.2094 - mae: 11.2094\n",
            "Epoch 103/500\n",
            "2/2 [==============================] - 0s 8ms/step - loss: 9.3373 - mae: 9.3373\n",
            "Epoch 104/500\n",
            "2/2 [==============================] - 0s 7ms/step - loss: 24.9571 - mae: 24.9571\n",
            "Epoch 105/500\n",
            "2/2 [==============================] - 0s 10ms/step - loss: 11.9900 - mae: 11.9900\n",
            "Epoch 106/500\n",
            "2/2 [==============================] - 0s 9ms/step - loss: 10.0957 - mae: 10.0957\n",
            "Epoch 107/500\n",
            "2/2 [==============================] - 0s 7ms/step - loss: 22.4987 - mae: 22.4987\n",
            "Epoch 108/500\n",
            "2/2 [==============================] - 0s 8ms/step - loss: 8.1360 - mae: 8.1360\n",
            "Epoch 109/500\n",
            "2/2 [==============================] - 0s 7ms/step - loss: 13.3271 - mae: 13.3271\n",
            "Epoch 110/500\n",
            "2/2 [==============================] - 0s 7ms/step - loss: 8.0002 - mae: 8.0002\n",
            "Epoch 111/500\n",
            "2/2 [==============================] - 0s 7ms/step - loss: 15.7782 - mae: 15.7782\n",
            "Epoch 112/500\n",
            "2/2 [==============================] - 0s 7ms/step - loss: 8.7561 - mae: 8.7561\n",
            "Epoch 113/500\n",
            "2/2 [==============================] - 0s 7ms/step - loss: 22.6237 - mae: 22.6237\n",
            "Epoch 114/500\n",
            "2/2 [==============================] - 0s 8ms/step - loss: 18.9830 - mae: 18.9830\n",
            "Epoch 115/500\n",
            "2/2 [==============================] - 0s 8ms/step - loss: 11.0903 - mae: 11.0903\n",
            "Epoch 116/500\n",
            "2/2 [==============================] - 0s 8ms/step - loss: 23.0615 - mae: 23.0615\n",
            "Epoch 117/500\n",
            "2/2 [==============================] - 0s 8ms/step - loss: 9.5653 - mae: 9.5653\n",
            "Epoch 118/500\n",
            "2/2 [==============================] - 0s 10ms/step - loss: 10.6205 - mae: 10.6205\n",
            "Epoch 119/500\n",
            "2/2 [==============================] - 0s 13ms/step - loss: 8.0545 - mae: 8.0545\n",
            "Epoch 120/500\n",
            "2/2 [==============================] - 0s 8ms/step - loss: 29.3091 - mae: 29.3091\n",
            "Epoch 121/500\n",
            "2/2 [==============================] - 0s 8ms/step - loss: 8.0905 - mae: 8.0905\n",
            "Epoch 122/500\n",
            "2/2 [==============================] - 0s 8ms/step - loss: 27.9832 - mae: 27.9832\n",
            "Epoch 123/500\n",
            "2/2 [==============================] - 0s 7ms/step - loss: 32.4964 - mae: 32.4964\n",
            "Epoch 124/500\n",
            "2/2 [==============================] - 0s 10ms/step - loss: 19.3326 - mae: 19.3326\n",
            "Epoch 125/500\n",
            "2/2 [==============================] - 0s 8ms/step - loss: 9.5276 - mae: 9.5276\n",
            "Epoch 126/500\n",
            "2/2 [==============================] - 0s 7ms/step - loss: 9.5993 - mae: 9.5993\n",
            "Epoch 127/500\n",
            "2/2 [==============================] - 0s 8ms/step - loss: 12.6879 - mae: 12.6879\n",
            "Epoch 128/500\n",
            "2/2 [==============================] - 0s 7ms/step - loss: 12.8005 - mae: 12.8005\n",
            "Epoch 129/500\n",
            "2/2 [==============================] - 0s 8ms/step - loss: 13.9073 - mae: 13.9073\n",
            "Epoch 130/500\n",
            "2/2 [==============================] - 0s 8ms/step - loss: 10.2394 - mae: 10.2394\n",
            "Epoch 131/500\n",
            "2/2 [==============================] - 0s 8ms/step - loss: 21.6360 - mae: 21.6360\n",
            "Epoch 132/500\n",
            "2/2 [==============================] - 0s 7ms/step - loss: 8.2788 - mae: 8.2788\n",
            "Epoch 133/500\n",
            "2/2 [==============================] - 0s 7ms/step - loss: 9.0598 - mae: 9.0598\n",
            "Epoch 134/500\n",
            "2/2 [==============================] - 0s 7ms/step - loss: 16.8480 - mae: 16.8480\n",
            "Epoch 135/500\n",
            "2/2 [==============================] - 0s 8ms/step - loss: 10.6453 - mae: 10.6453\n",
            "Epoch 136/500\n",
            "2/2 [==============================] - 0s 7ms/step - loss: 18.4513 - mae: 18.4513\n",
            "Epoch 137/500\n",
            "2/2 [==============================] - 0s 12ms/step - loss: 23.4098 - mae: 23.4098\n",
            "Epoch 138/500\n",
            "2/2 [==============================] - 0s 9ms/step - loss: 9.2537 - mae: 9.2537\n",
            "Epoch 139/500\n",
            "2/2 [==============================] - 0s 10ms/step - loss: 8.9987 - mae: 8.9987\n",
            "Epoch 140/500\n",
            "2/2 [==============================] - 0s 8ms/step - loss: 16.6172 - mae: 16.6172\n",
            "Epoch 141/500\n",
            "2/2 [==============================] - 0s 7ms/step - loss: 8.4672 - mae: 8.4672\n",
            "Epoch 142/500\n",
            "2/2 [==============================] - 0s 7ms/step - loss: 37.1451 - mae: 37.1451\n",
            "Epoch 143/500\n",
            "2/2 [==============================] - 0s 7ms/step - loss: 25.7637 - mae: 25.7637\n",
            "Epoch 144/500\n",
            "2/2 [==============================] - 0s 8ms/step - loss: 9.5630 - mae: 9.5630\n",
            "Epoch 145/500\n",
            "2/2 [==============================] - 0s 7ms/step - loss: 26.5738 - mae: 26.5738\n",
            "Epoch 146/500\n",
            "2/2 [==============================] - 0s 8ms/step - loss: 8.8160 - mae: 8.8160\n",
            "Epoch 147/500\n",
            "2/2 [==============================] - 0s 7ms/step - loss: 15.6143 - mae: 15.6143\n",
            "Epoch 148/500\n",
            "2/2 [==============================] - 0s 9ms/step - loss: 18.2920 - mae: 18.2920\n",
            "Epoch 149/500\n",
            "2/2 [==============================] - 0s 6ms/step - loss: 8.2519 - mae: 8.2519\n",
            "Epoch 150/500\n",
            "2/2 [==============================] - 0s 7ms/step - loss: 7.5377 - mae: 7.5377\n",
            "Epoch 151/500\n",
            "2/2 [==============================] - 0s 7ms/step - loss: 18.3697 - mae: 18.3697\n",
            "Epoch 152/500\n",
            "2/2 [==============================] - 0s 8ms/step - loss: 10.3298 - mae: 10.3298\n",
            "Epoch 153/500\n",
            "2/2 [==============================] - 0s 7ms/step - loss: 29.6552 - mae: 29.6552\n",
            "Epoch 154/500\n",
            "2/2 [==============================] - 0s 7ms/step - loss: 10.5754 - mae: 10.5754\n",
            "Epoch 155/500\n",
            "2/2 [==============================] - 0s 7ms/step - loss: 15.4709 - mae: 15.4709\n",
            "Epoch 156/500\n",
            "2/2 [==============================] - 0s 8ms/step - loss: 17.0431 - mae: 17.0431\n",
            "Epoch 157/500\n",
            "2/2 [==============================] - 0s 8ms/step - loss: 32.7672 - mae: 32.7672\n",
            "Epoch 158/500\n",
            "2/2 [==============================] - 0s 8ms/step - loss: 10.7257 - mae: 10.7257\n",
            "Epoch 159/500\n",
            "2/2 [==============================] - 0s 7ms/step - loss: 8.9295 - mae: 8.9295\n",
            "Epoch 160/500\n",
            "2/2 [==============================] - 0s 7ms/step - loss: 22.0676 - mae: 22.0676\n",
            "Epoch 161/500\n",
            "2/2 [==============================] - 0s 10ms/step - loss: 11.7103 - mae: 11.7103\n",
            "Epoch 162/500\n",
            "2/2 [==============================] - 0s 7ms/step - loss: 21.4990 - mae: 21.4990\n",
            "Epoch 163/500\n",
            "2/2 [==============================] - 0s 6ms/step - loss: 18.9713 - mae: 18.9713\n",
            "Epoch 164/500\n",
            "2/2 [==============================] - 0s 8ms/step - loss: 12.8057 - mae: 12.8057\n",
            "Epoch 165/500\n",
            "2/2 [==============================] - 0s 8ms/step - loss: 12.7065 - mae: 12.7065\n",
            "Epoch 166/500\n",
            "2/2 [==============================] - 0s 7ms/step - loss: 18.8548 - mae: 18.8548\n",
            "Epoch 167/500\n",
            "2/2 [==============================] - 0s 7ms/step - loss: 26.9415 - mae: 26.9415\n",
            "Epoch 168/500\n",
            "2/2 [==============================] - 0s 7ms/step - loss: 10.0226 - mae: 10.0226\n",
            "Epoch 169/500\n",
            "2/2 [==============================] - 0s 7ms/step - loss: 23.1793 - mae: 23.1793\n",
            "Epoch 170/500\n",
            "2/2 [==============================] - 0s 12ms/step - loss: 9.5897 - mae: 9.5897\n",
            "Epoch 171/500\n",
            "2/2 [==============================] - 0s 10ms/step - loss: 15.8492 - mae: 15.8492\n",
            "Epoch 172/500\n",
            "2/2 [==============================] - 0s 10ms/step - loss: 13.8862 - mae: 13.8862\n",
            "Epoch 173/500\n",
            "2/2 [==============================] - 0s 8ms/step - loss: 22.5742 - mae: 22.5742\n",
            "Epoch 174/500\n",
            "2/2 [==============================] - 0s 8ms/step - loss: 11.3693 - mae: 11.3693\n",
            "Epoch 175/500\n",
            "2/2 [==============================] - 0s 9ms/step - loss: 20.1068 - mae: 20.1068\n",
            "Epoch 176/500\n",
            "2/2 [==============================] - 0s 7ms/step - loss: 7.4258 - mae: 7.4258\n",
            "Epoch 177/500\n",
            "2/2 [==============================] - 0s 11ms/step - loss: 8.6120 - mae: 8.6120\n",
            "Epoch 178/500\n",
            "2/2 [==============================] - 0s 9ms/step - loss: 15.5037 - mae: 15.5037\n",
            "Epoch 179/500\n",
            "2/2 [==============================] - 0s 7ms/step - loss: 9.2937 - mae: 9.2937\n",
            "Epoch 180/500\n",
            "2/2 [==============================] - 0s 7ms/step - loss: 8.1435 - mae: 8.1435\n",
            "Epoch 181/500\n",
            "2/2 [==============================] - 0s 6ms/step - loss: 18.7323 - mae: 18.7323\n",
            "Epoch 182/500\n",
            "2/2 [==============================] - 0s 7ms/step - loss: 10.7932 - mae: 10.7932\n",
            "Epoch 183/500\n",
            "2/2 [==============================] - 0s 7ms/step - loss: 10.9144 - mae: 10.9144\n",
            "Epoch 184/500\n",
            "2/2 [==============================] - 0s 8ms/step - loss: 33.7256 - mae: 33.7256\n",
            "Epoch 185/500\n",
            "2/2 [==============================] - 0s 9ms/step - loss: 7.6358 - mae: 7.6358\n",
            "Epoch 186/500\n",
            "2/2 [==============================] - 0s 13ms/step - loss: 16.7837 - mae: 16.7837\n",
            "Epoch 187/500\n",
            "2/2 [==============================] - 0s 8ms/step - loss: 10.1922 - mae: 10.1922\n",
            "Epoch 188/500\n",
            "2/2 [==============================] - 0s 12ms/step - loss: 23.0384 - mae: 23.0384\n",
            "Epoch 189/500\n",
            "2/2 [==============================] - 0s 12ms/step - loss: 9.8873 - mae: 9.8873\n",
            "Epoch 190/500\n",
            "2/2 [==============================] - 0s 7ms/step - loss: 15.2995 - mae: 15.2995\n",
            "Epoch 191/500\n",
            "2/2 [==============================] - 0s 7ms/step - loss: 9.9580 - mae: 9.9580\n",
            "Epoch 192/500\n",
            "2/2 [==============================] - 0s 7ms/step - loss: 14.9940 - mae: 14.9940\n",
            "Epoch 193/500\n",
            "2/2 [==============================] - 0s 7ms/step - loss: 29.6719 - mae: 29.6719\n",
            "Epoch 194/500\n",
            "2/2 [==============================] - 0s 7ms/step - loss: 8.3784 - mae: 8.3784\n",
            "Epoch 195/500\n",
            "2/2 [==============================] - 0s 8ms/step - loss: 12.9074 - mae: 12.9074\n",
            "Epoch 196/500\n",
            "2/2 [==============================] - 0s 7ms/step - loss: 23.9455 - mae: 23.9455\n",
            "Epoch 197/500\n",
            "2/2 [==============================] - 0s 10ms/step - loss: 16.7771 - mae: 16.7771\n",
            "Epoch 198/500\n",
            "2/2 [==============================] - 0s 9ms/step - loss: 11.4662 - mae: 11.4662\n",
            "Epoch 199/500\n",
            "2/2 [==============================] - 0s 7ms/step - loss: 19.5766 - mae: 19.5766\n",
            "Epoch 200/500\n",
            "2/2 [==============================] - 0s 9ms/step - loss: 15.7417 - mae: 15.7417\n",
            "Epoch 201/500\n",
            "2/2 [==============================] - 0s 7ms/step - loss: 10.5884 - mae: 10.5884\n",
            "Epoch 202/500\n",
            "2/2 [==============================] - 0s 9ms/step - loss: 22.4442 - mae: 22.4442\n",
            "Epoch 203/500\n",
            "2/2 [==============================] - 0s 7ms/step - loss: 21.6747 - mae: 21.6747\n",
            "Epoch 204/500\n",
            "2/2 [==============================] - 0s 8ms/step - loss: 17.2857 - mae: 17.2857\n",
            "Epoch 205/500\n",
            "2/2 [==============================] - 0s 7ms/step - loss: 9.4883 - mae: 9.4883\n",
            "Epoch 206/500\n",
            "2/2 [==============================] - 0s 7ms/step - loss: 11.1215 - mae: 11.1215\n",
            "Epoch 207/500\n",
            "2/2 [==============================] - 0s 7ms/step - loss: 17.6096 - mae: 17.6096\n",
            "Epoch 208/500\n",
            "2/2 [==============================] - 0s 7ms/step - loss: 14.3425 - mae: 14.3425\n",
            "Epoch 209/500\n",
            "2/2 [==============================] - 0s 7ms/step - loss: 16.6434 - mae: 16.6434\n",
            "Epoch 210/500\n",
            "2/2 [==============================] - 0s 7ms/step - loss: 18.1446 - mae: 18.1446\n",
            "Epoch 211/500\n",
            "2/2 [==============================] - 0s 7ms/step - loss: 9.9392 - mae: 9.9392\n",
            "Epoch 212/500\n",
            "2/2 [==============================] - 0s 8ms/step - loss: 18.6010 - mae: 18.6010\n",
            "Epoch 213/500\n",
            "2/2 [==============================] - 0s 9ms/step - loss: 14.9829 - mae: 14.9829\n",
            "Epoch 214/500\n",
            "2/2 [==============================] - 0s 9ms/step - loss: 14.5552 - mae: 14.5552\n",
            "Epoch 215/500\n",
            "2/2 [==============================] - 0s 12ms/step - loss: 23.2246 - mae: 23.2246\n",
            "Epoch 216/500\n",
            "2/2 [==============================] - 0s 11ms/step - loss: 13.5081 - mae: 13.5081\n",
            "Epoch 217/500\n",
            "2/2 [==============================] - 0s 11ms/step - loss: 9.9932 - mae: 9.9932\n",
            "Epoch 218/500\n",
            "2/2 [==============================] - 0s 11ms/step - loss: 12.4798 - mae: 12.4798\n",
            "Epoch 219/500\n",
            "2/2 [==============================] - 0s 8ms/step - loss: 5.3231 - mae: 5.3231\n",
            "Epoch 220/500\n",
            "2/2 [==============================] - 0s 7ms/step - loss: 12.4040 - mae: 12.4040\n",
            "Epoch 221/500\n",
            "2/2 [==============================] - 0s 7ms/step - loss: 22.3801 - mae: 22.3801\n",
            "Epoch 222/500\n",
            "2/2 [==============================] - 0s 7ms/step - loss: 21.4805 - mae: 21.4805\n",
            "Epoch 223/500\n",
            "2/2 [==============================] - 0s 7ms/step - loss: 11.6664 - mae: 11.6664\n",
            "Epoch 224/500\n",
            "2/2 [==============================] - 0s 7ms/step - loss: 13.5750 - mae: 13.5750\n",
            "Epoch 225/500\n",
            "2/2 [==============================] - 0s 7ms/step - loss: 15.7110 - mae: 15.7110\n",
            "Epoch 226/500\n",
            "2/2 [==============================] - 0s 7ms/step - loss: 14.9554 - mae: 14.9554\n",
            "Epoch 227/500\n",
            "2/2 [==============================] - 0s 7ms/step - loss: 15.2875 - mae: 15.2875\n",
            "Epoch 228/500\n",
            "2/2 [==============================] - 0s 8ms/step - loss: 17.4527 - mae: 17.4527\n",
            "Epoch 229/500\n",
            "2/2 [==============================] - 0s 6ms/step - loss: 7.2148 - mae: 7.2148\n",
            "Epoch 230/500\n",
            "2/2 [==============================] - 0s 7ms/step - loss: 7.4605 - mae: 7.4605\n",
            "Epoch 231/500\n",
            "2/2 [==============================] - 0s 7ms/step - loss: 24.7567 - mae: 24.7567\n",
            "Epoch 232/500\n",
            "2/2 [==============================] - 0s 7ms/step - loss: 8.7833 - mae: 8.7833\n",
            "Epoch 233/500\n",
            "2/2 [==============================] - 0s 6ms/step - loss: 24.7136 - mae: 24.7136\n",
            "Epoch 234/500\n",
            "2/2 [==============================] - 0s 7ms/step - loss: 8.1463 - mae: 8.1463\n",
            "Epoch 235/500\n",
            "2/2 [==============================] - 0s 7ms/step - loss: 12.7069 - mae: 12.7069\n",
            "Epoch 236/500\n",
            "2/2 [==============================] - 0s 8ms/step - loss: 7.7150 - mae: 7.7150\n",
            "Epoch 237/500\n",
            "2/2 [==============================] - 0s 7ms/step - loss: 10.0223 - mae: 10.0223\n",
            "Epoch 238/500\n",
            "2/2 [==============================] - 0s 7ms/step - loss: 8.5513 - mae: 8.5513\n",
            "Epoch 239/500\n",
            "2/2 [==============================] - 0s 7ms/step - loss: 18.8490 - mae: 18.8490\n",
            "Epoch 240/500\n",
            "2/2 [==============================] - 0s 7ms/step - loss: 8.9852 - mae: 8.9852\n",
            "Epoch 241/500\n",
            "2/2 [==============================] - 0s 7ms/step - loss: 13.3774 - mae: 13.3774\n",
            "Epoch 242/500\n",
            "2/2 [==============================] - 0s 7ms/step - loss: 8.8824 - mae: 8.8824\n",
            "Epoch 243/500\n",
            "2/2 [==============================] - 0s 11ms/step - loss: 19.2172 - mae: 19.2172\n",
            "Epoch 244/500\n",
            "2/2 [==============================] - 0s 9ms/step - loss: 13.9161 - mae: 13.9161\n",
            "Epoch 245/500\n",
            "2/2 [==============================] - 0s 7ms/step - loss: 14.5620 - mae: 14.5620\n",
            "Epoch 246/500\n",
            "2/2 [==============================] - 0s 8ms/step - loss: 15.7001 - mae: 15.7001\n",
            "Epoch 247/500\n",
            "2/2 [==============================] - 0s 11ms/step - loss: 17.5431 - mae: 17.5431\n",
            "Epoch 248/500\n",
            "2/2 [==============================] - 0s 9ms/step - loss: 13.1086 - mae: 13.1086\n",
            "Epoch 249/500\n",
            "2/2 [==============================] - 0s 6ms/step - loss: 14.4375 - mae: 14.4375\n",
            "Epoch 250/500\n",
            "2/2 [==============================] - 0s 9ms/step - loss: 27.8456 - mae: 27.8456\n",
            "Epoch 251/500\n",
            "2/2 [==============================] - 0s 9ms/step - loss: 7.5107 - mae: 7.5107\n",
            "Epoch 252/500\n",
            "2/2 [==============================] - 0s 7ms/step - loss: 38.0787 - mae: 38.0787\n",
            "Epoch 253/500\n",
            "2/2 [==============================] - 0s 7ms/step - loss: 22.9026 - mae: 22.9026\n",
            "Epoch 254/500\n",
            "2/2 [==============================] - 0s 7ms/step - loss: 7.4441 - mae: 7.4441\n",
            "Epoch 255/500\n",
            "2/2 [==============================] - 0s 8ms/step - loss: 25.7869 - mae: 25.7869\n",
            "Epoch 256/500\n",
            "2/2 [==============================] - 0s 7ms/step - loss: 13.7166 - mae: 13.7166\n",
            "Epoch 257/500\n",
            "2/2 [==============================] - 0s 7ms/step - loss: 8.3414 - mae: 8.3414\n",
            "Epoch 258/500\n",
            "2/2 [==============================] - 0s 7ms/step - loss: 13.2105 - mae: 13.2105\n",
            "Epoch 259/500\n",
            "2/2 [==============================] - 0s 7ms/step - loss: 9.5273 - mae: 9.5273\n",
            "Epoch 260/500\n",
            "2/2 [==============================] - 0s 7ms/step - loss: 38.4628 - mae: 38.4628\n",
            "Epoch 261/500\n",
            "2/2 [==============================] - 0s 7ms/step - loss: 15.5275 - mae: 15.5275\n",
            "Epoch 262/500\n",
            "2/2 [==============================] - 0s 7ms/step - loss: 5.7785 - mae: 5.7785\n",
            "Epoch 263/500\n",
            "2/2 [==============================] - 0s 9ms/step - loss: 14.5985 - mae: 14.5985\n",
            "Epoch 264/500\n",
            "2/2 [==============================] - 0s 7ms/step - loss: 18.7541 - mae: 18.7541\n",
            "Epoch 265/500\n",
            "2/2 [==============================] - 0s 9ms/step - loss: 13.0831 - mae: 13.0831\n",
            "Epoch 266/500\n",
            "2/2 [==============================] - 0s 9ms/step - loss: 10.3153 - mae: 10.3153\n",
            "Epoch 267/500\n",
            "2/2 [==============================] - 0s 7ms/step - loss: 6.0384 - mae: 6.0384\n",
            "Epoch 268/500\n",
            "2/2 [==============================] - 0s 6ms/step - loss: 18.6935 - mae: 18.6935\n",
            "Epoch 269/500\n",
            "2/2 [==============================] - 0s 7ms/step - loss: 42.2618 - mae: 42.2618\n",
            "Epoch 270/500\n",
            "2/2 [==============================] - 0s 7ms/step - loss: 13.9591 - mae: 13.9591\n",
            "Epoch 271/500\n",
            "2/2 [==============================] - 0s 7ms/step - loss: 15.0709 - mae: 15.0709\n",
            "Epoch 272/500\n",
            "2/2 [==============================] - 0s 7ms/step - loss: 29.1004 - mae: 29.1004\n",
            "Epoch 273/500\n",
            "2/2 [==============================] - 0s 7ms/step - loss: 5.5384 - mae: 5.5384\n",
            "Epoch 274/500\n",
            "2/2 [==============================] - 0s 7ms/step - loss: 14.0062 - mae: 14.0062\n",
            "Epoch 275/500\n",
            "2/2 [==============================] - 0s 7ms/step - loss: 17.0987 - mae: 17.0987\n",
            "Epoch 276/500\n",
            "2/2 [==============================] - 0s 8ms/step - loss: 12.8168 - mae: 12.8168\n",
            "Epoch 277/500\n",
            "2/2 [==============================] - 0s 6ms/step - loss: 30.3934 - mae: 30.3934\n",
            "Epoch 278/500\n",
            "2/2 [==============================] - 0s 7ms/step - loss: 10.9149 - mae: 10.9149\n",
            "Epoch 279/500\n",
            "2/2 [==============================] - 0s 7ms/step - loss: 16.2948 - mae: 16.2948\n",
            "Epoch 280/500\n",
            "2/2 [==============================] - 0s 6ms/step - loss: 21.6416 - mae: 21.6416\n",
            "Epoch 281/500\n",
            "2/2 [==============================] - 0s 11ms/step - loss: 22.7813 - mae: 22.7813\n",
            "Epoch 282/500\n",
            "2/2 [==============================] - 0s 10ms/step - loss: 7.9744 - mae: 7.9744\n",
            "Epoch 283/500\n",
            "2/2 [==============================] - 0s 12ms/step - loss: 8.2865 - mae: 8.2865\n",
            "Epoch 284/500\n",
            "2/2 [==============================] - 0s 9ms/step - loss: 25.5305 - mae: 25.5305\n",
            "Epoch 285/500\n",
            "2/2 [==============================] - 0s 10ms/step - loss: 14.1470 - mae: 14.1470\n",
            "Epoch 286/500\n",
            "2/2 [==============================] - 0s 9ms/step - loss: 6.0229 - mae: 6.0229\n",
            "Epoch 287/500\n",
            "2/2 [==============================] - 0s 12ms/step - loss: 19.0045 - mae: 19.0045\n",
            "Epoch 288/500\n",
            "2/2 [==============================] - 0s 7ms/step - loss: 32.8569 - mae: 32.8569\n",
            "Epoch 289/500\n",
            "2/2 [==============================] - 0s 8ms/step - loss: 8.3903 - mae: 8.3903\n",
            "Epoch 290/500\n",
            "2/2 [==============================] - 0s 7ms/step - loss: 16.8817 - mae: 16.8817\n",
            "Epoch 291/500\n",
            "2/2 [==============================] - 0s 9ms/step - loss: 17.2547 - mae: 17.2547\n",
            "Epoch 292/500\n",
            "2/2 [==============================] - 0s 8ms/step - loss: 10.8944 - mae: 10.8944\n",
            "Epoch 293/500\n",
            "2/2 [==============================] - 0s 10ms/step - loss: 14.5812 - mae: 14.5812\n",
            "Epoch 294/500\n",
            "2/2 [==============================] - 0s 10ms/step - loss: 21.8181 - mae: 21.8181\n",
            "Epoch 295/500\n",
            "2/2 [==============================] - 0s 10ms/step - loss: 19.9493 - mae: 19.9493\n",
            "Epoch 296/500\n",
            "2/2 [==============================] - 0s 11ms/step - loss: 7.0057 - mae: 7.0057\n",
            "Epoch 297/500\n",
            "2/2 [==============================] - 0s 8ms/step - loss: 9.0195 - mae: 9.0195\n",
            "Epoch 298/500\n",
            "2/2 [==============================] - 0s 7ms/step - loss: 24.2729 - mae: 24.2729\n",
            "Epoch 299/500\n",
            "2/2 [==============================] - 0s 9ms/step - loss: 17.8413 - mae: 17.8413\n",
            "Epoch 300/500\n",
            "2/2 [==============================] - 0s 7ms/step - loss: 7.0240 - mae: 7.0240\n",
            "Epoch 301/500\n",
            "2/2 [==============================] - 0s 8ms/step - loss: 25.3162 - mae: 25.3162\n",
            "Epoch 302/500\n",
            "2/2 [==============================] - 0s 11ms/step - loss: 9.4518 - mae: 9.4518\n",
            "Epoch 303/500\n",
            "2/2 [==============================] - 0s 8ms/step - loss: 14.4087 - mae: 14.4087\n",
            "Epoch 304/500\n",
            "2/2 [==============================] - 0s 8ms/step - loss: 10.8342 - mae: 10.8342\n",
            "Epoch 305/500\n",
            "2/2 [==============================] - 0s 8ms/step - loss: 12.6379 - mae: 12.6379\n",
            "Epoch 306/500\n",
            "2/2 [==============================] - 0s 9ms/step - loss: 8.2779 - mae: 8.2779\n",
            "Epoch 307/500\n",
            "2/2 [==============================] - 0s 10ms/step - loss: 13.0795 - mae: 13.0795\n",
            "Epoch 308/500\n",
            "2/2 [==============================] - 0s 6ms/step - loss: 8.1395 - mae: 8.1395\n",
            "Epoch 309/500\n",
            "2/2 [==============================] - 0s 9ms/step - loss: 11.7245 - mae: 11.7245\n",
            "Epoch 310/500\n",
            "2/2 [==============================] - 0s 10ms/step - loss: 6.3436 - mae: 6.3436\n",
            "Epoch 311/500\n",
            "2/2 [==============================] - 0s 12ms/step - loss: 4.9858 - mae: 4.9858\n",
            "Epoch 312/500\n",
            "2/2 [==============================] - 0s 12ms/step - loss: 29.2972 - mae: 29.2972\n",
            "Epoch 313/500\n",
            "2/2 [==============================] - 0s 9ms/step - loss: 8.9478 - mae: 8.9478\n",
            "Epoch 314/500\n",
            "2/2 [==============================] - 0s 7ms/step - loss: 6.5116 - mae: 6.5116\n",
            "Epoch 315/500\n",
            "2/2 [==============================] - 0s 9ms/step - loss: 23.9210 - mae: 23.9210\n",
            "Epoch 316/500\n",
            "2/2 [==============================] - 0s 11ms/step - loss: 16.2258 - mae: 16.2258\n",
            "Epoch 317/500\n",
            "2/2 [==============================] - 0s 11ms/step - loss: 20.7239 - mae: 20.7239\n",
            "Epoch 318/500\n",
            "2/2 [==============================] - 0s 10ms/step - loss: 9.1752 - mae: 9.1752\n",
            "Epoch 319/500\n",
            "2/2 [==============================] - 0s 8ms/step - loss: 11.7660 - mae: 11.7660\n",
            "Epoch 320/500\n",
            "2/2 [==============================] - 0s 8ms/step - loss: 12.3994 - mae: 12.3994\n",
            "Epoch 321/500\n",
            "2/2 [==============================] - 0s 9ms/step - loss: 5.3764 - mae: 5.3764\n",
            "Epoch 322/500\n",
            "2/2 [==============================] - 0s 9ms/step - loss: 14.2095 - mae: 14.2095\n",
            "Epoch 323/500\n",
            "2/2 [==============================] - 0s 9ms/step - loss: 18.6317 - mae: 18.6317\n",
            "Epoch 324/500\n",
            "2/2 [==============================] - 0s 9ms/step - loss: 18.0040 - mae: 18.0040\n",
            "Epoch 325/500\n",
            "2/2 [==============================] - 0s 8ms/step - loss: 7.9198 - mae: 7.9198\n",
            "Epoch 326/500\n",
            "2/2 [==============================] - 0s 9ms/step - loss: 21.1769 - mae: 21.1769\n",
            "Epoch 327/500\n",
            "2/2 [==============================] - 0s 8ms/step - loss: 24.6201 - mae: 24.6201\n",
            "Epoch 328/500\n",
            "2/2 [==============================] - 0s 10ms/step - loss: 12.6625 - mae: 12.6625\n",
            "Epoch 329/500\n",
            "2/2 [==============================] - 0s 7ms/step - loss: 17.1653 - mae: 17.1653\n",
            "Epoch 330/500\n",
            "2/2 [==============================] - 0s 6ms/step - loss: 6.9780 - mae: 6.9780\n",
            "Epoch 331/500\n",
            "2/2 [==============================] - 0s 6ms/step - loss: 20.6125 - mae: 20.6125\n",
            "Epoch 332/500\n",
            "2/2 [==============================] - 0s 6ms/step - loss: 11.4800 - mae: 11.4800\n",
            "Epoch 333/500\n",
            "2/2 [==============================] - 0s 11ms/step - loss: 13.8670 - mae: 13.8670\n",
            "Epoch 334/500\n",
            "2/2 [==============================] - 0s 10ms/step - loss: 10.1945 - mae: 10.1945\n",
            "Epoch 335/500\n",
            "2/2 [==============================] - 0s 11ms/step - loss: 13.0394 - mae: 13.0394\n",
            "Epoch 336/500\n",
            "2/2 [==============================] - 0s 7ms/step - loss: 32.4119 - mae: 32.4119\n",
            "Epoch 337/500\n",
            "2/2 [==============================] - 0s 7ms/step - loss: 10.6773 - mae: 10.6773\n",
            "Epoch 338/500\n",
            "2/2 [==============================] - 0s 7ms/step - loss: 20.2100 - mae: 20.2100\n",
            "Epoch 339/500\n",
            "2/2 [==============================] - 0s 7ms/step - loss: 33.5985 - mae: 33.5985\n",
            "Epoch 340/500\n",
            "2/2 [==============================] - 0s 7ms/step - loss: 8.6089 - mae: 8.6089\n",
            "Epoch 341/500\n",
            "2/2 [==============================] - 0s 7ms/step - loss: 21.3275 - mae: 21.3275\n",
            "Epoch 342/500\n",
            "2/2 [==============================] - 0s 7ms/step - loss: 14.1304 - mae: 14.1304\n",
            "Epoch 343/500\n",
            "2/2 [==============================] - 0s 7ms/step - loss: 11.6883 - mae: 11.6883\n",
            "Epoch 344/500\n",
            "2/2 [==============================] - 0s 8ms/step - loss: 10.7187 - mae: 10.7187\n",
            "Epoch 345/500\n",
            "2/2 [==============================] - 0s 7ms/step - loss: 30.9033 - mae: 30.9033\n",
            "Epoch 346/500\n",
            "2/2 [==============================] - 0s 7ms/step - loss: 10.6527 - mae: 10.6527\n",
            "Epoch 347/500\n",
            "2/2 [==============================] - 0s 7ms/step - loss: 25.5704 - mae: 25.5704\n",
            "Epoch 348/500\n",
            "2/2 [==============================] - 0s 7ms/step - loss: 13.2830 - mae: 13.2830\n",
            "Epoch 349/500\n",
            "2/2 [==============================] - 0s 7ms/step - loss: 13.0556 - mae: 13.0556\n",
            "Epoch 350/500\n",
            "2/2 [==============================] - 0s 7ms/step - loss: 15.4160 - mae: 15.4160\n",
            "Epoch 351/500\n",
            "2/2 [==============================] - 0s 6ms/step - loss: 32.8803 - mae: 32.8803\n",
            "Epoch 352/500\n",
            "2/2 [==============================] - 0s 8ms/step - loss: 13.9901 - mae: 13.9901\n",
            "Epoch 353/500\n",
            "2/2 [==============================] - 0s 7ms/step - loss: 15.9737 - mae: 15.9737\n",
            "Epoch 354/500\n",
            "2/2 [==============================] - 0s 8ms/step - loss: 13.3403 - mae: 13.3403\n",
            "Epoch 355/500\n",
            "2/2 [==============================] - 0s 7ms/step - loss: 21.4661 - mae: 21.4661\n",
            "Epoch 356/500\n",
            "2/2 [==============================] - 0s 7ms/step - loss: 16.3405 - mae: 16.3405\n",
            "Epoch 357/500\n",
            "2/2 [==============================] - 0s 7ms/step - loss: 11.8759 - mae: 11.8759\n",
            "Epoch 358/500\n",
            "2/2 [==============================] - 0s 8ms/step - loss: 14.9985 - mae: 14.9985\n",
            "Epoch 359/500\n",
            "2/2 [==============================] - 0s 8ms/step - loss: 12.2555 - mae: 12.2555\n",
            "Epoch 360/500\n",
            "2/2 [==============================] - 0s 8ms/step - loss: 20.1947 - mae: 20.1947\n",
            "Epoch 361/500\n",
            "2/2 [==============================] - 0s 7ms/step - loss: 11.1660 - mae: 11.1660\n",
            "Epoch 362/500\n",
            "2/2 [==============================] - 0s 8ms/step - loss: 6.8880 - mae: 6.8880\n",
            "Epoch 363/500\n",
            "2/2 [==============================] - 0s 7ms/step - loss: 24.1596 - mae: 24.1596\n",
            "Epoch 364/500\n",
            "2/2 [==============================] - 0s 7ms/step - loss: 29.9881 - mae: 29.9881\n",
            "Epoch 365/500\n",
            "2/2 [==============================] - 0s 10ms/step - loss: 8.4696 - mae: 8.4696\n",
            "Epoch 366/500\n",
            "2/2 [==============================] - 0s 13ms/step - loss: 6.1427 - mae: 6.1427\n",
            "Epoch 367/500\n",
            "2/2 [==============================] - 0s 8ms/step - loss: 35.0923 - mae: 35.0923\n",
            "Epoch 368/500\n",
            "2/2 [==============================] - 0s 7ms/step - loss: 7.4994 - mae: 7.4994\n",
            "Epoch 369/500\n",
            "2/2 [==============================] - 0s 7ms/step - loss: 9.3157 - mae: 9.3157\n",
            "Epoch 370/500\n",
            "2/2 [==============================] - 0s 7ms/step - loss: 11.0175 - mae: 11.0175\n",
            "Epoch 371/500\n",
            "2/2 [==============================] - 0s 7ms/step - loss: 9.0771 - mae: 9.0771\n",
            "Epoch 372/500\n",
            "2/2 [==============================] - 0s 7ms/step - loss: 6.9764 - mae: 6.9764\n",
            "Epoch 373/500\n",
            "2/2 [==============================] - 0s 7ms/step - loss: 25.9372 - mae: 25.9372\n",
            "Epoch 374/500\n",
            "2/2 [==============================] - 0s 7ms/step - loss: 11.0021 - mae: 11.0021\n",
            "Epoch 375/500\n",
            "2/2 [==============================] - 0s 7ms/step - loss: 10.7911 - mae: 10.7911\n",
            "Epoch 376/500\n",
            "2/2 [==============================] - 0s 7ms/step - loss: 13.5751 - mae: 13.5751\n",
            "Epoch 377/500\n",
            "2/2 [==============================] - 0s 7ms/step - loss: 15.2811 - mae: 15.2811\n",
            "Epoch 378/500\n",
            "2/2 [==============================] - 0s 7ms/step - loss: 16.4197 - mae: 16.4197\n",
            "Epoch 379/500\n",
            "2/2 [==============================] - 0s 7ms/step - loss: 21.1632 - mae: 21.1632\n",
            "Epoch 380/500\n",
            "2/2 [==============================] - 0s 7ms/step - loss: 32.5703 - mae: 32.5703\n",
            "Epoch 381/500\n",
            "2/2 [==============================] - 0s 7ms/step - loss: 7.9866 - mae: 7.9866\n",
            "Epoch 382/500\n",
            "2/2 [==============================] - 0s 7ms/step - loss: 12.3821 - mae: 12.3821\n",
            "Epoch 383/500\n",
            "2/2 [==============================] - 0s 7ms/step - loss: 7.3136 - mae: 7.3136\n",
            "Epoch 384/500\n",
            "2/2 [==============================] - 0s 7ms/step - loss: 6.4057 - mae: 6.4057\n",
            "Epoch 385/500\n",
            "2/2 [==============================] - 0s 7ms/step - loss: 11.6575 - mae: 11.6575\n",
            "Epoch 386/500\n",
            "2/2 [==============================] - 0s 10ms/step - loss: 20.0192 - mae: 20.0192\n",
            "Epoch 387/500\n",
            "2/2 [==============================] - 0s 10ms/step - loss: 24.2766 - mae: 24.2766\n",
            "Epoch 388/500\n",
            "2/2 [==============================] - 0s 8ms/step - loss: 7.6555 - mae: 7.6555\n",
            "Epoch 389/500\n",
            "2/2 [==============================] - 0s 10ms/step - loss: 14.3127 - mae: 14.3127\n",
            "Epoch 390/500\n",
            "2/2 [==============================] - 0s 10ms/step - loss: 8.2637 - mae: 8.2637\n",
            "Epoch 391/500\n",
            "2/2 [==============================] - 0s 8ms/step - loss: 15.5155 - mae: 15.5155\n",
            "Epoch 392/500\n",
            "2/2 [==============================] - 0s 8ms/step - loss: 17.1520 - mae: 17.1520\n",
            "Epoch 393/500\n",
            "2/2 [==============================] - 0s 7ms/step - loss: 10.5207 - mae: 10.5207\n",
            "Epoch 394/500\n",
            "2/2 [==============================] - 0s 6ms/step - loss: 14.0804 - mae: 14.0804\n",
            "Epoch 395/500\n",
            "2/2 [==============================] - 0s 6ms/step - loss: 28.4216 - mae: 28.4216\n",
            "Epoch 396/500\n",
            "2/2 [==============================] - 0s 6ms/step - loss: 8.5699 - mae: 8.5699\n",
            "Epoch 397/500\n",
            "2/2 [==============================] - 0s 6ms/step - loss: 11.3005 - mae: 11.3005\n",
            "Epoch 398/500\n",
            "2/2 [==============================] - 0s 6ms/step - loss: 6.9548 - mae: 6.9548\n",
            "Epoch 399/500\n",
            "2/2 [==============================] - 0s 6ms/step - loss: 14.1172 - mae: 14.1172\n",
            "Epoch 400/500\n",
            "2/2 [==============================] - 0s 6ms/step - loss: 6.7410 - mae: 6.7410\n",
            "Epoch 401/500\n",
            "2/2 [==============================] - 0s 6ms/step - loss: 7.9943 - mae: 7.9943\n",
            "Epoch 402/500\n",
            "2/2 [==============================] - 0s 6ms/step - loss: 16.3944 - mae: 16.3944\n",
            "Epoch 403/500\n",
            "2/2 [==============================] - 0s 11ms/step - loss: 12.3882 - mae: 12.3882\n",
            "Epoch 404/500\n",
            "2/2 [==============================] - 0s 8ms/step - loss: 22.9768 - mae: 22.9768\n",
            "Epoch 405/500\n",
            "2/2 [==============================] - 0s 6ms/step - loss: 18.0048 - mae: 18.0048\n",
            "Epoch 406/500\n",
            "2/2 [==============================] - 0s 8ms/step - loss: 7.0553 - mae: 7.0553\n",
            "Epoch 407/500\n",
            "2/2 [==============================] - 0s 7ms/step - loss: 12.5829 - mae: 12.5829\n",
            "Epoch 408/500\n",
            "2/2 [==============================] - 0s 6ms/step - loss: 5.6881 - mae: 5.6881\n",
            "Epoch 409/500\n",
            "2/2 [==============================] - 0s 6ms/step - loss: 31.0477 - mae: 31.0477\n",
            "Epoch 410/500\n",
            "2/2 [==============================] - 0s 8ms/step - loss: 9.3079 - mae: 9.3079\n",
            "Epoch 411/500\n",
            "2/2 [==============================] - 0s 7ms/step - loss: 14.9109 - mae: 14.9109\n",
            "Epoch 412/500\n",
            "2/2 [==============================] - 0s 6ms/step - loss: 21.8079 - mae: 21.8079\n",
            "Epoch 413/500\n",
            "2/2 [==============================] - 0s 6ms/step - loss: 12.5067 - mae: 12.5067\n",
            "Epoch 414/500\n",
            "2/2 [==============================] - 0s 6ms/step - loss: 6.1085 - mae: 6.1085\n",
            "Epoch 415/500\n",
            "2/2 [==============================] - 0s 7ms/step - loss: 13.2544 - mae: 13.2544\n",
            "Epoch 416/500\n",
            "2/2 [==============================] - 0s 7ms/step - loss: 27.4922 - mae: 27.4922\n",
            "Epoch 417/500\n",
            "2/2 [==============================] - 0s 6ms/step - loss: 10.4789 - mae: 10.4789\n",
            "Epoch 418/500\n",
            "2/2 [==============================] - 0s 6ms/step - loss: 12.8803 - mae: 12.8803\n",
            "Epoch 419/500\n",
            "2/2 [==============================] - 0s 6ms/step - loss: 15.9202 - mae: 15.9202\n",
            "Epoch 420/500\n",
            "2/2 [==============================] - 0s 6ms/step - loss: 24.8279 - mae: 24.8279\n",
            "Epoch 421/500\n",
            "2/2 [==============================] - 0s 6ms/step - loss: 17.1921 - mae: 17.1921\n",
            "Epoch 422/500\n",
            "2/2 [==============================] - 0s 6ms/step - loss: 7.8361 - mae: 7.8361\n",
            "Epoch 423/500\n",
            "2/2 [==============================] - 0s 8ms/step - loss: 25.4522 - mae: 25.4522\n",
            "Epoch 424/500\n",
            "2/2 [==============================] - 0s 9ms/step - loss: 14.9415 - mae: 14.9415\n",
            "Epoch 425/500\n",
            "2/2 [==============================] - 0s 6ms/step - loss: 7.1170 - mae: 7.1170\n",
            "Epoch 426/500\n",
            "2/2 [==============================] - 0s 6ms/step - loss: 20.1367 - mae: 20.1367\n",
            "Epoch 427/500\n",
            "2/2 [==============================] - 0s 6ms/step - loss: 6.2760 - mae: 6.2760\n",
            "Epoch 428/500\n",
            "2/2 [==============================] - 0s 8ms/step - loss: 12.6427 - mae: 12.6427\n",
            "Epoch 429/500\n",
            "2/2 [==============================] - 0s 9ms/step - loss: 12.0795 - mae: 12.0795\n",
            "Epoch 430/500\n",
            "2/2 [==============================] - 0s 6ms/step - loss: 11.0810 - mae: 11.0810\n",
            "Epoch 431/500\n",
            "2/2 [==============================] - 0s 8ms/step - loss: 10.0100 - mae: 10.0100\n",
            "Epoch 432/500\n",
            "2/2 [==============================] - 0s 9ms/step - loss: 13.3466 - mae: 13.3466\n",
            "Epoch 433/500\n",
            "2/2 [==============================] - 0s 8ms/step - loss: 11.3949 - mae: 11.3949\n",
            "Epoch 434/500\n",
            "2/2 [==============================] - 0s 6ms/step - loss: 30.4237 - mae: 30.4237\n",
            "Epoch 435/500\n",
            "2/2 [==============================] - 0s 12ms/step - loss: 10.5160 - mae: 10.5160\n",
            "Epoch 436/500\n",
            "2/2 [==============================] - 0s 8ms/step - loss: 28.9103 - mae: 28.9103\n",
            "Epoch 437/500\n",
            "2/2 [==============================] - 0s 7ms/step - loss: 8.6284 - mae: 8.6284\n",
            "Epoch 438/500\n",
            "2/2 [==============================] - 0s 7ms/step - loss: 12.7452 - mae: 12.7452\n",
            "Epoch 439/500\n",
            "2/2 [==============================] - 0s 8ms/step - loss: 33.6939 - mae: 33.6939\n",
            "Epoch 440/500\n",
            "2/2 [==============================] - 0s 7ms/step - loss: 15.1249 - mae: 15.1249\n",
            "Epoch 441/500\n",
            "2/2 [==============================] - 0s 7ms/step - loss: 17.5031 - mae: 17.5031\n",
            "Epoch 442/500\n",
            "2/2 [==============================] - 0s 7ms/step - loss: 22.3514 - mae: 22.3514\n",
            "Epoch 443/500\n",
            "2/2 [==============================] - 0s 8ms/step - loss: 23.4741 - mae: 23.4741\n",
            "Epoch 444/500\n",
            "2/2 [==============================] - 0s 8ms/step - loss: 10.9118 - mae: 10.9118\n",
            "Epoch 445/500\n",
            "2/2 [==============================] - 0s 11ms/step - loss: 14.9453 - mae: 14.9453\n",
            "Epoch 446/500\n",
            "2/2 [==============================] - 0s 10ms/step - loss: 18.0387 - mae: 18.0387\n",
            "Epoch 447/500\n",
            "2/2 [==============================] - 0s 9ms/step - loss: 5.4077 - mae: 5.4077\n",
            "Epoch 448/500\n",
            "2/2 [==============================] - 0s 8ms/step - loss: 10.0916 - mae: 10.0916\n",
            "Epoch 449/500\n",
            "2/2 [==============================] - 0s 9ms/step - loss: 14.0364 - mae: 14.0364\n",
            "Epoch 450/500\n",
            "2/2 [==============================] - 0s 9ms/step - loss: 16.8090 - mae: 16.8090\n",
            "Epoch 451/500\n",
            "2/2 [==============================] - 0s 8ms/step - loss: 14.3073 - mae: 14.3073\n",
            "Epoch 452/500\n",
            "2/2 [==============================] - 0s 10ms/step - loss: 30.6471 - mae: 30.6471\n",
            "Epoch 453/500\n",
            "2/2 [==============================] - 0s 10ms/step - loss: 7.6586 - mae: 7.6586\n",
            "Epoch 454/500\n",
            "2/2 [==============================] - 0s 10ms/step - loss: 28.1771 - mae: 28.1771\n",
            "Epoch 455/500\n",
            "2/2 [==============================] - 0s 9ms/step - loss: 7.9415 - mae: 7.9415\n",
            "Epoch 456/500\n",
            "2/2 [==============================] - 0s 7ms/step - loss: 10.4288 - mae: 10.4288\n",
            "Epoch 457/500\n",
            "2/2 [==============================] - 0s 7ms/step - loss: 15.0545 - mae: 15.0545\n",
            "Epoch 458/500\n",
            "2/2 [==============================] - 0s 7ms/step - loss: 16.5844 - mae: 16.5844\n",
            "Epoch 459/500\n",
            "2/2 [==============================] - 0s 7ms/step - loss: 26.8953 - mae: 26.8953\n",
            "Epoch 460/500\n",
            "2/2 [==============================] - 0s 7ms/step - loss: 12.3884 - mae: 12.3884\n",
            "Epoch 461/500\n",
            "2/2 [==============================] - 0s 7ms/step - loss: 12.5197 - mae: 12.5197\n",
            "Epoch 462/500\n",
            "2/2 [==============================] - 0s 7ms/step - loss: 13.3344 - mae: 13.3344\n",
            "Epoch 463/500\n",
            "2/2 [==============================] - 0s 7ms/step - loss: 29.5843 - mae: 29.5843\n",
            "Epoch 464/500\n",
            "2/2 [==============================] - 0s 6ms/step - loss: 3.4689 - mae: 3.4689\n",
            "Epoch 465/500\n",
            "2/2 [==============================] - 0s 10ms/step - loss: 15.2394 - mae: 15.2394\n",
            "Epoch 466/500\n",
            "2/2 [==============================] - 0s 9ms/step - loss: 20.8881 - mae: 20.8881\n",
            "Epoch 467/500\n",
            "2/2 [==============================] - 0s 7ms/step - loss: 30.3607 - mae: 30.3607\n",
            "Epoch 468/500\n",
            "2/2 [==============================] - 0s 8ms/step - loss: 10.6371 - mae: 10.6371\n",
            "Epoch 469/500\n",
            "2/2 [==============================] - 0s 8ms/step - loss: 15.1126 - mae: 15.1126\n",
            "Epoch 470/500\n",
            "2/2 [==============================] - 0s 7ms/step - loss: 6.7619 - mae: 6.7619\n",
            "Epoch 471/500\n",
            "2/2 [==============================] - 0s 7ms/step - loss: 22.8802 - mae: 22.8802\n",
            "Epoch 472/500\n",
            "2/2 [==============================] - 0s 7ms/step - loss: 13.3483 - mae: 13.3483\n",
            "Epoch 473/500\n",
            "2/2 [==============================] - 0s 7ms/step - loss: 15.2616 - mae: 15.2616\n",
            "Epoch 474/500\n",
            "2/2 [==============================] - 0s 6ms/step - loss: 11.7319 - mae: 11.7319\n",
            "Epoch 475/500\n",
            "2/2 [==============================] - 0s 7ms/step - loss: 16.3787 - mae: 16.3787\n",
            "Epoch 476/500\n",
            "2/2 [==============================] - 0s 7ms/step - loss: 13.8769 - mae: 13.8769\n",
            "Epoch 477/500\n",
            "2/2 [==============================] - 0s 6ms/step - loss: 30.6480 - mae: 30.6480\n",
            "Epoch 478/500\n",
            "2/2 [==============================] - 0s 7ms/step - loss: 8.5870 - mae: 8.5870\n",
            "Epoch 479/500\n",
            "2/2 [==============================] - 0s 7ms/step - loss: 10.7484 - mae: 10.7484\n",
            "Epoch 480/500\n",
            "2/2 [==============================] - 0s 7ms/step - loss: 17.9120 - mae: 17.9120\n",
            "Epoch 481/500\n",
            "2/2 [==============================] - 0s 7ms/step - loss: 15.8169 - mae: 15.8169\n",
            "Epoch 482/500\n",
            "2/2 [==============================] - 0s 7ms/step - loss: 21.3134 - mae: 21.3134\n",
            "Epoch 483/500\n",
            "2/2 [==============================] - 0s 7ms/step - loss: 25.3596 - mae: 25.3596\n",
            "Epoch 484/500\n",
            "2/2 [==============================] - 0s 11ms/step - loss: 23.9662 - mae: 23.9662\n",
            "Epoch 485/500\n",
            "2/2 [==============================] - 0s 8ms/step - loss: 5.7936 - mae: 5.7936\n",
            "Epoch 486/500\n",
            "2/2 [==============================] - 0s 9ms/step - loss: 19.9589 - mae: 19.9589\n",
            "Epoch 487/500\n",
            "2/2 [==============================] - 0s 8ms/step - loss: 14.0502 - mae: 14.0502\n",
            "Epoch 488/500\n",
            "2/2 [==============================] - 0s 9ms/step - loss: 30.6200 - mae: 30.6200\n",
            "Epoch 489/500\n",
            "2/2 [==============================] - 0s 9ms/step - loss: 11.9645 - mae: 11.9645\n",
            "Epoch 490/500\n",
            "2/2 [==============================] - 0s 10ms/step - loss: 12.5701 - mae: 12.5701\n",
            "Epoch 491/500\n",
            "2/2 [==============================] - 0s 7ms/step - loss: 23.8649 - mae: 23.8649\n",
            "Epoch 492/500\n",
            "2/2 [==============================] - 0s 7ms/step - loss: 19.9198 - mae: 19.9198\n",
            "Epoch 493/500\n",
            "2/2 [==============================] - 0s 7ms/step - loss: 4.8841 - mae: 4.8841\n",
            "Epoch 494/500\n",
            "2/2 [==============================] - 0s 9ms/step - loss: 12.2807 - mae: 12.2807\n",
            "Epoch 495/500\n",
            "2/2 [==============================] - 0s 8ms/step - loss: 13.6031 - mae: 13.6031\n",
            "Epoch 496/500\n",
            "2/2 [==============================] - 0s 8ms/step - loss: 12.8321 - mae: 12.8321\n",
            "Epoch 497/500\n",
            "2/2 [==============================] - 0s 7ms/step - loss: 17.9082 - mae: 17.9082\n",
            "Epoch 498/500\n",
            "2/2 [==============================] - 0s 8ms/step - loss: 22.9224 - mae: 22.9224\n",
            "Epoch 499/500\n",
            "2/2 [==============================] - 0s 9ms/step - loss: 8.7647 - mae: 8.7647\n",
            "Epoch 500/500\n",
            "2/2 [==============================] - 0s 7ms/step - loss: 14.4377 - mae: 14.4377\n"
          ]
        },
        {
          "output_type": "execute_result",
          "data": {
            "text/plain": [
              "<keras.src.callbacks.History at 0x79fc0f387ee0>"
            ]
          },
          "metadata": {},
          "execution_count": 58
        }
      ],
      "source": [
        "# Set random seed\n",
        "tf.random.set_seed(42)\n",
        "\n",
        "# 1. Create the model\n",
        "model_3 = tf.keras.Sequential([\n",
        "    tf.keras.layers.Dense(10),\n",
        "    tf.keras.layers.Dense(1)\n",
        "])\n",
        "\n",
        "# 2. Compile the model\n",
        "model_3.compile(loss=tf.keras.losses.mae,\n",
        "                optimizer=tf.keras.optimizers.SGD(),\n",
        "                metrics=['mae'])\n",
        "\n",
        "# 3. Fit the model\n",
        "model_3.fit(tf.expand_dims(X_train, -1), y_train, epochs=500)"
      ]
    },
    {
      "cell_type": "code",
      "execution_count": 59,
      "metadata": {
        "colab": {
          "base_uri": "https://localhost:8080/",
          "height": 616
        },
        "id": "aXDXxwGYRp1D",
        "outputId": "240a563e-2b8d-4f00-c272-74a9db36931d"
      },
      "outputs": [
        {
          "output_type": "stream",
          "name": "stdout",
          "text": [
            "1/1 [==============================] - 0s 53ms/step\n"
          ]
        },
        {
          "output_type": "display_data",
          "data": {
            "text/plain": [
              "<Figure size 1000x700 with 1 Axes>"
            ],
            "image/png": "[encoded data removed]"
          },
          "metadata": {}
        }
      ],
      "source": [
        "# Make and plot predictions of model_2\n",
        "y_preds_3 = model_3.predict(X_test)\n",
        "plot_predictions(predictions=y_preds_3)"
      ]
    },
    {
      "cell_type": "code",
      "execution_count": 60,
      "metadata": {
        "colab": {
          "base_uri": "https://localhost:8080/"
        },
        "id": "zS6OeDwZRp1E",
        "outputId": "7ec0362a-1bc1-40e2-8d75-bec695abcaec"
      },
      "outputs": [
        {
          "output_type": "execute_result",
          "data": {
            "text/plain": [
              "(<tf.Tensor: shape=(), dtype=float32, numpy=68.09387>,\n",
              " <tf.Tensor: shape=(), dtype=float32, numpy=4721.5806>)"
            ]
          },
          "metadata": {},
          "execution_count": 60
        }
      ],
      "source": [
        "# Calculate model_2 evaluation metrics\n",
        "mae_3 = mae(y_test, y_preds_3)\n",
        "mse_3 = mse(y_test, y_preds_3)\n",
        "mae_3, mse_3"
      ]
    },
    {
      "cell_type": "code",
      "execution_count": 61,
      "metadata": {
        "colab": {
          "base_uri": "https://localhost:8080/"
        },
        "id": "HIb1Mf6pRp1E",
        "outputId": "1b65e1b3-f370-4fe9-accc-59c614a3aa88"
      },
      "outputs": [
        {
          "output_type": "stream",
          "name": "stdout",
          "text": [
            "tf.Tensor(32.593895, shape=(), dtype=float32) tf.Tensor(10.04883, shape=(), dtype=float32) tf.Tensor(68.09387, shape=(), dtype=float32)\n",
            "tf.Tensor(1074.7728, shape=(), dtype=float32) tf.Tensor(108.25327, shape=(), dtype=float32) tf.Tensor(4721.5806, shape=(), dtype=float32)\n"
          ]
        }
      ],
      "source": [
        "print(mae_1, mae_2, mae_3)\n",
        "print(mse_1, mse_2, mse_3)"
      ]
    },
    {
      "cell_type": "markdown",
      "metadata": {
        "id": "szlHnvwBRp1F"
      },
      "source": [
        "**Note:** You want to start with small experiments (small models) and make sure they work and then increase their scale when neccesary."
      ]
    },
    {
      "cell_type": "markdown",
      "metadata": {
        "id": "iGaP44hcRp1F"
      },
      "source": [
        "### Comparing the results of our experiments\n",
        "\n",
        "We've run a few experiments, let's compare the results."
      ]
    },
    {
      "cell_type": "code",
      "execution_count": 62,
      "metadata": {
        "colab": {
          "base_uri": "https://localhost:8080/",
          "height": 143
        },
        "id": "7gXvFmPZRp1F",
        "outputId": "dda67958-1d51-4109-fbf2-107ff45c124a"
      },
      "outputs": [
        {
          "output_type": "execute_result",
          "data": {
            "text/plain": [
              "     model        mae          mse\n",
              "0  model_1  32.593895  1074.772827\n",
              "1  model_2  10.048830   108.253273\n",
              "2  model_3  68.093872  4721.580566"
            ],
            "text/html": [
              "\n",
              "  <div id=\"df-28d00b5f-ac76-41b0-bcb2-89b68eb6eb55\" class=\"colab-df-container\">\n",
              "    <div>\n",
              "<style scoped>\n",
              "    .dataframe tbody tr th:only-of-type {\n",
              "        vertical-align: middle;\n",
              "    }\n",
              "\n",
              "    .dataframe tbody tr th {\n",
              "        vertical-align: top;\n",
              "    }\n",
              "\n",
              "    .dataframe thead th {\n",
              "        text-align: right;\n",
              "    }\n",
              "</style>\n",
              "<table border=\"1\" class=\"dataframe\">\n",
              "  <thead>\n",
              "    <tr style=\"text-align: right;\">\n",
              "      <th></th>\n",
              "      <th>model</th>\n",
              "      <th>mae</th>\n",
              "      <th>mse</th>\n",
              "    </tr>\n",
              "  </thead>\n",
              "  <tbody>\n",
              "    <tr>\n",
              "      <th>0</th>\n",
              "      <td>model_1</td>\n",
              "      <td>32.593895</td>\n",
              "      <td>1074.772827</td>\n",
              "    </tr>\n",
              "    <tr>\n",
              "      <th>1</th>\n",
              "      <td>model_2</td>\n",
              "      <td>10.048830</td>\n",
              "      <td>108.253273</td>\n",
              "    </tr>\n",
              "    <tr>\n",
              "      <th>2</th>\n",
              "      <td>model_3</td>\n",
              "      <td>68.093872</td>\n",
              "      <td>4721.580566</td>\n",
              "    </tr>\n",
              "  </tbody>\n",
              "</table>\n",
              "</div>\n",
              "    <div class=\"colab-df-buttons\">\n",
              "\n",
              "  <div class=\"colab-df-container\">\n",
              "    <button class=\"colab-df-convert\" onclick=\"convertToInteractive('df-28d00b5f-ac76-41b0-bcb2-89b68eb6eb55')\"\n",
              "            title=\"Convert this dataframe to an interactive table.\"\n",
              "            style=\"display:none;\">\n",
              "\n",
              "  <svg xmlns=\"http://www.w3.org/2000/svg\" height=\"24px\" viewBox=\"0 -960 960 960\">\n",
              "    <path d=\"M120-120v-720h720v720H120Zm60-500h600v-160H180v160Zm220 220h160v-160H400v160Zm0 220h160v-160H400v160ZM180-400h160v-160H180v160Zm440 0h160v-160H620v160ZM180-180h160v-160H180v160Zm440 0h160v-160H620v160Z\"/>\n",
              "  </svg>\n",
              "    </button>\n",
              "\n",
              "  <style>\n",
              "    .colab-df-container {\n",
              "      display:flex;\n",
              "      gap: 12px;\n",
              "    }\n",
              "\n",
              "    .colab-df-convert {\n",
              "      background-color: #E8F0FE;\n",
              "      border: none;\n",
              "      border-radius: 50%;\n",
              "      cursor: pointer;\n",
              "      display: none;\n",
              "      fill: #1967D2;\n",
              "      height: 32px;\n",
              "      padding: 0 0 0 0;\n",
              "      width: 32px;\n",
              "    }\n",
              "\n",
              "    .colab-df-convert:hover {\n",
              "      background-color: #E2EBFA;\n",
              "      box-shadow: 0px 1px 2px rgba(60, 64, 67, 0.3), 0px 1px 3px 1px rgba(60, 64, 67, 0.15);\n",
              "      fill: #174EA6;\n",
              "    }\n",
              "\n",
              "    .colab-df-buttons div {\n",
              "      margin-bottom: 4px;\n",
              "    }\n",
              "\n",
              "    [theme=dark] .colab-df-convert {\n",
              "      background-color: #3B4455;\n",
              "      fill: #D2E3FC;\n",
              "    }\n",
              "\n",
              "    [theme=dark] .colab-df-convert:hover {\n",
              "      background-color: #434B5C;\n",
              "      box-shadow: 0px 1px 3px 1px rgba(0, 0, 0, 0.15);\n",
              "      filter: drop-shadow(0px 1px 2px rgba(0, 0, 0, 0.3));\n",
              "      fill: #FFFFFF;\n",
              "    }\n",
              "  </style>\n",
              "\n",
              "    <script>\n",
              "      const buttonEl =\n",
              "        document.querySelector('#df-28d00b5f-ac76-41b0-bcb2-89b68eb6eb55 button.colab-df-convert');\n",
              "      buttonEl.style.display =\n",
              "        google.colab.kernel.accessAllowed ? 'block' : 'none';\n",
              "\n",
              "      async function convertToInteractive(key) {\n",
              "        const element = document.querySelector('#df-28d00b5f-ac76-41b0-bcb2-89b68eb6eb55');\n",
              "        const dataTable =\n",
              "          await google.colab.kernel.invokeFunction('convertToInteractive',\n",
              "                                                    [key], {});\n",
              "        if (!dataTable) return;\n",
              "\n",
              "        const docLinkHtml = 'Like what you see? Visit the ' +\n",
              "          '<a target=\"_blank\" href=https://colab.research.google.com/notebooks/data_table.ipynb>data table notebook</a>'\n",
              "          + ' to learn more about interactive tables.';\n",
              "        element.innerHTML = '';\n",
              "        dataTable['output_type'] = 'display_data';\n",
              "        await google.colab.output.renderOutput(dataTable, element);\n",
              "        const docLink = document.createElement('div');\n",
              "        docLink.innerHTML = docLinkHtml;\n",
              "        element.appendChild(docLink);\n",
              "      }\n",
              "    </script>\n",
              "  </div>\n",
              "\n",
              "\n",
              "<div id=\"df-87c72797-95fc-4777-8681-09e9faa67948\">\n",
              "  <button class=\"colab-df-quickchart\" onclick=\"quickchart('df-87c72797-95fc-4777-8681-09e9faa67948')\"\n",
              "            title=\"Suggest charts.\"\n",
              "            style=\"display:none;\">\n",
              "\n",
              "<svg xmlns=\"http://www.w3.org/2000/svg\" height=\"24px\"viewBox=\"0 0 24 24\"\n",
              "     width=\"24px\">\n",
              "    <g>\n",
              "        <path d=\"M19 3H5c-1.1 0-2 .9-2 2v14c0 1.1.9 2 2 2h14c1.1 0 2-.9 2-2V5c0-1.1-.9-2-2-2zM9 17H7v-7h2v7zm4 0h-2V7h2v10zm4 0h-2v-4h2v4z\"/>\n",
              "    </g>\n",
              "</svg>\n",
              "  </button>\n",
              "\n",
              "<style>\n",
              "  .colab-df-quickchart {\n",
              "      --bg-color: #E8F0FE;\n",
              "      --fill-color: #1967D2;\n",
              "      --hover-bg-color: #E2EBFA;\n",
              "      --hover-fill-color: #174EA6;\n",
              "      --disabled-fill-color: #AAA;\n",
              "      --disabled-bg-color: #DDD;\n",
              "  }\n",
              "\n",
              "  [theme=dark] .colab-df-quickchart {\n",
              "      --bg-color: #3B4455;\n",
              "      --fill-color: #D2E3FC;\n",
              "      --hover-bg-color: #434B5C;\n",
              "      --hover-fill-color: #FFFFFF;\n",
              "      --disabled-bg-color: #3B4455;\n",
              "      --disabled-fill-color: #666;\n",
              "  }\n",
              "\n",
              "  .colab-df-quickchart {\n",
              "    background-color: var(--bg-color);\n",
              "    border: none;\n",
              "    border-radius: 50%;\n",
              "    cursor: pointer;\n",
              "    display: none;\n",
              "    fill: var(--fill-color);\n",
              "    height: 32px;\n",
              "    padding: 0;\n",
              "    width: 32px;\n",
              "  }\n",
              "\n",
              "  .colab-df-quickchart:hover {\n",
              "    background-color: var(--hover-bg-color);\n",
              "    box-shadow: 0 1px 2px rgba(60, 64, 67, 0.3), 0 1px 3px 1px rgba(60, 64, 67, 0.15);\n",
              "    fill: var(--button-hover-fill-color);\n",
              "  }\n",
              "\n",
              "  .colab-df-quickchart-complete:disabled,\n",
              "  .colab-df-quickchart-complete:disabled:hover {\n",
              "    background-color: var(--disabled-bg-color);\n",
              "    fill: var(--disabled-fill-color);\n",
              "    box-shadow: none;\n",
              "  }\n",
              "\n",
              "  .colab-df-spinner {\n",
              "    border: 2px solid var(--fill-color);\n",
              "    border-color: transparent;\n",
              "    border-bottom-color: var(--fill-color);\n",
              "    animation:\n",
              "      spin 1s steps(1) infinite;\n",
              "  }\n",
              "\n",
              "  @keyframes spin {\n",
              "    0% {\n",
              "      border-color: transparent;\n",
              "      border-bottom-color: var(--fill-color);\n",
              "      border-left-color: var(--fill-color);\n",
              "    }\n",
              "    20% {\n",
              "      border-color: transparent;\n",
              "      border-left-color: var(--fill-color);\n",
              "      border-top-color: var(--fill-color);\n",
              "    }\n",
              "    30% {\n",
              "      border-color: transparent;\n",
              "      border-left-color: var(--fill-color);\n",
              "      border-top-color: var(--fill-color);\n",
              "      border-right-color: var(--fill-color);\n",
              "    }\n",
              "    40% {\n",
              "      border-color: transparent;\n",
              "      border-right-color: var(--fill-color);\n",
              "      border-top-color: var(--fill-color);\n",
              "    }\n",
              "    60% {\n",
              "      border-color: transparent;\n",
              "      border-right-color: var(--fill-color);\n",
              "    }\n",
              "    80% {\n",
              "      border-color: transparent;\n",
              "      border-right-color: var(--fill-color);\n",
              "      border-bottom-color: var(--fill-color);\n",
              "    }\n",
              "    90% {\n",
              "      border-color: transparent;\n",
              "      border-bottom-color: var(--fill-color);\n",
              "    }\n",
              "  }\n",
              "</style>\n",
              "\n",
              "  <script>\n",
              "    async function quickchart(key) {\n",
              "      const quickchartButtonEl =\n",
              "        document.querySelector('#' + key + ' button');\n",
              "      quickchartButtonEl.disabled = true;  // To prevent multiple clicks.\n",
              "      quickchartButtonEl.classList.add('colab-df-spinner');\n",
              "      try {\n",
              "        const charts = await google.colab.kernel.invokeFunction(\n",
              "            'suggestCharts', [key], {});\n",
              "      } catch (error) {\n",
              "        console.error('Error during call to suggestCharts:', error);\n",
              "      }\n",
              "      quickchartButtonEl.classList.remove('colab-df-spinner');\n",
              "      quickchartButtonEl.classList.add('colab-df-quickchart-complete');\n",
              "    }\n",
              "    (() => {\n",
              "      let quickchartButtonEl =\n",
              "        document.querySelector('#df-87c72797-95fc-4777-8681-09e9faa67948 button');\n",
              "      quickchartButtonEl.style.display =\n",
              "        google.colab.kernel.accessAllowed ? 'block' : 'none';\n",
              "    })();\n",
              "  </script>\n",
              "</div>\n",
              "    </div>\n",
              "  </div>\n"
            ]
          },
          "metadata": {},
          "execution_count": 62
        }
      ],
      "source": [
        "# Let's compare our model's results using a pandas DataFrame\n",
        "import pandas as pd\n",
        "\n",
        "model_results = [   ['model_1', mae_1.numpy(), mse_1.numpy()],\n",
        "                    ['model_2', mae_2.numpy(), mse_2.numpy()],\n",
        "                    ['model_3', mae_3.numpy(), mse_3.numpy()]\n",
        "                ]\n",
        "# print(model_results)\n",
        "all_results = pd.DataFrame(model_results, columns=['model', 'mae', 'mse'])\n",
        "all_results"
      ]
    },
    {
      "cell_type": "markdown",
      "metadata": {
        "id": "_ZDhuKotRp1F"
      },
      "source": [
        "Looks like `model_2` performed the best..."
      ]
    },
    {
      "cell_type": "code",
      "execution_count": 63,
      "metadata": {
        "colab": {
          "base_uri": "https://localhost:8080/"
        },
        "id": "9Ebifc7uRp1F",
        "outputId": "23559751-4beb-4f25-a65c-2727ca040102"
      },
      "outputs": [
        {
          "output_type": "stream",
          "name": "stdout",
          "text": [
            "Model: \"sequential_5\"\n",
            "_________________________________________________________________\n",
            " Layer (type)                Output Shape              Param #   \n",
            "=================================================================\n",
            " dense_6 (Dense)             (None, 10)                20        \n",
            "                                                                 \n",
            " dense_7 (Dense)             (None, 1)                 11        \n",
            "                                                                 \n",
            "=================================================================\n",
            "Total params: 31 (124.00 Byte)\n",
            "Trainable params: 31 (124.00 Byte)\n",
            "Non-trainable params: 0 (0.00 Byte)\n",
            "_________________________________________________________________\n"
          ]
        }
      ],
      "source": [
        "model_2.summary()"
      ]
    },
    {
      "cell_type": "markdown",
      "metadata": {
        "id": "g1bQHalmRp1G"
      },
      "source": [
        "**Note:** One of your main goals should be to minimize the time between your experiments. The more experiments you do, the more things you'll figure out which don't work and in turn, get closer to figuring out what does work. Remember the machine learning practitioner's motto: \"experiment, experiment, experiment\"."
      ]
    },
    {
      "cell_type": "markdown",
      "metadata": {
        "id": "e8owohCJRp1G"
      },
      "source": [
        "### Tracking your experiments\n",
        "\n",
        "One really good habit in machine learning modelling is to track the results of your experimets.\n",
        "\n",
        "And when doing so, it can be tedious if you're running lots of experiments.\n",
        "\n",
        "Luckily, thre are tools to help us!\n",
        "\n",
        "**Resource:** As you build more models, you'll want to look into using:\n",
        "\n",
        "* TensorBoard - a component of the TensorFlow library to help track modeling experiments\n",
        "* Weight and Biases - a tool for tracking all of kinds of machine learning experiments (plugs straight into TensorBoard)."
      ]
    },
    {
      "cell_type": "markdown",
      "metadata": {
        "id": "dkj4ftKzRp1G"
      },
      "source": [
        "## Saving our models\n",
        "\n",
        "Saving our models allows us to use them outside of Google Colab (or wherever they were trained) such as in a web application or a mobile app.\n",
        "\n",
        "There are two main formats we can save our model's too:\n",
        "\n",
        "1. The SavedModel format\n",
        "2. The HDF format"
      ]
    },
    {
      "cell_type": "code",
      "execution_count": 64,
      "metadata": {
        "id": "xnD6jrtiRp1G"
      },
      "outputs": [],
      "source": [
        "# Save the model using the SavedModel format\n",
        "model_2.save('modelSaved_format')"
      ]
    },
    {
      "cell_type": "code",
      "execution_count": 66,
      "metadata": {
        "colab": {
          "base_uri": "https://localhost:8080/"
        },
        "id": "2kXkkGVsRp1G",
        "outputId": "489f5115-25ae-45b0-def5-f441e7496cee"
      },
      "outputs": [
        {
          "output_type": "stream",
          "name": "stderr",
          "text": [
            "/usr/local/lib/python3.10/dist-packages/keras/src/engine/training.py:3000: UserWarning: You are saving your model as an HDF5 file via `model.save()`. This file format is considered legacy. We recommend using instead the native Keras format, e.g. `model.save('my_model.keras')`.\n",
            "  saving_api.save_model(\n"
          ]
        }
      ],
      "source": [
        "# Save the model using the HDF5 format\n",
        "model_2.save('HDF5_format.h5')"
      ]
    },
    {
      "cell_type": "code",
      "execution_count": 68,
      "metadata": {
        "colab": {
          "base_uri": "https://localhost:8080/"
        },
        "id": "cINUfG77Rp1H",
        "outputId": "41ff31cc-5e56-4813-cdcf-f4da4ff50313"
      },
      "outputs": [
        {
          "output_type": "stream",
          "name": "stdout",
          "text": [
            "HDF5_format.h5\n"
          ]
        }
      ],
      "source": [
        "# Check it out\n",
        "!ls HDF5_format.h5"
      ]
    },
    {
      "cell_type": "markdown",
      "metadata": {
        "id": "okxlJ60ERp1H"
      },
      "source": [
        "## Loading in a saved model"
      ]
    },
    {
      "cell_type": "code",
      "execution_count": 69,
      "metadata": {
        "colab": {
          "base_uri": "https://localhost:8080/"
        },
        "id": "t5pM393lRp1H",
        "outputId": "f241fe5b-d3e4-4b23-978f-f249545c9e7c"
      },
      "outputs": [
        {
          "output_type": "stream",
          "name": "stdout",
          "text": [
            "Model: \"sequential_5\"\n",
            "_________________________________________________________________\n",
            " Layer (type)                Output Shape              Param #   \n",
            "=================================================================\n",
            " dense_6 (Dense)             (None, 10)                20        \n",
            "                                                                 \n",
            " dense_7 (Dense)             (None, 1)                 11        \n",
            "                                                                 \n",
            "=================================================================\n",
            "Total params: 31 (124.00 Byte)\n",
            "Trainable params: 31 (124.00 Byte)\n",
            "Non-trainable params: 0 (0.00 Byte)\n",
            "_________________________________________________________________\n"
          ]
        }
      ],
      "source": [
        "# Loading in the SavedModel format model\n",
        "loaded_SavedModel_format = tf.keras.models.load_model('modelSaved_format')\n",
        "loaded_SavedModel_format.summary()"
      ]
    },
    {
      "cell_type": "code",
      "execution_count": 70,
      "metadata": {
        "colab": {
          "base_uri": "https://localhost:8080/"
        },
        "id": "2Wnuo7dqRp1H",
        "outputId": "3e823ecf-3230-4359-fbd1-f110e1d4e4ae"
      },
      "outputs": [
        {
          "output_type": "stream",
          "name": "stdout",
          "text": [
            "Model: \"sequential_5\"\n",
            "_________________________________________________________________\n",
            " Layer (type)                Output Shape              Param #   \n",
            "=================================================================\n",
            " dense_6 (Dense)             (None, 10)                20        \n",
            "                                                                 \n",
            " dense_7 (Dense)             (None, 1)                 11        \n",
            "                                                                 \n",
            "=================================================================\n",
            "Total params: 31 (124.00 Byte)\n",
            "Trainable params: 31 (124.00 Byte)\n",
            "Non-trainable params: 0 (0.00 Byte)\n",
            "_________________________________________________________________\n"
          ]
        }
      ],
      "source": [
        "model_2.summary()"
      ]
    },
    {
      "cell_type": "code",
      "execution_count": 71,
      "metadata": {
        "colab": {
          "base_uri": "https://localhost:8080/"
        },
        "id": "D7chUTB4Rp1H",
        "outputId": "28e2ae66-c298-4ac0-8cea-30f3ed313a95"
      },
      "outputs": [
        {
          "output_type": "stream",
          "name": "stdout",
          "text": [
            "1/1 [==============================] - 0s 33ms/step\n",
            "1/1 [==============================] - 0s 50ms/step\n"
          ]
        },
        {
          "output_type": "execute_result",
          "data": {
            "text/plain": [
              "array([[ True],\n",
              "       [ True],\n",
              "       [ True],\n",
              "       [ True],\n",
              "       [ True],\n",
              "       [ True],\n",
              "       [ True],\n",
              "       [ True],\n",
              "       [ True],\n",
              "       [ True]])"
            ]
          },
          "metadata": {},
          "execution_count": 71
        }
      ],
      "source": [
        "# Compare model_2 predictions with SavedModel format model predictions\n",
        "model_2_preds = model_2.predict(X_test)\n",
        "loaded_SavedModel_format_preds = loaded_SavedModel_format.predict(X_test)\n",
        "\n",
        "model_2_preds == loaded_SavedModel_format_preds"
      ]
    },
    {
      "cell_type": "code",
      "execution_count": 72,
      "metadata": {
        "colab": {
          "base_uri": "https://localhost:8080/"
        },
        "id": "PfICIKVSRp1I",
        "outputId": "bac64fdd-20c8-4112-ba9a-44d20c0dae83"
      },
      "outputs": [
        {
          "output_type": "execute_result",
          "data": {
            "text/plain": [
              "<tf.Tensor: shape=(), dtype=bool, numpy=True>"
            ]
          },
          "metadata": {},
          "execution_count": 72
        }
      ],
      "source": [
        "# Compare the MAE of model_2_preds and loaded_SavedModel preds\n",
        "mae(y_true=y_test, y_pred=model_2_preds) == mae(y_true=y_test, y_pred=loaded_SavedModel_format_preds)"
      ]
    },
    {
      "cell_type": "code",
      "execution_count": 73,
      "metadata": {
        "colab": {
          "base_uri": "https://localhost:8080/"
        },
        "id": "1A0xmiYdRp1I",
        "outputId": "6d10067b-4377-44b7-9eef-c3433826e7fd"
      },
      "outputs": [
        {
          "output_type": "stream",
          "name": "stdout",
          "text": [
            "Model: \"sequential_5\"\n",
            "_________________________________________________________________\n",
            " Layer (type)                Output Shape              Param #   \n",
            "=================================================================\n",
            " dense_6 (Dense)             (None, 10)                20        \n",
            "                                                                 \n",
            " dense_7 (Dense)             (None, 1)                 11        \n",
            "                                                                 \n",
            "=================================================================\n",
            "Total params: 31 (124.00 Byte)\n",
            "Trainable params: 31 (124.00 Byte)\n",
            "Non-trainable params: 0 (0.00 Byte)\n",
            "_________________________________________________________________\n"
          ]
        }
      ],
      "source": [
        "# Load in a model using the .h5 format\n",
        "loaded_h5_model = tf.keras.models.load_model('HDF5_format')\n",
        "loaded_h5_model.summary()"
      ]
    },
    {
      "cell_type": "code",
      "execution_count": 74,
      "metadata": {
        "colab": {
          "base_uri": "https://localhost:8080/"
        },
        "id": "jsIOGv75Rp1I",
        "outputId": "c2fb8a1a-a2b3-4c2e-9645-e4a659e99616"
      },
      "outputs": [
        {
          "output_type": "stream",
          "name": "stdout",
          "text": [
            "Model: \"sequential_5\"\n",
            "_________________________________________________________________\n",
            " Layer (type)                Output Shape              Param #   \n",
            "=================================================================\n",
            " dense_6 (Dense)             (None, 10)                20        \n",
            "                                                                 \n",
            " dense_7 (Dense)             (None, 1)                 11        \n",
            "                                                                 \n",
            "=================================================================\n",
            "Total params: 31 (124.00 Byte)\n",
            "Trainable params: 31 (124.00 Byte)\n",
            "Non-trainable params: 0 (0.00 Byte)\n",
            "_________________________________________________________________\n"
          ]
        }
      ],
      "source": [
        "model_2.summary()"
      ]
    },
    {
      "cell_type": "code",
      "execution_count": 75,
      "metadata": {
        "colab": {
          "base_uri": "https://localhost:8080/"
        },
        "id": "kgY5PDTKRp1I",
        "outputId": "bd75d9f9-129c-4414-9585-bb849cf7ec2d"
      },
      "outputs": [
        {
          "output_type": "stream",
          "name": "stdout",
          "text": [
            "1/1 [==============================] - 0s 21ms/step\n",
            "1/1 [==============================] - 0s 51ms/step\n"
          ]
        },
        {
          "output_type": "execute_result",
          "data": {
            "text/plain": [
              "array([[ True],\n",
              "       [ True],\n",
              "       [ True],\n",
              "       [ True],\n",
              "       [ True],\n",
              "       [ True],\n",
              "       [ True],\n",
              "       [ True],\n",
              "       [ True],\n",
              "       [ True]])"
            ]
          },
          "metadata": {},
          "execution_count": 75
        }
      ],
      "source": [
        "# Check to see if loaded .h5 model predictions match model 2\n",
        "model_2_preds = model_2.predict(X_test)\n",
        "loaded_h5_model_preds = loaded_h5_model.predict(X_test)\n",
        "model_2_preds == loaded_h5_model_preds"
      ]
    },
    {
      "cell_type": "markdown",
      "metadata": {
        "id": "70dU4W7zRp1I"
      },
      "source": [
        "## Download a model (or any other file) from Google Colab\n",
        "\n",
        "If you want to download your files from Google Colab:\n",
        "\n",
        "1. You can go to the 'files' tab and right click on the file you're after and click 'download'\n",
        "2. Use code (see the cell below)\n",
        "3. Save it to Google Drive by connecting Google Drive and copying it there (see 2nd code cell below)."
      ]
    },
    {
      "cell_type": "code",
      "source": [
        "from google.colab import drive\n",
        "drive.mount('/content/drive')"
      ],
      "metadata": {
        "colab": {
          "base_uri": "https://localhost:8080/"
        },
        "id": "rOkqDPRJ_QET",
        "outputId": "609a6409-8c0c-4b9a-9b03-666c726ee3d5"
      },
      "execution_count": 86,
      "outputs": [
        {
          "output_type": "stream",
          "name": "stdout",
          "text": [
            "Mounted at /content/drive\n"
          ]
        }
      ]
    },
    {
      "cell_type": "code",
      "execution_count": 76,
      "metadata": {
        "colab": {
          "base_uri": "https://localhost:8080/",
          "height": 17
        },
        "id": "Y8GYX5JZRp1I",
        "outputId": "8f416813-5b17-4926-dc42-d90d87e23aa0"
      },
      "outputs": [
        {
          "output_type": "display_data",
          "data": {
            "text/plain": [
              "<IPython.core.display.Javascript object>"
            ],
            "application/javascript": [
              "\n",
              "    async function download(id, filename, size) {\n",
              "      if (!google.colab.kernel.accessAllowed) {\n",
              "        return;\n",
              "      }\n",
              "      const div = document.createElement('div');\n",
              "      const label = document.createElement('label');\n",
              "      label.textContent = `Downloading \"${filename}\": `;\n",
              "      div.appendChild(label);\n",
              "      const progress = document.createElement('progress');\n",
              "      progress.max = size;\n",
              "      div.appendChild(progress);\n",
              "      document.body.appendChild(div);\n",
              "\n",
              "      const buffers = [];\n",
              "      let downloaded = 0;\n",
              "\n",
              "      const channel = await google.colab.kernel.comms.open(id);\n",
              "      // Send a message to notify the kernel that we're ready.\n",
              "      channel.send({})\n",
              "\n",
              "      for await (const message of channel.messages) {\n",
              "        // Send a message to notify the kernel that we're ready.\n",
              "        channel.send({})\n",
              "        if (message.buffers) {\n",
              "          for (const buffer of message.buffers) {\n",
              "            buffers.push(buffer);\n",
              "            downloaded += buffer.byteLength;\n",
              "            progress.value = downloaded;\n",
              "          }\n",
              "        }\n",
              "      }\n",
              "      const blob = new Blob(buffers, {type: 'application/binary'});\n",
              "      const a = document.createElement('a');\n",
              "      a.href = window.URL.createObjectURL(blob);\n",
              "      a.download = filename;\n",
              "      div.appendChild(a);\n",
              "      a.click();\n",
              "      div.remove();\n",
              "    }\n",
              "  "
            ]
          },
          "metadata": {}
        },
        {
          "output_type": "display_data",
          "data": {
            "text/plain": [
              "<IPython.core.display.Javascript object>"
            ],
            "application/javascript": [
              "download(\"download_bff57d0f-3e9a-443d-a381-cff88681b1f7\", \"HDF5_format.h5\", 21952)"
            ]
          },
          "metadata": {}
        }
      ],
      "source": [
        "# Download a file from Google Colab\n",
        "from google.colab import files\n",
        "files.download('HDF5_format.h5')"
      ]
    },
    {
      "cell_type": "code",
      "execution_count": 94,
      "metadata": {
        "id": "QfjuARzYRp1J"
      },
      "outputs": [],
      "source": [
        "# Save a file from Google Colab to Google Drive (requires mounting Google Drive)\n",
        "!cp 'HDF5_format.h5' '/content/drive/MyDrive/Colab Notebooks/TensorFlow/models'"
      ]
    },
    {
      "cell_type": "code",
      "execution_count": 95,
      "metadata": {
        "colab": {
          "base_uri": "https://localhost:8080/"
        },
        "id": "wIgHHvBRRp1J",
        "outputId": "eec2ecdf-2fc7-4b3a-caa3-ac2cda838eb3"
      },
      "outputs": [
        {
          "output_type": "stream",
          "name": "stdout",
          "text": [
            "HDF5_format.h5\n"
          ]
        }
      ],
      "source": [
        "!ls '/content/drive/MyDrive/Colab Notebooks/TensorFlow/models'"
      ]
    },
    {
      "cell_type": "markdown",
      "metadata": {
        "id": "p-8sMfDWRp1J"
      },
      "source": [
        "## A larger example"
      ]
    },
    {
      "cell_type": "code",
      "execution_count": 131,
      "metadata": {
        "colab": {
          "base_uri": "https://localhost:8080/",
          "height": 424
        },
        "id": "9IloZsl_Rp1J",
        "outputId": "d016f5a7-2d15-4d25-d097-d26bc5d5f43e"
      },
      "outputs": [
        {
          "output_type": "execute_result",
          "data": {
            "text/plain": [
              "      age     sex     bmi  children smoker     region      charges\n",
              "0      19  female  27.900         0    yes  southwest  16884.92400\n",
              "1      18    male  33.770         1     no  southeast   1725.55230\n",
              "2      28    male  33.000         3     no  southeast   4449.46200\n",
              "3      33    male  22.705         0     no  northwest  21984.47061\n",
              "4      32    male  28.880         0     no  northwest   3866.85520\n",
              "...   ...     ...     ...       ...    ...        ...          ...\n",
              "1333   50    male  30.970         3     no  northwest  10600.54830\n",
              "1334   18  female  31.920         0     no  northeast   2205.98080\n",
              "1335   18  female  36.850         0     no  southeast   1629.83350\n",
              "1336   21  female  25.800         0     no  southwest   2007.94500\n",
              "1337   61  female  29.070         0    yes  northwest  29141.36030\n",
              "\n",
              "[1338 rows x 7 columns]"
            ],
            "text/html": [
              "\n",
              "  <div id=\"df-a037fde6-e493-4aaf-ada4-3897add3d865\" class=\"colab-df-container\">\n",
              "    <div>\n",
              "<style scoped>\n",
              "    .dataframe tbody tr th:only-of-type {\n",
              "        vertical-align: middle;\n",
              "    }\n",
              "\n",
              "    .dataframe tbody tr th {\n",
              "        vertical-align: top;\n",
              "    }\n",
              "\n",
              "    .dataframe thead th {\n",
              "        text-align: right;\n",
              "    }\n",
              "</style>\n",
              "<table border=\"1\" class=\"dataframe\">\n",
              "  <thead>\n",
              "    <tr style=\"text-align: right;\">\n",
              "      <th></th>\n",
              "      <th>age</th>\n",
              "      <th>sex</th>\n",
              "      <th>bmi</th>\n",
              "      <th>children</th>\n",
              "      <th>smoker</th>\n",
              "      <th>region</th>\n",
              "      <th>charges</th>\n",
              "    </tr>\n",
              "  </thead>\n",
              "  <tbody>\n",
              "    <tr>\n",
              "      <th>0</th>\n",
              "      <td>19</td>\n",
              "      <td>female</td>\n",
              "      <td>27.900</td>\n",
              "      <td>0</td>\n",
              "      <td>yes</td>\n",
              "      <td>southwest</td>\n",
              "      <td>16884.92400</td>\n",
              "    </tr>\n",
              "    <tr>\n",
              "      <th>1</th>\n",
              "      <td>18</td>\n",
              "      <td>male</td>\n",
              "      <td>33.770</td>\n",
              "      <td>1</td>\n",
              "      <td>no</td>\n",
              "      <td>southeast</td>\n",
              "      <td>1725.55230</td>\n",
              "    </tr>\n",
              "    <tr>\n",
              "      <th>2</th>\n",
              "      <td>28</td>\n",
              "      <td>male</td>\n",
              "      <td>33.000</td>\n",
              "      <td>3</td>\n",
              "      <td>no</td>\n",
              "      <td>southeast</td>\n",
              "      <td>4449.46200</td>\n",
              "    </tr>\n",
              "    <tr>\n",
              "      <th>3</th>\n",
              "      <td>33</td>\n",
              "      <td>male</td>\n",
              "      <td>22.705</td>\n",
              "      <td>0</td>\n",
              "      <td>no</td>\n",
              "      <td>northwest</td>\n",
              "      <td>21984.47061</td>\n",
              "    </tr>\n",
              "    <tr>\n",
              "      <th>4</th>\n",
              "      <td>32</td>\n",
              "      <td>male</td>\n",
              "      <td>28.880</td>\n",
              "      <td>0</td>\n",
              "      <td>no</td>\n",
              "      <td>northwest</td>\n",
              "      <td>3866.85520</td>\n",
              "    </tr>\n",
              "    <tr>\n",
              "      <th>...</th>\n",
              "      <td>...</td>\n",
              "      <td>...</td>\n",
              "      <td>...</td>\n",
              "      <td>...</td>\n",
              "      <td>...</td>\n",
              "      <td>...</td>\n",
              "      <td>...</td>\n",
              "    </tr>\n",
              "    <tr>\n",
              "      <th>1333</th>\n",
              "      <td>50</td>\n",
              "      <td>male</td>\n",
              "      <td>30.970</td>\n",
              "      <td>3</td>\n",
              "      <td>no</td>\n",
              "      <td>northwest</td>\n",
              "      <td>10600.54830</td>\n",
              "    </tr>\n",
              "    <tr>\n",
              "      <th>1334</th>\n",
              "      <td>18</td>\n",
              "      <td>female</td>\n",
              "      <td>31.920</td>\n",
              "      <td>0</td>\n",
              "      <td>no</td>\n",
              "      <td>northeast</td>\n",
              "      <td>2205.98080</td>\n",
              "    </tr>\n",
              "    <tr>\n",
              "      <th>1335</th>\n",
              "      <td>18</td>\n",
              "      <td>female</td>\n",
              "      <td>36.850</td>\n",
              "      <td>0</td>\n",
              "      <td>no</td>\n",
              "      <td>southeast</td>\n",
              "      <td>1629.83350</td>\n",
              "    </tr>\n",
              "    <tr>\n",
              "      <th>1336</th>\n",
              "      <td>21</td>\n",
              "      <td>female</td>\n",
              "      <td>25.800</td>\n",
              "      <td>0</td>\n",
              "      <td>no</td>\n",
              "      <td>southwest</td>\n",
              "      <td>2007.94500</td>\n",
              "    </tr>\n",
              "    <tr>\n",
              "      <th>1337</th>\n",
              "      <td>61</td>\n",
              "      <td>female</td>\n",
              "      <td>29.070</td>\n",
              "      <td>0</td>\n",
              "      <td>yes</td>\n",
              "      <td>northwest</td>\n",
              "      <td>29141.36030</td>\n",
              "    </tr>\n",
              "  </tbody>\n",
              "</table>\n",
              "<p>1338 rows × 7 columns</p>\n",
              "</div>\n",
              "    <div class=\"colab-df-buttons\">\n",
              "\n",
              "  <div class=\"colab-df-container\">\n",
              "    <button class=\"colab-df-convert\" onclick=\"convertToInteractive('df-a037fde6-e493-4aaf-ada4-3897add3d865')\"\n",
              "            title=\"Convert this dataframe to an interactive table.\"\n",
              "            style=\"display:none;\">\n",
              "\n",
              "  <svg xmlns=\"http://www.w3.org/2000/svg\" height=\"24px\" viewBox=\"0 -960 960 960\">\n",
              "    <path d=\"M120-120v-720h720v720H120Zm60-500h600v-160H180v160Zm220 220h160v-160H400v160Zm0 220h160v-160H400v160ZM180-400h160v-160H180v160Zm440 0h160v-160H620v160ZM180-180h160v-160H180v160Zm440 0h160v-160H620v160Z\"/>\n",
              "  </svg>\n",
              "    </button>\n",
              "\n",
              "  <style>\n",
              "    .colab-df-container {\n",
              "      display:flex;\n",
              "      gap: 12px;\n",
              "    }\n",
              "\n",
              "    .colab-df-convert {\n",
              "      background-color: #E8F0FE;\n",
              "      border: none;\n",
              "      border-radius: 50%;\n",
              "      cursor: pointer;\n",
              "      display: none;\n",
              "      fill: #1967D2;\n",
              "      height: 32px;\n",
              "      padding: 0 0 0 0;\n",
              "      width: 32px;\n",
              "    }\n",
              "\n",
              "    .colab-df-convert:hover {\n",
              "      background-color: #E2EBFA;\n",
              "      box-shadow: 0px 1px 2px rgba(60, 64, 67, 0.3), 0px 1px 3px 1px rgba(60, 64, 67, 0.15);\n",
              "      fill: #174EA6;\n",
              "    }\n",
              "\n",
              "    .colab-df-buttons div {\n",
              "      margin-bottom: 4px;\n",
              "    }\n",
              "\n",
              "    [theme=dark] .colab-df-convert {\n",
              "      background-color: #3B4455;\n",
              "      fill: #D2E3FC;\n",
              "    }\n",
              "\n",
              "    [theme=dark] .colab-df-convert:hover {\n",
              "      background-color: #434B5C;\n",
              "      box-shadow: 0px 1px 3px 1px rgba(0, 0, 0, 0.15);\n",
              "      filter: drop-shadow(0px 1px 2px rgba(0, 0, 0, 0.3));\n",
              "      fill: #FFFFFF;\n",
              "    }\n",
              "  </style>\n",
              "\n",
              "    <script>\n",
              "      const buttonEl =\n",
              "        document.querySelector('#df-a037fde6-e493-4aaf-ada4-3897add3d865 button.colab-df-convert');\n",
              "      buttonEl.style.display =\n",
              "        google.colab.kernel.accessAllowed ? 'block' : 'none';\n",
              "\n",
              "      async function convertToInteractive(key) {\n",
              "        const element = document.querySelector('#df-a037fde6-e493-4aaf-ada4-3897add3d865');\n",
              "        const dataTable =\n",
              "          await google.colab.kernel.invokeFunction('convertToInteractive',\n",
              "                                                    [key], {});\n",
              "        if (!dataTable) return;\n",
              "\n",
              "        const docLinkHtml = 'Like what you see? Visit the ' +\n",
              "          '<a target=\"_blank\" href=https://colab.research.google.com/notebooks/data_table.ipynb>data table notebook</a>'\n",
              "          + ' to learn more about interactive tables.';\n",
              "        element.innerHTML = '';\n",
              "        dataTable['output_type'] = 'display_data';\n",
              "        await google.colab.output.renderOutput(dataTable, element);\n",
              "        const docLink = document.createElement('div');\n",
              "        docLink.innerHTML = docLinkHtml;\n",
              "        element.appendChild(docLink);\n",
              "      }\n",
              "    </script>\n",
              "  </div>\n",
              "\n",
              "\n",
              "<div id=\"df-c3b781bf-3564-4335-8e88-02100449b7dc\">\n",
              "  <button class=\"colab-df-quickchart\" onclick=\"quickchart('df-c3b781bf-3564-4335-8e88-02100449b7dc')\"\n",
              "            title=\"Suggest charts.\"\n",
              "            style=\"display:none;\">\n",
              "\n",
              "<svg xmlns=\"http://www.w3.org/2000/svg\" height=\"24px\"viewBox=\"0 0 24 24\"\n",
              "     width=\"24px\">\n",
              "    <g>\n",
              "        <path d=\"M19 3H5c-1.1 0-2 .9-2 2v14c0 1.1.9 2 2 2h14c1.1 0 2-.9 2-2V5c0-1.1-.9-2-2-2zM9 17H7v-7h2v7zm4 0h-2V7h2v10zm4 0h-2v-4h2v4z\"/>\n",
              "    </g>\n",
              "</svg>\n",
              "  </button>\n",
              "\n",
              "<style>\n",
              "  .colab-df-quickchart {\n",
              "      --bg-color: #E8F0FE;\n",
              "      --fill-color: #1967D2;\n",
              "      --hover-bg-color: #E2EBFA;\n",
              "      --hover-fill-color: #174EA6;\n",
              "      --disabled-fill-color: #AAA;\n",
              "      --disabled-bg-color: #DDD;\n",
              "  }\n",
              "\n",
              "  [theme=dark] .colab-df-quickchart {\n",
              "      --bg-color: #3B4455;\n",
              "      --fill-color: #D2E3FC;\n",
              "      --hover-bg-color: #434B5C;\n",
              "      --hover-fill-color: #FFFFFF;\n",
              "      --disabled-bg-color: #3B4455;\n",
              "      --disabled-fill-color: #666;\n",
              "  }\n",
              "\n",
              "  .colab-df-quickchart {\n",
              "    background-color: var(--bg-color);\n",
              "    border: none;\n",
              "    border-radius: 50%;\n",
              "    cursor: pointer;\n",
              "    display: none;\n",
              "    fill: var(--fill-color);\n",
              "    height: 32px;\n",
              "    padding: 0;\n",
              "    width: 32px;\n",
              "  }\n",
              "\n",
              "  .colab-df-quickchart:hover {\n",
              "    background-color: var(--hover-bg-color);\n",
              "    box-shadow: 0 1px 2px rgba(60, 64, 67, 0.3), 0 1px 3px 1px rgba(60, 64, 67, 0.15);\n",
              "    fill: var(--button-hover-fill-color);\n",
              "  }\n",
              "\n",
              "  .colab-df-quickchart-complete:disabled,\n",
              "  .colab-df-quickchart-complete:disabled:hover {\n",
              "    background-color: var(--disabled-bg-color);\n",
              "    fill: var(--disabled-fill-color);\n",
              "    box-shadow: none;\n",
              "  }\n",
              "\n",
              "  .colab-df-spinner {\n",
              "    border: 2px solid var(--fill-color);\n",
              "    border-color: transparent;\n",
              "    border-bottom-color: var(--fill-color);\n",
              "    animation:\n",
              "      spin 1s steps(1) infinite;\n",
              "  }\n",
              "\n",
              "  @keyframes spin {\n",
              "    0% {\n",
              "      border-color: transparent;\n",
              "      border-bottom-color: var(--fill-color);\n",
              "      border-left-color: var(--fill-color);\n",
              "    }\n",
              "    20% {\n",
              "      border-color: transparent;\n",
              "      border-left-color: var(--fill-color);\n",
              "      border-top-color: var(--fill-color);\n",
              "    }\n",
              "    30% {\n",
              "      border-color: transparent;\n",
              "      border-left-color: var(--fill-color);\n",
              "      border-top-color: var(--fill-color);\n",
              "      border-right-color: var(--fill-color);\n",
              "    }\n",
              "    40% {\n",
              "      border-color: transparent;\n",
              "      border-right-color: var(--fill-color);\n",
              "      border-top-color: var(--fill-color);\n",
              "    }\n",
              "    60% {\n",
              "      border-color: transparent;\n",
              "      border-right-color: var(--fill-color);\n",
              "    }\n",
              "    80% {\n",
              "      border-color: transparent;\n",
              "      border-right-color: var(--fill-color);\n",
              "      border-bottom-color: var(--fill-color);\n",
              "    }\n",
              "    90% {\n",
              "      border-color: transparent;\n",
              "      border-bottom-color: var(--fill-color);\n",
              "    }\n",
              "  }\n",
              "</style>\n",
              "\n",
              "  <script>\n",
              "    async function quickchart(key) {\n",
              "      const quickchartButtonEl =\n",
              "        document.querySelector('#' + key + ' button');\n",
              "      quickchartButtonEl.disabled = true;  // To prevent multiple clicks.\n",
              "      quickchartButtonEl.classList.add('colab-df-spinner');\n",
              "      try {\n",
              "        const charts = await google.colab.kernel.invokeFunction(\n",
              "            'suggestCharts', [key], {});\n",
              "      } catch (error) {\n",
              "        console.error('Error during call to suggestCharts:', error);\n",
              "      }\n",
              "      quickchartButtonEl.classList.remove('colab-df-spinner');\n",
              "      quickchartButtonEl.classList.add('colab-df-quickchart-complete');\n",
              "    }\n",
              "    (() => {\n",
              "      let quickchartButtonEl =\n",
              "        document.querySelector('#df-c3b781bf-3564-4335-8e88-02100449b7dc button');\n",
              "      quickchartButtonEl.style.display =\n",
              "        google.colab.kernel.accessAllowed ? 'block' : 'none';\n",
              "    })();\n",
              "  </script>\n",
              "</div>\n",
              "    </div>\n",
              "  </div>\n"
            ]
          },
          "metadata": {},
          "execution_count": 131
        }
      ],
      "source": [
        "# Import required libraries\n",
        "import tensorflow as tf\n",
        "import pandas as pd\n",
        "import matplotlib.pyplot as plt\n",
        "\n",
        "# Read in the insurance dataset\n",
        "insurance = pd.read_csv('https://raw.githubusercontent.com/stedy/Machine-Learning-with-R-datasets/master/insurance.csv')\n",
        "insurance"
      ]
    },
    {
      "cell_type": "code",
      "execution_count": 132,
      "metadata": {
        "colab": {
          "base_uri": "https://localhost:8080/"
        },
        "id": "_sd4xXQJRp1J",
        "outputId": "43d0cc6a-8968-47ad-c340-2b1f04b8885d"
      },
      "outputs": [
        {
          "output_type": "execute_result",
          "data": {
            "text/plain": [
              "0       yes\n",
              "1        no\n",
              "2        no\n",
              "3        no\n",
              "4        no\n",
              "       ... \n",
              "1333     no\n",
              "1334     no\n",
              "1335     no\n",
              "1336     no\n",
              "1337    yes\n",
              "Name: smoker, Length: 1338, dtype: object"
            ]
          },
          "metadata": {},
          "execution_count": 132
        }
      ],
      "source": [
        "insurance['smoker']"
      ]
    },
    {
      "cell_type": "code",
      "execution_count": 133,
      "metadata": {
        "colab": {
          "base_uri": "https://localhost:8080/",
          "height": 444
        },
        "id": "QEc_YeXgRp1J",
        "outputId": "37002e7e-22eb-4712-c5f1-a38071b556f2"
      },
      "outputs": [
        {
          "output_type": "execute_result",
          "data": {
            "text/plain": [
              "      age     bmi  children      charges  sex_female  sex_male  smoker_no  \\\n",
              "0      19  27.900         0  16884.92400           1         0          0   \n",
              "1      18  33.770         1   1725.55230           0         1          1   \n",
              "2      28  33.000         3   4449.46200           0         1          1   \n",
              "3      33  22.705         0  21984.47061           0         1          1   \n",
              "4      32  28.880         0   3866.85520           0         1          1   \n",
              "...   ...     ...       ...          ...         ...       ...        ...   \n",
              "1333   50  30.970         3  10600.54830           0         1          1   \n",
              "1334   18  31.920         0   2205.98080           1         0          1   \n",
              "1335   18  36.850         0   1629.83350           1         0          1   \n",
              "1336   21  25.800         0   2007.94500           1         0          1   \n",
              "1337   61  29.070         0  29141.36030           1         0          0   \n",
              "\n",
              "      smoker_yes  region_northeast  region_northwest  region_southeast  \\\n",
              "0              1                 0                 0                 0   \n",
              "1              0                 0                 0                 1   \n",
              "2              0                 0                 0                 1   \n",
              "3              0                 0                 1                 0   \n",
              "4              0                 0                 1                 0   \n",
              "...          ...               ...               ...               ...   \n",
              "1333           0                 0                 1                 0   \n",
              "1334           0                 1                 0                 0   \n",
              "1335           0                 0                 0                 1   \n",
              "1336           0                 0                 0                 0   \n",
              "1337           1                 0                 1                 0   \n",
              "\n",
              "      region_southwest  \n",
              "0                    1  \n",
              "1                    0  \n",
              "2                    0  \n",
              "3                    0  \n",
              "4                    0  \n",
              "...                ...  \n",
              "1333                 0  \n",
              "1334                 0  \n",
              "1335                 0  \n",
              "1336                 1  \n",
              "1337                 0  \n",
              "\n",
              "[1338 rows x 12 columns]"
            ],
            "text/html": [
              "\n",
              "  <div id=\"df-96bab15f-ab48-41c1-8fc7-9b12ac2d5ef3\" class=\"colab-df-container\">\n",
              "    <div>\n",
              "<style scoped>\n",
              "    .dataframe tbody tr th:only-of-type {\n",
              "        vertical-align: middle;\n",
              "    }\n",
              "\n",
              "    .dataframe tbody tr th {\n",
              "        vertical-align: top;\n",
              "    }\n",
              "\n",
              "    .dataframe thead th {\n",
              "        text-align: right;\n",
              "    }\n",
              "</style>\n",
              "<table border=\"1\" class=\"dataframe\">\n",
              "  <thead>\n",
              "    <tr style=\"text-align: right;\">\n",
              "      <th></th>\n",
              "      <th>age</th>\n",
              "      <th>bmi</th>\n",
              "      <th>children</th>\n",
              "      <th>charges</th>\n",
              "      <th>sex_female</th>\n",
              "      <th>sex_male</th>\n",
              "      <th>smoker_no</th>\n",
              "      <th>smoker_yes</th>\n",
              "      <th>region_northeast</th>\n",
              "      <th>region_northwest</th>\n",
              "      <th>region_southeast</th>\n",
              "      <th>region_southwest</th>\n",
              "    </tr>\n",
              "  </thead>\n",
              "  <tbody>\n",
              "    <tr>\n",
              "      <th>0</th>\n",
              "      <td>19</td>\n",
              "      <td>27.900</td>\n",
              "      <td>0</td>\n",
              "      <td>16884.92400</td>\n",
              "      <td>1</td>\n",
              "      <td>0</td>\n",
              "      <td>0</td>\n",
              "      <td>1</td>\n",
              "      <td>0</td>\n",
              "      <td>0</td>\n",
              "      <td>0</td>\n",
              "      <td>1</td>\n",
              "    </tr>\n",
              "    <tr>\n",
              "      <th>1</th>\n",
              "      <td>18</td>\n",
              "      <td>33.770</td>\n",
              "      <td>1</td>\n",
              "      <td>1725.55230</td>\n",
              "      <td>0</td>\n",
              "      <td>1</td>\n",
              "      <td>1</td>\n",
              "      <td>0</td>\n",
              "      <td>0</td>\n",
              "      <td>0</td>\n",
              "      <td>1</td>\n",
              "      <td>0</td>\n",
              "    </tr>\n",
              "    <tr>\n",
              "      <th>2</th>\n",
              "      <td>28</td>\n",
              "      <td>33.000</td>\n",
              "      <td>3</td>\n",
              "      <td>4449.46200</td>\n",
              "      <td>0</td>\n",
              "      <td>1</td>\n",
              "      <td>1</td>\n",
              "      <td>0</td>\n",
              "      <td>0</td>\n",
              "      <td>0</td>\n",
              "      <td>1</td>\n",
              "      <td>0</td>\n",
              "    </tr>\n",
              "    <tr>\n",
              "      <th>3</th>\n",
              "      <td>33</td>\n",
              "      <td>22.705</td>\n",
              "      <td>0</td>\n",
              "      <td>21984.47061</td>\n",
              "      <td>0</td>\n",
              "      <td>1</td>\n",
              "      <td>1</td>\n",
              "      <td>0</td>\n",
              "      <td>0</td>\n",
              "      <td>1</td>\n",
              "      <td>0</td>\n",
              "      <td>0</td>\n",
              "    </tr>\n",
              "    <tr>\n",
              "      <th>4</th>\n",
              "      <td>32</td>\n",
              "      <td>28.880</td>\n",
              "      <td>0</td>\n",
              "      <td>3866.85520</td>\n",
              "      <td>0</td>\n",
              "      <td>1</td>\n",
              "      <td>1</td>\n",
              "      <td>0</td>\n",
              "      <td>0</td>\n",
              "      <td>1</td>\n",
              "      <td>0</td>\n",
              "      <td>0</td>\n",
              "    </tr>\n",
              "    <tr>\n",
              "      <th>...</th>\n",
              "      <td>...</td>\n",
              "      <td>...</td>\n",
              "      <td>...</td>\n",
              "      <td>...</td>\n",
              "      <td>...</td>\n",
              "      <td>...</td>\n",
              "      <td>...</td>\n",
              "      <td>...</td>\n",
              "      <td>...</td>\n",
              "      <td>...</td>\n",
              "      <td>...</td>\n",
              "      <td>...</td>\n",
              "    </tr>\n",
              "    <tr>\n",
              "      <th>1333</th>\n",
              "      <td>50</td>\n",
              "      <td>30.970</td>\n",
              "      <td>3</td>\n",
              "      <td>10600.54830</td>\n",
              "      <td>0</td>\n",
              "      <td>1</td>\n",
              "      <td>1</td>\n",
              "      <td>0</td>\n",
              "      <td>0</td>\n",
              "      <td>1</td>\n",
              "      <td>0</td>\n",
              "      <td>0</td>\n",
              "    </tr>\n",
              "    <tr>\n",
              "      <th>1334</th>\n",
              "      <td>18</td>\n",
              "      <td>31.920</td>\n",
              "      <td>0</td>\n",
              "      <td>2205.98080</td>\n",
              "      <td>1</td>\n",
              "      <td>0</td>\n",
              "      <td>1</td>\n",
              "      <td>0</td>\n",
              "      <td>1</td>\n",
              "      <td>0</td>\n",
              "      <td>0</td>\n",
              "      <td>0</td>\n",
              "    </tr>\n",
              "    <tr>\n",
              "      <th>1335</th>\n",
              "      <td>18</td>\n",
              "      <td>36.850</td>\n",
              "      <td>0</td>\n",
              "      <td>1629.83350</td>\n",
              "      <td>1</td>\n",
              "      <td>0</td>\n",
              "      <td>1</td>\n",
              "      <td>0</td>\n",
              "      <td>0</td>\n",
              "      <td>0</td>\n",
              "      <td>1</td>\n",
              "      <td>0</td>\n",
              "    </tr>\n",
              "    <tr>\n",
              "      <th>1336</th>\n",
              "      <td>21</td>\n",
              "      <td>25.800</td>\n",
              "      <td>0</td>\n",
              "      <td>2007.94500</td>\n",
              "      <td>1</td>\n",
              "      <td>0</td>\n",
              "      <td>1</td>\n",
              "      <td>0</td>\n",
              "      <td>0</td>\n",
              "      <td>0</td>\n",
              "      <td>0</td>\n",
              "      <td>1</td>\n",
              "    </tr>\n",
              "    <tr>\n",
              "      <th>1337</th>\n",
              "      <td>61</td>\n",
              "      <td>29.070</td>\n",
              "      <td>0</td>\n",
              "      <td>29141.36030</td>\n",
              "      <td>1</td>\n",
              "      <td>0</td>\n",
              "      <td>0</td>\n",
              "      <td>1</td>\n",
              "      <td>0</td>\n",
              "      <td>1</td>\n",
              "      <td>0</td>\n",
              "      <td>0</td>\n",
              "    </tr>\n",
              "  </tbody>\n",
              "</table>\n",
              "<p>1338 rows × 12 columns</p>\n",
              "</div>\n",
              "    <div class=\"colab-df-buttons\">\n",
              "\n",
              "  <div class=\"colab-df-container\">\n",
              "    <button class=\"colab-df-convert\" onclick=\"convertToInteractive('df-96bab15f-ab48-41c1-8fc7-9b12ac2d5ef3')\"\n",
              "            title=\"Convert this dataframe to an interactive table.\"\n",
              "            style=\"display:none;\">\n",
              "\n",
              "  <svg xmlns=\"http://www.w3.org/2000/svg\" height=\"24px\" viewBox=\"0 -960 960 960\">\n",
              "    <path d=\"M120-120v-720h720v720H120Zm60-500h600v-160H180v160Zm220 220h160v-160H400v160Zm0 220h160v-160H400v160ZM180-400h160v-160H180v160Zm440 0h160v-160H620v160ZM180-180h160v-160H180v160Zm440 0h160v-160H620v160Z\"/>\n",
              "  </svg>\n",
              "    </button>\n",
              "\n",
              "  <style>\n",
              "    .colab-df-container {\n",
              "      display:flex;\n",
              "      gap: 12px;\n",
              "    }\n",
              "\n",
              "    .colab-df-convert {\n",
              "      background-color: #E8F0FE;\n",
              "      border: none;\n",
              "      border-radius: 50%;\n",
              "      cursor: pointer;\n",
              "      display: none;\n",
              "      fill: #1967D2;\n",
              "      height: 32px;\n",
              "      padding: 0 0 0 0;\n",
              "      width: 32px;\n",
              "    }\n",
              "\n",
              "    .colab-df-convert:hover {\n",
              "      background-color: #E2EBFA;\n",
              "      box-shadow: 0px 1px 2px rgba(60, 64, 67, 0.3), 0px 1px 3px 1px rgba(60, 64, 67, 0.15);\n",
              "      fill: #174EA6;\n",
              "    }\n",
              "\n",
              "    .colab-df-buttons div {\n",
              "      margin-bottom: 4px;\n",
              "    }\n",
              "\n",
              "    [theme=dark] .colab-df-convert {\n",
              "      background-color: #3B4455;\n",
              "      fill: #D2E3FC;\n",
              "    }\n",
              "\n",
              "    [theme=dark] .colab-df-convert:hover {\n",
              "      background-color: #434B5C;\n",
              "      box-shadow: 0px 1px 3px 1px rgba(0, 0, 0, 0.15);\n",
              "      filter: drop-shadow(0px 1px 2px rgba(0, 0, 0, 0.3));\n",
              "      fill: #FFFFFF;\n",
              "    }\n",
              "  </style>\n",
              "\n",
              "    <script>\n",
              "      const buttonEl =\n",
              "        document.querySelector('#df-96bab15f-ab48-41c1-8fc7-9b12ac2d5ef3 button.colab-df-convert');\n",
              "      buttonEl.style.display =\n",
              "        google.colab.kernel.accessAllowed ? 'block' : 'none';\n",
              "\n",
              "      async function convertToInteractive(key) {\n",
              "        const element = document.querySelector('#df-96bab15f-ab48-41c1-8fc7-9b12ac2d5ef3');\n",
              "        const dataTable =\n",
              "          await google.colab.kernel.invokeFunction('convertToInteractive',\n",
              "                                                    [key], {});\n",
              "        if (!dataTable) return;\n",
              "\n",
              "        const docLinkHtml = 'Like what you see? Visit the ' +\n",
              "          '<a target=\"_blank\" href=https://colab.research.google.com/notebooks/data_table.ipynb>data table notebook</a>'\n",
              "          + ' to learn more about interactive tables.';\n",
              "        element.innerHTML = '';\n",
              "        dataTable['output_type'] = 'display_data';\n",
              "        await google.colab.output.renderOutput(dataTable, element);\n",
              "        const docLink = document.createElement('div');\n",
              "        docLink.innerHTML = docLinkHtml;\n",
              "        element.appendChild(docLink);\n",
              "      }\n",
              "    </script>\n",
              "  </div>\n",
              "\n",
              "\n",
              "<div id=\"df-841d0582-8316-4cda-bdec-52832c15d6b4\">\n",
              "  <button class=\"colab-df-quickchart\" onclick=\"quickchart('df-841d0582-8316-4cda-bdec-52832c15d6b4')\"\n",
              "            title=\"Suggest charts.\"\n",
              "            style=\"display:none;\">\n",
              "\n",
              "<svg xmlns=\"http://www.w3.org/2000/svg\" height=\"24px\"viewBox=\"0 0 24 24\"\n",
              "     width=\"24px\">\n",
              "    <g>\n",
              "        <path d=\"M19 3H5c-1.1 0-2 .9-2 2v14c0 1.1.9 2 2 2h14c1.1 0 2-.9 2-2V5c0-1.1-.9-2-2-2zM9 17H7v-7h2v7zm4 0h-2V7h2v10zm4 0h-2v-4h2v4z\"/>\n",
              "    </g>\n",
              "</svg>\n",
              "  </button>\n",
              "\n",
              "<style>\n",
              "  .colab-df-quickchart {\n",
              "      --bg-color: #E8F0FE;\n",
              "      --fill-color: #1967D2;\n",
              "      --hover-bg-color: #E2EBFA;\n",
              "      --hover-fill-color: #174EA6;\n",
              "      --disabled-fill-color: #AAA;\n",
              "      --disabled-bg-color: #DDD;\n",
              "  }\n",
              "\n",
              "  [theme=dark] .colab-df-quickchart {\n",
              "      --bg-color: #3B4455;\n",
              "      --fill-color: #D2E3FC;\n",
              "      --hover-bg-color: #434B5C;\n",
              "      --hover-fill-color: #FFFFFF;\n",
              "      --disabled-bg-color: #3B4455;\n",
              "      --disabled-fill-color: #666;\n",
              "  }\n",
              "\n",
              "  .colab-df-quickchart {\n",
              "    background-color: var(--bg-color);\n",
              "    border: none;\n",
              "    border-radius: 50%;\n",
              "    cursor: pointer;\n",
              "    display: none;\n",
              "    fill: var(--fill-color);\n",
              "    height: 32px;\n",
              "    padding: 0;\n",
              "    width: 32px;\n",
              "  }\n",
              "\n",
              "  .colab-df-quickchart:hover {\n",
              "    background-color: var(--hover-bg-color);\n",
              "    box-shadow: 0 1px 2px rgba(60, 64, 67, 0.3), 0 1px 3px 1px rgba(60, 64, 67, 0.15);\n",
              "    fill: var(--button-hover-fill-color);\n",
              "  }\n",
              "\n",
              "  .colab-df-quickchart-complete:disabled,\n",
              "  .colab-df-quickchart-complete:disabled:hover {\n",
              "    background-color: var(--disabled-bg-color);\n",
              "    fill: var(--disabled-fill-color);\n",
              "    box-shadow: none;\n",
              "  }\n",
              "\n",
              "  .colab-df-spinner {\n",
              "    border: 2px solid var(--fill-color);\n",
              "    border-color: transparent;\n",
              "    border-bottom-color: var(--fill-color);\n",
              "    animation:\n",
              "      spin 1s steps(1) infinite;\n",
              "  }\n",
              "\n",
              "  @keyframes spin {\n",
              "    0% {\n",
              "      border-color: transparent;\n",
              "      border-bottom-color: var(--fill-color);\n",
              "      border-left-color: var(--fill-color);\n",
              "    }\n",
              "    20% {\n",
              "      border-color: transparent;\n",
              "      border-left-color: var(--fill-color);\n",
              "      border-top-color: var(--fill-color);\n",
              "    }\n",
              "    30% {\n",
              "      border-color: transparent;\n",
              "      border-left-color: var(--fill-color);\n",
              "      border-top-color: var(--fill-color);\n",
              "      border-right-color: var(--fill-color);\n",
              "    }\n",
              "    40% {\n",
              "      border-color: transparent;\n",
              "      border-right-color: var(--fill-color);\n",
              "      border-top-color: var(--fill-color);\n",
              "    }\n",
              "    60% {\n",
              "      border-color: transparent;\n",
              "      border-right-color: var(--fill-color);\n",
              "    }\n",
              "    80% {\n",
              "      border-color: transparent;\n",
              "      border-right-color: var(--fill-color);\n",
              "      border-bottom-color: var(--fill-color);\n",
              "    }\n",
              "    90% {\n",
              "      border-color: transparent;\n",
              "      border-bottom-color: var(--fill-color);\n",
              "    }\n",
              "  }\n",
              "</style>\n",
              "\n",
              "  <script>\n",
              "    async function quickchart(key) {\n",
              "      const quickchartButtonEl =\n",
              "        document.querySelector('#' + key + ' button');\n",
              "      quickchartButtonEl.disabled = true;  // To prevent multiple clicks.\n",
              "      quickchartButtonEl.classList.add('colab-df-spinner');\n",
              "      try {\n",
              "        const charts = await google.colab.kernel.invokeFunction(\n",
              "            'suggestCharts', [key], {});\n",
              "      } catch (error) {\n",
              "        console.error('Error during call to suggestCharts:', error);\n",
              "      }\n",
              "      quickchartButtonEl.classList.remove('colab-df-spinner');\n",
              "      quickchartButtonEl.classList.add('colab-df-quickchart-complete');\n",
              "    }\n",
              "    (() => {\n",
              "      let quickchartButtonEl =\n",
              "        document.querySelector('#df-841d0582-8316-4cda-bdec-52832c15d6b4 button');\n",
              "      quickchartButtonEl.style.display =\n",
              "        google.colab.kernel.accessAllowed ? 'block' : 'none';\n",
              "    })();\n",
              "  </script>\n",
              "</div>\n",
              "    </div>\n",
              "  </div>\n"
            ]
          },
          "metadata": {},
          "execution_count": 133
        }
      ],
      "source": [
        "# Let's try one-hote encode our DataFrame so it's all numbers\n",
        "insurance_one_hot = pd.get_dummies(insurance, dtype=int)\n",
        "insurance_one_hot"
      ]
    },
    {
      "cell_type": "code",
      "execution_count": 134,
      "metadata": {
        "id": "Na4MyJISRp1K"
      },
      "outputs": [],
      "source": [
        "# Create X & y values (features and labels)\n",
        "X = insurance_one_hot.drop('charges', axis=1)\n",
        "y = insurance_one_hot['charges']\n"
      ]
    },
    {
      "cell_type": "code",
      "execution_count": 135,
      "metadata": {
        "colab": {
          "base_uri": "https://localhost:8080/",
          "height": 206
        },
        "id": "UNqs1K4URp1K",
        "outputId": "919de409-0a27-404d-d1b0-33566accced8"
      },
      "outputs": [
        {
          "output_type": "execute_result",
          "data": {
            "text/plain": [
              "   age     bmi  children  sex_female  sex_male  smoker_no  smoker_yes  \\\n",
              "0   19  27.900         0           1         0          0           1   \n",
              "1   18  33.770         1           0         1          1           0   \n",
              "2   28  33.000         3           0         1          1           0   \n",
              "3   33  22.705         0           0         1          1           0   \n",
              "4   32  28.880         0           0         1          1           0   \n",
              "\n",
              "   region_northeast  region_northwest  region_southeast  region_southwest  \n",
              "0                 0                 0                 0                 1  \n",
              "1                 0                 0                 1                 0  \n",
              "2                 0                 0                 1                 0  \n",
              "3                 0                 1                 0                 0  \n",
              "4                 0                 1                 0                 0  "
            ],
            "text/html": [
              "\n",
              "  <div id=\"df-4ac146aa-4878-407e-9a9a-04398ca69391\" class=\"colab-df-container\">\n",
              "    <div>\n",
              "<style scoped>\n",
              "    .dataframe tbody tr th:only-of-type {\n",
              "        vertical-align: middle;\n",
              "    }\n",
              "\n",
              "    .dataframe tbody tr th {\n",
              "        vertical-align: top;\n",
              "    }\n",
              "\n",
              "    .dataframe thead th {\n",
              "        text-align: right;\n",
              "    }\n",
              "</style>\n",
              "<table border=\"1\" class=\"dataframe\">\n",
              "  <thead>\n",
              "    <tr style=\"text-align: right;\">\n",
              "      <th></th>\n",
              "      <th>age</th>\n",
              "      <th>bmi</th>\n",
              "      <th>children</th>\n",
              "      <th>sex_female</th>\n",
              "      <th>sex_male</th>\n",
              "      <th>smoker_no</th>\n",
              "      <th>smoker_yes</th>\n",
              "      <th>region_northeast</th>\n",
              "      <th>region_northwest</th>\n",
              "      <th>region_southeast</th>\n",
              "      <th>region_southwest</th>\n",
              "    </tr>\n",
              "  </thead>\n",
              "  <tbody>\n",
              "    <tr>\n",
              "      <th>0</th>\n",
              "      <td>19</td>\n",
              "      <td>27.900</td>\n",
              "      <td>0</td>\n",
              "      <td>1</td>\n",
              "      <td>0</td>\n",
              "      <td>0</td>\n",
              "      <td>1</td>\n",
              "      <td>0</td>\n",
              "      <td>0</td>\n",
              "      <td>0</td>\n",
              "      <td>1</td>\n",
              "    </tr>\n",
              "    <tr>\n",
              "      <th>1</th>\n",
              "      <td>18</td>\n",
              "      <td>33.770</td>\n",
              "      <td>1</td>\n",
              "      <td>0</td>\n",
              "      <td>1</td>\n",
              "      <td>1</td>\n",
              "      <td>0</td>\n",
              "      <td>0</td>\n",
              "      <td>0</td>\n",
              "      <td>1</td>\n",
              "      <td>0</td>\n",
              "    </tr>\n",
              "    <tr>\n",
              "      <th>2</th>\n",
              "      <td>28</td>\n",
              "      <td>33.000</td>\n",
              "      <td>3</td>\n",
              "      <td>0</td>\n",
              "      <td>1</td>\n",
              "      <td>1</td>\n",
              "      <td>0</td>\n",
              "      <td>0</td>\n",
              "      <td>0</td>\n",
              "      <td>1</td>\n",
              "      <td>0</td>\n",
              "    </tr>\n",
              "    <tr>\n",
              "      <th>3</th>\n",
              "      <td>33</td>\n",
              "      <td>22.705</td>\n",
              "      <td>0</td>\n",
              "      <td>0</td>\n",
              "      <td>1</td>\n",
              "      <td>1</td>\n",
              "      <td>0</td>\n",
              "      <td>0</td>\n",
              "      <td>1</td>\n",
              "      <td>0</td>\n",
              "      <td>0</td>\n",
              "    </tr>\n",
              "    <tr>\n",
              "      <th>4</th>\n",
              "      <td>32</td>\n",
              "      <td>28.880</td>\n",
              "      <td>0</td>\n",
              "      <td>0</td>\n",
              "      <td>1</td>\n",
              "      <td>1</td>\n",
              "      <td>0</td>\n",
              "      <td>0</td>\n",
              "      <td>1</td>\n",
              "      <td>0</td>\n",
              "      <td>0</td>\n",
              "    </tr>\n",
              "  </tbody>\n",
              "</table>\n",
              "</div>\n",
              "    <div class=\"colab-df-buttons\">\n",
              "\n",
              "  <div class=\"colab-df-container\">\n",
              "    <button class=\"colab-df-convert\" onclick=\"convertToInteractive('df-4ac146aa-4878-407e-9a9a-04398ca69391')\"\n",
              "            title=\"Convert this dataframe to an interactive table.\"\n",
              "            style=\"display:none;\">\n",
              "\n",
              "  <svg xmlns=\"http://www.w3.org/2000/svg\" height=\"24px\" viewBox=\"0 -960 960 960\">\n",
              "    <path d=\"M120-120v-720h720v720H120Zm60-500h600v-160H180v160Zm220 220h160v-160H400v160Zm0 220h160v-160H400v160ZM180-400h160v-160H180v160Zm440 0h160v-160H620v160ZM180-180h160v-160H180v160Zm440 0h160v-160H620v160Z\"/>\n",
              "  </svg>\n",
              "    </button>\n",
              "\n",
              "  <style>\n",
              "    .colab-df-container {\n",
              "      display:flex;\n",
              "      gap: 12px;\n",
              "    }\n",
              "\n",
              "    .colab-df-convert {\n",
              "      background-color: #E8F0FE;\n",
              "      border: none;\n",
              "      border-radius: 50%;\n",
              "      cursor: pointer;\n",
              "      display: none;\n",
              "      fill: #1967D2;\n",
              "      height: 32px;\n",
              "      padding: 0 0 0 0;\n",
              "      width: 32px;\n",
              "    }\n",
              "\n",
              "    .colab-df-convert:hover {\n",
              "      background-color: #E2EBFA;\n",
              "      box-shadow: 0px 1px 2px rgba(60, 64, 67, 0.3), 0px 1px 3px 1px rgba(60, 64, 67, 0.15);\n",
              "      fill: #174EA6;\n",
              "    }\n",
              "\n",
              "    .colab-df-buttons div {\n",
              "      margin-bottom: 4px;\n",
              "    }\n",
              "\n",
              "    [theme=dark] .colab-df-convert {\n",
              "      background-color: #3B4455;\n",
              "      fill: #D2E3FC;\n",
              "    }\n",
              "\n",
              "    [theme=dark] .colab-df-convert:hover {\n",
              "      background-color: #434B5C;\n",
              "      box-shadow: 0px 1px 3px 1px rgba(0, 0, 0, 0.15);\n",
              "      filter: drop-shadow(0px 1px 2px rgba(0, 0, 0, 0.3));\n",
              "      fill: #FFFFFF;\n",
              "    }\n",
              "  </style>\n",
              "\n",
              "    <script>\n",
              "      const buttonEl =\n",
              "        document.querySelector('#df-4ac146aa-4878-407e-9a9a-04398ca69391 button.colab-df-convert');\n",
              "      buttonEl.style.display =\n",
              "        google.colab.kernel.accessAllowed ? 'block' : 'none';\n",
              "\n",
              "      async function convertToInteractive(key) {\n",
              "        const element = document.querySelector('#df-4ac146aa-4878-407e-9a9a-04398ca69391');\n",
              "        const dataTable =\n",
              "          await google.colab.kernel.invokeFunction('convertToInteractive',\n",
              "                                                    [key], {});\n",
              "        if (!dataTable) return;\n",
              "\n",
              "        const docLinkHtml = 'Like what you see? Visit the ' +\n",
              "          '<a target=\"_blank\" href=https://colab.research.google.com/notebooks/data_table.ipynb>data table notebook</a>'\n",
              "          + ' to learn more about interactive tables.';\n",
              "        element.innerHTML = '';\n",
              "        dataTable['output_type'] = 'display_data';\n",
              "        await google.colab.output.renderOutput(dataTable, element);\n",
              "        const docLink = document.createElement('div');\n",
              "        docLink.innerHTML = docLinkHtml;\n",
              "        element.appendChild(docLink);\n",
              "      }\n",
              "    </script>\n",
              "  </div>\n",
              "\n",
              "\n",
              "<div id=\"df-661f0f92-54bc-47f5-8660-29cf213e1b5d\">\n",
              "  <button class=\"colab-df-quickchart\" onclick=\"quickchart('df-661f0f92-54bc-47f5-8660-29cf213e1b5d')\"\n",
              "            title=\"Suggest charts.\"\n",
              "            style=\"display:none;\">\n",
              "\n",
              "<svg xmlns=\"http://www.w3.org/2000/svg\" height=\"24px\"viewBox=\"0 0 24 24\"\n",
              "     width=\"24px\">\n",
              "    <g>\n",
              "        <path d=\"M19 3H5c-1.1 0-2 .9-2 2v14c0 1.1.9 2 2 2h14c1.1 0 2-.9 2-2V5c0-1.1-.9-2-2-2zM9 17H7v-7h2v7zm4 0h-2V7h2v10zm4 0h-2v-4h2v4z\"/>\n",
              "    </g>\n",
              "</svg>\n",
              "  </button>\n",
              "\n",
              "<style>\n",
              "  .colab-df-quickchart {\n",
              "      --bg-color: #E8F0FE;\n",
              "      --fill-color: #1967D2;\n",
              "      --hover-bg-color: #E2EBFA;\n",
              "      --hover-fill-color: #174EA6;\n",
              "      --disabled-fill-color: #AAA;\n",
              "      --disabled-bg-color: #DDD;\n",
              "  }\n",
              "\n",
              "  [theme=dark] .colab-df-quickchart {\n",
              "      --bg-color: #3B4455;\n",
              "      --fill-color: #D2E3FC;\n",
              "      --hover-bg-color: #434B5C;\n",
              "      --hover-fill-color: #FFFFFF;\n",
              "      --disabled-bg-color: #3B4455;\n",
              "      --disabled-fill-color: #666;\n",
              "  }\n",
              "\n",
              "  .colab-df-quickchart {\n",
              "    background-color: var(--bg-color);\n",
              "    border: none;\n",
              "    border-radius: 50%;\n",
              "    cursor: pointer;\n",
              "    display: none;\n",
              "    fill: var(--fill-color);\n",
              "    height: 32px;\n",
              "    padding: 0;\n",
              "    width: 32px;\n",
              "  }\n",
              "\n",
              "  .colab-df-quickchart:hover {\n",
              "    background-color: var(--hover-bg-color);\n",
              "    box-shadow: 0 1px 2px rgba(60, 64, 67, 0.3), 0 1px 3px 1px rgba(60, 64, 67, 0.15);\n",
              "    fill: var(--button-hover-fill-color);\n",
              "  }\n",
              "\n",
              "  .colab-df-quickchart-complete:disabled,\n",
              "  .colab-df-quickchart-complete:disabled:hover {\n",
              "    background-color: var(--disabled-bg-color);\n",
              "    fill: var(--disabled-fill-color);\n",
              "    box-shadow: none;\n",
              "  }\n",
              "\n",
              "  .colab-df-spinner {\n",
              "    border: 2px solid var(--fill-color);\n",
              "    border-color: transparent;\n",
              "    border-bottom-color: var(--fill-color);\n",
              "    animation:\n",
              "      spin 1s steps(1) infinite;\n",
              "  }\n",
              "\n",
              "  @keyframes spin {\n",
              "    0% {\n",
              "      border-color: transparent;\n",
              "      border-bottom-color: var(--fill-color);\n",
              "      border-left-color: var(--fill-color);\n",
              "    }\n",
              "    20% {\n",
              "      border-color: transparent;\n",
              "      border-left-color: var(--fill-color);\n",
              "      border-top-color: var(--fill-color);\n",
              "    }\n",
              "    30% {\n",
              "      border-color: transparent;\n",
              "      border-left-color: var(--fill-color);\n",
              "      border-top-color: var(--fill-color);\n",
              "      border-right-color: var(--fill-color);\n",
              "    }\n",
              "    40% {\n",
              "      border-color: transparent;\n",
              "      border-right-color: var(--fill-color);\n",
              "      border-top-color: var(--fill-color);\n",
              "    }\n",
              "    60% {\n",
              "      border-color: transparent;\n",
              "      border-right-color: var(--fill-color);\n",
              "    }\n",
              "    80% {\n",
              "      border-color: transparent;\n",
              "      border-right-color: var(--fill-color);\n",
              "      border-bottom-color: var(--fill-color);\n",
              "    }\n",
              "    90% {\n",
              "      border-color: transparent;\n",
              "      border-bottom-color: var(--fill-color);\n",
              "    }\n",
              "  }\n",
              "</style>\n",
              "\n",
              "  <script>\n",
              "    async function quickchart(key) {\n",
              "      const quickchartButtonEl =\n",
              "        document.querySelector('#' + key + ' button');\n",
              "      quickchartButtonEl.disabled = true;  // To prevent multiple clicks.\n",
              "      quickchartButtonEl.classList.add('colab-df-spinner');\n",
              "      try {\n",
              "        const charts = await google.colab.kernel.invokeFunction(\n",
              "            'suggestCharts', [key], {});\n",
              "      } catch (error) {\n",
              "        console.error('Error during call to suggestCharts:', error);\n",
              "      }\n",
              "      quickchartButtonEl.classList.remove('colab-df-spinner');\n",
              "      quickchartButtonEl.classList.add('colab-df-quickchart-complete');\n",
              "    }\n",
              "    (() => {\n",
              "      let quickchartButtonEl =\n",
              "        document.querySelector('#df-661f0f92-54bc-47f5-8660-29cf213e1b5d button');\n",
              "      quickchartButtonEl.style.display =\n",
              "        google.colab.kernel.accessAllowed ? 'block' : 'none';\n",
              "    })();\n",
              "  </script>\n",
              "</div>\n",
              "    </div>\n",
              "  </div>\n"
            ]
          },
          "metadata": {},
          "execution_count": 135
        }
      ],
      "source": [
        "# View X\n",
        "X.head()"
      ]
    },
    {
      "cell_type": "code",
      "execution_count": 136,
      "metadata": {
        "colab": {
          "base_uri": "https://localhost:8080/"
        },
        "id": "B72EYhwbRp1K",
        "outputId": "644c1e9e-2c56-4675-9b9c-3393123ea506"
      },
      "outputs": [
        {
          "output_type": "execute_result",
          "data": {
            "text/plain": [
              "0    16884.92400\n",
              "1     1725.55230\n",
              "2     4449.46200\n",
              "3    21984.47061\n",
              "4     3866.85520\n",
              "Name: charges, dtype: float64"
            ]
          },
          "metadata": {},
          "execution_count": 136
        }
      ],
      "source": [
        "# View y\n",
        "y.head()"
      ]
    },
    {
      "cell_type": "code",
      "execution_count": 137,
      "metadata": {
        "colab": {
          "base_uri": "https://localhost:8080/"
        },
        "id": "HOGNPioJRp1K",
        "outputId": "c2372711-ec2c-48ea-9b9e-e944a3526feb"
      },
      "outputs": [
        {
          "output_type": "execute_result",
          "data": {
            "text/plain": [
              "(1338, 1070, 268)"
            ]
          },
          "metadata": {},
          "execution_count": 137
        }
      ],
      "source": [
        "# Create training and test sets\n",
        "from sklearn.model_selection import train_test_split\n",
        "X_train, X_test, y_train, y_test = train_test_split(X, y, test_size=0.2, random_state=42) # set random state for reproducible splits\n",
        "len(X), len(X_train), len(X_test)"
      ]
    },
    {
      "cell_type": "code",
      "execution_count": 138,
      "metadata": {
        "colab": {
          "base_uri": "https://localhost:8080/"
        },
        "id": "DGwULHLeRp1L",
        "outputId": "b4b3dfa6-d9ec-4d29-8704-e70e8eeb82fe"
      },
      "outputs": [
        {
          "output_type": "stream",
          "name": "stdout",
          "text": [
            "Epoch 1/100\n",
            "34/34 [==============================] - 0s 2ms/step - loss: 8585.2061 - mae: 8585.2061\n",
            "Epoch 2/100\n",
            "34/34 [==============================] - 0s 2ms/step - loss: 7885.9907 - mae: 7885.9907\n",
            "Epoch 3/100\n",
            "34/34 [==============================] - 0s 2ms/step - loss: 7613.0332 - mae: 7613.0332\n",
            "Epoch 4/100\n",
            "34/34 [==============================] - 0s 3ms/step - loss: 7801.4175 - mae: 7801.4175\n",
            "Epoch 5/100\n",
            "34/34 [==============================] - 0s 2ms/step - loss: 7673.3926 - mae: 7673.3926\n",
            "Epoch 6/100\n",
            "34/34 [==============================] - 0s 2ms/step - loss: 7638.8965 - mae: 7638.8965\n",
            "Epoch 7/100\n",
            "34/34 [==============================] - 0s 2ms/step - loss: 7513.6147 - mae: 7513.6147\n",
            "Epoch 8/100\n",
            "34/34 [==============================] - 0s 2ms/step - loss: 7807.7490 - mae: 7807.7490\n",
            "Epoch 9/100\n",
            "34/34 [==============================] - 0s 2ms/step - loss: 7621.4653 - mae: 7621.4653\n",
            "Epoch 10/100\n",
            "34/34 [==============================] - 0s 2ms/step - loss: 7767.3857 - mae: 7767.3857\n",
            "Epoch 11/100\n",
            "34/34 [==============================] - 0s 2ms/step - loss: 7578.5928 - mae: 7578.5928\n",
            "Epoch 12/100\n",
            "34/34 [==============================] - 0s 2ms/step - loss: 7697.3984 - mae: 7697.3984\n",
            "Epoch 13/100\n",
            "34/34 [==============================] - 0s 2ms/step - loss: 7644.3774 - mae: 7644.3774\n",
            "Epoch 14/100\n",
            "34/34 [==============================] - 0s 2ms/step - loss: 7637.9951 - mae: 7637.9951\n",
            "Epoch 15/100\n",
            "34/34 [==============================] - 0s 2ms/step - loss: 7589.8184 - mae: 7589.8184\n",
            "Epoch 16/100\n",
            "34/34 [==============================] - 0s 2ms/step - loss: 7691.3315 - mae: 7691.3315\n",
            "Epoch 17/100\n",
            "34/34 [==============================] - 0s 3ms/step - loss: 7566.8965 - mae: 7566.8965\n",
            "Epoch 18/100\n",
            "34/34 [==============================] - 0s 2ms/step - loss: 7809.4570 - mae: 7809.4570\n",
            "Epoch 19/100\n",
            "34/34 [==============================] - 0s 2ms/step - loss: 7636.6177 - mae: 7636.6177\n",
            "Epoch 20/100\n",
            "34/34 [==============================] - 0s 2ms/step - loss: 7916.5859 - mae: 7916.5859\n",
            "Epoch 21/100\n",
            "34/34 [==============================] - 0s 2ms/step - loss: 7593.9946 - mae: 7593.9946\n",
            "Epoch 22/100\n",
            "34/34 [==============================] - 0s 2ms/step - loss: 7779.1074 - mae: 7779.1074\n",
            "Epoch 23/100\n",
            "34/34 [==============================] - 0s 2ms/step - loss: 7728.5205 - mae: 7728.5205\n",
            "Epoch 24/100\n",
            "34/34 [==============================] - 0s 2ms/step - loss: 7511.1958 - mae: 7511.1958\n",
            "Epoch 25/100\n",
            "34/34 [==============================] - 0s 2ms/step - loss: 7688.2300 - mae: 7688.2300\n",
            "Epoch 26/100\n",
            "34/34 [==============================] - 0s 2ms/step - loss: 7612.3267 - mae: 7612.3267\n",
            "Epoch 27/100\n",
            "34/34 [==============================] - 0s 2ms/step - loss: 7522.4351 - mae: 7522.4351\n",
            "Epoch 28/100\n",
            "34/34 [==============================] - 0s 2ms/step - loss: 7490.6357 - mae: 7490.6357\n",
            "Epoch 29/100\n",
            "34/34 [==============================] - 0s 2ms/step - loss: 7532.3354 - mae: 7532.3354\n",
            "Epoch 30/100\n",
            "34/34 [==============================] - 0s 2ms/step - loss: 7627.1240 - mae: 7627.1240\n",
            "Epoch 31/100\n",
            "34/34 [==============================] - 0s 2ms/step - loss: 7688.7085 - mae: 7688.7085\n",
            "Epoch 32/100\n",
            "34/34 [==============================] - 0s 2ms/step - loss: 7599.8081 - mae: 7599.8081\n",
            "Epoch 33/100\n",
            "34/34 [==============================] - 0s 2ms/step - loss: 7460.7046 - mae: 7460.7046\n",
            "Epoch 34/100\n",
            "34/34 [==============================] - 0s 2ms/step - loss: 7446.1274 - mae: 7446.1274\n",
            "Epoch 35/100\n",
            "34/34 [==============================] - 0s 2ms/step - loss: 7602.3369 - mae: 7602.3369\n",
            "Epoch 36/100\n",
            "34/34 [==============================] - 0s 2ms/step - loss: 7578.9551 - mae: 7578.9551\n",
            "Epoch 37/100\n",
            "34/34 [==============================] - 0s 2ms/step - loss: 7657.1187 - mae: 7657.1187\n",
            "Epoch 38/100\n",
            "34/34 [==============================] - 0s 2ms/step - loss: 7540.6436 - mae: 7540.6436\n",
            "Epoch 39/100\n",
            "34/34 [==============================] - 0s 2ms/step - loss: 7493.5933 - mae: 7493.5933\n",
            "Epoch 40/100\n",
            "34/34 [==============================] - 0s 2ms/step - loss: 7278.3701 - mae: 7278.3701\n",
            "Epoch 41/100\n",
            "34/34 [==============================] - 0s 2ms/step - loss: 7606.6016 - mae: 7606.6016\n",
            "Epoch 42/100\n",
            "34/34 [==============================] - 0s 2ms/step - loss: 7373.4292 - mae: 7373.4292\n",
            "Epoch 43/100\n",
            "34/34 [==============================] - 0s 2ms/step - loss: 7702.0381 - mae: 7702.0381\n",
            "Epoch 44/100\n",
            "34/34 [==============================] - 0s 2ms/step - loss: 7333.6328 - mae: 7333.6328\n",
            "Epoch 45/100\n",
            "34/34 [==============================] - 0s 2ms/step - loss: 7533.6377 - mae: 7533.6377\n",
            "Epoch 46/100\n",
            "34/34 [==============================] - 0s 2ms/step - loss: 7443.2095 - mae: 7443.2095\n",
            "Epoch 47/100\n",
            "34/34 [==============================] - 0s 2ms/step - loss: 7467.7773 - mae: 7467.7773\n",
            "Epoch 48/100\n",
            "34/34 [==============================] - 0s 2ms/step - loss: 7411.5747 - mae: 7411.5747\n",
            "Epoch 49/100\n",
            "34/34 [==============================] - 0s 2ms/step - loss: 7565.0381 - mae: 7565.0381\n",
            "Epoch 50/100\n",
            "34/34 [==============================] - 0s 2ms/step - loss: 7478.1230 - mae: 7478.1230\n",
            "Epoch 51/100\n",
            "34/34 [==============================] - 0s 2ms/step - loss: 7406.6963 - mae: 7406.6963\n",
            "Epoch 52/100\n",
            "34/34 [==============================] - 0s 2ms/step - loss: 7575.3164 - mae: 7575.3164\n",
            "Epoch 53/100\n",
            "34/34 [==============================] - 0s 2ms/step - loss: 7570.2803 - mae: 7570.2803\n",
            "Epoch 54/100\n",
            "34/34 [==============================] - 0s 2ms/step - loss: 7348.9390 - mae: 7348.9390\n",
            "Epoch 55/100\n",
            "34/34 [==============================] - 0s 2ms/step - loss: 7127.7827 - mae: 7127.7827\n",
            "Epoch 56/100\n",
            "34/34 [==============================] - 0s 2ms/step - loss: 7263.7764 - mae: 7263.7764\n",
            "Epoch 57/100\n",
            "34/34 [==============================] - 0s 2ms/step - loss: 7418.3198 - mae: 7418.3198\n",
            "Epoch 58/100\n",
            "34/34 [==============================] - 0s 2ms/step - loss: 7359.2427 - mae: 7359.2427\n",
            "Epoch 59/100\n",
            "34/34 [==============================] - 0s 3ms/step - loss: 7583.0181 - mae: 7583.0181\n",
            "Epoch 60/100\n",
            "34/34 [==============================] - 0s 3ms/step - loss: 7475.1919 - mae: 7475.1919\n",
            "Epoch 61/100\n",
            "34/34 [==============================] - 0s 2ms/step - loss: 7426.2822 - mae: 7426.2822\n",
            "Epoch 62/100\n",
            "34/34 [==============================] - 0s 3ms/step - loss: 7234.0654 - mae: 7234.0654\n",
            "Epoch 63/100\n",
            "34/34 [==============================] - 0s 2ms/step - loss: 7383.8735 - mae: 7383.8735\n",
            "Epoch 64/100\n",
            "34/34 [==============================] - 0s 3ms/step - loss: 7315.4790 - mae: 7315.4790\n",
            "Epoch 65/100\n",
            "34/34 [==============================] - 0s 3ms/step - loss: 7286.3022 - mae: 7286.3022\n",
            "Epoch 66/100\n",
            "34/34 [==============================] - 0s 3ms/step - loss: 7317.6792 - mae: 7317.6792\n",
            "Epoch 67/100\n",
            "34/34 [==============================] - 0s 3ms/step - loss: 7431.3740 - mae: 7431.3740\n",
            "Epoch 68/100\n",
            "34/34 [==============================] - 0s 3ms/step - loss: 7413.9780 - mae: 7413.9780\n",
            "Epoch 69/100\n",
            "34/34 [==============================] - 0s 3ms/step - loss: 7586.6187 - mae: 7586.6187\n",
            "Epoch 70/100\n",
            "34/34 [==============================] - 0s 3ms/step - loss: 7438.6006 - mae: 7438.6006\n",
            "Epoch 71/100\n",
            "34/34 [==============================] - 0s 3ms/step - loss: 7232.5513 - mae: 7232.5513\n",
            "Epoch 72/100\n",
            "34/34 [==============================] - 0s 2ms/step - loss: 7380.7959 - mae: 7380.7959\n",
            "Epoch 73/100\n",
            "34/34 [==============================] - 0s 3ms/step - loss: 7392.1230 - mae: 7392.1230\n",
            "Epoch 74/100\n",
            "34/34 [==============================] - 0s 3ms/step - loss: 7441.4575 - mae: 7441.4575\n",
            "Epoch 75/100\n",
            "34/34 [==============================] - 0s 2ms/step - loss: 7155.9951 - mae: 7155.9951\n",
            "Epoch 76/100\n",
            "34/34 [==============================] - 0s 3ms/step - loss: 7135.3013 - mae: 7135.3013\n",
            "Epoch 77/100\n",
            "34/34 [==============================] - 0s 3ms/step - loss: 7221.8164 - mae: 7221.8164\n",
            "Epoch 78/100\n",
            "34/34 [==============================] - 0s 2ms/step - loss: 7207.9946 - mae: 7207.9946\n",
            "Epoch 79/100\n",
            "34/34 [==============================] - 0s 2ms/step - loss: 7450.1685 - mae: 7450.1685\n",
            "Epoch 80/100\n",
            "34/34 [==============================] - 0s 3ms/step - loss: 7058.6982 - mae: 7058.6982\n",
            "Epoch 81/100\n",
            "34/34 [==============================] - 0s 3ms/step - loss: 7241.0513 - mae: 7241.0513\n",
            "Epoch 82/100\n",
            "34/34 [==============================] - 0s 3ms/step - loss: 7201.8052 - mae: 7201.8052\n",
            "Epoch 83/100\n",
            "34/34 [==============================] - 0s 3ms/step - loss: 7095.8569 - mae: 7095.8569\n",
            "Epoch 84/100\n",
            "34/34 [==============================] - 0s 3ms/step - loss: 7421.4546 - mae: 7421.4546\n",
            "Epoch 85/100\n",
            "34/34 [==============================] - 0s 3ms/step - loss: 7392.3901 - mae: 7392.3901\n",
            "Epoch 86/100\n",
            "34/34 [==============================] - 0s 3ms/step - loss: 7429.5532 - mae: 7429.5532\n",
            "Epoch 87/100\n",
            "34/34 [==============================] - 0s 3ms/step - loss: 7260.0283 - mae: 7260.0283\n",
            "Epoch 88/100\n",
            "34/34 [==============================] - 0s 3ms/step - loss: 7219.6353 - mae: 7219.6353\n",
            "Epoch 89/100\n",
            "34/34 [==============================] - 0s 2ms/step - loss: 7049.4150 - mae: 7049.4150\n",
            "Epoch 90/100\n",
            "34/34 [==============================] - 0s 2ms/step - loss: 7212.2563 - mae: 7212.2563\n",
            "Epoch 91/100\n",
            "34/34 [==============================] - 0s 3ms/step - loss: 7215.8423 - mae: 7215.8423\n",
            "Epoch 92/100\n",
            "34/34 [==============================] - 0s 2ms/step - loss: 7252.8960 - mae: 7252.8960\n",
            "Epoch 93/100\n",
            "34/34 [==============================] - 0s 2ms/step - loss: 7536.4565 - mae: 7536.4565\n",
            "Epoch 94/100\n",
            "34/34 [==============================] - 0s 3ms/step - loss: 7179.3135 - mae: 7179.3135\n",
            "Epoch 95/100\n",
            "34/34 [==============================] - 0s 3ms/step - loss: 7473.0845 - mae: 7473.0845\n",
            "Epoch 96/100\n",
            "34/34 [==============================] - 0s 3ms/step - loss: 7185.9033 - mae: 7185.9033\n",
            "Epoch 97/100\n",
            "34/34 [==============================] - 0s 3ms/step - loss: 7230.9492 - mae: 7230.9492\n",
            "Epoch 98/100\n",
            "34/34 [==============================] - 0s 2ms/step - loss: 7077.3999 - mae: 7077.3999\n",
            "Epoch 99/100\n",
            "34/34 [==============================] - 0s 3ms/step - loss: 7391.0444 - mae: 7391.0444\n",
            "Epoch 100/100\n",
            "34/34 [==============================] - 0s 2ms/step - loss: 7172.5781 - mae: 7172.5781\n"
          ]
        },
        {
          "output_type": "execute_result",
          "data": {
            "text/plain": [
              "<keras.src.callbacks.History at 0x79fc07c1c5b0>"
            ]
          },
          "metadata": {},
          "execution_count": 138
        }
      ],
      "source": [
        "# Build a neural network (sort of like model_2 above)\n",
        "tf.random.set_seed(42)\n",
        "\n",
        "# 1. Create a model\n",
        "insurance_model = tf.keras.Sequential([\n",
        "    tf.keras.layers.Dense(10),\n",
        "    tf.keras.layers.Dense(1)\n",
        "])\n",
        "\n",
        "# 2. Compile the model\n",
        "insurance_model.compile(loss=tf.keras.losses.mae,\n",
        "                        optimizer=tf.keras.optimizers.SGD(),\n",
        "                        metrics=['mae'])\n",
        "\n",
        "# 3. Fit the model\n",
        "insurance_model.fit(X_train, y_train, epochs=100)"
      ]
    },
    {
      "cell_type": "code",
      "execution_count": 139,
      "metadata": {
        "colab": {
          "base_uri": "https://localhost:8080/"
        },
        "id": "-D4au8l5Rp1L",
        "outputId": "bef0f2d6-05fc-4a82-e54c-b775d0d3a86c"
      },
      "outputs": [
        {
          "output_type": "stream",
          "name": "stdout",
          "text": [
            "9/9 [==============================] - 0s 3ms/step - loss: 8739.4785 - mae: 8739.4785\n"
          ]
        },
        {
          "output_type": "execute_result",
          "data": {
            "text/plain": [
              "[8739.478515625, 8739.478515625]"
            ]
          },
          "metadata": {},
          "execution_count": 139
        }
      ],
      "source": [
        "# Check the results of the insurance model on the test data\n",
        "insurance_model.evaluate(X_test, y_test)"
      ]
    },
    {
      "cell_type": "code",
      "execution_count": 140,
      "metadata": {
        "colab": {
          "base_uri": "https://localhost:8080/"
        },
        "id": "Tc5l0KetRp1L",
        "outputId": "e4bed1b6-2339-4987-8138-670ca3973b60"
      },
      "outputs": [
        {
          "output_type": "execute_result",
          "data": {
            "text/plain": [
              "(9575.4421, 13346.089736364485)"
            ]
          },
          "metadata": {},
          "execution_count": 140
        }
      ],
      "source": [
        "y_train.median(), y_train.mean()"
      ]
    },
    {
      "cell_type": "markdown",
      "metadata": {
        "id": "l36SgnEfRp1L"
      },
      "source": [
        "Right now it looks like our model isn't performing too well... let's try and imporve it!\n",
        "\n",
        "To (try) improve our model, we'll run 2 experiments:\n",
        "1. Add an extra layer with more hidden units and use the Adam optimizer\n",
        "2. Same as above but train for longer (200 epochs)\n",
        "3. (insert your own experiment here)"
      ]
    },
    {
      "cell_type": "code",
      "execution_count": 141,
      "metadata": {
        "colab": {
          "base_uri": "https://localhost:8080/"
        },
        "id": "NhQiv3fyRp1M",
        "outputId": "4096fc20-81a7-4347-facc-90177c2812be"
      },
      "outputs": [
        {
          "output_type": "stream",
          "name": "stdout",
          "text": [
            "Epoch 1/100\n",
            "34/34 [==============================] - 1s 2ms/step - loss: 13270.9766 - mae: 13270.9766\n",
            "Epoch 2/100\n",
            "34/34 [==============================] - 0s 2ms/step - loss: 13065.9492 - mae: 13065.9492\n",
            "Epoch 3/100\n",
            "34/34 [==============================] - 0s 2ms/step - loss: 12652.9463 - mae: 12652.9463\n",
            "Epoch 4/100\n",
            "34/34 [==============================] - 0s 2ms/step - loss: 11874.5928 - mae: 11874.5928\n",
            "Epoch 5/100\n",
            "34/34 [==============================] - 0s 2ms/step - loss: 10630.2061 - mae: 10630.2061\n",
            "Epoch 6/100\n",
            "34/34 [==============================] - 0s 2ms/step - loss: 9143.5449 - mae: 9143.5449\n",
            "Epoch 7/100\n",
            "34/34 [==============================] - 0s 2ms/step - loss: 7911.5298 - mae: 7911.5298\n",
            "Epoch 8/100\n",
            "34/34 [==============================] - 0s 2ms/step - loss: 7452.4102 - mae: 7452.4102\n",
            "Epoch 9/100\n",
            "34/34 [==============================] - 0s 2ms/step - loss: 7393.4692 - mae: 7393.4692\n",
            "Epoch 10/100\n",
            "34/34 [==============================] - 0s 2ms/step - loss: 7374.0713 - mae: 7374.0713\n",
            "Epoch 11/100\n",
            "34/34 [==============================] - 0s 2ms/step - loss: 7355.0366 - mae: 7355.0366\n",
            "Epoch 12/100\n",
            "34/34 [==============================] - 0s 2ms/step - loss: 7332.5220 - mae: 7332.5220\n",
            "Epoch 13/100\n",
            "34/34 [==============================] - 0s 2ms/step - loss: 7311.7217 - mae: 7311.7217\n",
            "Epoch 14/100\n",
            "34/34 [==============================] - 0s 2ms/step - loss: 7288.6533 - mae: 7288.6533\n",
            "Epoch 15/100\n",
            "34/34 [==============================] - 0s 2ms/step - loss: 7269.1841 - mae: 7269.1841\n",
            "Epoch 16/100\n",
            "34/34 [==============================] - 0s 2ms/step - loss: 7246.3813 - mae: 7246.3813\n",
            "Epoch 17/100\n",
            "34/34 [==============================] - 0s 2ms/step - loss: 7223.3354 - mae: 7223.3354\n",
            "Epoch 18/100\n",
            "34/34 [==============================] - 0s 2ms/step - loss: 7199.2603 - mae: 7199.2603\n",
            "Epoch 19/100\n",
            "34/34 [==============================] - 0s 2ms/step - loss: 7174.8999 - mae: 7174.8999\n",
            "Epoch 20/100\n",
            "34/34 [==============================] - 0s 2ms/step - loss: 7149.1963 - mae: 7149.1963\n",
            "Epoch 21/100\n",
            "34/34 [==============================] - 0s 2ms/step - loss: 7127.3862 - mae: 7127.3862\n",
            "Epoch 22/100\n",
            "34/34 [==============================] - 0s 2ms/step - loss: 7098.8315 - mae: 7098.8315\n",
            "Epoch 23/100\n",
            "34/34 [==============================] - 0s 2ms/step - loss: 7071.1523 - mae: 7071.1523\n",
            "Epoch 24/100\n",
            "34/34 [==============================] - 0s 2ms/step - loss: 7043.5649 - mae: 7043.5649\n",
            "Epoch 25/100\n",
            "34/34 [==============================] - 0s 2ms/step - loss: 7021.3237 - mae: 7021.3237\n",
            "Epoch 26/100\n",
            "34/34 [==============================] - 0s 3ms/step - loss: 6987.5801 - mae: 6987.5801\n",
            "Epoch 27/100\n",
            "34/34 [==============================] - 0s 2ms/step - loss: 6955.9121 - mae: 6955.9121\n",
            "Epoch 28/100\n",
            "34/34 [==============================] - 0s 2ms/step - loss: 6923.7007 - mae: 6923.7007\n",
            "Epoch 29/100\n",
            "34/34 [==============================] - 0s 2ms/step - loss: 6892.1826 - mae: 6892.1826\n",
            "Epoch 30/100\n",
            "34/34 [==============================] - 0s 2ms/step - loss: 6863.6826 - mae: 6863.6826\n",
            "Epoch 31/100\n",
            "34/34 [==============================] - 0s 2ms/step - loss: 6827.5952 - mae: 6827.5952\n",
            "Epoch 32/100\n",
            "34/34 [==============================] - 0s 3ms/step - loss: 6794.3442 - mae: 6794.3442\n",
            "Epoch 33/100\n",
            "34/34 [==============================] - 0s 2ms/step - loss: 6758.0708 - mae: 6758.0708\n",
            "Epoch 34/100\n",
            "34/34 [==============================] - 0s 2ms/step - loss: 6722.2661 - mae: 6722.2661\n",
            "Epoch 35/100\n",
            "34/34 [==============================] - 0s 2ms/step - loss: 6686.4619 - mae: 6686.4619\n",
            "Epoch 36/100\n",
            "34/34 [==============================] - 0s 2ms/step - loss: 6650.2046 - mae: 6650.2046\n",
            "Epoch 37/100\n",
            "34/34 [==============================] - 0s 3ms/step - loss: 6614.5566 - mae: 6614.5566\n",
            "Epoch 38/100\n",
            "34/34 [==============================] - 0s 3ms/step - loss: 6585.9458 - mae: 6585.9458\n",
            "Epoch 39/100\n",
            "34/34 [==============================] - 0s 2ms/step - loss: 6553.1777 - mae: 6553.1777\n",
            "Epoch 40/100\n",
            "34/34 [==============================] - 0s 2ms/step - loss: 6529.5493 - mae: 6529.5493\n",
            "Epoch 41/100\n",
            "34/34 [==============================] - 0s 2ms/step - loss: 6510.7632 - mae: 6510.7632\n",
            "Epoch 42/100\n",
            "34/34 [==============================] - 0s 2ms/step - loss: 6494.0854 - mae: 6494.0854\n",
            "Epoch 43/100\n",
            "34/34 [==============================] - 0s 2ms/step - loss: 6478.8223 - mae: 6478.8223\n",
            "Epoch 44/100\n",
            "34/34 [==============================] - 0s 2ms/step - loss: 6461.9385 - mae: 6461.9385\n",
            "Epoch 45/100\n",
            "34/34 [==============================] - 0s 2ms/step - loss: 6455.8120 - mae: 6455.8120\n",
            "Epoch 46/100\n",
            "34/34 [==============================] - 0s 2ms/step - loss: 6436.8120 - mae: 6436.8120\n",
            "Epoch 47/100\n",
            "34/34 [==============================] - 0s 2ms/step - loss: 6422.4429 - mae: 6422.4429\n",
            "Epoch 48/100\n",
            "34/34 [==============================] - 0s 3ms/step - loss: 6408.8403 - mae: 6408.8403\n",
            "Epoch 49/100\n",
            "34/34 [==============================] - 0s 2ms/step - loss: 6398.5156 - mae: 6398.5156\n",
            "Epoch 50/100\n",
            "34/34 [==============================] - 0s 2ms/step - loss: 6383.7197 - mae: 6383.7197\n",
            "Epoch 51/100\n",
            "34/34 [==============================] - 0s 2ms/step - loss: 6370.2427 - mae: 6370.2427\n",
            "Epoch 52/100\n",
            "34/34 [==============================] - 0s 2ms/step - loss: 6357.5630 - mae: 6357.5630\n",
            "Epoch 53/100\n",
            "34/34 [==============================] - 0s 2ms/step - loss: 6342.3730 - mae: 6342.3730\n",
            "Epoch 54/100\n",
            "34/34 [==============================] - 0s 2ms/step - loss: 6328.3975 - mae: 6328.3975\n",
            "Epoch 55/100\n",
            "34/34 [==============================] - 0s 2ms/step - loss: 6313.7773 - mae: 6313.7773\n",
            "Epoch 56/100\n",
            "34/34 [==============================] - 0s 2ms/step - loss: 6299.4121 - mae: 6299.4121\n",
            "Epoch 57/100\n",
            "34/34 [==============================] - 0s 2ms/step - loss: 6284.7329 - mae: 6284.7329\n",
            "Epoch 58/100\n",
            "34/34 [==============================] - 0s 2ms/step - loss: 6271.0913 - mae: 6271.0913\n",
            "Epoch 59/100\n",
            "34/34 [==============================] - 0s 2ms/step - loss: 6254.1138 - mae: 6254.1138\n",
            "Epoch 60/100\n",
            "34/34 [==============================] - 0s 2ms/step - loss: 6242.9907 - mae: 6242.9907\n",
            "Epoch 61/100\n",
            "34/34 [==============================] - 0s 2ms/step - loss: 6222.0669 - mae: 6222.0669\n",
            "Epoch 62/100\n",
            "34/34 [==============================] - 0s 2ms/step - loss: 6209.3657 - mae: 6209.3657\n",
            "Epoch 63/100\n",
            "34/34 [==============================] - 0s 2ms/step - loss: 6189.4434 - mae: 6189.4434\n",
            "Epoch 64/100\n",
            "34/34 [==============================] - 0s 3ms/step - loss: 6170.7832 - mae: 6170.7832\n",
            "Epoch 65/100\n",
            "34/34 [==============================] - 0s 2ms/step - loss: 6153.4326 - mae: 6153.4326\n",
            "Epoch 66/100\n",
            "34/34 [==============================] - 0s 2ms/step - loss: 6133.7031 - mae: 6133.7031\n",
            "Epoch 67/100\n",
            "34/34 [==============================] - 0s 3ms/step - loss: 6121.0171 - mae: 6121.0171\n",
            "Epoch 68/100\n",
            "34/34 [==============================] - 0s 2ms/step - loss: 6096.0552 - mae: 6096.0552\n",
            "Epoch 69/100\n",
            "34/34 [==============================] - 0s 2ms/step - loss: 6079.3037 - mae: 6079.3037\n",
            "Epoch 70/100\n",
            "34/34 [==============================] - 0s 2ms/step - loss: 6057.0723 - mae: 6057.0723\n",
            "Epoch 71/100\n",
            "34/34 [==============================] - 0s 2ms/step - loss: 6035.9087 - mae: 6035.9087\n",
            "Epoch 72/100\n",
            "34/34 [==============================] - 0s 2ms/step - loss: 6014.3511 - mae: 6014.3511\n",
            "Epoch 73/100\n",
            "34/34 [==============================] - 0s 2ms/step - loss: 5998.7554 - mae: 5998.7554\n",
            "Epoch 74/100\n",
            "34/34 [==============================] - 0s 2ms/step - loss: 5967.3569 - mae: 5967.3569\n",
            "Epoch 75/100\n",
            "34/34 [==============================] - 0s 2ms/step - loss: 5945.2061 - mae: 5945.2061\n",
            "Epoch 76/100\n",
            "34/34 [==============================] - 0s 2ms/step - loss: 5926.6084 - mae: 5926.6084\n",
            "Epoch 77/100\n",
            "34/34 [==============================] - 0s 2ms/step - loss: 5893.4233 - mae: 5893.4233\n",
            "Epoch 78/100\n",
            "34/34 [==============================] - 0s 2ms/step - loss: 5867.3154 - mae: 5867.3154\n",
            "Epoch 79/100\n",
            "34/34 [==============================] - 0s 2ms/step - loss: 5839.7427 - mae: 5839.7427\n",
            "Epoch 80/100\n",
            "34/34 [==============================] - 0s 2ms/step - loss: 5808.8345 - mae: 5808.8345\n",
            "Epoch 81/100\n",
            "34/34 [==============================] - 0s 2ms/step - loss: 5781.2915 - mae: 5781.2915\n",
            "Epoch 82/100\n",
            "34/34 [==============================] - 0s 2ms/step - loss: 5748.3096 - mae: 5748.3096\n",
            "Epoch 83/100\n",
            "34/34 [==============================] - 0s 2ms/step - loss: 5717.9229 - mae: 5717.9229\n",
            "Epoch 84/100\n",
            "34/34 [==============================] - 0s 2ms/step - loss: 5682.1230 - mae: 5682.1230\n",
            "Epoch 85/100\n",
            "34/34 [==============================] - 0s 2ms/step - loss: 5651.7178 - mae: 5651.7178\n",
            "Epoch 86/100\n",
            "34/34 [==============================] - 0s 2ms/step - loss: 5614.1909 - mae: 5614.1909\n",
            "Epoch 87/100\n",
            "34/34 [==============================] - 0s 2ms/step - loss: 5573.3164 - mae: 5573.3164\n",
            "Epoch 88/100\n",
            "34/34 [==============================] - 0s 3ms/step - loss: 5534.7554 - mae: 5534.7554\n",
            "Epoch 89/100\n",
            "34/34 [==============================] - 0s 2ms/step - loss: 5490.4604 - mae: 5490.4604\n",
            "Epoch 90/100\n",
            "34/34 [==============================] - 0s 2ms/step - loss: 5444.2241 - mae: 5444.2241\n",
            "Epoch 91/100\n",
            "34/34 [==============================] - 0s 2ms/step - loss: 5402.3804 - mae: 5402.3804\n",
            "Epoch 92/100\n",
            "34/34 [==============================] - 0s 2ms/step - loss: 5351.5903 - mae: 5351.5903\n",
            "Epoch 93/100\n",
            "34/34 [==============================] - 0s 2ms/step - loss: 5303.3057 - mae: 5303.3057\n",
            "Epoch 94/100\n",
            "34/34 [==============================] - 0s 2ms/step - loss: 5251.9517 - mae: 5251.9517\n",
            "Epoch 95/100\n",
            "34/34 [==============================] - 0s 2ms/step - loss: 5194.5996 - mae: 5194.5996\n",
            "Epoch 96/100\n",
            "34/34 [==============================] - 0s 2ms/step - loss: 5144.4248 - mae: 5144.4248\n",
            "Epoch 97/100\n",
            "34/34 [==============================] - 0s 2ms/step - loss: 5084.4644 - mae: 5084.4644\n",
            "Epoch 98/100\n",
            "34/34 [==============================] - 0s 2ms/step - loss: 5017.0620 - mae: 5017.0620\n",
            "Epoch 99/100\n",
            "34/34 [==============================] - 0s 2ms/step - loss: 4951.0923 - mae: 4951.0923\n",
            "Epoch 100/100\n",
            "34/34 [==============================] - 0s 2ms/step - loss: 4893.0825 - mae: 4893.0825\n"
          ]
        }
      ],
      "source": [
        "# Set random seed\n",
        "tf.random.set_seed(42)\n",
        "\n",
        "# 1. Create the model\n",
        "insurance_model_2 = tf.keras.Sequential([\n",
        "    tf.keras.layers.Dense(100), # 100 units\n",
        "    tf.keras.layers.Dense(10), # 10 units\n",
        "    tf.keras.layers.Dense(1) # 1 unit (important for output layer)\n",
        "])\n",
        "\n",
        "# 2. Compile the model\n",
        "insurance_model_2.compile(loss=tf.keras.losses.mae,\n",
        "                          optimizer=tf.keras.optimizers.Adam(),\n",
        "                          metrics=['mae'])\n",
        "\n",
        "# 3. Fit the model and save the history (we can plot this)\n",
        "history = insurance_model_2.fit(X_train, y_train, epochs=100, verbose=1)"
      ]
    },
    {
      "cell_type": "code",
      "execution_count": 142,
      "metadata": {
        "colab": {
          "base_uri": "https://localhost:8080/"
        },
        "id": "EnmIkrqBRp1M",
        "outputId": "41082eb8-7ba5-4500-de5f-81100a1e5d57"
      },
      "outputs": [
        {
          "output_type": "stream",
          "name": "stdout",
          "text": [
            "9/9 [==============================] - 0s 6ms/step - loss: 4766.9614 - mae: 4766.9614\n"
          ]
        },
        {
          "output_type": "execute_result",
          "data": {
            "text/plain": [
              "[4766.96142578125, 4766.96142578125]"
            ]
          },
          "metadata": {},
          "execution_count": 142
        }
      ],
      "source": [
        "# Evaluate the larger model\n",
        "insurance_model_2.evaluate(X_test, y_test)"
      ]
    },
    {
      "cell_type": "code",
      "execution_count": 143,
      "metadata": {
        "colab": {
          "base_uri": "https://localhost:8080/"
        },
        "id": "OYIEBzVaRp1M",
        "outputId": "c5f3fd8a-bfe0-44ea-e25b-4043eb02e419"
      },
      "outputs": [
        {
          "output_type": "stream",
          "name": "stdout",
          "text": [
            "9/9 [==============================] - 0s 4ms/step - loss: 8739.4785 - mae: 8739.4785\n"
          ]
        },
        {
          "output_type": "execute_result",
          "data": {
            "text/plain": [
              "[8739.478515625, 8739.478515625]"
            ]
          },
          "metadata": {},
          "execution_count": 143
        }
      ],
      "source": [
        "insurance_model.evaluate(X_test, y_test)"
      ]
    },
    {
      "cell_type": "code",
      "source": [
        "# Plot history (also known as a loss curve)\n",
        "pd.DataFrame(history.history).plot()\n",
        "plt.ylabel(\"loss\")\n",
        "plt.xlabel(\"epochs\");"
      ],
      "metadata": {
        "colab": {
          "base_uri": "https://localhost:8080/",
          "height": 449
        },
        "id": "9XYLV_4pBhM_",
        "outputId": "50722ced-f7ed-479b-dc5d-fcbb20542a9d"
      },
      "execution_count": 144,
      "outputs": [
        {
          "output_type": "display_data",
          "data": {
            "text/plain": [
              "<Figure size 640x480 with 1 Axes>"
            ],
            "image/png": "[encoded data removed]"
          },
          "metadata": {}
        }
      ]
    },
    {
      "cell_type": "markdown",
      "source": [
        "Let's train the same model as above for a little longer. We can do this but calling fit on it again."
      ],
      "metadata": {
        "id": "XLMkxKODB1Tb"
      }
    },
    {
      "cell_type": "code",
      "execution_count": 145,
      "metadata": {
        "colab": {
          "base_uri": "https://localhost:8080/"
        },
        "id": "HhlLBoZNRp1M",
        "outputId": "99b26d67-fdb3-4254-f21b-0d074035626b"
      },
      "outputs": [
        {
          "output_type": "stream",
          "name": "stdout",
          "text": [
            "Epoch 1/200\n",
            "34/34 [==============================] - 2s 4ms/step - loss: 13280.1445 - mae: 13280.1445\n",
            "Epoch 2/200\n",
            "34/34 [==============================] - 0s 3ms/step - loss: 13111.6367 - mae: 13111.6367\n",
            "Epoch 3/200\n",
            "34/34 [==============================] - 0s 3ms/step - loss: 12756.1289 - mae: 12756.1289\n",
            "Epoch 4/200\n",
            "34/34 [==============================] - 0s 2ms/step - loss: 12070.2031 - mae: 12070.2031\n",
            "Epoch 5/200\n",
            "34/34 [==============================] - 0s 2ms/step - loss: 10941.4463 - mae: 10941.4463\n",
            "Epoch 6/200\n",
            "34/34 [==============================] - 0s 3ms/step - loss: 9514.8281 - mae: 9514.8281\n",
            "Epoch 7/200\n",
            "34/34 [==============================] - 0s 4ms/step - loss: 8198.7354 - mae: 8198.7354\n",
            "Epoch 8/200\n",
            "34/34 [==============================] - 0s 2ms/step - loss: 7545.3716 - mae: 7545.3716\n",
            "Epoch 9/200\n",
            "34/34 [==============================] - 0s 2ms/step - loss: 7429.7383 - mae: 7429.7383\n",
            "Epoch 10/200\n",
            "34/34 [==============================] - 0s 2ms/step - loss: 7409.5913 - mae: 7409.5913\n",
            "Epoch 11/200\n",
            "34/34 [==============================] - 0s 2ms/step - loss: 7391.7871 - mae: 7391.7871\n",
            "Epoch 12/200\n",
            "34/34 [==============================] - 0s 2ms/step - loss: 7370.8569 - mae: 7370.8569\n",
            "Epoch 13/200\n",
            "34/34 [==============================] - 0s 4ms/step - loss: 7351.3813 - mae: 7351.3813\n",
            "Epoch 14/200\n",
            "34/34 [==============================] - 0s 3ms/step - loss: 7330.1060 - mae: 7330.1060\n",
            "Epoch 15/200\n",
            "34/34 [==============================] - 0s 6ms/step - loss: 7311.9893 - mae: 7311.9893\n",
            "Epoch 16/200\n",
            "34/34 [==============================] - 0s 4ms/step - loss: 7290.4126 - mae: 7290.4126\n",
            "Epoch 17/200\n",
            "34/34 [==============================] - 0s 3ms/step - loss: 7272.1577 - mae: 7272.1577\n",
            "Epoch 18/200\n",
            "34/34 [==============================] - 0s 3ms/step - loss: 7249.7905 - mae: 7249.7905\n",
            "Epoch 19/200\n",
            "34/34 [==============================] - 0s 3ms/step - loss: 7228.5889 - mae: 7228.5889\n",
            "Epoch 20/200\n",
            "34/34 [==============================] - 0s 4ms/step - loss: 7206.6904 - mae: 7206.6904\n",
            "Epoch 21/200\n",
            "34/34 [==============================] - 0s 3ms/step - loss: 7188.4839 - mae: 7188.4839\n",
            "Epoch 22/200\n",
            "34/34 [==============================] - 0s 3ms/step - loss: 7162.7256 - mae: 7162.7256\n",
            "Epoch 23/200\n",
            "34/34 [==============================] - 0s 3ms/step - loss: 7139.4624 - mae: 7139.4624\n",
            "Epoch 24/200\n",
            "34/34 [==============================] - 0s 3ms/step - loss: 7116.0293 - mae: 7116.0293\n",
            "Epoch 25/200\n",
            "34/34 [==============================] - 0s 4ms/step - loss: 7098.7603 - mae: 7098.7603\n",
            "Epoch 26/200\n",
            "34/34 [==============================] - 0s 3ms/step - loss: 7069.3022 - mae: 7069.3022\n",
            "Epoch 27/200\n",
            "34/34 [==============================] - 0s 3ms/step - loss: 7042.0776 - mae: 7042.0776\n",
            "Epoch 28/200\n",
            "34/34 [==============================] - 0s 4ms/step - loss: 7015.5869 - mae: 7015.5869\n",
            "Epoch 29/200\n",
            "34/34 [==============================] - 0s 3ms/step - loss: 6988.8799 - mae: 6988.8799\n",
            "Epoch 30/200\n",
            "34/34 [==============================] - 0s 3ms/step - loss: 6963.7617 - mae: 6963.7617\n",
            "Epoch 31/200\n",
            "34/34 [==============================] - 0s 3ms/step - loss: 6933.8042 - mae: 6933.8042\n",
            "Epoch 32/200\n",
            "34/34 [==============================] - 0s 3ms/step - loss: 6907.5884 - mae: 6907.5884\n",
            "Epoch 33/200\n",
            "34/34 [==============================] - 0s 3ms/step - loss: 6878.3516 - mae: 6878.3516\n",
            "Epoch 34/200\n",
            "34/34 [==============================] - 0s 3ms/step - loss: 6847.0596 - mae: 6847.0596\n",
            "Epoch 35/200\n",
            "34/34 [==============================] - 0s 3ms/step - loss: 6816.1133 - mae: 6816.1133\n",
            "Epoch 36/200\n",
            "34/34 [==============================] - 0s 3ms/step - loss: 6783.4922 - mae: 6783.4922\n",
            "Epoch 37/200\n",
            "34/34 [==============================] - 0s 4ms/step - loss: 6749.5088 - mae: 6749.5088\n",
            "Epoch 38/200\n",
            "34/34 [==============================] - 0s 4ms/step - loss: 6718.0815 - mae: 6718.0815\n",
            "Epoch 39/200\n",
            "34/34 [==============================] - 0s 4ms/step - loss: 6680.5620 - mae: 6680.5620\n",
            "Epoch 40/200\n",
            "34/34 [==============================] - 0s 3ms/step - loss: 6645.9575 - mae: 6645.9575\n",
            "Epoch 41/200\n",
            "34/34 [==============================] - 0s 4ms/step - loss: 6612.6611 - mae: 6612.6611\n",
            "Epoch 42/200\n",
            "34/34 [==============================] - 0s 4ms/step - loss: 6582.6973 - mae: 6582.6973\n",
            "Epoch 43/200\n",
            "34/34 [==============================] - 0s 3ms/step - loss: 6551.0742 - mae: 6551.0742\n",
            "Epoch 44/200\n",
            "34/34 [==============================] - 0s 3ms/step - loss: 6524.7349 - mae: 6524.7349\n",
            "Epoch 45/200\n",
            "34/34 [==============================] - 0s 3ms/step - loss: 6506.0938 - mae: 6506.0938\n",
            "Epoch 46/200\n",
            "34/34 [==============================] - 0s 4ms/step - loss: 6485.7979 - mae: 6485.7979\n",
            "Epoch 47/200\n",
            "34/34 [==============================] - 0s 3ms/step - loss: 6469.4189 - mae: 6469.4189\n",
            "Epoch 48/200\n",
            "34/34 [==============================] - 0s 3ms/step - loss: 6453.8413 - mae: 6453.8413\n",
            "Epoch 49/200\n",
            "34/34 [==============================] - 0s 3ms/step - loss: 6440.5112 - mae: 6440.5112\n",
            "Epoch 50/200\n",
            "34/34 [==============================] - 0s 7ms/step - loss: 6426.8096 - mae: 6426.8096\n",
            "Epoch 51/200\n",
            "34/34 [==============================] - 0s 9ms/step - loss: 6412.9766 - mae: 6412.9766\n",
            "Epoch 52/200\n",
            "34/34 [==============================] - 0s 4ms/step - loss: 6402.2905 - mae: 6402.2905\n",
            "Epoch 53/200\n",
            "34/34 [==============================] - 0s 5ms/step - loss: 6388.2964 - mae: 6388.2964\n",
            "Epoch 54/200\n",
            "34/34 [==============================] - 0s 3ms/step - loss: 6375.0742 - mae: 6375.0742\n",
            "Epoch 55/200\n",
            "34/34 [==============================] - 0s 4ms/step - loss: 6361.6899 - mae: 6361.6899\n",
            "Epoch 56/200\n",
            "34/34 [==============================] - 0s 4ms/step - loss: 6348.0405 - mae: 6348.0405\n",
            "Epoch 57/200\n",
            "34/34 [==============================] - 0s 2ms/step - loss: 6335.6978 - mae: 6335.6978\n",
            "Epoch 58/200\n",
            "34/34 [==============================] - 0s 2ms/step - loss: 6322.3735 - mae: 6322.3735\n",
            "Epoch 59/200\n",
            "34/34 [==============================] - 0s 2ms/step - loss: 6307.5776 - mae: 6307.5776\n",
            "Epoch 60/200\n",
            "34/34 [==============================] - 0s 2ms/step - loss: 6297.6572 - mae: 6297.6572\n",
            "Epoch 61/200\n",
            "34/34 [==============================] - 0s 2ms/step - loss: 6278.6772 - mae: 6278.6772\n",
            "Epoch 62/200\n",
            "34/34 [==============================] - 0s 2ms/step - loss: 6266.6709 - mae: 6266.6709\n",
            "Epoch 63/200\n",
            "34/34 [==============================] - 0s 2ms/step - loss: 6248.7056 - mae: 6248.7056\n",
            "Epoch 64/200\n",
            "34/34 [==============================] - 0s 2ms/step - loss: 6233.8149 - mae: 6233.8149\n",
            "Epoch 65/200\n",
            "34/34 [==============================] - 0s 2ms/step - loss: 6217.1909 - mae: 6217.1909\n",
            "Epoch 66/200\n",
            "34/34 [==============================] - 0s 2ms/step - loss: 6200.6328 - mae: 6200.6328\n",
            "Epoch 67/200\n",
            "34/34 [==============================] - 0s 2ms/step - loss: 6188.7139 - mae: 6188.7139\n",
            "Epoch 68/200\n",
            "34/34 [==============================] - 0s 2ms/step - loss: 6167.3950 - mae: 6167.3950\n",
            "Epoch 69/200\n",
            "34/34 [==============================] - 0s 2ms/step - loss: 6151.8101 - mae: 6151.8101\n",
            "Epoch 70/200\n",
            "34/34 [==============================] - 0s 2ms/step - loss: 6132.3105 - mae: 6132.3105\n",
            "Epoch 71/200\n",
            "34/34 [==============================] - 0s 2ms/step - loss: 6114.0684 - mae: 6114.0684\n",
            "Epoch 72/200\n",
            "34/34 [==============================] - 0s 2ms/step - loss: 6097.1313 - mae: 6097.1313\n",
            "Epoch 73/200\n",
            "34/34 [==============================] - 0s 2ms/step - loss: 6082.1084 - mae: 6082.1084\n",
            "Epoch 74/200\n",
            "34/34 [==============================] - 0s 2ms/step - loss: 6056.4517 - mae: 6056.4517\n",
            "Epoch 75/200\n",
            "34/34 [==============================] - 0s 2ms/step - loss: 6036.5889 - mae: 6036.5889\n",
            "Epoch 76/200\n",
            "34/34 [==============================] - 0s 2ms/step - loss: 6022.9585 - mae: 6022.9585\n",
            "Epoch 77/200\n",
            "34/34 [==============================] - 0s 2ms/step - loss: 5991.7471 - mae: 5991.7471\n",
            "Epoch 78/200\n",
            "34/34 [==============================] - 0s 2ms/step - loss: 5970.6045 - mae: 5970.6045\n",
            "Epoch 79/200\n",
            "34/34 [==============================] - 0s 2ms/step - loss: 5947.7944 - mae: 5947.7944\n",
            "Epoch 80/200\n",
            "34/34 [==============================] - 0s 2ms/step - loss: 5922.3599 - mae: 5922.3599\n",
            "Epoch 81/200\n",
            "34/34 [==============================] - 0s 2ms/step - loss: 5898.3452 - mae: 5898.3452\n",
            "Epoch 82/200\n",
            "34/34 [==============================] - 0s 2ms/step - loss: 5872.4751 - mae: 5872.4751\n",
            "Epoch 83/200\n",
            "34/34 [==============================] - 0s 2ms/step - loss: 5846.6318 - mae: 5846.6318\n",
            "Epoch 84/200\n",
            "34/34 [==============================] - 0s 2ms/step - loss: 5814.3320 - mae: 5814.3320\n",
            "Epoch 85/200\n",
            "34/34 [==============================] - 0s 2ms/step - loss: 5790.8901 - mae: 5790.8901\n",
            "Epoch 86/200\n",
            "34/34 [==============================] - 0s 2ms/step - loss: 5758.6396 - mae: 5758.6396\n",
            "Epoch 87/200\n",
            "34/34 [==============================] - 0s 2ms/step - loss: 5725.0176 - mae: 5725.0176\n",
            "Epoch 88/200\n",
            "34/34 [==============================] - 0s 3ms/step - loss: 5694.1787 - mae: 5694.1787\n",
            "Epoch 89/200\n",
            "34/34 [==============================] - 0s 3ms/step - loss: 5657.3291 - mae: 5657.3291\n",
            "Epoch 90/200\n",
            "34/34 [==============================] - 0s 3ms/step - loss: 5619.9595 - mae: 5619.9595\n",
            "Epoch 91/200\n",
            "34/34 [==============================] - 0s 3ms/step - loss: 5589.0317 - mae: 5589.0317\n",
            "Epoch 92/200\n",
            "34/34 [==============================] - 0s 3ms/step - loss: 5542.2104 - mae: 5542.2104\n",
            "Epoch 93/200\n",
            "34/34 [==============================] - 0s 3ms/step - loss: 5505.3550 - mae: 5505.3550\n",
            "Epoch 94/200\n",
            "34/34 [==============================] - 0s 3ms/step - loss: 5465.6411 - mae: 5465.6411\n",
            "Epoch 95/200\n",
            "34/34 [==============================] - 0s 3ms/step - loss: 5417.1572 - mae: 5417.1572\n",
            "Epoch 96/200\n",
            "34/34 [==============================] - 0s 2ms/step - loss: 5376.5923 - mae: 5376.5923\n",
            "Epoch 97/200\n",
            "34/34 [==============================] - 0s 2ms/step - loss: 5326.3574 - mae: 5326.3574\n",
            "Epoch 98/200\n",
            "34/34 [==============================] - 0s 3ms/step - loss: 5272.3462 - mae: 5272.3462\n",
            "Epoch 99/200\n",
            "34/34 [==============================] - 0s 3ms/step - loss: 5218.4331 - mae: 5218.4331\n",
            "Epoch 100/200\n",
            "34/34 [==============================] - 0s 3ms/step - loss: 5165.5835 - mae: 5165.5835\n",
            "Epoch 101/200\n",
            "34/34 [==============================] - 0s 3ms/step - loss: 5103.3174 - mae: 5103.3174\n",
            "Epoch 102/200\n",
            "34/34 [==============================] - 0s 3ms/step - loss: 5042.6641 - mae: 5042.6641\n",
            "Epoch 103/200\n",
            "34/34 [==============================] - 0s 2ms/step - loss: 4982.0293 - mae: 4982.0293\n",
            "Epoch 104/200\n",
            "34/34 [==============================] - 0s 4ms/step - loss: 4910.7314 - mae: 4910.7314\n",
            "Epoch 105/200\n",
            "34/34 [==============================] - 0s 3ms/step - loss: 4835.8989 - mae: 4835.8989\n",
            "Epoch 106/200\n",
            "34/34 [==============================] - 0s 3ms/step - loss: 4760.6904 - mae: 4760.6904\n",
            "Epoch 107/200\n",
            "34/34 [==============================] - 0s 4ms/step - loss: 4686.6875 - mae: 4686.6875\n",
            "Epoch 108/200\n",
            "34/34 [==============================] - 0s 3ms/step - loss: 4601.2070 - mae: 4601.2070\n",
            "Epoch 109/200\n",
            "34/34 [==============================] - 0s 4ms/step - loss: 4515.6255 - mae: 4515.6255\n",
            "Epoch 110/200\n",
            "34/34 [==============================] - 0s 3ms/step - loss: 4432.1880 - mae: 4432.1880\n",
            "Epoch 111/200\n",
            "34/34 [==============================] - 0s 4ms/step - loss: 4345.4644 - mae: 4345.4644\n",
            "Epoch 112/200\n",
            "34/34 [==============================] - 0s 3ms/step - loss: 4274.1772 - mae: 4274.1772\n",
            "Epoch 113/200\n",
            "34/34 [==============================] - 0s 3ms/step - loss: 4188.9609 - mae: 4188.9609\n",
            "Epoch 114/200\n",
            "34/34 [==============================] - 0s 3ms/step - loss: 4112.4497 - mae: 4112.4497\n",
            "Epoch 115/200\n",
            "34/34 [==============================] - 0s 3ms/step - loss: 4045.2791 - mae: 4045.2791\n",
            "Epoch 116/200\n",
            "34/34 [==============================] - 0s 4ms/step - loss: 3989.3401 - mae: 3989.3401\n",
            "Epoch 117/200\n",
            "34/34 [==============================] - 0s 3ms/step - loss: 3962.4309 - mae: 3962.4309\n",
            "Epoch 118/200\n",
            "34/34 [==============================] - 0s 3ms/step - loss: 3930.8196 - mae: 3930.8196\n",
            "Epoch 119/200\n",
            "34/34 [==============================] - 0s 3ms/step - loss: 3895.5645 - mae: 3895.5645\n",
            "Epoch 120/200\n",
            "34/34 [==============================] - 0s 3ms/step - loss: 3867.9285 - mae: 3867.9285\n",
            "Epoch 121/200\n",
            "34/34 [==============================] - 0s 3ms/step - loss: 3855.6836 - mae: 3855.6836\n",
            "Epoch 122/200\n",
            "34/34 [==============================] - 0s 3ms/step - loss: 3846.5186 - mae: 3846.5186\n",
            "Epoch 123/200\n",
            "34/34 [==============================] - 0s 3ms/step - loss: 3836.7954 - mae: 3836.7954\n",
            "Epoch 124/200\n",
            "34/34 [==============================] - 0s 3ms/step - loss: 3825.4871 - mae: 3825.4871\n",
            "Epoch 125/200\n",
            "34/34 [==============================] - 0s 3ms/step - loss: 3811.4431 - mae: 3811.4431\n",
            "Epoch 126/200\n",
            "34/34 [==============================] - 0s 3ms/step - loss: 3823.1753 - mae: 3823.1753\n",
            "Epoch 127/200\n",
            "34/34 [==============================] - 0s 4ms/step - loss: 3810.4873 - mae: 3810.4873\n",
            "Epoch 128/200\n",
            "34/34 [==============================] - 0s 3ms/step - loss: 3803.2944 - mae: 3803.2944\n",
            "Epoch 129/200\n",
            "34/34 [==============================] - 0s 3ms/step - loss: 3808.3628 - mae: 3808.3628\n",
            "Epoch 130/200\n",
            "34/34 [==============================] - 0s 3ms/step - loss: 3797.6357 - mae: 3797.6357\n",
            "Epoch 131/200\n",
            "34/34 [==============================] - 0s 3ms/step - loss: 3791.3037 - mae: 3791.3037\n",
            "Epoch 132/200\n",
            "34/34 [==============================] - 0s 2ms/step - loss: 3782.4971 - mae: 3782.4971\n",
            "Epoch 133/200\n",
            "34/34 [==============================] - 0s 3ms/step - loss: 3778.0645 - mae: 3778.0645\n",
            "Epoch 134/200\n",
            "34/34 [==============================] - 0s 3ms/step - loss: 3777.7476 - mae: 3777.7476\n",
            "Epoch 135/200\n",
            "34/34 [==============================] - 0s 4ms/step - loss: 3774.1931 - mae: 3774.1931\n",
            "Epoch 136/200\n",
            "34/34 [==============================] - 0s 3ms/step - loss: 3773.3894 - mae: 3773.3894\n",
            "Epoch 137/200\n",
            "34/34 [==============================] - 0s 2ms/step - loss: 3782.7583 - mae: 3782.7583\n",
            "Epoch 138/200\n",
            "34/34 [==============================] - 0s 2ms/step - loss: 3788.2527 - mae: 3788.2527\n",
            "Epoch 139/200\n",
            "34/34 [==============================] - 0s 2ms/step - loss: 3768.6506 - mae: 3768.6506\n",
            "Epoch 140/200\n",
            "34/34 [==============================] - 0s 2ms/step - loss: 3770.0969 - mae: 3770.0969\n",
            "Epoch 141/200\n",
            "34/34 [==============================] - 0s 2ms/step - loss: 3769.8704 - mae: 3769.8704\n",
            "Epoch 142/200\n",
            "34/34 [==============================] - 0s 2ms/step - loss: 3768.5630 - mae: 3768.5630\n",
            "Epoch 143/200\n",
            "34/34 [==============================] - 0s 2ms/step - loss: 3760.9065 - mae: 3760.9065\n",
            "Epoch 144/200\n",
            "34/34 [==============================] - 0s 2ms/step - loss: 3757.0154 - mae: 3757.0154\n",
            "Epoch 145/200\n",
            "34/34 [==============================] - 0s 2ms/step - loss: 3758.6047 - mae: 3758.6047\n",
            "Epoch 146/200\n",
            "34/34 [==============================] - 0s 2ms/step - loss: 3762.6238 - mae: 3762.6238\n",
            "Epoch 147/200\n",
            "34/34 [==============================] - 0s 2ms/step - loss: 3758.1914 - mae: 3758.1914\n",
            "Epoch 148/200\n",
            "34/34 [==============================] - 0s 2ms/step - loss: 3762.7495 - mae: 3762.7495\n",
            "Epoch 149/200\n",
            "34/34 [==============================] - 0s 2ms/step - loss: 3749.8259 - mae: 3749.8259\n",
            "Epoch 150/200\n",
            "34/34 [==============================] - 0s 2ms/step - loss: 3744.3428 - mae: 3744.3428\n",
            "Epoch 151/200\n",
            "34/34 [==============================] - 0s 2ms/step - loss: 3747.0256 - mae: 3747.0256\n",
            "Epoch 152/200\n",
            "34/34 [==============================] - 0s 2ms/step - loss: 3749.0913 - mae: 3749.0913\n",
            "Epoch 153/200\n",
            "34/34 [==============================] - 0s 3ms/step - loss: 3748.6550 - mae: 3748.6550\n",
            "Epoch 154/200\n",
            "34/34 [==============================] - 0s 3ms/step - loss: 3742.8713 - mae: 3742.8713\n",
            "Epoch 155/200\n",
            "34/34 [==============================] - 0s 3ms/step - loss: 3745.6768 - mae: 3745.6768\n",
            "Epoch 156/200\n",
            "34/34 [==============================] - 0s 3ms/step - loss: 3741.0073 - mae: 3741.0073\n",
            "Epoch 157/200\n",
            "34/34 [==============================] - 0s 3ms/step - loss: 3740.8438 - mae: 3740.8438\n",
            "Epoch 158/200\n",
            "34/34 [==============================] - 0s 3ms/step - loss: 3735.2974 - mae: 3735.2974\n",
            "Epoch 159/200\n",
            "34/34 [==============================] - 0s 3ms/step - loss: 3733.4521 - mae: 3733.4521\n",
            "Epoch 160/200\n",
            "34/34 [==============================] - 0s 3ms/step - loss: 3740.1331 - mae: 3740.1331\n",
            "Epoch 161/200\n",
            "34/34 [==============================] - 0s 2ms/step - loss: 3734.2397 - mae: 3734.2397\n",
            "Epoch 162/200\n",
            "34/34 [==============================] - 0s 2ms/step - loss: 3729.7717 - mae: 3729.7717\n",
            "Epoch 163/200\n",
            "34/34 [==============================] - 0s 3ms/step - loss: 3728.0601 - mae: 3728.0601\n",
            "Epoch 164/200\n",
            "34/34 [==============================] - 0s 3ms/step - loss: 3733.4604 - mae: 3733.4604\n",
            "Epoch 165/200\n",
            "34/34 [==============================] - 0s 2ms/step - loss: 3723.9248 - mae: 3723.9248\n",
            "Epoch 166/200\n",
            "34/34 [==============================] - 0s 3ms/step - loss: 3727.8069 - mae: 3727.8069\n",
            "Epoch 167/200\n",
            "34/34 [==============================] - 0s 2ms/step - loss: 3727.6421 - mae: 3727.6421\n",
            "Epoch 168/200\n",
            "34/34 [==============================] - 0s 2ms/step - loss: 3721.9272 - mae: 3721.9272\n",
            "Epoch 169/200\n",
            "34/34 [==============================] - 0s 3ms/step - loss: 3722.3149 - mae: 3722.3149\n",
            "Epoch 170/200\n",
            "34/34 [==============================] - 0s 2ms/step - loss: 3714.7439 - mae: 3714.7439\n",
            "Epoch 171/200\n",
            "34/34 [==============================] - 0s 3ms/step - loss: 3713.6423 - mae: 3713.6423\n",
            "Epoch 172/200\n",
            "34/34 [==============================] - 0s 3ms/step - loss: 3715.7952 - mae: 3715.7952\n",
            "Epoch 173/200\n",
            "34/34 [==============================] - 0s 2ms/step - loss: 3711.1917 - mae: 3711.1917\n",
            "Epoch 174/200\n",
            "34/34 [==============================] - 0s 3ms/step - loss: 3715.7419 - mae: 3715.7419\n",
            "Epoch 175/200\n",
            "34/34 [==============================] - 0s 3ms/step - loss: 3718.0933 - mae: 3718.0933\n",
            "Epoch 176/200\n",
            "34/34 [==============================] - 0s 4ms/step - loss: 3712.8049 - mae: 3712.8049\n",
            "Epoch 177/200\n",
            "34/34 [==============================] - 0s 4ms/step - loss: 3707.9683 - mae: 3707.9683\n",
            "Epoch 178/200\n",
            "34/34 [==============================] - 0s 4ms/step - loss: 3705.2434 - mae: 3705.2434\n",
            "Epoch 179/200\n",
            "34/34 [==============================] - 0s 4ms/step - loss: 3715.7236 - mae: 3715.7236\n",
            "Epoch 180/200\n",
            "34/34 [==============================] - 0s 3ms/step - loss: 3718.5781 - mae: 3718.5781\n",
            "Epoch 181/200\n",
            "34/34 [==============================] - 0s 4ms/step - loss: 3703.9265 - mae: 3703.9265\n",
            "Epoch 182/200\n",
            "34/34 [==============================] - 0s 3ms/step - loss: 3700.9658 - mae: 3700.9658\n",
            "Epoch 183/200\n",
            "34/34 [==============================] - 0s 2ms/step - loss: 3698.2830 - mae: 3698.2830\n",
            "Epoch 184/200\n",
            "34/34 [==============================] - 0s 2ms/step - loss: 3704.8870 - mae: 3704.8870\n",
            "Epoch 185/200\n",
            "34/34 [==============================] - 0s 4ms/step - loss: 3701.0359 - mae: 3701.0359\n",
            "Epoch 186/200\n",
            "34/34 [==============================] - 0s 3ms/step - loss: 3703.9895 - mae: 3703.9895\n",
            "Epoch 187/200\n",
            "34/34 [==============================] - 0s 3ms/step - loss: 3694.7917 - mae: 3694.7917\n",
            "Epoch 188/200\n",
            "34/34 [==============================] - 0s 3ms/step - loss: 3701.2429 - mae: 3701.2429\n",
            "Epoch 189/200\n",
            "34/34 [==============================] - 0s 3ms/step - loss: 3691.8604 - mae: 3691.8604\n",
            "Epoch 190/200\n",
            "34/34 [==============================] - 0s 3ms/step - loss: 3688.6873 - mae: 3688.6873\n",
            "Epoch 191/200\n",
            "34/34 [==============================] - 0s 3ms/step - loss: 3705.2109 - mae: 3705.2109\n",
            "Epoch 192/200\n",
            "34/34 [==============================] - 0s 3ms/step - loss: 3692.4995 - mae: 3692.4995\n",
            "Epoch 193/200\n",
            "34/34 [==============================] - 0s 3ms/step - loss: 3682.4192 - mae: 3682.4192\n",
            "Epoch 194/200\n",
            "34/34 [==============================] - 0s 3ms/step - loss: 3683.1321 - mae: 3683.1321\n",
            "Epoch 195/200\n",
            "34/34 [==============================] - 0s 2ms/step - loss: 3680.5957 - mae: 3680.5957\n",
            "Epoch 196/200\n",
            "34/34 [==============================] - 0s 2ms/step - loss: 3687.9155 - mae: 3687.9155\n",
            "Epoch 197/200\n",
            "34/34 [==============================] - 0s 2ms/step - loss: 3673.1907 - mae: 3673.1907\n",
            "Epoch 198/200\n",
            "34/34 [==============================] - 0s 3ms/step - loss: 3680.3481 - mae: 3680.3481\n",
            "Epoch 199/200\n",
            "34/34 [==============================] - 0s 3ms/step - loss: 3686.8000 - mae: 3686.8000\n",
            "Epoch 200/200\n",
            "34/34 [==============================] - 0s 3ms/step - loss: 3672.0852 - mae: 3672.0852\n"
          ]
        }
      ],
      "source": [
        "# Set random weed\n",
        "tf.random.set_seed(42)\n",
        "\n",
        "# 1. Create the model (same as above)\n",
        "insurance_model_3 = tf.keras.Sequential([\n",
        "    tf.keras.layers.Dense(100),\n",
        "    tf.keras.layers.Dense(10),\n",
        "    tf.keras.layers.Dense(1)\n",
        "    ])\n",
        "\n",
        "# 2. Compile the model\n",
        "insurance_model_3.compile(loss=tf.keras.losses.mae,\n",
        "                          optimizer=tf.keras.optimizers.Adam(),\n",
        "                          metrics=['mae'])\n",
        "\n",
        "# 3. Fit the model\n",
        "history = insurance_model_3.fit(X_train, y_train, epochs=200)"
      ]
    },
    {
      "cell_type": "code",
      "execution_count": 146,
      "metadata": {
        "colab": {
          "base_uri": "https://localhost:8080/"
        },
        "id": "2lhNGcGkRp1M",
        "outputId": "ca7da1f0-c64d-4331-fa66-ce2a28bc7c9a"
      },
      "outputs": [
        {
          "output_type": "stream",
          "name": "stdout",
          "text": [
            "9/9 [==============================] - 0s 2ms/step - loss: 3502.8879 - mae: 3502.8879\n"
          ]
        }
      ],
      "source": [
        "# Evaluate our third model\n",
        "model_3_results = insurance_model_3.evaluate(X_test, y_test)"
      ]
    },
    {
      "cell_type": "code",
      "source": [
        "insurance_model_2.evaluate(X_test, y_test)"
      ],
      "metadata": {
        "colab": {
          "base_uri": "https://localhost:8080/"
        },
        "id": "Nllkz5M0B9Cx",
        "outputId": "7ddc2f2c-546a-49e6-aef4-d4d160ffdded"
      },
      "execution_count": 147,
      "outputs": [
        {
          "output_type": "stream",
          "name": "stdout",
          "text": [
            "9/9 [==============================] - 0s 2ms/step - loss: 4766.9614 - mae: 4766.9614\n"
          ]
        },
        {
          "output_type": "execute_result",
          "data": {
            "text/plain": [
              "[4766.96142578125, 4766.96142578125]"
            ]
          },
          "metadata": {},
          "execution_count": 147
        }
      ]
    },
    {
      "cell_type": "code",
      "execution_count": 148,
      "metadata": {
        "colab": {
          "base_uri": "https://localhost:8080/"
        },
        "id": "t6BpplF-Rp1N",
        "outputId": "f8dcf7a6-3135-4c7c-b4c4-d44e24857663"
      },
      "outputs": [
        {
          "output_type": "stream",
          "name": "stdout",
          "text": [
            "9/9 [==============================] - 0s 2ms/step - loss: 8739.4785 - mae: 8739.4785\n"
          ]
        },
        {
          "output_type": "execute_result",
          "data": {
            "text/plain": [
              "[8739.478515625, 8739.478515625]"
            ]
          },
          "metadata": {},
          "execution_count": 148
        }
      ],
      "source": [
        "insurance_model.evaluate(X_test, y_test)"
      ]
    },
    {
      "cell_type": "code",
      "execution_count": 149,
      "metadata": {
        "colab": {
          "base_uri": "https://localhost:8080/",
          "height": 466
        },
        "id": "9w4qHxIGRp1N",
        "outputId": "39e7078b-c557-48ca-f644-1b2d8b183d0d"
      },
      "outputs": [
        {
          "output_type": "execute_result",
          "data": {
            "text/plain": [
              "Text(0.5, 0, 'epochs')"
            ]
          },
          "metadata": {},
          "execution_count": 149
        },
        {
          "output_type": "display_data",
          "data": {
            "text/plain": [
              "<Figure size 640x480 with 1 Axes>"
            ],
            "image/png": "[encoded data removed]"
          },
          "metadata": {}
        }
      ],
      "source": [
        "# Plot history (also known as aloss curve or a training curve)\n",
        "pd.DataFrame(history.history).plot()\n",
        "plt.ylabel('loss')\n",
        "plt.xlabel('epochs')"
      ]
    },
    {
      "cell_type": "markdown",
      "metadata": {
        "id": "DdF838hvRp1N"
      },
      "source": [
        "**Question:** How long should you train for?\n",
        "\n",
        "It depends. Really... it depends on the problem you're working on. However, many people have asked this question before... so TensorFlow has a solution! It's called the EarlyStopping Callback, which is a TensorFlow component you can add to your model to stop training once it stops improving a certain."
      ]
    },
    {
      "cell_type": "markdown",
      "metadata": {
        "id": "Tg6K7zjwRp1N"
      },
      "source": [
        "## Preprocessing data (normalization and standarization)\n",
        "\n",
        "A common practice when working with neural networks is to make sure all of the data you pass to them is in the range 0 to 1.\n",
        "\n",
        "This practice is called **normalization** (scaling all values from their original range to, e.g. between 0 and 100,000 to be between 0 and 1).\n",
        "\n",
        "There is another process call **standardization** which converts all of your data to unit variance and 0 mean.\n",
        "\n",
        "These two practices are often part of a preprocessing pipeline (a series of functions to prepare your data for use with neural networks).\n",
        "\n",
        "Knowing this, some of the major steps you'll take to preprocess your data for a neural network include:\n",
        "* Turning all of your data to numbers (a neural network can't handle strings).\n",
        "* Making sure your data is in the right shape (verifying input and output shapes).\n",
        "* [**Feature scaling**](https://scikit-learn.org/stable/modules/preprocessing.html#preprocessing-scaler):\n",
        "    * Normalizing data (making sure all values are between 0 and 1). This is done by subtracting the minimum value then dividing by the maximum value minus the minimum. This is also referred to as min-max scaling.\n",
        "    * Standardization (making sure all values have a mean of 0 and a variance of 1). This is done by subtracting the mean value from the target feature and then dividing it by the standard deviation.\n",
        "    * Which one should you use?\n",
        "      * **With neural networks you'll tend to favour normalization** as they tend to prefer values between 0 and 1 (you'll see this espcially with image processing), however, you'll often find a neural network can perform pretty well with minimal feature scaling.\n",
        "\n",
        "> 📖 **Resource:** For more on preprocessing data, I'd recommend reading the following resources:\n",
        "* [Scikit-Learn's documentation on preprocessing data](https://scikit-learn.org/stable/modules/preprocessing.html#preprocessing-data).\n",
        "* [Scale, Standardize or Normalize with Scikit-Learn by Jeff Hale](https://towardsdatascience.com/scale-standardize-or-normalize-with-scikit-learn-6ccc7d176a02).\n",
        "\n",
        "We've already turned our data into numbers using `get_dummies()`, let's see how we'd normalize it as well.\n",
        "\n",
        "In terms of scaling values, neural networks tend to prefer normalization.\n",
        "\n",
        "If you're not sure which to use, you could try both and see which performs better."
      ]
    },
    {
      "cell_type": "code",
      "execution_count": 150,
      "metadata": {
        "colab": {
          "base_uri": "https://localhost:8080/",
          "height": 447
        },
        "id": "VgPuofH9Rp1N",
        "outputId": "22a38cbf-a3d9-4391-d55d-f4ffea60eeec"
      },
      "outputs": [
        {
          "output_type": "execute_result",
          "data": {
            "text/plain": [
              "<Axes: ylabel='Frequency'>"
            ]
          },
          "metadata": {},
          "execution_count": 150
        },
        {
          "output_type": "display_data",
          "data": {
            "text/plain": [
              "<Figure size 640x480 with 1 Axes>"
            ],
            "image/png": "[encoded data removed]"
          },
          "metadata": {}
        }
      ],
      "source": [
        "X['age'].plot(kind='hist')"
      ]
    },
    {
      "cell_type": "code",
      "execution_count": 151,
      "metadata": {
        "colab": {
          "base_uri": "https://localhost:8080/",
          "height": 447
        },
        "id": "Buej0-hNRp1O",
        "outputId": "a9acfb23-ba88-4d10-ccd6-6a1b0055f223"
      },
      "outputs": [
        {
          "output_type": "execute_result",
          "data": {
            "text/plain": [
              "<Axes: ylabel='Frequency'>"
            ]
          },
          "metadata": {},
          "execution_count": 151
        },
        {
          "output_type": "display_data",
          "data": {
            "text/plain": [
              "<Figure size 640x480 with 1 Axes>"
            ],
            "image/png": "[encoded data removed]"
          },
          "metadata": {}
        }
      ],
      "source": [
        "X['bmi'].plot(kind='hist')"
      ]
    },
    {
      "cell_type": "code",
      "execution_count": 152,
      "metadata": {
        "colab": {
          "base_uri": "https://localhost:8080/"
        },
        "id": "BqfcebecRp1O",
        "outputId": "6f83198a-de2d-4ccb-93c8-87ae70177424"
      },
      "outputs": [
        {
          "output_type": "execute_result",
          "data": {
            "text/plain": [
              "0    574\n",
              "1    324\n",
              "2    240\n",
              "3    157\n",
              "4     25\n",
              "5     18\n",
              "Name: children, dtype: int64"
            ]
          },
          "metadata": {},
          "execution_count": 152
        }
      ],
      "source": [
        "X['children'].value_counts()"
      ]
    },
    {
      "cell_type": "markdown",
      "source": [
        "We need to transform the non-numerical columns into numbers.\n",
        "This time we'll also be normalizing the numerical columns with different ranges (to make sure they're all between 0 and 1).\n",
        "\n",
        "We're going to use a few classes from Scikit-Learn:\n",
        "* [`make_column_transformer`](https://scikit-learn.org/stable/modules/generated/sklearn.compose.make_column_transformer.html) - build a multi-step data preprocessing function for the folllowing transformations:\n",
        "  * [`MinMaxScaler`](https://scikit-learn.org/stable/modules/generated/sklearn.preprocessing.MinMaxScaler.html) - make sure all numerical columns are normalized (between 0 and 1).\n",
        "  * [`OneHotEncoder`](https://scikit-learn.org/stable/modules/generated/sklearn.preprocessing.OneHotEncoder.html) - one hot encode the non-numerical columns.\n",
        "\n",
        "Let's see them in action."
      ],
      "metadata": {
        "id": "uDVemOJwDZBd"
      }
    },
    {
      "cell_type": "code",
      "execution_count": 153,
      "metadata": {
        "colab": {
          "base_uri": "https://localhost:8080/",
          "height": 424
        },
        "id": "ZrgVF66CRp1O",
        "outputId": "422951e3-6a93-4d96-a148-7f17fa9e7ff2"
      },
      "outputs": [
        {
          "output_type": "execute_result",
          "data": {
            "text/plain": [
              "      age     sex     bmi  children smoker     region      charges\n",
              "0      19  female  27.900         0    yes  southwest  16884.92400\n",
              "1      18    male  33.770         1     no  southeast   1725.55230\n",
              "2      28    male  33.000         3     no  southeast   4449.46200\n",
              "3      33    male  22.705         0     no  northwest  21984.47061\n",
              "4      32    male  28.880         0     no  northwest   3866.85520\n",
              "...   ...     ...     ...       ...    ...        ...          ...\n",
              "1333   50    male  30.970         3     no  northwest  10600.54830\n",
              "1334   18  female  31.920         0     no  northeast   2205.98080\n",
              "1335   18  female  36.850         0     no  southeast   1629.83350\n",
              "1336   21  female  25.800         0     no  southwest   2007.94500\n",
              "1337   61  female  29.070         0    yes  northwest  29141.36030\n",
              "\n",
              "[1338 rows x 7 columns]"
            ],
            "text/html": [
              "\n",
              "  <div id=\"df-28ba2518-cdd0-4829-a352-6209fcf76d5f\" class=\"colab-df-container\">\n",
              "    <div>\n",
              "<style scoped>\n",
              "    .dataframe tbody tr th:only-of-type {\n",
              "        vertical-align: middle;\n",
              "    }\n",
              "\n",
              "    .dataframe tbody tr th {\n",
              "        vertical-align: top;\n",
              "    }\n",
              "\n",
              "    .dataframe thead th {\n",
              "        text-align: right;\n",
              "    }\n",
              "</style>\n",
              "<table border=\"1\" class=\"dataframe\">\n",
              "  <thead>\n",
              "    <tr style=\"text-align: right;\">\n",
              "      <th></th>\n",
              "      <th>age</th>\n",
              "      <th>sex</th>\n",
              "      <th>bmi</th>\n",
              "      <th>children</th>\n",
              "      <th>smoker</th>\n",
              "      <th>region</th>\n",
              "      <th>charges</th>\n",
              "    </tr>\n",
              "  </thead>\n",
              "  <tbody>\n",
              "    <tr>\n",
              "      <th>0</th>\n",
              "      <td>19</td>\n",
              "      <td>female</td>\n",
              "      <td>27.900</td>\n",
              "      <td>0</td>\n",
              "      <td>yes</td>\n",
              "      <td>southwest</td>\n",
              "      <td>16884.92400</td>\n",
              "    </tr>\n",
              "    <tr>\n",
              "      <th>1</th>\n",
              "      <td>18</td>\n",
              "      <td>male</td>\n",
              "      <td>33.770</td>\n",
              "      <td>1</td>\n",
              "      <td>no</td>\n",
              "      <td>southeast</td>\n",
              "      <td>1725.55230</td>\n",
              "    </tr>\n",
              "    <tr>\n",
              "      <th>2</th>\n",
              "      <td>28</td>\n",
              "      <td>male</td>\n",
              "      <td>33.000</td>\n",
              "      <td>3</td>\n",
              "      <td>no</td>\n",
              "      <td>southeast</td>\n",
              "      <td>4449.46200</td>\n",
              "    </tr>\n",
              "    <tr>\n",
              "      <th>3</th>\n",
              "      <td>33</td>\n",
              "      <td>male</td>\n",
              "      <td>22.705</td>\n",
              "      <td>0</td>\n",
              "      <td>no</td>\n",
              "      <td>northwest</td>\n",
              "      <td>21984.47061</td>\n",
              "    </tr>\n",
              "    <tr>\n",
              "      <th>4</th>\n",
              "      <td>32</td>\n",
              "      <td>male</td>\n",
              "      <td>28.880</td>\n",
              "      <td>0</td>\n",
              "      <td>no</td>\n",
              "      <td>northwest</td>\n",
              "      <td>3866.85520</td>\n",
              "    </tr>\n",
              "    <tr>\n",
              "      <th>...</th>\n",
              "      <td>...</td>\n",
              "      <td>...</td>\n",
              "      <td>...</td>\n",
              "      <td>...</td>\n",
              "      <td>...</td>\n",
              "      <td>...</td>\n",
              "      <td>...</td>\n",
              "    </tr>\n",
              "    <tr>\n",
              "      <th>1333</th>\n",
              "      <td>50</td>\n",
              "      <td>male</td>\n",
              "      <td>30.970</td>\n",
              "      <td>3</td>\n",
              "      <td>no</td>\n",
              "      <td>northwest</td>\n",
              "      <td>10600.54830</td>\n",
              "    </tr>\n",
              "    <tr>\n",
              "      <th>1334</th>\n",
              "      <td>18</td>\n",
              "      <td>female</td>\n",
              "      <td>31.920</td>\n",
              "      <td>0</td>\n",
              "      <td>no</td>\n",
              "      <td>northeast</td>\n",
              "      <td>2205.98080</td>\n",
              "    </tr>\n",
              "    <tr>\n",
              "      <th>1335</th>\n",
              "      <td>18</td>\n",
              "      <td>female</td>\n",
              "      <td>36.850</td>\n",
              "      <td>0</td>\n",
              "      <td>no</td>\n",
              "      <td>southeast</td>\n",
              "      <td>1629.83350</td>\n",
              "    </tr>\n",
              "    <tr>\n",
              "      <th>1336</th>\n",
              "      <td>21</td>\n",
              "      <td>female</td>\n",
              "      <td>25.800</td>\n",
              "      <td>0</td>\n",
              "      <td>no</td>\n",
              "      <td>southwest</td>\n",
              "      <td>2007.94500</td>\n",
              "    </tr>\n",
              "    <tr>\n",
              "      <th>1337</th>\n",
              "      <td>61</td>\n",
              "      <td>female</td>\n",
              "      <td>29.070</td>\n",
              "      <td>0</td>\n",
              "      <td>yes</td>\n",
              "      <td>northwest</td>\n",
              "      <td>29141.36030</td>\n",
              "    </tr>\n",
              "  </tbody>\n",
              "</table>\n",
              "<p>1338 rows × 7 columns</p>\n",
              "</div>\n",
              "    <div class=\"colab-df-buttons\">\n",
              "\n",
              "  <div class=\"colab-df-container\">\n",
              "    <button class=\"colab-df-convert\" onclick=\"convertToInteractive('df-28ba2518-cdd0-4829-a352-6209fcf76d5f')\"\n",
              "            title=\"Convert this dataframe to an interactive table.\"\n",
              "            style=\"display:none;\">\n",
              "\n",
              "  <svg xmlns=\"http://www.w3.org/2000/svg\" height=\"24px\" viewBox=\"0 -960 960 960\">\n",
              "    <path d=\"M120-120v-720h720v720H120Zm60-500h600v-160H180v160Zm220 220h160v-160H400v160Zm0 220h160v-160H400v160ZM180-400h160v-160H180v160Zm440 0h160v-160H620v160ZM180-180h160v-160H180v160Zm440 0h160v-160H620v160Z\"/>\n",
              "  </svg>\n",
              "    </button>\n",
              "\n",
              "  <style>\n",
              "    .colab-df-container {\n",
              "      display:flex;\n",
              "      gap: 12px;\n",
              "    }\n",
              "\n",
              "    .colab-df-convert {\n",
              "      background-color: #E8F0FE;\n",
              "      border: none;\n",
              "      border-radius: 50%;\n",
              "      cursor: pointer;\n",
              "      display: none;\n",
              "      fill: #1967D2;\n",
              "      height: 32px;\n",
              "      padding: 0 0 0 0;\n",
              "      width: 32px;\n",
              "    }\n",
              "\n",
              "    .colab-df-convert:hover {\n",
              "      background-color: #E2EBFA;\n",
              "      box-shadow: 0px 1px 2px rgba(60, 64, 67, 0.3), 0px 1px 3px 1px rgba(60, 64, 67, 0.15);\n",
              "      fill: #174EA6;\n",
              "    }\n",
              "\n",
              "    .colab-df-buttons div {\n",
              "      margin-bottom: 4px;\n",
              "    }\n",
              "\n",
              "    [theme=dark] .colab-df-convert {\n",
              "      background-color: #3B4455;\n",
              "      fill: #D2E3FC;\n",
              "    }\n",
              "\n",
              "    [theme=dark] .colab-df-convert:hover {\n",
              "      background-color: #434B5C;\n",
              "      box-shadow: 0px 1px 3px 1px rgba(0, 0, 0, 0.15);\n",
              "      filter: drop-shadow(0px 1px 2px rgba(0, 0, 0, 0.3));\n",
              "      fill: #FFFFFF;\n",
              "    }\n",
              "  </style>\n",
              "\n",
              "    <script>\n",
              "      const buttonEl =\n",
              "        document.querySelector('#df-28ba2518-cdd0-4829-a352-6209fcf76d5f button.colab-df-convert');\n",
              "      buttonEl.style.display =\n",
              "        google.colab.kernel.accessAllowed ? 'block' : 'none';\n",
              "\n",
              "      async function convertToInteractive(key) {\n",
              "        const element = document.querySelector('#df-28ba2518-cdd0-4829-a352-6209fcf76d5f');\n",
              "        const dataTable =\n",
              "          await google.colab.kernel.invokeFunction('convertToInteractive',\n",
              "                                                    [key], {});\n",
              "        if (!dataTable) return;\n",
              "\n",
              "        const docLinkHtml = 'Like what you see? Visit the ' +\n",
              "          '<a target=\"_blank\" href=https://colab.research.google.com/notebooks/data_table.ipynb>data table notebook</a>'\n",
              "          + ' to learn more about interactive tables.';\n",
              "        element.innerHTML = '';\n",
              "        dataTable['output_type'] = 'display_data';\n",
              "        await google.colab.output.renderOutput(dataTable, element);\n",
              "        const docLink = document.createElement('div');\n",
              "        docLink.innerHTML = docLinkHtml;\n",
              "        element.appendChild(docLink);\n",
              "      }\n",
              "    </script>\n",
              "  </div>\n",
              "\n",
              "\n",
              "<div id=\"df-2e4e5dd6-5287-468a-a64f-057fb4697deb\">\n",
              "  <button class=\"colab-df-quickchart\" onclick=\"quickchart('df-2e4e5dd6-5287-468a-a64f-057fb4697deb')\"\n",
              "            title=\"Suggest charts.\"\n",
              "            style=\"display:none;\">\n",
              "\n",
              "<svg xmlns=\"http://www.w3.org/2000/svg\" height=\"24px\"viewBox=\"0 0 24 24\"\n",
              "     width=\"24px\">\n",
              "    <g>\n",
              "        <path d=\"M19 3H5c-1.1 0-2 .9-2 2v14c0 1.1.9 2 2 2h14c1.1 0 2-.9 2-2V5c0-1.1-.9-2-2-2zM9 17H7v-7h2v7zm4 0h-2V7h2v10zm4 0h-2v-4h2v4z\"/>\n",
              "    </g>\n",
              "</svg>\n",
              "  </button>\n",
              "\n",
              "<style>\n",
              "  .colab-df-quickchart {\n",
              "      --bg-color: #E8F0FE;\n",
              "      --fill-color: #1967D2;\n",
              "      --hover-bg-color: #E2EBFA;\n",
              "      --hover-fill-color: #174EA6;\n",
              "      --disabled-fill-color: #AAA;\n",
              "      --disabled-bg-color: #DDD;\n",
              "  }\n",
              "\n",
              "  [theme=dark] .colab-df-quickchart {\n",
              "      --bg-color: #3B4455;\n",
              "      --fill-color: #D2E3FC;\n",
              "      --hover-bg-color: #434B5C;\n",
              "      --hover-fill-color: #FFFFFF;\n",
              "      --disabled-bg-color: #3B4455;\n",
              "      --disabled-fill-color: #666;\n",
              "  }\n",
              "\n",
              "  .colab-df-quickchart {\n",
              "    background-color: var(--bg-color);\n",
              "    border: none;\n",
              "    border-radius: 50%;\n",
              "    cursor: pointer;\n",
              "    display: none;\n",
              "    fill: var(--fill-color);\n",
              "    height: 32px;\n",
              "    padding: 0;\n",
              "    width: 32px;\n",
              "  }\n",
              "\n",
              "  .colab-df-quickchart:hover {\n",
              "    background-color: var(--hover-bg-color);\n",
              "    box-shadow: 0 1px 2px rgba(60, 64, 67, 0.3), 0 1px 3px 1px rgba(60, 64, 67, 0.15);\n",
              "    fill: var(--button-hover-fill-color);\n",
              "  }\n",
              "\n",
              "  .colab-df-quickchart-complete:disabled,\n",
              "  .colab-df-quickchart-complete:disabled:hover {\n",
              "    background-color: var(--disabled-bg-color);\n",
              "    fill: var(--disabled-fill-color);\n",
              "    box-shadow: none;\n",
              "  }\n",
              "\n",
              "  .colab-df-spinner {\n",
              "    border: 2px solid var(--fill-color);\n",
              "    border-color: transparent;\n",
              "    border-bottom-color: var(--fill-color);\n",
              "    animation:\n",
              "      spin 1s steps(1) infinite;\n",
              "  }\n",
              "\n",
              "  @keyframes spin {\n",
              "    0% {\n",
              "      border-color: transparent;\n",
              "      border-bottom-color: var(--fill-color);\n",
              "      border-left-color: var(--fill-color);\n",
              "    }\n",
              "    20% {\n",
              "      border-color: transparent;\n",
              "      border-left-color: var(--fill-color);\n",
              "      border-top-color: var(--fill-color);\n",
              "    }\n",
              "    30% {\n",
              "      border-color: transparent;\n",
              "      border-left-color: var(--fill-color);\n",
              "      border-top-color: var(--fill-color);\n",
              "      border-right-color: var(--fill-color);\n",
              "    }\n",
              "    40% {\n",
              "      border-color: transparent;\n",
              "      border-right-color: var(--fill-color);\n",
              "      border-top-color: var(--fill-color);\n",
              "    }\n",
              "    60% {\n",
              "      border-color: transparent;\n",
              "      border-right-color: var(--fill-color);\n",
              "    }\n",
              "    80% {\n",
              "      border-color: transparent;\n",
              "      border-right-color: var(--fill-color);\n",
              "      border-bottom-color: var(--fill-color);\n",
              "    }\n",
              "    90% {\n",
              "      border-color: transparent;\n",
              "      border-bottom-color: var(--fill-color);\n",
              "    }\n",
              "  }\n",
              "</style>\n",
              "\n",
              "  <script>\n",
              "    async function quickchart(key) {\n",
              "      const quickchartButtonEl =\n",
              "        document.querySelector('#' + key + ' button');\n",
              "      quickchartButtonEl.disabled = true;  // To prevent multiple clicks.\n",
              "      quickchartButtonEl.classList.add('colab-df-spinner');\n",
              "      try {\n",
              "        const charts = await google.colab.kernel.invokeFunction(\n",
              "            'suggestCharts', [key], {});\n",
              "      } catch (error) {\n",
              "        console.error('Error during call to suggestCharts:', error);\n",
              "      }\n",
              "      quickchartButtonEl.classList.remove('colab-df-spinner');\n",
              "      quickchartButtonEl.classList.add('colab-df-quickchart-complete');\n",
              "    }\n",
              "    (() => {\n",
              "      let quickchartButtonEl =\n",
              "        document.querySelector('#df-2e4e5dd6-5287-468a-a64f-057fb4697deb button');\n",
              "      quickchartButtonEl.style.display =\n",
              "        google.colab.kernel.accessAllowed ? 'block' : 'none';\n",
              "    })();\n",
              "  </script>\n",
              "</div>\n",
              "    </div>\n",
              "  </div>\n"
            ]
          },
          "metadata": {},
          "execution_count": 153
        }
      ],
      "source": [
        "import pandas as pd\n",
        "import matplotlib.pyplot as plt\n",
        "import tensorflow as plt\n",
        "\n",
        "# Read in the insurance dataframe\n",
        "insurance = pd.read_csv('https://raw.githubusercontent.com/stedy/Machine-Learning-with-R-datasets/master/insurance.csv')\n",
        "insurance"
      ]
    },
    {
      "cell_type": "markdown",
      "metadata": {
        "id": "bpDDFzcIRp1O"
      },
      "source": [
        "To prepare our data, we can borrow a few classes from Scikit-Learn"
      ]
    },
    {
      "cell_type": "code",
      "execution_count": 154,
      "metadata": {
        "id": "Wcv_LjFRRp1O"
      },
      "outputs": [],
      "source": [
        "from sklearn.compose import make_column_transformer\n",
        "from sklearn.preprocessing import MinMaxScaler, OneHotEncoder\n",
        "from sklearn.model_selection import train_test_split\n",
        "\n",
        "# Create a column transformer\n",
        "ct = make_column_transformer(\n",
        "    (MinMaxScaler(), ['age', 'bmi', 'children']), # turn all values in these columns between 0 and 1\n",
        "    (OneHotEncoder(handle_unknown='ignore'), ['sex', 'smoker', 'region'])\n",
        ")\n",
        "\n",
        "# Create X & y\n",
        "X = insurance.drop('charges', axis=1)\n",
        "y = insurance['charges']\n",
        "\n",
        "# Build our train and test sets\n",
        "X_train, X_test, y_train, y_test = train_test_split(X, y, test_size=0.2, random_state=42)\n",
        "\n",
        "# Fit the column transformer to our training data\n",
        "ct.fit(X_train)\n",
        "\n",
        "# Transform training and test data with normalization (MinMaxScaler) and OneHotEncoder\n",
        "X_train_normal = ct.transform(X_train)\n",
        "X_test_normal = ct.transform(X_test)"
      ]
    },
    {
      "cell_type": "code",
      "execution_count": 155,
      "metadata": {
        "colab": {
          "base_uri": "https://localhost:8080/"
        },
        "id": "T4-TU9mhRp1O",
        "outputId": "9a49f164-25b9-4a92-d0d9-9566b6c0b7d6"
      },
      "outputs": [
        {
          "output_type": "execute_result",
          "data": {
            "text/plain": [
              "age                19\n",
              "sex            female\n",
              "bmi              27.9\n",
              "children            0\n",
              "smoker            yes\n",
              "region      southwest\n",
              "Name: 0, dtype: object"
            ]
          },
          "metadata": {},
          "execution_count": 155
        }
      ],
      "source": [
        "# What does our data look like?\n",
        "X_train.loc[0]"
      ]
    },
    {
      "cell_type": "code",
      "execution_count": 156,
      "metadata": {
        "colab": {
          "base_uri": "https://localhost:8080/"
        },
        "id": "bHPzrbBuRp1P",
        "outputId": "a97f1acf-472e-4f4c-e276-45e21a17122b"
      },
      "outputs": [
        {
          "output_type": "execute_result",
          "data": {
            "text/plain": [
              "array([0.60869565, 0.10734463, 0.4       , 1.        , 0.        ,\n",
              "       1.        , 0.        , 0.        , 1.        , 0.        ,\n",
              "       0.        ])"
            ]
          },
          "metadata": {},
          "execution_count": 156
        }
      ],
      "source": [
        "X_train_normal[0]"
      ]
    },
    {
      "cell_type": "code",
      "execution_count": 157,
      "metadata": {
        "colab": {
          "base_uri": "https://localhost:8080/"
        },
        "id": "YNZ4qe1uRp1P",
        "outputId": "6d2e11b8-709d-43cc-deba-7809337eb22c"
      },
      "outputs": [
        {
          "output_type": "execute_result",
          "data": {
            "text/plain": [
              "((1070, 6), (1070, 11))"
            ]
          },
          "metadata": {},
          "execution_count": 157
        }
      ],
      "source": [
        "X_train.shape, X_train_normal.shape"
      ]
    },
    {
      "cell_type": "markdown",
      "metadata": {
        "id": "ot8V4cw5Rp1Q"
      },
      "source": [
        "Beautiful! Our data has been normalized and one hot encoded. Now let's build a neural network model on it and see how it goes."
      ]
    },
    {
      "cell_type": "code",
      "execution_count": 158,
      "metadata": {
        "colab": {
          "base_uri": "https://localhost:8080/"
        },
        "id": "L8dbZVxkRp1Q",
        "outputId": "37fdf873-2b7f-4136-d212-9da2e37e77dc"
      },
      "outputs": [
        {
          "output_type": "stream",
          "name": "stdout",
          "text": [
            "Epoch 1/100\n",
            "34/34 [==============================] - 1s 2ms/step - loss: 13344.0830 - mae: 13344.0830\n",
            "Epoch 2/100\n",
            "34/34 [==============================] - 0s 2ms/step - loss: 13337.2744 - mae: 13337.2744\n",
            "Epoch 3/100\n",
            "34/34 [==============================] - 0s 2ms/step - loss: 13320.3145 - mae: 13320.3145\n",
            "Epoch 4/100\n",
            "34/34 [==============================] - 0s 2ms/step - loss: 13283.1973 - mae: 13283.1973\n",
            "Epoch 5/100\n",
            "34/34 [==============================] - 0s 2ms/step - loss: 13214.5195 - mae: 13214.5195\n",
            "Epoch 6/100\n",
            "34/34 [==============================] - 0s 2ms/step - loss: 13102.5781 - mae: 13102.5781\n",
            "Epoch 7/100\n",
            "34/34 [==============================] - 0s 2ms/step - loss: 12936.6670 - mae: 12936.6670\n",
            "Epoch 8/100\n",
            "34/34 [==============================] - 0s 2ms/step - loss: 12706.4619 - mae: 12706.4619\n",
            "Epoch 9/100\n",
            "34/34 [==============================] - 0s 2ms/step - loss: 12401.6133 - mae: 12401.6133\n",
            "Epoch 10/100\n",
            "34/34 [==============================] - 0s 2ms/step - loss: 12015.5537 - mae: 12015.5537\n",
            "Epoch 11/100\n",
            "34/34 [==============================] - 0s 2ms/step - loss: 11554.8145 - mae: 11554.8145\n",
            "Epoch 12/100\n",
            "34/34 [==============================] - 0s 2ms/step - loss: 11048.3955 - mae: 11048.3955\n",
            "Epoch 13/100\n",
            "34/34 [==============================] - 0s 2ms/step - loss: 10544.8037 - mae: 10544.8037\n",
            "Epoch 14/100\n",
            "34/34 [==============================] - 0s 2ms/step - loss: 10043.5244 - mae: 10043.5244\n",
            "Epoch 15/100\n",
            "34/34 [==============================] - 0s 2ms/step - loss: 9566.4062 - mae: 9566.4062\n",
            "Epoch 16/100\n",
            "34/34 [==============================] - 0s 2ms/step - loss: 9136.4463 - mae: 9136.4463\n",
            "Epoch 17/100\n",
            "34/34 [==============================] - 0s 2ms/step - loss: 8776.2119 - mae: 8776.2119\n",
            "Epoch 18/100\n",
            "34/34 [==============================] - 0s 2ms/step - loss: 8486.2988 - mae: 8486.2988\n",
            "Epoch 19/100\n",
            "34/34 [==============================] - 0s 2ms/step - loss: 8260.2510 - mae: 8260.2510\n",
            "Epoch 20/100\n",
            "34/34 [==============================] - 0s 2ms/step - loss: 8106.4243 - mae: 8106.4243\n",
            "Epoch 21/100\n",
            "34/34 [==============================] - 0s 2ms/step - loss: 7993.0493 - mae: 7993.0493\n",
            "Epoch 22/100\n",
            "34/34 [==============================] - 0s 3ms/step - loss: 7916.1626 - mae: 7916.1626\n",
            "Epoch 23/100\n",
            "34/34 [==============================] - 0s 2ms/step - loss: 7855.9263 - mae: 7855.9263\n",
            "Epoch 24/100\n",
            "34/34 [==============================] - 0s 2ms/step - loss: 7803.1230 - mae: 7803.1230\n",
            "Epoch 25/100\n",
            "34/34 [==============================] - 0s 2ms/step - loss: 7764.6938 - mae: 7764.6938\n",
            "Epoch 26/100\n",
            "34/34 [==============================] - 0s 2ms/step - loss: 7713.1938 - mae: 7713.1938\n",
            "Epoch 27/100\n",
            "34/34 [==============================] - 0s 2ms/step - loss: 7671.5127 - mae: 7671.5127\n",
            "Epoch 28/100\n",
            "34/34 [==============================] - 0s 2ms/step - loss: 7629.7236 - mae: 7629.7236\n",
            "Epoch 29/100\n",
            "34/34 [==============================] - 0s 2ms/step - loss: 7588.0854 - mae: 7588.0854\n",
            "Epoch 30/100\n",
            "34/34 [==============================] - 0s 2ms/step - loss: 7545.5474 - mae: 7545.5474\n",
            "Epoch 31/100\n",
            "34/34 [==============================] - 0s 2ms/step - loss: 7502.6680 - mae: 7502.6680\n",
            "Epoch 32/100\n",
            "34/34 [==============================] - 0s 2ms/step - loss: 7459.6860 - mae: 7459.6860\n",
            "Epoch 33/100\n",
            "34/34 [==============================] - 0s 2ms/step - loss: 7416.4404 - mae: 7416.4404\n",
            "Epoch 34/100\n",
            "34/34 [==============================] - 0s 2ms/step - loss: 7369.5098 - mae: 7369.5098\n",
            "Epoch 35/100\n",
            "34/34 [==============================] - 0s 2ms/step - loss: 7324.0493 - mae: 7324.0493\n",
            "Epoch 36/100\n",
            "34/34 [==============================] - 0s 2ms/step - loss: 7275.3535 - mae: 7275.3535\n",
            "Epoch 37/100\n",
            "34/34 [==============================] - 0s 2ms/step - loss: 7226.6768 - mae: 7226.6768\n",
            "Epoch 38/100\n",
            "34/34 [==============================] - 0s 2ms/step - loss: 7177.0620 - mae: 7177.0620\n",
            "Epoch 39/100\n",
            "34/34 [==============================] - 0s 2ms/step - loss: 7123.9819 - mae: 7123.9819\n",
            "Epoch 40/100\n",
            "34/34 [==============================] - 0s 2ms/step - loss: 7070.4082 - mae: 7070.4082\n",
            "Epoch 41/100\n",
            "34/34 [==============================] - 0s 2ms/step - loss: 7015.9292 - mae: 7015.9292\n",
            "Epoch 42/100\n",
            "34/34 [==============================] - 0s 3ms/step - loss: 6958.6885 - mae: 6958.6885\n",
            "Epoch 43/100\n",
            "34/34 [==============================] - 0s 2ms/step - loss: 6898.4551 - mae: 6898.4551\n",
            "Epoch 44/100\n",
            "34/34 [==============================] - 0s 2ms/step - loss: 6834.6885 - mae: 6834.6885\n",
            "Epoch 45/100\n",
            "34/34 [==============================] - 0s 2ms/step - loss: 6770.0420 - mae: 6770.0420\n",
            "Epoch 46/100\n",
            "34/34 [==============================] - 0s 3ms/step - loss: 6703.8711 - mae: 6703.8711\n",
            "Epoch 47/100\n",
            "34/34 [==============================] - 0s 2ms/step - loss: 6635.7720 - mae: 6635.7720\n",
            "Epoch 48/100\n",
            "34/34 [==============================] - 0s 2ms/step - loss: 6559.8438 - mae: 6559.8438\n",
            "Epoch 49/100\n",
            "34/34 [==============================] - 0s 2ms/step - loss: 6484.1597 - mae: 6484.1597\n",
            "Epoch 50/100\n",
            "34/34 [==============================] - 0s 2ms/step - loss: 6401.6904 - mae: 6401.6904\n",
            "Epoch 51/100\n",
            "34/34 [==============================] - 0s 2ms/step - loss: 6321.2104 - mae: 6321.2104\n",
            "Epoch 52/100\n",
            "34/34 [==============================] - 0s 2ms/step - loss: 6231.6626 - mae: 6231.6626\n",
            "Epoch 53/100\n",
            "34/34 [==============================] - 0s 2ms/step - loss: 6139.5649 - mae: 6139.5649\n",
            "Epoch 54/100\n",
            "34/34 [==============================] - 0s 2ms/step - loss: 6045.3525 - mae: 6045.3525\n",
            "Epoch 55/100\n",
            "34/34 [==============================] - 0s 2ms/step - loss: 5942.3726 - mae: 5942.3726\n",
            "Epoch 56/100\n",
            "34/34 [==============================] - 0s 2ms/step - loss: 5838.4204 - mae: 5838.4204\n",
            "Epoch 57/100\n",
            "34/34 [==============================] - 0s 2ms/step - loss: 5727.5234 - mae: 5727.5234\n",
            "Epoch 58/100\n",
            "34/34 [==============================] - 0s 2ms/step - loss: 5611.5640 - mae: 5611.5640\n",
            "Epoch 59/100\n",
            "34/34 [==============================] - 0s 2ms/step - loss: 5496.2720 - mae: 5496.2720\n",
            "Epoch 60/100\n",
            "34/34 [==============================] - 0s 2ms/step - loss: 5378.8228 - mae: 5378.8228\n",
            "Epoch 61/100\n",
            "34/34 [==============================] - 0s 2ms/step - loss: 5254.0483 - mae: 5254.0483\n",
            "Epoch 62/100\n",
            "34/34 [==============================] - 0s 2ms/step - loss: 5128.5596 - mae: 5128.5596\n",
            "Epoch 63/100\n",
            "34/34 [==============================] - 0s 2ms/step - loss: 5002.5381 - mae: 5002.5381\n",
            "Epoch 64/100\n",
            "34/34 [==============================] - 0s 2ms/step - loss: 4871.3779 - mae: 4871.3779\n",
            "Epoch 65/100\n",
            "34/34 [==============================] - 0s 2ms/step - loss: 4742.9014 - mae: 4742.9014\n",
            "Epoch 66/100\n",
            "34/34 [==============================] - 0s 2ms/step - loss: 4612.6206 - mae: 4612.6206\n",
            "Epoch 67/100\n",
            "34/34 [==============================] - 0s 2ms/step - loss: 4493.5986 - mae: 4493.5986\n",
            "Epoch 68/100\n",
            "34/34 [==============================] - 0s 2ms/step - loss: 4380.6152 - mae: 4380.6152\n",
            "Epoch 69/100\n",
            "34/34 [==============================] - 0s 2ms/step - loss: 4275.2881 - mae: 4275.2881\n",
            "Epoch 70/100\n",
            "34/34 [==============================] - 0s 2ms/step - loss: 4176.4937 - mae: 4176.4937\n",
            "Epoch 71/100\n",
            "34/34 [==============================] - 0s 2ms/step - loss: 4083.4473 - mae: 4083.4473\n",
            "Epoch 72/100\n",
            "34/34 [==============================] - 0s 2ms/step - loss: 3999.2949 - mae: 3999.2949\n",
            "Epoch 73/100\n",
            "34/34 [==============================] - 0s 2ms/step - loss: 3925.1677 - mae: 3925.1677\n",
            "Epoch 74/100\n",
            "34/34 [==============================] - 0s 2ms/step - loss: 3862.3628 - mae: 3862.3628\n",
            "Epoch 75/100\n",
            "34/34 [==============================] - 0s 2ms/step - loss: 3813.4143 - mae: 3813.4143\n",
            "Epoch 76/100\n",
            "34/34 [==============================] - 0s 2ms/step - loss: 3774.1626 - mae: 3774.1626\n",
            "Epoch 77/100\n",
            "34/34 [==============================] - 0s 2ms/step - loss: 3743.5117 - mae: 3743.5117\n",
            "Epoch 78/100\n",
            "34/34 [==============================] - 0s 2ms/step - loss: 3721.2065 - mae: 3721.2065\n",
            "Epoch 79/100\n",
            "34/34 [==============================] - 0s 2ms/step - loss: 3703.7776 - mae: 3703.7776\n",
            "Epoch 80/100\n",
            "34/34 [==============================] - 0s 2ms/step - loss: 3692.2507 - mae: 3692.2507\n",
            "Epoch 81/100\n",
            "34/34 [==============================] - 0s 2ms/step - loss: 3683.8362 - mae: 3683.8362\n",
            "Epoch 82/100\n",
            "34/34 [==============================] - 0s 2ms/step - loss: 3679.0615 - mae: 3679.0615\n",
            "Epoch 83/100\n",
            "34/34 [==============================] - 0s 2ms/step - loss: 3671.7300 - mae: 3671.7300\n",
            "Epoch 84/100\n",
            "34/34 [==============================] - 0s 2ms/step - loss: 3667.9072 - mae: 3667.9072\n",
            "Epoch 85/100\n",
            "34/34 [==============================] - 0s 3ms/step - loss: 3665.1506 - mae: 3665.1506\n",
            "Epoch 86/100\n",
            "34/34 [==============================] - 0s 3ms/step - loss: 3662.8662 - mae: 3662.8662\n",
            "Epoch 87/100\n",
            "34/34 [==============================] - 0s 3ms/step - loss: 3659.8625 - mae: 3659.8625\n",
            "Epoch 88/100\n",
            "34/34 [==============================] - 0s 3ms/step - loss: 3657.3015 - mae: 3657.3015\n",
            "Epoch 89/100\n",
            "34/34 [==============================] - 0s 3ms/step - loss: 3655.4900 - mae: 3655.4900\n",
            "Epoch 90/100\n",
            "34/34 [==============================] - 0s 3ms/step - loss: 3653.8823 - mae: 3653.8823\n",
            "Epoch 91/100\n",
            "34/34 [==============================] - 0s 3ms/step - loss: 3650.9189 - mae: 3650.9189\n",
            "Epoch 92/100\n",
            "34/34 [==============================] - 0s 3ms/step - loss: 3650.1865 - mae: 3650.1865\n",
            "Epoch 93/100\n",
            "34/34 [==============================] - 0s 3ms/step - loss: 3648.1318 - mae: 3648.1318\n",
            "Epoch 94/100\n",
            "34/34 [==============================] - 0s 3ms/step - loss: 3646.2976 - mae: 3646.2976\n",
            "Epoch 95/100\n",
            "34/34 [==============================] - 0s 3ms/step - loss: 3647.2146 - mae: 3647.2146\n",
            "Epoch 96/100\n",
            "34/34 [==============================] - 0s 3ms/step - loss: 3644.3767 - mae: 3644.3767\n",
            "Epoch 97/100\n",
            "34/34 [==============================] - 0s 3ms/step - loss: 3641.8518 - mae: 3641.8518\n",
            "Epoch 98/100\n",
            "34/34 [==============================] - 0s 3ms/step - loss: 3639.8960 - mae: 3639.8960\n",
            "Epoch 99/100\n",
            "34/34 [==============================] - 0s 3ms/step - loss: 3639.2568 - mae: 3639.2568\n",
            "Epoch 100/100\n",
            "34/34 [==============================] - 0s 3ms/step - loss: 3637.5630 - mae: 3637.5630\n"
          ]
        },
        {
          "output_type": "execute_result",
          "data": {
            "text/plain": [
              "<keras.src.callbacks.History at 0x79fc0cd0e320>"
            ]
          },
          "metadata": {},
          "execution_count": 158
        }
      ],
      "source": [
        "# Build a neural network model to fit on our normalized data\n",
        "tf.random.set_seed(42)\n",
        "\n",
        "# 1. Create the model\n",
        "insurance_model_4 = tf.keras.Sequential([\n",
        "    tf.keras.layers.Dense(100),\n",
        "    tf.keras.layers.Dense(10)\n",
        "    ,tf.keras.layers.Dense(1)\n",
        "])\n",
        "\n",
        "# 2. Compile the model\n",
        "insurance_model_4.compile(loss=tf.keras.losses.mae,\n",
        "                          optimizer=tf.keras.optimizers.Adam(),\n",
        "                          metrics=['mae'])\n",
        "\n",
        "# 3. Fit the model\n",
        "insurance_model_4.fit(X_train_normal, y_train, epochs=100)"
      ]
    },
    {
      "cell_type": "code",
      "execution_count": 159,
      "metadata": {
        "colab": {
          "base_uri": "https://localhost:8080/"
        },
        "id": "NOW11BhtRp1Q",
        "outputId": "4eb81f7c-a85b-43f1-84b3-1e3b4d22753a"
      },
      "outputs": [
        {
          "output_type": "stream",
          "name": "stdout",
          "text": [
            "9/9 [==============================] - 0s 2ms/step - loss: 3442.5203 - mae: 3442.5203\n"
          ]
        },
        {
          "output_type": "execute_result",
          "data": {
            "text/plain": [
              "[3442.520263671875, 3442.520263671875]"
            ]
          },
          "metadata": {},
          "execution_count": 159
        }
      ],
      "source": [
        "# Evaluate our insurance model trained no normalized data\n",
        "insurance_model_4.evaluate(X_test_normal, y_test)"
      ]
    },
    {
      "cell_type": "code",
      "execution_count": 161,
      "metadata": {
        "colab": {
          "base_uri": "https://localhost:8080/"
        },
        "id": "1byHfLXhRp1R",
        "outputId": "6716dabe-f252-43ba-aa76-dc18fe6300e0"
      },
      "outputs": [
        {
          "output_type": "execute_result",
          "data": {
            "text/plain": [
              "[3502.887939453125, 3502.887939453125]"
            ]
          },
          "metadata": {},
          "execution_count": 161
        }
      ],
      "source": [
        "# Insurance model 3 results\n",
        "model_3_results"
      ]
    },
    {
      "cell_type": "markdown",
      "source": [
        "## 🛠 Exercises\n",
        "\n",
        "We've a covered a whole lot pretty quickly.\n",
        "\n",
        "So now it's time to have a **play around** with a few things and start to build up your intuition.\n",
        "\n",
        "I emphasise the words play around because that's very important. Try a few things out, run the code and see what happens.\n",
        "\n",
        "1. Create your own regression dataset (or make the one we created in \"Create data to view and fit\" bigger) and build fit a model to it.\n",
        "2. Try building a neural network with 4 Dense layers and fitting it to your own regression dataset, how does it perform?\n",
        "3. Try and improve the results we got on the insurance dataset, some things you might want to try include:\n",
        "  * Building a larger model (how does one with 4 dense layers go?).\n",
        "  * Increasing the number of units in each layer.\n",
        "  * Lookup the documentation of [Adam](https://www.tensorflow.org/api_docs/python/tf/keras/optimizers/Adam) and find out what the first parameter is, what happens if you increase it by 10x?\n",
        "  * What happens if you train for longer (say 300 epochs instead of 200)?\n",
        "4. Import the [Boston pricing dataset](https://www.tensorflow.org/api_docs/python/tf/keras/datasets/boston_housing/load_data) from TensorFlow [`tf.keras.datasets`](https://www.tensorflow.org/api_docs/python/tf/keras/datasets) and model it.\n"
      ],
      "metadata": {
        "id": "WnbLTW1FSj4z"
      }
    },
    {
      "cell_type": "markdown",
      "source": [
        "## 📖 Extra curriculum\n",
        "\n",
        "If you're looking for extra materials relating to this notebook, I'd check out the following:\n",
        "\n",
        "* [MIT introduction deep learning lecture 1](https://youtu.be/njKP3FqW3Sk) - gives a great overview of what's happening behind all of the code we're running.\n",
        "* Reading: 1-hour of [Chapter 1 of Neural Networks and Deep Learning](http://neuralnetworksanddeeplearning.com/chap1.html) by Michael Nielson - a great in-depth and hands-on example of the intuition behind neural networks.\n",
        "\n",
        "To practice your regression modelling with TensorFlow, I'd also encourage you to look through [Lion Bridge's collection of datasets](https://lionbridge.ai/datasets/) or [Kaggle's datasets](https://www.kaggle.com/data), find a regression dataset which sparks your interest and try to model."
      ],
      "metadata": {
        "id": "tb017fziSkhP"
      }
    },
    {
      "cell_type": "code",
      "source": [],
      "metadata": {
        "id": "V3jViQ1fSnHn"
      },
      "execution_count": 160,
      "outputs": []
    }
  ],
  "metadata": {
    "kernelspec": {
      "display_name": "tensorflow",
      "language": "python",
      "name": "python3"
    },
    "language_info": {
      "codemirror_mode": {
        "name": "ipython",
        "version": 3
      },
      "file_extension": ".py",
      "mimetype": "text/x-python",
      "name": "python",
      "nbconvert_exporter": "python",
      "pygments_lexer": "ipython3",
      "version": "3.10.8"
    },
    "orig_nbformat": 4,
    "colab": {
      "provenance": [],
      "include_colab_link": true
    }
  },
  "nbformat": 4,
  "nbformat_minor": 0
}